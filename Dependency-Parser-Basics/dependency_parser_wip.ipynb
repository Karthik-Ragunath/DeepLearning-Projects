{
 "cells": [
  {
   "cell_type": "code",
   "execution_count": 76,
   "id": "c9257544-8534-4d34-b662-24b7d89170b9",
   "metadata": {},
   "outputs": [],
   "source": [
    "# Import Libraries\n",
    "\n",
    "import tensorflow as tf\n",
    "import torch\n",
    "from torch.utils.data import TensorDataset, DataLoader, RandomSampler, SequentialSampler\n",
    "from keras.preprocessing.sequence import pad_sequences\n",
    "from sklearn.model_selection import train_test_split\n",
    "from pytorch_pretrained_bert import BertTokenizer, BertConfig\n",
    "from pytorch_pretrained_bert import BertAdam, BertForSequenceClassification\n",
    "from tqdm import tqdm, trange\n",
    "import pandas as pd\n",
    "import io\n",
    "import numpy as np\n",
    "import math\n",
    "import matplotlib.pyplot as plt\n",
    "%matplotlib inline"
   ]
  },
  {
   "cell_type": "code",
   "execution_count": null,
   "id": "f2c80850-00bb-45d9-bdda-e36950718a48",
   "metadata": {},
   "outputs": [],
   "source": [
    "!python3 -m pip install gensim"
   ]
  },
  {
   "cell_type": "code",
   "execution_count": 2,
   "id": "39824226-f0ee-4da3-88bf-55d043c6b6e7",
   "metadata": {},
   "outputs": [],
   "source": [
    "corpus = [\n",
    "  'Text of the first document.',\n",
    "  'Text of the second document made longer.',\n",
    "  'Number three.',\n",
    "  'This is number four.',\n",
    "]"
   ]
  },
  {
   "cell_type": "code",
   "execution_count": 3,
   "id": "7c380f34-2c35-4024-ab93-358a0be7144e",
   "metadata": {},
   "outputs": [
    {
     "name": "stderr",
     "output_type": "stream",
     "text": [
      "/home/ubuntu/env/lib/python3.8/site-packages/gensim/similarities/__init__.py:15: UserWarning: The gensim.similarities.levenshtein submodule is disabled, because the optional Levenshtein package <https://pypi.org/project/python-Levenshtein/> is unavailable. Install Levenhstein (e.g. `pip install python-Levenshtein`) to suppress this warning.\n",
      "  warnings.warn(msg)\n"
     ]
    }
   ],
   "source": [
    "from gensim.utils import simple_preprocess\n",
    "import gensim"
   ]
  },
  {
   "cell_type": "code",
   "execution_count": 4,
   "id": "3b5b64eb-f08b-413a-8628-e5f85257cc2c",
   "metadata": {},
   "outputs": [],
   "source": [
    "tokenized_sentences = [simple_preprocess(sentence) for sentence in corpus]"
   ]
  },
  {
   "cell_type": "code",
   "execution_count": 5,
   "id": "58490b60-64c2-4729-8947-2448b6f1e0ab",
   "metadata": {},
   "outputs": [
    {
     "data": {
      "text/plain": [
       "4"
      ]
     },
     "execution_count": 5,
     "metadata": {},
     "output_type": "execute_result"
    }
   ],
   "source": [
    "len(tokenized_sentences)"
   ]
  },
  {
   "cell_type": "code",
   "execution_count": 6,
   "id": "e667bfe1-22a7-430f-aaca-b88f62096c1a",
   "metadata": {},
   "outputs": [
    {
     "data": {
      "text/plain": [
       "[['text', 'of', 'the', 'first', 'document'],\n",
       " ['text', 'of', 'the', 'second', 'document', 'made', 'longer'],\n",
       " ['number', 'three'],\n",
       " ['this', 'is', 'number', 'four']]"
      ]
     },
     "execution_count": 6,
     "metadata": {},
     "output_type": "execute_result"
    }
   ],
   "source": [
    "tokenized_sentences"
   ]
  },
  {
   "cell_type": "code",
   "execution_count": 7,
   "id": "2a420f50-1293-4f99-90b5-67d9bb0ae747",
   "metadata": {},
   "outputs": [],
   "source": [
    "model = gensim.models.Word2Vec(tokenized_sentences, min_count=1, workers=4, window=5)"
   ]
  },
  {
   "cell_type": "code",
   "execution_count": 8,
   "id": "ac2a99b8-8643-4e3d-ac85-00b2910b687b",
   "metadata": {},
   "outputs": [
    {
     "name": "stdout",
     "output_type": "stream",
     "text": [
      "Word2Vec(vocab=13, vector_size=100, alpha=0.025)\n"
     ]
    }
   ],
   "source": [
    "print(model)"
   ]
  },
  {
   "cell_type": "code",
   "execution_count": 9,
   "id": "19c9b377-c43d-4598-8f93-257237c318ae",
   "metadata": {},
   "outputs": [
    {
     "name": "stdout",
     "output_type": "stream",
     "text": [
      "['number', 'document', 'the', 'of', 'text', 'four', 'is', 'this', 'three', 'longer', 'made', 'second', 'first']\n"
     ]
    }
   ],
   "source": [
    "print(list(model.wv.key_to_index)[0:100])"
   ]
  },
  {
   "cell_type": "code",
   "execution_count": 10,
   "id": "e1cbdbdf-d77c-4c2c-938b-9c6359ac44ea",
   "metadata": {},
   "outputs": [
    {
     "name": "stdout",
     "output_type": "stream",
     "text": [
      "['number', 'document', 'the', 'of', 'text', 'four', 'is', 'this', 'three', 'longer', 'made', 'second', 'first']\n"
     ]
    }
   ],
   "source": [
    "print(list(model.wv.index_to_key)[0:100])"
   ]
  },
  {
   "cell_type": "code",
   "execution_count": 11,
   "id": "2408fc8b-33c0-472f-aef3-f860e8bff209",
   "metadata": {},
   "outputs": [
    {
     "name": "stdout",
     "output_type": "stream",
     "text": [
      "[-9.5785474e-03  8.9431144e-03  4.1650678e-03  9.2347339e-03\n",
      "  6.6435025e-03  2.9247357e-03  9.8040197e-03 -4.4246409e-03\n",
      " -6.8033123e-03  4.2273807e-03  3.7290000e-03 -5.6646108e-03\n",
      "  9.7047593e-03 -3.5583067e-03  9.5494054e-03  8.3472492e-04\n",
      " -6.3384580e-03 -1.9771170e-03 -7.3770545e-03 -2.9795242e-03\n",
      "  1.0416961e-03  9.4826864e-03  9.3558477e-03 -6.5958784e-03\n",
      "  3.4751510e-03  2.2755694e-03 -2.4893521e-03 -9.2291739e-03\n",
      "  1.0271263e-03 -8.1657078e-03  6.3201878e-03 -5.8000805e-03\n",
      "  5.5354382e-03  9.8337224e-03 -1.6000033e-04  4.5284913e-03\n",
      " -1.8094016e-03  7.3607611e-03  3.9400961e-03 -9.0103243e-03\n",
      " -2.3985051e-03  3.6287690e-03 -9.9568366e-05 -1.2012720e-03\n",
      " -1.0554385e-03 -1.6716027e-03  6.0495140e-04  4.1650939e-03\n",
      " -4.2527914e-03 -3.8336229e-03 -5.2816868e-05  2.6935578e-04\n",
      " -1.6880751e-04 -4.7855065e-03  4.3134023e-03 -2.1719194e-03\n",
      "  2.1035385e-03  6.6652300e-04  5.9696771e-03 -6.8423818e-03\n",
      " -6.8157101e-03 -4.4762585e-03  9.4358278e-03 -1.5918827e-03\n",
      " -9.4292425e-03 -5.4504158e-04 -4.4489242e-03  6.0000778e-03\n",
      " -9.5836855e-03  2.8590010e-03 -9.2528323e-03  1.2497997e-03\n",
      "  5.9991982e-03  7.3973467e-03 -7.6214648e-03 -6.0530235e-03\n",
      " -6.8384409e-03 -7.9183411e-03 -9.4990805e-03 -2.1254970e-03\n",
      " -8.3593366e-04 -7.2562029e-03  6.7870356e-03  1.1196184e-03\n",
      "  5.8288667e-03  1.4728665e-03  7.8936579e-04 -7.3681306e-03\n",
      " -2.1766592e-03  4.3210792e-03 -5.0853156e-03  1.1307884e-03\n",
      "  2.8833628e-03 -1.5363622e-03  9.9322936e-03  8.3496328e-03\n",
      "  2.4156666e-03  7.1182442e-03  5.8914376e-03 -5.5806185e-03]\n"
     ]
    }
   ],
   "source": [
    "print(model.wv['three'])"
   ]
  },
  {
   "cell_type": "code",
   "execution_count": null,
   "id": "9bfa82d2-9e18-4fd4-b02b-fead2bbe6a39",
   "metadata": {},
   "outputs": [],
   "source": []
  },
  {
   "cell_type": "code",
   "execution_count": 101,
   "id": "3aaee0bc-078a-4dab-8878-8326d5547e25",
   "metadata": {},
   "outputs": [],
   "source": [
    "import pandas as pd\n",
    "import numpy as np\n",
    "\n",
    "data = pd.read_csv(\"ner_dataset.csv\", encoding=\"latin1\")"
   ]
  },
  {
   "cell_type": "code",
   "execution_count": 102,
   "id": "c43f6b64-9082-48d6-8bbd-46afe0de69d4",
   "metadata": {},
   "outputs": [],
   "source": [
    "# data_1 = pd.read_csv(\"ner_dataset.csv\", encoding=\"latin1\")\n",
    "# data_1 = data_1.fillna(method=\"ffill\")\n",
    "# data_1.tail(10)"
   ]
  },
  {
   "cell_type": "code",
   "execution_count": 103,
   "id": "1593d0c9-4063-4d34-b166-1580d2a5312c",
   "metadata": {},
   "outputs": [
    {
     "data": {
      "text/html": [
       "<div>\n",
       "<style scoped>\n",
       "    .dataframe tbody tr th:only-of-type {\n",
       "        vertical-align: middle;\n",
       "    }\n",
       "\n",
       "    .dataframe tbody tr th {\n",
       "        vertical-align: top;\n",
       "    }\n",
       "\n",
       "    .dataframe thead th {\n",
       "        text-align: right;\n",
       "    }\n",
       "</style>\n",
       "<table border=\"1\" class=\"dataframe\">\n",
       "  <thead>\n",
       "    <tr style=\"text-align: right;\">\n",
       "      <th></th>\n",
       "      <th>Sentence #</th>\n",
       "      <th>Word</th>\n",
       "      <th>POS</th>\n",
       "      <th>Tag</th>\n",
       "    </tr>\n",
       "  </thead>\n",
       "  <tbody>\n",
       "    <tr>\n",
       "      <th>1048565</th>\n",
       "      <td>Sentence: 47958</td>\n",
       "      <td>impact</td>\n",
       "      <td>NN</td>\n",
       "      <td>O</td>\n",
       "    </tr>\n",
       "    <tr>\n",
       "      <th>1048566</th>\n",
       "      <td>Sentence: 47958</td>\n",
       "      <td>.</td>\n",
       "      <td>.</td>\n",
       "      <td>O</td>\n",
       "    </tr>\n",
       "    <tr>\n",
       "      <th>1048567</th>\n",
       "      <td>Sentence: 47959</td>\n",
       "      <td>Indian</td>\n",
       "      <td>JJ</td>\n",
       "      <td>B-gpe</td>\n",
       "    </tr>\n",
       "    <tr>\n",
       "      <th>1048568</th>\n",
       "      <td>Sentence: 47959</td>\n",
       "      <td>forces</td>\n",
       "      <td>NNS</td>\n",
       "      <td>O</td>\n",
       "    </tr>\n",
       "    <tr>\n",
       "      <th>1048569</th>\n",
       "      <td>Sentence: 47959</td>\n",
       "      <td>said</td>\n",
       "      <td>VBD</td>\n",
       "      <td>O</td>\n",
       "    </tr>\n",
       "    <tr>\n",
       "      <th>1048570</th>\n",
       "      <td>Sentence: 47959</td>\n",
       "      <td>they</td>\n",
       "      <td>PRP</td>\n",
       "      <td>O</td>\n",
       "    </tr>\n",
       "    <tr>\n",
       "      <th>1048571</th>\n",
       "      <td>Sentence: 47959</td>\n",
       "      <td>responded</td>\n",
       "      <td>VBD</td>\n",
       "      <td>O</td>\n",
       "    </tr>\n",
       "    <tr>\n",
       "      <th>1048572</th>\n",
       "      <td>Sentence: 47959</td>\n",
       "      <td>to</td>\n",
       "      <td>TO</td>\n",
       "      <td>O</td>\n",
       "    </tr>\n",
       "    <tr>\n",
       "      <th>1048573</th>\n",
       "      <td>Sentence: 47959</td>\n",
       "      <td>the</td>\n",
       "      <td>DT</td>\n",
       "      <td>O</td>\n",
       "    </tr>\n",
       "    <tr>\n",
       "      <th>1048574</th>\n",
       "      <td>Sentence: 47959</td>\n",
       "      <td>attack</td>\n",
       "      <td>NN</td>\n",
       "      <td>O</td>\n",
       "    </tr>\n",
       "  </tbody>\n",
       "</table>\n",
       "</div>"
      ],
      "text/plain": [
       "              Sentence #       Word  POS    Tag\n",
       "1048565  Sentence: 47958     impact   NN      O\n",
       "1048566  Sentence: 47958          .    .      O\n",
       "1048567  Sentence: 47959     Indian   JJ  B-gpe\n",
       "1048568  Sentence: 47959     forces  NNS      O\n",
       "1048569  Sentence: 47959       said  VBD      O\n",
       "1048570  Sentence: 47959       they  PRP      O\n",
       "1048571  Sentence: 47959  responded  VBD      O\n",
       "1048572  Sentence: 47959         to   TO      O\n",
       "1048573  Sentence: 47959        the   DT      O\n",
       "1048574  Sentence: 47959     attack   NN      O"
      ]
     },
     "execution_count": 103,
     "metadata": {},
     "output_type": "execute_result"
    }
   ],
   "source": [
    "data = data.fillna(method=\"ffill\")\n",
    "data.tail(10)"
   ]
  },
  {
   "cell_type": "code",
   "execution_count": 104,
   "id": "f2f88969-9cac-4e05-8321-01ed8a9e6cda",
   "metadata": {},
   "outputs": [
    {
     "data": {
      "text/html": [
       "<div>\n",
       "<style scoped>\n",
       "    .dataframe tbody tr th:only-of-type {\n",
       "        vertical-align: middle;\n",
       "    }\n",
       "\n",
       "    .dataframe tbody tr th {\n",
       "        vertical-align: top;\n",
       "    }\n",
       "\n",
       "    .dataframe thead th {\n",
       "        text-align: right;\n",
       "    }\n",
       "</style>\n",
       "<table border=\"1\" class=\"dataframe\">\n",
       "  <thead>\n",
       "    <tr style=\"text-align: right;\">\n",
       "      <th></th>\n",
       "      <th>Sentence #</th>\n",
       "      <th>Word</th>\n",
       "      <th>POS</th>\n",
       "      <th>Tag</th>\n",
       "    </tr>\n",
       "  </thead>\n",
       "  <tbody>\n",
       "    <tr>\n",
       "      <th>0</th>\n",
       "      <td>Sentence: 1</td>\n",
       "      <td>Thousands</td>\n",
       "      <td>NNS</td>\n",
       "      <td>O</td>\n",
       "    </tr>\n",
       "    <tr>\n",
       "      <th>1</th>\n",
       "      <td>Sentence: 1</td>\n",
       "      <td>of</td>\n",
       "      <td>IN</td>\n",
       "      <td>O</td>\n",
       "    </tr>\n",
       "    <tr>\n",
       "      <th>2</th>\n",
       "      <td>Sentence: 1</td>\n",
       "      <td>demonstrators</td>\n",
       "      <td>NNS</td>\n",
       "      <td>O</td>\n",
       "    </tr>\n",
       "    <tr>\n",
       "      <th>3</th>\n",
       "      <td>Sentence: 1</td>\n",
       "      <td>have</td>\n",
       "      <td>VBP</td>\n",
       "      <td>O</td>\n",
       "    </tr>\n",
       "    <tr>\n",
       "      <th>4</th>\n",
       "      <td>Sentence: 1</td>\n",
       "      <td>marched</td>\n",
       "      <td>VBN</td>\n",
       "      <td>O</td>\n",
       "    </tr>\n",
       "    <tr>\n",
       "      <th>5</th>\n",
       "      <td>Sentence: 1</td>\n",
       "      <td>through</td>\n",
       "      <td>IN</td>\n",
       "      <td>O</td>\n",
       "    </tr>\n",
       "    <tr>\n",
       "      <th>6</th>\n",
       "      <td>Sentence: 1</td>\n",
       "      <td>London</td>\n",
       "      <td>NNP</td>\n",
       "      <td>B-geo</td>\n",
       "    </tr>\n",
       "    <tr>\n",
       "      <th>7</th>\n",
       "      <td>Sentence: 1</td>\n",
       "      <td>to</td>\n",
       "      <td>TO</td>\n",
       "      <td>O</td>\n",
       "    </tr>\n",
       "    <tr>\n",
       "      <th>8</th>\n",
       "      <td>Sentence: 1</td>\n",
       "      <td>protest</td>\n",
       "      <td>VB</td>\n",
       "      <td>O</td>\n",
       "    </tr>\n",
       "    <tr>\n",
       "      <th>9</th>\n",
       "      <td>Sentence: 1</td>\n",
       "      <td>the</td>\n",
       "      <td>DT</td>\n",
       "      <td>O</td>\n",
       "    </tr>\n",
       "    <tr>\n",
       "      <th>10</th>\n",
       "      <td>Sentence: 1</td>\n",
       "      <td>war</td>\n",
       "      <td>NN</td>\n",
       "      <td>O</td>\n",
       "    </tr>\n",
       "    <tr>\n",
       "      <th>11</th>\n",
       "      <td>Sentence: 1</td>\n",
       "      <td>in</td>\n",
       "      <td>IN</td>\n",
       "      <td>O</td>\n",
       "    </tr>\n",
       "    <tr>\n",
       "      <th>12</th>\n",
       "      <td>Sentence: 1</td>\n",
       "      <td>Iraq</td>\n",
       "      <td>NNP</td>\n",
       "      <td>B-geo</td>\n",
       "    </tr>\n",
       "    <tr>\n",
       "      <th>13</th>\n",
       "      <td>Sentence: 1</td>\n",
       "      <td>and</td>\n",
       "      <td>CC</td>\n",
       "      <td>O</td>\n",
       "    </tr>\n",
       "    <tr>\n",
       "      <th>14</th>\n",
       "      <td>Sentence: 1</td>\n",
       "      <td>demand</td>\n",
       "      <td>VB</td>\n",
       "      <td>O</td>\n",
       "    </tr>\n",
       "    <tr>\n",
       "      <th>15</th>\n",
       "      <td>Sentence: 1</td>\n",
       "      <td>the</td>\n",
       "      <td>DT</td>\n",
       "      <td>O</td>\n",
       "    </tr>\n",
       "    <tr>\n",
       "      <th>16</th>\n",
       "      <td>Sentence: 1</td>\n",
       "      <td>withdrawal</td>\n",
       "      <td>NN</td>\n",
       "      <td>O</td>\n",
       "    </tr>\n",
       "    <tr>\n",
       "      <th>17</th>\n",
       "      <td>Sentence: 1</td>\n",
       "      <td>of</td>\n",
       "      <td>IN</td>\n",
       "      <td>O</td>\n",
       "    </tr>\n",
       "    <tr>\n",
       "      <th>18</th>\n",
       "      <td>Sentence: 1</td>\n",
       "      <td>British</td>\n",
       "      <td>JJ</td>\n",
       "      <td>B-gpe</td>\n",
       "    </tr>\n",
       "    <tr>\n",
       "      <th>19</th>\n",
       "      <td>Sentence: 1</td>\n",
       "      <td>troops</td>\n",
       "      <td>NNS</td>\n",
       "      <td>O</td>\n",
       "    </tr>\n",
       "    <tr>\n",
       "      <th>20</th>\n",
       "      <td>Sentence: 1</td>\n",
       "      <td>from</td>\n",
       "      <td>IN</td>\n",
       "      <td>O</td>\n",
       "    </tr>\n",
       "    <tr>\n",
       "      <th>21</th>\n",
       "      <td>Sentence: 1</td>\n",
       "      <td>that</td>\n",
       "      <td>DT</td>\n",
       "      <td>O</td>\n",
       "    </tr>\n",
       "    <tr>\n",
       "      <th>22</th>\n",
       "      <td>Sentence: 1</td>\n",
       "      <td>country</td>\n",
       "      <td>NN</td>\n",
       "      <td>O</td>\n",
       "    </tr>\n",
       "    <tr>\n",
       "      <th>23</th>\n",
       "      <td>Sentence: 1</td>\n",
       "      <td>.</td>\n",
       "      <td>.</td>\n",
       "      <td>O</td>\n",
       "    </tr>\n",
       "    <tr>\n",
       "      <th>24</th>\n",
       "      <td>Sentence: 2</td>\n",
       "      <td>Families</td>\n",
       "      <td>NNS</td>\n",
       "      <td>O</td>\n",
       "    </tr>\n",
       "    <tr>\n",
       "      <th>25</th>\n",
       "      <td>Sentence: 2</td>\n",
       "      <td>of</td>\n",
       "      <td>IN</td>\n",
       "      <td>O</td>\n",
       "    </tr>\n",
       "    <tr>\n",
       "      <th>26</th>\n",
       "      <td>Sentence: 2</td>\n",
       "      <td>soldiers</td>\n",
       "      <td>NNS</td>\n",
       "      <td>O</td>\n",
       "    </tr>\n",
       "    <tr>\n",
       "      <th>27</th>\n",
       "      <td>Sentence: 2</td>\n",
       "      <td>killed</td>\n",
       "      <td>VBN</td>\n",
       "      <td>O</td>\n",
       "    </tr>\n",
       "    <tr>\n",
       "      <th>28</th>\n",
       "      <td>Sentence: 2</td>\n",
       "      <td>in</td>\n",
       "      <td>IN</td>\n",
       "      <td>O</td>\n",
       "    </tr>\n",
       "    <tr>\n",
       "      <th>29</th>\n",
       "      <td>Sentence: 2</td>\n",
       "      <td>the</td>\n",
       "      <td>DT</td>\n",
       "      <td>O</td>\n",
       "    </tr>\n",
       "    <tr>\n",
       "      <th>30</th>\n",
       "      <td>Sentence: 2</td>\n",
       "      <td>conflict</td>\n",
       "      <td>NN</td>\n",
       "      <td>O</td>\n",
       "    </tr>\n",
       "    <tr>\n",
       "      <th>31</th>\n",
       "      <td>Sentence: 2</td>\n",
       "      <td>joined</td>\n",
       "      <td>VBD</td>\n",
       "      <td>O</td>\n",
       "    </tr>\n",
       "    <tr>\n",
       "      <th>32</th>\n",
       "      <td>Sentence: 2</td>\n",
       "      <td>the</td>\n",
       "      <td>DT</td>\n",
       "      <td>O</td>\n",
       "    </tr>\n",
       "    <tr>\n",
       "      <th>33</th>\n",
       "      <td>Sentence: 2</td>\n",
       "      <td>protesters</td>\n",
       "      <td>NNS</td>\n",
       "      <td>O</td>\n",
       "    </tr>\n",
       "    <tr>\n",
       "      <th>34</th>\n",
       "      <td>Sentence: 2</td>\n",
       "      <td>who</td>\n",
       "      <td>WP</td>\n",
       "      <td>O</td>\n",
       "    </tr>\n",
       "    <tr>\n",
       "      <th>35</th>\n",
       "      <td>Sentence: 2</td>\n",
       "      <td>carried</td>\n",
       "      <td>VBD</td>\n",
       "      <td>O</td>\n",
       "    </tr>\n",
       "    <tr>\n",
       "      <th>36</th>\n",
       "      <td>Sentence: 2</td>\n",
       "      <td>banners</td>\n",
       "      <td>NNS</td>\n",
       "      <td>O</td>\n",
       "    </tr>\n",
       "    <tr>\n",
       "      <th>37</th>\n",
       "      <td>Sentence: 2</td>\n",
       "      <td>with</td>\n",
       "      <td>IN</td>\n",
       "      <td>O</td>\n",
       "    </tr>\n",
       "    <tr>\n",
       "      <th>38</th>\n",
       "      <td>Sentence: 2</td>\n",
       "      <td>such</td>\n",
       "      <td>JJ</td>\n",
       "      <td>O</td>\n",
       "    </tr>\n",
       "    <tr>\n",
       "      <th>39</th>\n",
       "      <td>Sentence: 2</td>\n",
       "      <td>slogans</td>\n",
       "      <td>NNS</td>\n",
       "      <td>O</td>\n",
       "    </tr>\n",
       "  </tbody>\n",
       "</table>\n",
       "</div>"
      ],
      "text/plain": [
       "     Sentence #           Word  POS    Tag\n",
       "0   Sentence: 1      Thousands  NNS      O\n",
       "1   Sentence: 1             of   IN      O\n",
       "2   Sentence: 1  demonstrators  NNS      O\n",
       "3   Sentence: 1           have  VBP      O\n",
       "4   Sentence: 1        marched  VBN      O\n",
       "5   Sentence: 1        through   IN      O\n",
       "6   Sentence: 1         London  NNP  B-geo\n",
       "7   Sentence: 1             to   TO      O\n",
       "8   Sentence: 1        protest   VB      O\n",
       "9   Sentence: 1            the   DT      O\n",
       "10  Sentence: 1            war   NN      O\n",
       "11  Sentence: 1             in   IN      O\n",
       "12  Sentence: 1           Iraq  NNP  B-geo\n",
       "13  Sentence: 1            and   CC      O\n",
       "14  Sentence: 1         demand   VB      O\n",
       "15  Sentence: 1            the   DT      O\n",
       "16  Sentence: 1     withdrawal   NN      O\n",
       "17  Sentence: 1             of   IN      O\n",
       "18  Sentence: 1        British   JJ  B-gpe\n",
       "19  Sentence: 1         troops  NNS      O\n",
       "20  Sentence: 1           from   IN      O\n",
       "21  Sentence: 1           that   DT      O\n",
       "22  Sentence: 1        country   NN      O\n",
       "23  Sentence: 1              .    .      O\n",
       "24  Sentence: 2       Families  NNS      O\n",
       "25  Sentence: 2             of   IN      O\n",
       "26  Sentence: 2       soldiers  NNS      O\n",
       "27  Sentence: 2         killed  VBN      O\n",
       "28  Sentence: 2             in   IN      O\n",
       "29  Sentence: 2            the   DT      O\n",
       "30  Sentence: 2       conflict   NN      O\n",
       "31  Sentence: 2         joined  VBD      O\n",
       "32  Sentence: 2            the   DT      O\n",
       "33  Sentence: 2     protesters  NNS      O\n",
       "34  Sentence: 2            who   WP      O\n",
       "35  Sentence: 2        carried  VBD      O\n",
       "36  Sentence: 2        banners  NNS      O\n",
       "37  Sentence: 2           with   IN      O\n",
       "38  Sentence: 2           such   JJ      O\n",
       "39  Sentence: 2        slogans  NNS      O"
      ]
     },
     "execution_count": 104,
     "metadata": {},
     "output_type": "execute_result"
    }
   ],
   "source": [
    "data.head(40)"
   ]
  },
  {
   "cell_type": "code",
   "execution_count": 105,
   "id": "b6165953-958d-4b6d-8ef3-f2917a0b65c1",
   "metadata": {},
   "outputs": [
    {
     "data": {
      "text/plain": [
       "35179"
      ]
     },
     "execution_count": 105,
     "metadata": {},
     "output_type": "execute_result"
    }
   ],
   "source": [
    "words = list(set(data[\"Word\"].values))\n",
    "words.append(\"ENDPAD\")\n",
    "n_words = len(words); \n",
    "n_words"
   ]
  },
  {
   "cell_type": "code",
   "execution_count": 106,
   "id": "179d57cc-b911-4db4-a0c5-0d1c74c37c00",
   "metadata": {},
   "outputs": [
    {
     "data": {
      "text/plain": [
       "17"
      ]
     },
     "execution_count": 106,
     "metadata": {},
     "output_type": "execute_result"
    }
   ],
   "source": [
    "tags = list(set(data[\"Tag\"].values))\n",
    "n_tags = len(tags); n_tags"
   ]
  },
  {
   "cell_type": "code",
   "execution_count": 17,
   "id": "fe336c93-3a44-4352-8b51-6dee292184c6",
   "metadata": {},
   "outputs": [],
   "source": [
    "class SentenceGetter(object):\n",
    "    \n",
    "    def __init__(self, data):\n",
    "        self.n_sent = 1\n",
    "        self.data = data\n",
    "        self.empty = False\n",
    "        agg_func = lambda s: [(w, p, t) for w, p, t in zip(s[\"Word\"].values.tolist(),\n",
    "                                                           s[\"POS\"].values.tolist(),\n",
    "                                                           s[\"Tag\"].values.tolist())]\n",
    "        self.grouped = self.data.groupby(\"Sentence #\").apply(agg_func)\n",
    "        self.sentences = [s for s in self.grouped]\n",
    "    \n",
    "    def get_next(self):\n",
    "        try:\n",
    "            s = self.grouped[\"Sentence: {}\".format(self.n_sent)]\n",
    "            self.n_sent += 1\n",
    "            return s\n",
    "        except:\n",
    "            return None"
   ]
  },
  {
   "cell_type": "code",
   "execution_count": 18,
   "id": "78b84846-fcd7-41a7-8147-dfe9cf622fd6",
   "metadata": {},
   "outputs": [
    {
     "name": "stdout",
     "output_type": "stream",
     "text": [
      "[('Thousands', 'NNS', 'O'), ('of', 'IN', 'O'), ('demonstrators', 'NNS', 'O'), ('have', 'VBP', 'O'), ('marched', 'VBN', 'O'), ('through', 'IN', 'O'), ('London', 'NNP', 'B-geo'), ('to', 'TO', 'O'), ('protest', 'VB', 'O'), ('the', 'DT', 'O'), ('war', 'NN', 'O'), ('in', 'IN', 'O'), ('Iraq', 'NNP', 'B-geo'), ('and', 'CC', 'O'), ('demand', 'VB', 'O'), ('the', 'DT', 'O'), ('withdrawal', 'NN', 'O'), ('of', 'IN', 'O'), ('British', 'JJ', 'B-gpe'), ('troops', 'NNS', 'O'), ('from', 'IN', 'O'), ('that', 'DT', 'O'), ('country', 'NN', 'O'), ('.', '.', 'O')]\n"
     ]
    }
   ],
   "source": [
    "getter = SentenceGetter(data)\n",
    "sent = getter.get_next()\n",
    "print(sent)"
   ]
  },
  {
   "cell_type": "code",
   "execution_count": 19,
   "id": "cf80be46-7430-4389-b4de-93886ec3b6d4",
   "metadata": {},
   "outputs": [],
   "source": [
    "sentences = getter.sentences"
   ]
  },
  {
   "cell_type": "code",
   "execution_count": 20,
   "id": "eb78a2fc-f595-40e3-a1ca-3065aa7ec2b0",
   "metadata": {},
   "outputs": [
    {
     "data": {
      "text/plain": [
       "[[('Thousands', 'NNS', 'O'),\n",
       "  ('of', 'IN', 'O'),\n",
       "  ('demonstrators', 'NNS', 'O'),\n",
       "  ('have', 'VBP', 'O'),\n",
       "  ('marched', 'VBN', 'O'),\n",
       "  ('through', 'IN', 'O'),\n",
       "  ('London', 'NNP', 'B-geo'),\n",
       "  ('to', 'TO', 'O'),\n",
       "  ('protest', 'VB', 'O'),\n",
       "  ('the', 'DT', 'O'),\n",
       "  ('war', 'NN', 'O'),\n",
       "  ('in', 'IN', 'O'),\n",
       "  ('Iraq', 'NNP', 'B-geo'),\n",
       "  ('and', 'CC', 'O'),\n",
       "  ('demand', 'VB', 'O'),\n",
       "  ('the', 'DT', 'O'),\n",
       "  ('withdrawal', 'NN', 'O'),\n",
       "  ('of', 'IN', 'O'),\n",
       "  ('British', 'JJ', 'B-gpe'),\n",
       "  ('troops', 'NNS', 'O'),\n",
       "  ('from', 'IN', 'O'),\n",
       "  ('that', 'DT', 'O'),\n",
       "  ('country', 'NN', 'O'),\n",
       "  ('.', '.', 'O')],\n",
       " [('Iranian', 'JJ', 'B-gpe'),\n",
       "  ('officials', 'NNS', 'O'),\n",
       "  ('say', 'VBP', 'O'),\n",
       "  ('they', 'PRP', 'O'),\n",
       "  ('expect', 'VBP', 'O'),\n",
       "  ('to', 'TO', 'O'),\n",
       "  ('get', 'VB', 'O'),\n",
       "  ('access', 'NN', 'O'),\n",
       "  ('to', 'TO', 'O'),\n",
       "  ('sealed', 'JJ', 'O'),\n",
       "  ('sensitive', 'JJ', 'O'),\n",
       "  ('parts', 'NNS', 'O'),\n",
       "  ('of', 'IN', 'O'),\n",
       "  ('the', 'DT', 'O'),\n",
       "  ('plant', 'NN', 'O'),\n",
       "  ('Wednesday', 'NNP', 'B-tim'),\n",
       "  (',', ',', 'O'),\n",
       "  ('after', 'IN', 'O'),\n",
       "  ('an', 'DT', 'O'),\n",
       "  ('IAEA', 'NNP', 'B-org'),\n",
       "  ('surveillance', 'NN', 'O'),\n",
       "  ('system', 'NN', 'O'),\n",
       "  ('begins', 'VBZ', 'O'),\n",
       "  ('functioning', 'VBG', 'O'),\n",
       "  ('.', '.', 'O')],\n",
       " [('Helicopter', 'NN', 'O'),\n",
       "  ('gunships', 'NNS', 'O'),\n",
       "  ('Saturday', 'NNP', 'B-tim'),\n",
       "  ('pounded', 'VBD', 'O'),\n",
       "  ('militant', 'JJ', 'O'),\n",
       "  ('hideouts', 'NNS', 'O'),\n",
       "  ('in', 'IN', 'O'),\n",
       "  ('the', 'DT', 'O'),\n",
       "  ('Orakzai', 'NNP', 'B-geo'),\n",
       "  ('tribal', 'JJ', 'O'),\n",
       "  ('region', 'NN', 'O'),\n",
       "  (',', ',', 'O'),\n",
       "  ('where', 'WRB', 'O'),\n",
       "  ('many', 'JJ', 'O'),\n",
       "  ('Taliban', 'NNP', 'B-org'),\n",
       "  ('militants', 'NNS', 'O'),\n",
       "  ('are', 'VBP', 'O'),\n",
       "  ('believed', 'VBN', 'O'),\n",
       "  ('to', 'TO', 'O'),\n",
       "  ('have', 'VB', 'O'),\n",
       "  ('fled', 'VBN', 'O'),\n",
       "  ('to', 'TO', 'O'),\n",
       "  ('avoid', 'VB', 'O'),\n",
       "  ('an', 'DT', 'O'),\n",
       "  ('earlier', 'JJR', 'O'),\n",
       "  ('military', 'JJ', 'O'),\n",
       "  ('offensive', 'NN', 'O'),\n",
       "  ('in', 'IN', 'O'),\n",
       "  ('nearby', 'JJ', 'O'),\n",
       "  ('South', 'NNP', 'B-geo'),\n",
       "  ('Waziristan', 'NNP', 'I-geo'),\n",
       "  ('.', '.', 'O')],\n",
       " [('They', 'PRP', 'O'),\n",
       "  ('left', 'VBD', 'O'),\n",
       "  ('after', 'IN', 'O'),\n",
       "  ('a', 'DT', 'O'),\n",
       "  ('tense', 'NN', 'O'),\n",
       "  ('hour-long', 'JJ', 'O'),\n",
       "  ('standoff', 'NN', 'O'),\n",
       "  ('with', 'IN', 'O'),\n",
       "  ('riot', 'NN', 'O'),\n",
       "  ('police', 'NNS', 'O'),\n",
       "  ('.', '.', 'O')],\n",
       " [('U.N.', 'NNP', 'B-geo'),\n",
       "  ('relief', 'NN', 'O'),\n",
       "  ('coordinator', 'NN', 'O'),\n",
       "  ('Jan', 'NNP', 'B-per'),\n",
       "  ('Egeland', 'NNP', 'I-per'),\n",
       "  ('said', 'VBD', 'O'),\n",
       "  ('Sunday', 'NNP', 'B-tim'),\n",
       "  (',', ',', 'O'),\n",
       "  ('U.S.', 'NNP', 'B-geo'),\n",
       "  (',', ',', 'O'),\n",
       "  ('Indonesian', 'JJ', 'B-gpe'),\n",
       "  ('and', 'CC', 'O'),\n",
       "  ('Australian', 'JJ', 'B-gpe'),\n",
       "  ('military', 'JJ', 'O'),\n",
       "  ('helicopters', 'NNS', 'O'),\n",
       "  ('are', 'VBP', 'O'),\n",
       "  ('ferrying', 'VBG', 'O'),\n",
       "  ('out', 'RP', 'O'),\n",
       "  ('food', 'NN', 'O'),\n",
       "  ('and', 'CC', 'O'),\n",
       "  ('supplies', 'NNS', 'O'),\n",
       "  ('to', 'TO', 'O'),\n",
       "  ('remote', 'VB', 'O'),\n",
       "  ('areas', 'NNS', 'O'),\n",
       "  ('of', 'IN', 'O'),\n",
       "  ('western', 'JJ', 'O'),\n",
       "  ('Aceh', 'NNP', 'B-geo'),\n",
       "  ('province', 'NN', 'O'),\n",
       "  ('that', 'IN', 'O'),\n",
       "  ('ground', 'NN', 'O'),\n",
       "  ('crews', 'NNS', 'O'),\n",
       "  ('can', 'MD', 'O'),\n",
       "  ('not', 'RB', 'O'),\n",
       "  ('reach', 'VB', 'O'),\n",
       "  ('.', '.', 'O')]]"
      ]
     },
     "execution_count": 20,
     "metadata": {},
     "output_type": "execute_result"
    }
   ],
   "source": [
    "sentences[:5]"
   ]
  },
  {
   "cell_type": "code",
   "execution_count": 21,
   "id": "e22722b3-d627-4825-a577-184da2064a5f",
   "metadata": {},
   "outputs": [],
   "source": [
    "max_len = 75\n",
    "max_len_char = 10\n",
    "\n",
    "word2idx = {w: i + 2 for i, w in enumerate(words)}\n",
    "word2idx[\"UNK\"] = 1\n",
    "word2idx[\"PAD\"] = 0\n",
    "idx2word = {i: w for w, i in word2idx.items()}\n",
    "tag2idx = {t: i + 1 for i, t in enumerate(tags)}\n",
    "tag2idx[\"PAD\"] = 0\n",
    "idx2tag = {i: w for w, i in tag2idx.items()}"
   ]
  },
  {
   "cell_type": "code",
   "execution_count": 22,
   "id": "e9382bf0-788b-432b-b6f2-55a75de3e5f9",
   "metadata": {},
   "outputs": [
    {
     "name": "stdout",
     "output_type": "stream",
     "text": [
      "17459 3\n"
     ]
    }
   ],
   "source": [
    "print(word2idx[\"Obama\"], tag2idx[\"B-geo\"])"
   ]
  },
  {
   "cell_type": "code",
   "execution_count": 23,
   "id": "504fc16e-c727-4e6a-bef9-c9ae66fec327",
   "metadata": {},
   "outputs": [],
   "source": [
    "from keras.preprocessing.sequence import pad_sequences\n",
    "X_word = [[word2idx[w[0]] for w in s] for s in sentences]"
   ]
  },
  {
   "cell_type": "code",
   "execution_count": 24,
   "id": "deead37f-5ad5-476e-9451-c08dfe72b12f",
   "metadata": {},
   "outputs": [],
   "source": [
    "X_word = pad_sequences(maxlen=max_len, sequences=X_word, value=word2idx[\"PAD\"], padding='post', truncating='post')"
   ]
  },
  {
   "cell_type": "code",
   "execution_count": 25,
   "id": "ad2f5fdd-8256-4731-b4df-7d326ce75d87",
   "metadata": {},
   "outputs": [
    {
     "name": "stdout",
     "output_type": "stream",
     "text": [
      "98\n"
     ]
    }
   ],
   "source": [
    "chars = set([w_i for w in words for w_i in w])\n",
    "n_chars = len(chars)\n",
    "print(n_chars)"
   ]
  },
  {
   "cell_type": "code",
   "execution_count": 26,
   "id": "0ac5239d-d401-465a-b1c5-32fc4a3fd2de",
   "metadata": {},
   "outputs": [
    {
     "data": {
      "text/plain": [
       "[':', 'l', 'j', 'F', 'B']"
      ]
     },
     "execution_count": 26,
     "metadata": {},
     "output_type": "execute_result"
    }
   ],
   "source": [
    "list(chars)[:5]"
   ]
  },
  {
   "cell_type": "code",
   "execution_count": 27,
   "id": "fac9c3b6-f2ea-40f1-8033-460067241a7b",
   "metadata": {},
   "outputs": [],
   "source": [
    "char2idx = {c: i + 2 for i, c in enumerate(chars)}\n",
    "char2idx[\"UNK\"] = 1\n",
    "char2idx[\"PAD\"] = 0"
   ]
  },
  {
   "cell_type": "code",
   "execution_count": 28,
   "id": "86fa06c0-06e0-4d9a-8eac-440c1f5793ee",
   "metadata": {},
   "outputs": [],
   "source": [
    "X_char = []\n",
    "for sentence in sentences:\n",
    "    sent_seq = []\n",
    "    for i in range(max_len):\n",
    "        word_seq = []\n",
    "        for j in range(max_len_char):\n",
    "            try:\n",
    "                word_seq.append(char2idx.get(sentence[i][0][j]))\n",
    "            except:\n",
    "                word_seq.append(char2idx.get(\"PAD\"))\n",
    "        sent_seq.append(word_seq)\n",
    "    X_char.append(np.array(sent_seq))"
   ]
  },
  {
   "cell_type": "code",
   "execution_count": 29,
   "id": "1ef6f33a-47d7-4a4e-ad20-65ab668503b7",
   "metadata": {},
   "outputs": [
    {
     "data": {
      "text/plain": [
       "(75, 10)"
      ]
     },
     "execution_count": 29,
     "metadata": {},
     "output_type": "execute_result"
    }
   ],
   "source": [
    "X_char[0].shape"
   ]
  },
  {
   "cell_type": "code",
   "execution_count": 30,
   "id": "8ab3b237-9ea2-4d63-a9cf-1730e3e3d4da",
   "metadata": {},
   "outputs": [
    {
     "name": "stdout",
     "output_type": "stream",
     "text": [
      "75 10\n"
     ]
    }
   ],
   "source": [
    "print(max_len, max_len_char)"
   ]
  },
  {
   "cell_type": "code",
   "execution_count": 31,
   "id": "6e585e74-91b4-4e48-aef5-33c7097f2650",
   "metadata": {},
   "outputs": [
    {
     "data": {
      "text/plain": [
       "array([[69, 67, 58, 71, 80, 72, 64, 12, 80,  0],\n",
       "       [58, 32,  0,  0,  0,  0,  0,  0,  0,  0],\n",
       "       [12, 53, 35, 58, 64, 80, 66, 94, 72, 66],\n",
       "       [67, 72, 87, 53,  0,  0,  0,  0,  0,  0],\n",
       "       [35, 72, 94, 24, 67, 53, 12,  0,  0,  0],\n",
       "       [66, 67, 94, 58, 71, 68, 67,  0,  0,  0],\n",
       "       [13, 58, 64, 12, 58, 64,  0,  0,  0,  0],\n",
       "       [66, 58,  0,  0,  0,  0,  0,  0,  0,  0],\n",
       "       [14, 94, 58, 66, 53, 80, 66,  0,  0,  0],\n",
       "       [66, 67, 53,  0,  0,  0,  0,  0,  0,  0],\n",
       "       [25, 72, 94,  0,  0,  0,  0,  0,  0,  0],\n",
       "       [84, 64,  0,  0,  0,  0,  0,  0,  0,  0],\n",
       "       [16, 94, 72, 82,  0,  0,  0,  0,  0,  0],\n",
       "       [72, 64, 12,  0,  0,  0,  0,  0,  0,  0],\n",
       "       [12, 53, 35, 72, 64, 12,  0,  0,  0,  0],\n",
       "       [66, 67, 53,  0,  0,  0,  0,  0,  0,  0],\n",
       "       [25, 84, 66, 67, 12, 94, 72, 25, 72,  3],\n",
       "       [58, 32,  0,  0,  0,  0,  0,  0,  0,  0],\n",
       "       [ 6, 94, 84, 66, 84, 80, 67,  0,  0,  0],\n",
       "       [66, 94, 58, 58, 14, 80,  0,  0,  0,  0],\n",
       "       [32, 94, 58, 35,  0,  0,  0,  0,  0,  0],\n",
       "       [66, 67, 72, 66,  0,  0,  0,  0,  0,  0],\n",
       "       [24, 58, 71, 64, 66, 94, 92,  0,  0,  0],\n",
       "       [40,  0,  0,  0,  0,  0,  0,  0,  0,  0],\n",
       "       [ 0,  0,  0,  0,  0,  0,  0,  0,  0,  0],\n",
       "       [ 0,  0,  0,  0,  0,  0,  0,  0,  0,  0],\n",
       "       [ 0,  0,  0,  0,  0,  0,  0,  0,  0,  0],\n",
       "       [ 0,  0,  0,  0,  0,  0,  0,  0,  0,  0],\n",
       "       [ 0,  0,  0,  0,  0,  0,  0,  0,  0,  0],\n",
       "       [ 0,  0,  0,  0,  0,  0,  0,  0,  0,  0],\n",
       "       [ 0,  0,  0,  0,  0,  0,  0,  0,  0,  0],\n",
       "       [ 0,  0,  0,  0,  0,  0,  0,  0,  0,  0],\n",
       "       [ 0,  0,  0,  0,  0,  0,  0,  0,  0,  0],\n",
       "       [ 0,  0,  0,  0,  0,  0,  0,  0,  0,  0],\n",
       "       [ 0,  0,  0,  0,  0,  0,  0,  0,  0,  0],\n",
       "       [ 0,  0,  0,  0,  0,  0,  0,  0,  0,  0],\n",
       "       [ 0,  0,  0,  0,  0,  0,  0,  0,  0,  0],\n",
       "       [ 0,  0,  0,  0,  0,  0,  0,  0,  0,  0],\n",
       "       [ 0,  0,  0,  0,  0,  0,  0,  0,  0,  0],\n",
       "       [ 0,  0,  0,  0,  0,  0,  0,  0,  0,  0],\n",
       "       [ 0,  0,  0,  0,  0,  0,  0,  0,  0,  0],\n",
       "       [ 0,  0,  0,  0,  0,  0,  0,  0,  0,  0],\n",
       "       [ 0,  0,  0,  0,  0,  0,  0,  0,  0,  0],\n",
       "       [ 0,  0,  0,  0,  0,  0,  0,  0,  0,  0],\n",
       "       [ 0,  0,  0,  0,  0,  0,  0,  0,  0,  0],\n",
       "       [ 0,  0,  0,  0,  0,  0,  0,  0,  0,  0],\n",
       "       [ 0,  0,  0,  0,  0,  0,  0,  0,  0,  0],\n",
       "       [ 0,  0,  0,  0,  0,  0,  0,  0,  0,  0],\n",
       "       [ 0,  0,  0,  0,  0,  0,  0,  0,  0,  0],\n",
       "       [ 0,  0,  0,  0,  0,  0,  0,  0,  0,  0],\n",
       "       [ 0,  0,  0,  0,  0,  0,  0,  0,  0,  0],\n",
       "       [ 0,  0,  0,  0,  0,  0,  0,  0,  0,  0],\n",
       "       [ 0,  0,  0,  0,  0,  0,  0,  0,  0,  0],\n",
       "       [ 0,  0,  0,  0,  0,  0,  0,  0,  0,  0],\n",
       "       [ 0,  0,  0,  0,  0,  0,  0,  0,  0,  0],\n",
       "       [ 0,  0,  0,  0,  0,  0,  0,  0,  0,  0],\n",
       "       [ 0,  0,  0,  0,  0,  0,  0,  0,  0,  0],\n",
       "       [ 0,  0,  0,  0,  0,  0,  0,  0,  0,  0],\n",
       "       [ 0,  0,  0,  0,  0,  0,  0,  0,  0,  0],\n",
       "       [ 0,  0,  0,  0,  0,  0,  0,  0,  0,  0],\n",
       "       [ 0,  0,  0,  0,  0,  0,  0,  0,  0,  0],\n",
       "       [ 0,  0,  0,  0,  0,  0,  0,  0,  0,  0],\n",
       "       [ 0,  0,  0,  0,  0,  0,  0,  0,  0,  0],\n",
       "       [ 0,  0,  0,  0,  0,  0,  0,  0,  0,  0],\n",
       "       [ 0,  0,  0,  0,  0,  0,  0,  0,  0,  0],\n",
       "       [ 0,  0,  0,  0,  0,  0,  0,  0,  0,  0],\n",
       "       [ 0,  0,  0,  0,  0,  0,  0,  0,  0,  0],\n",
       "       [ 0,  0,  0,  0,  0,  0,  0,  0,  0,  0],\n",
       "       [ 0,  0,  0,  0,  0,  0,  0,  0,  0,  0],\n",
       "       [ 0,  0,  0,  0,  0,  0,  0,  0,  0,  0],\n",
       "       [ 0,  0,  0,  0,  0,  0,  0,  0,  0,  0],\n",
       "       [ 0,  0,  0,  0,  0,  0,  0,  0,  0,  0],\n",
       "       [ 0,  0,  0,  0,  0,  0,  0,  0,  0,  0],\n",
       "       [ 0,  0,  0,  0,  0,  0,  0,  0,  0,  0],\n",
       "       [ 0,  0,  0,  0,  0,  0,  0,  0,  0,  0]])"
      ]
     },
     "execution_count": 31,
     "metadata": {},
     "output_type": "execute_result"
    }
   ],
   "source": [
    "X_char[0]"
   ]
  },
  {
   "cell_type": "code",
   "execution_count": 32,
   "id": "786e30c4-b034-4a38-8cae-8dcda4d11c2c",
   "metadata": {},
   "outputs": [
    {
     "name": "stdout",
     "output_type": "stream",
     "text": [
      "47959 47959\n"
     ]
    }
   ],
   "source": [
    "print(len(X_char), len(X_word))"
   ]
  },
  {
   "cell_type": "code",
   "execution_count": 33,
   "id": "0d3c6ef8-8e7d-4688-9bbd-fc7df67fa816",
   "metadata": {},
   "outputs": [
    {
     "data": {
      "text/plain": [
       "(75,)"
      ]
     },
     "execution_count": 33,
     "metadata": {},
     "output_type": "execute_result"
    }
   ],
   "source": [
    "X_word[0].shape"
   ]
  },
  {
   "cell_type": "code",
   "execution_count": 34,
   "id": "02fa37ed-178f-4f64-bdd2-586766cc7289",
   "metadata": {},
   "outputs": [
    {
     "data": {
      "text/plain": [
       "array([30255,  8891, 17398,  4757,  4452,  6736, 11223, 33068, 11702,\n",
       "        2991, 13191,  3373,  1083,  2400, 13808,  2991, 28206,  8891,\n",
       "       25801, 18434, 23872,  2335,  8365, 18078,     0,     0,     0,\n",
       "           0,     0,     0,     0,     0,     0,     0,     0,     0,\n",
       "           0,     0,     0,     0,     0,     0,     0,     0,     0,\n",
       "           0,     0,     0,     0,     0,     0,     0,     0,     0,\n",
       "           0,     0,     0,     0,     0,     0,     0,     0,     0,\n",
       "           0,     0,     0,     0,     0,     0,     0,     0,     0,\n",
       "           0,     0,     0], dtype=int32)"
      ]
     },
     "execution_count": 34,
     "metadata": {},
     "output_type": "execute_result"
    }
   ],
   "source": [
    "X_word[0]"
   ]
  },
  {
   "cell_type": "code",
   "execution_count": 35,
   "id": "da0722f4-153e-4c59-acfc-c9c022a11e4e",
   "metadata": {},
   "outputs": [],
   "source": [
    "y = [[tag2idx[w[2]] for w in s] for s in sentences]\n",
    "y = pad_sequences(maxlen=max_len, sequences=y, value=tag2idx[\"PAD\"], padding='post', truncating='post')"
   ]
  },
  {
   "cell_type": "code",
   "execution_count": 36,
   "id": "a7009784-f380-47f0-aff7-33352c9ef615",
   "metadata": {},
   "outputs": [],
   "source": [
    "from sklearn.model_selection import train_test_split"
   ]
  },
  {
   "cell_type": "code",
   "execution_count": 37,
   "id": "3d2c1110-1d97-4d32-aea1-466f6a7193ca",
   "metadata": {},
   "outputs": [],
   "source": [
    "X_word_tr, X_word_te, y_tr, y_te = train_test_split(X_word, y, test_size=0.1, random_state=2018)\n",
    "X_char_tr, X_char_te, _, _ = train_test_split(X_char, y, test_size=0.1, random_state=2018)"
   ]
  },
  {
   "cell_type": "code",
   "execution_count": 38,
   "id": "879e8c8d-0afb-4c2e-8872-18335d5a6501",
   "metadata": {},
   "outputs": [
    {
     "data": {
      "text/plain": [
       "array([[ 9,  9,  9, ...,  0,  0,  0],\n",
       "       [ 6,  9,  9, ...,  0,  0,  0],\n",
       "       [ 6, 15,  9, ...,  0,  0,  0],\n",
       "       ...,\n",
       "       [ 6,  9,  9, ...,  0,  0,  0],\n",
       "       [ 9,  9,  9, ...,  0,  0,  0],\n",
       "       [ 9, 12,  9, ...,  0,  0,  0]], dtype=int32)"
      ]
     },
     "execution_count": 38,
     "metadata": {},
     "output_type": "execute_result"
    }
   ],
   "source": [
    "# y_tr.shape\n",
    "# np.array(y_tr).reshape(len(y_tr), max_len, 1).shape\n",
    "y_tr"
   ]
  },
  {
   "cell_type": "code",
   "execution_count": 39,
   "id": "b8020def-2b21-4b40-82e3-3f0a4f60b4f6",
   "metadata": {},
   "outputs": [
    {
     "name": "stdout",
     "output_type": "stream",
     "text": [
      "Collecting git+https://www.github.com/keras-team/keras-contrib.git\n",
      "  Cloning https://www.github.com/keras-team/keras-contrib.git to /tmp/pip-req-build-7rtm4065\n",
      "  Running command git clone -q https://www.github.com/keras-team/keras-contrib.git /tmp/pip-req-build-7rtm4065\n",
      "Requirement already satisfied: keras in /home/ubuntu/env/lib/python3.8/site-packages (from keras-contrib==2.0.8) (2.4.3)\n",
      "Requirement already satisfied: h5py in /home/ubuntu/env/lib/python3.8/site-packages (from keras->keras-contrib==2.0.8) (3.1.0)\n",
      "Requirement already satisfied: scipy>=0.14 in /home/ubuntu/env/lib/python3.8/site-packages (from keras->keras-contrib==2.0.8) (1.7.0)\n",
      "Requirement already satisfied: numpy>=1.9.1 in /home/ubuntu/env/lib/python3.8/site-packages (from keras->keras-contrib==2.0.8) (1.19.5)\n",
      "Requirement already satisfied: pyyaml in /home/ubuntu/env/lib/python3.8/site-packages (from keras->keras-contrib==2.0.8) (5.4.1)\n",
      "\u001b[33mWARNING: You are using pip version 21.1.1; however, version 21.1.3 is available.\n",
      "You should consider upgrading via the '/home/ubuntu/env/bin/python3.8 -m pip install --upgrade pip' command.\u001b[0m\n"
     ]
    }
   ],
   "source": [
    "!pip install git+https://www.github.com/keras-team/keras-contrib.git"
   ]
  },
  {
   "cell_type": "code",
   "execution_count": 43,
   "id": "da07103f-6671-4762-8b80-845c6e47d1cf",
   "metadata": {},
   "outputs": [
    {
     "name": "stdout",
     "output_type": "stream",
     "text": [
      "Collecting tensorflow-addons\n",
      "  Downloading tensorflow_addons-0.13.0-cp38-cp38-manylinux2010_x86_64.whl (679 kB)\n",
      "\u001b[K     |████████████████████████████████| 679 kB 20.1 MB/s eta 0:00:01\n",
      "\u001b[?25hCollecting typeguard>=2.7\n",
      "  Downloading typeguard-2.12.1-py3-none-any.whl (17 kB)\n",
      "Installing collected packages: typeguard, tensorflow-addons\n",
      "Successfully installed tensorflow-addons-0.13.0 typeguard-2.12.1\n",
      "\u001b[33mWARNING: You are using pip version 21.1.1; however, version 21.1.3 is available.\n",
      "You should consider upgrading via the '/home/ubuntu/env/bin/python3.8 -m pip install --upgrade pip' command.\u001b[0m\n",
      "Note: you may need to restart the kernel to use updated packages.\n"
     ]
    }
   ],
   "source": [
    "pip install tensorflow-addons"
   ]
  },
  {
   "cell_type": "code",
   "execution_count": 44,
   "id": "08bbba97-cb88-4eee-9d94-fab22d7831f0",
   "metadata": {},
   "outputs": [],
   "source": [
    "from keras.models import Model, Input\n",
    "from keras.layers import LSTM, Embedding, Dense, TimeDistributed, Dropout, Conv1D\n",
    "from keras.layers import Bidirectional, concatenate, SpatialDropout1D, GlobalMaxPooling1D\n",
    "from keras_contrib.layers import CRF\n",
    "import tensorflow_addons as tfa"
   ]
  },
  {
   "cell_type": "code",
   "execution_count": 41,
   "id": "48785ec8-2192-4179-821d-b1382a7b06d2",
   "metadata": {},
   "outputs": [
    {
     "data": {
      "text/plain": [
       "98"
      ]
     },
     "execution_count": 41,
     "metadata": {},
     "output_type": "execute_result"
    }
   ],
   "source": [
    "n_chars"
   ]
  },
  {
   "cell_type": "code",
   "execution_count": null,
   "id": "0082d136-a940-46fc-9031-16d73ba2b154",
   "metadata": {},
   "outputs": [],
   "source": [
    "# input and embedding for words\n",
    "word_in = Input(shape=(max_len,))\n",
    "emb_word = Embedding(input_dim=n_words + 2, output_dim=20,\n",
    "                     input_length=max_len, mask_zero=True)(word_in)\n",
    "\n",
    "# input and embeddings for characters\n",
    "char_in = Input(shape=(max_len, max_len_char,))\n",
    "emb_char = TimeDistributed(Embedding(input_dim=n_chars + 2, output_dim=10,\n",
    "                           input_length=max_len_char, mask_zero=True))(char_in)\n",
    "# character LSTM to get word encodings by characters\n",
    "char_enc = TimeDistributed(LSTM(units=20, return_sequences=False,\n",
    "                                recurrent_dropout=0.5))(emb_char)\n",
    "\n",
    "# main LSTM\n",
    "x = concatenate([emb_word, char_enc])\n",
    "x = SpatialDropout1D(0.3)(x)\n",
    "main_lstm = Bidirectional(LSTM(units=50, return_sequences=True,\n",
    "                               recurrent_dropout=0.6))(x)\n",
    "out = TimeDistributed(Dense(n_tags + 1, activation=\"sigmoid\"))(main_lstm)\n",
    "\n",
    "model = Model([word_in, char_in], out)\n"
   ]
  },
  {
   "cell_type": "code",
   "execution_count": null,
   "id": "24854582-4d13-4d91-b0aa-4c045730e662",
   "metadata": {},
   "outputs": [],
   "source": [
    "model.compile(optimizer=\"adam\", loss=\"sparse_categorical_crossentropy\", metrics=[\"acc\"])\n",
    "model.summary()"
   ]
  },
  {
   "cell_type": "code",
   "execution_count": 49,
   "id": "5ae1a5fb-a8dd-41d5-9418-e61b1ce1fa9e",
   "metadata": {},
   "outputs": [],
   "source": [
    "# input and embedding for words\n",
    "\n",
    "# model = Sequential()\n",
    "# model.add(Embedding(input_dim=n_words+1, output_dim=200, input_length=max_len))\n",
    "# model.add(Dropout(0.5))\n",
    "# model.add(Bidirectional(LSTM(units=128, return_sequences=True, recurrent_dropout=0.1)))\n",
    "# model.add(TimeDistributed(Dense(n_tags, activation=\"relu\")))\n",
    "# crf_layer = CRF(n_tags)\n",
    "# model.add(crf_layer)\n",
    "\n",
    "\n",
    "# model_2 = Sequential()\n",
    "# model_2.add(Embedding(input_dim=n_words + 2, output_dim=20, input_length=max_len, mask_zero=True))"
   ]
  },
  {
   "cell_type": "code",
   "execution_count": 54,
   "id": "39c150a5-ed33-415c-a4cc-93c8a2e40f1c",
   "metadata": {},
   "outputs": [
    {
     "name": "stdout",
     "output_type": "stream",
     "text": [
      "WARNING:tensorflow:Layer lstm_6 will not use cuDNN kernels since it doesn't meet the criteria. It will use a generic GPU kernel as fallback when running on GPU.\n",
      "WARNING:tensorflow:Layer lstm_7 will not use cuDNN kernels since it doesn't meet the criteria. It will use a generic GPU kernel as fallback when running on GPU.\n",
      "WARNING:tensorflow:Layer lstm_7 will not use cuDNN kernels since it doesn't meet the criteria. It will use a generic GPU kernel as fallback when running on GPU.\n",
      "WARNING:tensorflow:Layer lstm_7 will not use cuDNN kernels since it doesn't meet the criteria. It will use a generic GPU kernel as fallback when running on GPU.\n"
     ]
    }
   ],
   "source": [
    "word_in = Input(shape=(max_len,))\n",
    "emb_word = Embedding(input_dim=n_words + 2, output_dim=20,\n",
    "                     input_length=max_len, mask_zero=True)(word_in)\n",
    "\n",
    "# input and embeddings for characters\n",
    "char_in = Input(shape=(max_len, max_len_char,))\n",
    "emb_char = TimeDistributed(Embedding(input_dim=n_chars + 2, output_dim=10,\n",
    "                           input_length=max_len_char, mask_zero=True))(char_in)\n",
    "# character LSTM to get word encodings by characters\n",
    "char_enc = TimeDistributed(LSTM(units=20, return_sequences=False,\n",
    "                                recurrent_dropout=0.5))(emb_char)\n",
    "\n",
    "# main LSTM\n",
    "x = concatenate([emb_word, char_enc])\n",
    "x = SpatialDropout1D(0.3)(x)\n",
    "main_lstm = Bidirectional(LSTM(units=50, return_sequences=True,\n",
    "                               recurrent_dropout=0.6))(x)\n",
    "out = TimeDistributed(Dense(n_tags + 1, activation=\"sigmoid\"))(main_lstm)\n",
    "\n",
    "crf_layer = CRF(n_tags + 1)\n",
    "crf_outputs = crf_layer(out)\n",
    "\n",
    "model_2 = Model([word_in, char_in], crf_outputs)\n",
    "\n",
    "model_lstm = Model([word_in, char_in], main_lstm)\n"
   ]
  },
  {
   "cell_type": "code",
   "execution_count": 48,
   "id": "9e06235d-1c72-4140-bedc-b96b3c202819",
   "metadata": {},
   "outputs": [],
   "source": [
    "# # input and embedding for words\n",
    "\n",
    "# # model = Sequential()\n",
    "# # model.add(Embedding(input_dim=n_words+1, output_dim=200, input_length=max_len))\n",
    "# # model.add(Dropout(0.5))\n",
    "# # model.add(Bidirectional(LSTM(units=128, return_sequences=True, recurrent_dropout=0.1)))\n",
    "# # model.add(TimeDistributed(Dense(n_tags, activation=\"relu\")))\n",
    "# # crf_layer = CRF(n_tags)\n",
    "# # model.add(crf_layer)\n",
    "\n",
    "\n",
    "# # model_2 = Sequential()\n",
    "# # model_2.add(Embedding(input_dim=n_words + 2, output_dim=20, input_length=max_len, mask_zero=True))\n",
    "\n",
    "# word_in = Input(shape=(max_len,))\n",
    "# emb_word = Embedding(input_dim=n_words + 2, output_dim=20,\n",
    "#                      input_length=max_len, mask_zero=True)(word_in)\n",
    "\n",
    "# # input and embeddings for characters\n",
    "# char_in = Input(shape=(max_len, max_len_char,))\n",
    "# emb_char = TimeDistributed(Embedding(input_dim=n_chars + 2, output_dim=10,\n",
    "#                            input_length=max_len_char, mask_zero=True))(char_in)\n",
    "# # character LSTM to get word encodings by characters\n",
    "# char_enc = TimeDistributed(LSTM(units=20, return_sequences=False,\n",
    "#                                 recurrent_dropout=0.5))(emb_char)\n",
    "\n",
    "# # main LSTM\n",
    "# x = concatenate([emb_word, char_enc])\n",
    "# x = SpatialDropout1D(0.3)(x)\n",
    "# main_lstm = Bidirectional(LSTM(units=50, return_sequences=True,\n",
    "#                                recurrent_dropout=0.6))(x)\n",
    "# out = TimeDistributed(Dense(n_tags + 1, activation=\"sigmoid\"))(main_lstm)\n",
    "\n",
    "# crf_outputs = tfa.layers.CRF(n_tags + 1)(out)\n",
    "\n",
    "# model_3 = Model([word_in, char_in], crf_outputs)\n"
   ]
  },
  {
   "cell_type": "code",
   "execution_count": 55,
   "id": "65d9e1ec-706c-4e81-a432-fbdea2c51aa5",
   "metadata": {},
   "outputs": [
    {
     "name": "stdout",
     "output_type": "stream",
     "text": [
      "Model: \"model_2\"\n",
      "__________________________________________________________________________________________________\n",
      "Layer (type)                    Output Shape         Param #     Connected to                     \n",
      "==================================================================================================\n",
      "input_8 (InputLayer)            [(None, 75, 10)]     0                                            \n",
      "__________________________________________________________________________________________________\n",
      "input_7 (InputLayer)            [(None, 75)]         0                                            \n",
      "__________________________________________________________________________________________________\n",
      "time_distributed_9 (TimeDistrib (None, 75, 10, 10)   1000        input_8[0][0]                    \n",
      "__________________________________________________________________________________________________\n",
      "embedding_6 (Embedding)         (None, 75, 20)       703620      input_7[0][0]                    \n",
      "__________________________________________________________________________________________________\n",
      "time_distributed_10 (TimeDistri (None, 75, 20)       2480        time_distributed_9[0][0]         \n",
      "__________________________________________________________________________________________________\n",
      "concatenate_3 (Concatenate)     (None, 75, 40)       0           embedding_6[0][0]                \n",
      "                                                                 time_distributed_10[0][0]        \n",
      "__________________________________________________________________________________________________\n",
      "spatial_dropout1d_3 (SpatialDro (None, 75, 40)       0           concatenate_3[0][0]              \n",
      "__________________________________________________________________________________________________\n",
      "bidirectional_3 (Bidirectional) (None, 75, 100)      36400       spatial_dropout1d_3[0][0]        \n",
      "__________________________________________________________________________________________________\n",
      "time_distributed_11 (TimeDistri (None, 75, 18)       1818        bidirectional_3[0][0]            \n",
      "__________________________________________________________________________________________________\n",
      "crf_2 (CRF)                     (None, 75, 18)       702         time_distributed_11[0][0]        \n",
      "==================================================================================================\n",
      "Total params: 746,020\n",
      "Trainable params: 746,020\n",
      "Non-trainable params: 0\n",
      "__________________________________________________________________________________________________\n"
     ]
    }
   ],
   "source": [
    "model_2.compile(optimizer=\"adam\", loss=\"sparse_categorical_crossentropy\", metrics=[\"acc\"])\n",
    "model_2.summary()"
   ]
  },
  {
   "cell_type": "code",
   "execution_count": 53,
   "id": "017cd363-7e1a-4cf7-b0ac-7c658604e86f",
   "metadata": {},
   "outputs": [
    {
     "data": {
      "text/plain": [
       "<keras.layers.wrappers.Bidirectional at 0x7f9b2dc4ba30>"
      ]
     },
     "execution_count": 53,
     "metadata": {},
     "output_type": "execute_result"
    }
   ],
   "source": [
    "model_2.layers[7]"
   ]
  },
  {
   "cell_type": "code",
   "execution_count": 56,
   "id": "ba282961-9115-4128-a502-bc019e763d07",
   "metadata": {},
   "outputs": [
    {
     "name": "stdout",
     "output_type": "stream",
     "text": [
      "Model: \"model_3\"\n",
      "__________________________________________________________________________________________________\n",
      "Layer (type)                    Output Shape         Param #     Connected to                     \n",
      "==================================================================================================\n",
      "input_8 (InputLayer)            [(None, 75, 10)]     0                                            \n",
      "__________________________________________________________________________________________________\n",
      "input_7 (InputLayer)            [(None, 75)]         0                                            \n",
      "__________________________________________________________________________________________________\n",
      "time_distributed_9 (TimeDistrib (None, 75, 10, 10)   1000        input_8[0][0]                    \n",
      "__________________________________________________________________________________________________\n",
      "embedding_6 (Embedding)         (None, 75, 20)       703620      input_7[0][0]                    \n",
      "__________________________________________________________________________________________________\n",
      "time_distributed_10 (TimeDistri (None, 75, 20)       2480        time_distributed_9[0][0]         \n",
      "__________________________________________________________________________________________________\n",
      "concatenate_3 (Concatenate)     (None, 75, 40)       0           embedding_6[0][0]                \n",
      "                                                                 time_distributed_10[0][0]        \n",
      "__________________________________________________________________________________________________\n",
      "spatial_dropout1d_3 (SpatialDro (None, 75, 40)       0           concatenate_3[0][0]              \n",
      "__________________________________________________________________________________________________\n",
      "bidirectional_3 (Bidirectional) (None, 75, 100)      36400       spatial_dropout1d_3[0][0]        \n",
      "==================================================================================================\n",
      "Total params: 743,500\n",
      "Trainable params: 743,500\n",
      "Non-trainable params: 0\n",
      "__________________________________________________________________________________________________\n"
     ]
    }
   ],
   "source": [
    "model_lstm.summary()"
   ]
  },
  {
   "cell_type": "code",
   "execution_count": null,
   "id": "33ecd50c-dd2b-41ea-9698-24e2c6f3bec4",
   "metadata": {},
   "outputs": [],
   "source": [
    "history = model.fit([X_word_tr,\n",
    "                     np.array(X_char_tr).reshape((len(X_char_tr), max_len, max_len_char))],\n",
    "                    np.array(y_tr).reshape(len(y_tr), max_len, 1),\n",
    "                    batch_size=32, epochs=10, validation_split=0.1, verbose=1)"
   ]
  },
  {
   "cell_type": "code",
   "execution_count": null,
   "id": "bfbbff77-9a07-4024-ba42-c250a2b726fd",
   "metadata": {},
   "outputs": [],
   "source": [
    "lstm_states = model_lstm.predict(X)"
   ]
  },
  {
   "cell_type": "code",
   "execution_count": 57,
   "id": "c3ed9882-7886-4ad9-96bd-2690600fcda4",
   "metadata": {},
   "outputs": [
    {
     "ename": "NameError",
     "evalue": "name 'lstm_states' is not defined",
     "output_type": "error",
     "traceback": [
      "\u001b[0;31m---------------------------------------------------------------------------\u001b[0m",
      "\u001b[0;31mNameError\u001b[0m                                 Traceback (most recent call last)",
      "\u001b[0;32m<ipython-input-57-6321b6c82f90>\u001b[0m in \u001b[0;36m<module>\u001b[0;34m\u001b[0m\n\u001b[1;32m      2\u001b[0m emb_word = Embedding(input_dim=n_tags + 1, output_dim=20,\n\u001b[1;32m      3\u001b[0m                      input_length=max_len, mask_zero=True)(word_in) # (None, 75, 20)\n\u001b[0;32m----> 4\u001b[0;31m \u001b[0mx\u001b[0m \u001b[0;34m=\u001b[0m \u001b[0mconcatenate\u001b[0m\u001b[0;34m(\u001b[0m\u001b[0;34m[\u001b[0m\u001b[0mlstm_states\u001b[0m\u001b[0;34m,\u001b[0m \u001b[0memb_word\u001b[0m\u001b[0;34m]\u001b[0m\u001b[0;34m)\u001b[0m \u001b[0;31m# (None, 75, 120)\u001b[0m\u001b[0;34m\u001b[0m\u001b[0;34m\u001b[0m\u001b[0m\n\u001b[0m\u001b[1;32m      5\u001b[0m \u001b[0mhidden_layer_1\u001b[0m \u001b[0;34m=\u001b[0m \u001b[0mTimeDistributed\u001b[0m\u001b[0;34m(\u001b[0m\u001b[0mDense\u001b[0m\u001b[0;34m(\u001b[0m\u001b[0;36m30\u001b[0m\u001b[0;34m,\u001b[0m \u001b[0mactivation\u001b[0m\u001b[0;34m=\u001b[0m\u001b[0;34m\"sigmoid\"\u001b[0m\u001b[0;34m)\u001b[0m\u001b[0;34m)\u001b[0m\u001b[0;34m(\u001b[0m\u001b[0mx\u001b[0m\u001b[0;34m)\u001b[0m\u001b[0;34m\u001b[0m\u001b[0;34m\u001b[0m\u001b[0m\n\u001b[1;32m      6\u001b[0m \u001b[0moutput_layer\u001b[0m \u001b[0;34m=\u001b[0m \u001b[0mTimeDistributed\u001b[0m\u001b[0;34m(\u001b[0m\u001b[0mDense\u001b[0m\u001b[0;34m(\u001b[0m\u001b[0mn_tags\u001b[0m \u001b[0;34m+\u001b[0m \u001b[0;36m1\u001b[0m\u001b[0;34m,\u001b[0m \u001b[0mactivation\u001b[0m\u001b[0;34m=\u001b[0m\u001b[0;34m\"sigmoid\"\u001b[0m\u001b[0;34m)\u001b[0m\u001b[0;34m)\u001b[0m\u001b[0;34m(\u001b[0m\u001b[0mhidden_layer\u001b[0m\u001b[0;34m)\u001b[0m\u001b[0;34m\u001b[0m\u001b[0;34m\u001b[0m\u001b[0m\n",
      "\u001b[0;31mNameError\u001b[0m: name 'lstm_states' is not defined"
     ]
    }
   ],
   "source": [
    "word_in = Input(shape=(max_len,)) # (None, 75, 100)\n",
    "emb_word = Embedding(input_dim=n_tags + 1, output_dim=20,\n",
    "                     input_length=max_len, mask_zero=True)(word_in) # (None, 75, 20)\n",
    "x = concatenate([lstm_states, emb_word]) # (None, 75, 120)\n",
    "hidden_layer_1 = TimeDistributed(Dense(30, activation=\"sigmoid\"))(x)\n",
    "output_layer = TimeDistributed(Dense(n_tags + 1, activation=\"sigmoid\"))(hidden_layer)\n",
    "\n",
    "model_rel = Model(inputs=word_in, outputs=output_layer)"
   ]
  },
  {
   "cell_type": "code",
   "execution_count": null,
   "id": "d8d9258c-e688-4672-9831-da67881ba947",
   "metadata": {},
   "outputs": [],
   "source": []
  },
  {
   "cell_type": "code",
   "execution_count": null,
   "id": "acc87913-55cc-4b7b-834d-b9b118ba9428",
   "metadata": {},
   "outputs": [],
   "source": []
  },
  {
   "cell_type": "code",
   "execution_count": null,
   "id": "fbc2c977-a0c1-45e5-b99e-1d3ee580cb5b",
   "metadata": {},
   "outputs": [],
   "source": []
  },
  {
   "cell_type": "code",
   "execution_count": null,
   "id": "14462eb0-1cfa-40c2-9fac-f56d601ae194",
   "metadata": {},
   "outputs": [],
   "source": []
  },
  {
   "cell_type": "code",
   "execution_count": 58,
   "id": "55e076d4-5417-4df4-bb0e-cfbb8b5e9d04",
   "metadata": {},
   "outputs": [
    {
     "name": "stdout",
     "output_type": "stream",
     "text": [
      "Collecting conllu\n",
      "  Downloading conllu-4.4-py2.py3-none-any.whl (15 kB)\n",
      "Installing collected packages: conllu\n",
      "Successfully installed conllu-4.4\n",
      "\u001b[33mWARNING: You are using pip version 21.1.1; however, version 21.1.3 is available.\n",
      "You should consider upgrading via the '/home/ubuntu/env/bin/python3.8 -m pip install --upgrade pip' command.\u001b[0m\n"
     ]
    }
   ],
   "source": [
    "!pip install conllu"
   ]
  },
  {
   "cell_type": "code",
   "execution_count": 59,
   "id": "d8f23b9b-2c5b-41d6-9721-44bdf5c9c9a5",
   "metadata": {},
   "outputs": [],
   "source": [
    "from conllu import parse_incr"
   ]
  },
  {
   "cell_type": "code",
   "execution_count": 61,
   "id": "3d39926b-39d4-456e-9e79-4ae89aec397a",
   "metadata": {},
   "outputs": [],
   "source": [
    "data_file = open(\"train.txt\", \"r\", encoding=\"utf-8\")\n",
    "token_list = []\n",
    "for tokenlist in parse_incr(data_file):\n",
    "#     print(tokenlist)\n",
    "    token_list.append(tokenlist)"
   ]
  },
  {
   "cell_type": "code",
   "execution_count": 62,
   "id": "03a6eb39-b76a-450a-bc3c-c99a8e86f5aa",
   "metadata": {},
   "outputs": [
    {
     "data": {
      "text/plain": [
       "1"
      ]
     },
     "execution_count": 62,
     "metadata": {},
     "output_type": "execute_result"
    }
   ],
   "source": [
    "len(token_list)"
   ]
  },
  {
   "cell_type": "code",
   "execution_count": 65,
   "id": "f5fd19dc-ec95-4d8d-812c-caaefe1db4ca",
   "metadata": {},
   "outputs": [
    {
     "data": {
      "text/plain": [
       "['a [b c] d [e f g]']"
      ]
     },
     "execution_count": 65,
     "metadata": {},
     "output_type": "execute_result"
    }
   ],
   "source": [
    "\"a [b c] d [e f g]\".split(\"\\\\s+(?!\\\\[^\\\\[]*\\\\])\")"
   ]
  },
  {
   "cell_type": "code",
   "execution_count": 66,
   "id": "5bc6e395-08a3-4469-b030-fc43a0d0e7c6",
   "metadata": {},
   "outputs": [],
   "source": [
    "import regex as re"
   ]
  },
  {
   "cell_type": "code",
   "execution_count": 67,
   "id": "b50eb6ba-4b20-429c-9877-e3f2b76a1a1a",
   "metadata": {},
   "outputs": [
    {
     "data": {
      "text/plain": [
       "['a', '[b c]', 'd', '[e f g]']"
      ]
     },
     "execution_count": 67,
     "metadata": {},
     "output_type": "execute_result"
    }
   ],
   "source": [
    "s = \"a [b c] d [e f g]\"\n",
    "re.findall(r\"\\[[^[]*]|\\([^)]*\\)|<[^>]*>|\\S+|(?=\\n)\", s)\n"
   ]
  },
  {
   "cell_type": "code",
   "execution_count": 83,
   "id": "60207abd-8892-4761-a10a-ca94ffe58573",
   "metadata": {},
   "outputs": [],
   "source": [
    "with open('train.txt') as f:\n",
    "    lines = f.readlines()"
   ]
  },
  {
   "cell_type": "code",
   "execution_count": 81,
   "id": "ec2ce563-c7a8-4a28-9682-88c15546b978",
   "metadata": {},
   "outputs": [],
   "source": [
    "token_list = []\n",
    "for index, line in enumerate(lines):\n",
    "    line = line.strip()\n",
    "    line_split = re.findall(r\"\\[[^[]*]|\\([^)]*\\)|<[^>]*>|\\S+|(?=\\n)\", line)\n",
    "    token_list.append(line_split)"
   ]
  },
  {
   "cell_type": "code",
   "execution_count": 72,
   "id": "9ece77f8-f8ad-4b7c-9789-9358695d70fa",
   "metadata": {},
   "outputs": [
    {
     "data": {
      "text/plain": [
       "27714"
      ]
     },
     "execution_count": 72,
     "metadata": {},
     "output_type": "execute_result"
    }
   ],
   "source": [
    "len(token_list)"
   ]
  },
  {
   "cell_type": "code",
   "execution_count": 82,
   "id": "ad9ff7eb-a7b2-4cb0-9bf7-704752e618cd",
   "metadata": {},
   "outputs": [
    {
     "data": {
      "text/plain": [
       "['#doc', '1024']"
      ]
     },
     "execution_count": 82,
     "metadata": {},
     "output_type": "execute_result"
    }
   ],
   "source": [
    "token_list[0]"
   ]
  },
  {
   "cell_type": "code",
   "execution_count": 110,
   "id": "cdec44f3-ef44-48f7-a224-95ea601474cd",
   "metadata": {},
   "outputs": [],
   "source": [
    "df = pd.DataFrame(columns=['Word Token Index', 'Sentence #', 'Word', 'Tag', 'Relationship', 'Relation Index'])\n",
    "token_list = []\n",
    "cur_row_index = 0\n",
    "for line in lines:\n",
    "    line = line.strip()\n",
    "    line_split = re.findall(r\"\\[[^[]*]|\\([^)]*\\)|<[^>]*>|\\S+|(?=\\n)\", line)\n",
    "    if line_split and '#doc' in line_split[0]:\n",
    "        current_sentence_index = line_split[1]\n",
    "    else:\n",
    "        sentence = \"#Sentence \" + current_sentence_index\n",
    "        word_token_index = line_split[0]\n",
    "        word = line_split[1]\n",
    "        pos = line_split[2]\n",
    "        relation = line_split[3]\n",
    "        relation_index = line_split[4]\n",
    "        df.loc[cur_row_index] = [word_token_index, sentence, word, pos, relation, relation_index]\n",
    "        cur_row_index += 1"
   ]
  },
  {
   "cell_type": "code",
   "execution_count": 111,
   "id": "b5c35524-c83c-429d-9756-5049034838ca",
   "metadata": {},
   "outputs": [
    {
     "data": {
      "text/plain": [
       "[1, 1, 2, 3]"
      ]
     },
     "execution_count": 111,
     "metadata": {},
     "output_type": "execute_result"
    }
   ],
   "source": [
    "[1] + [1,2,3]"
   ]
  },
  {
   "cell_type": "code",
   "execution_count": 112,
   "id": "f338256c-45b1-49aa-8b73-599889fb0467",
   "metadata": {},
   "outputs": [
    {
     "data": {
      "text/plain": [
       "26804"
      ]
     },
     "execution_count": 112,
     "metadata": {},
     "output_type": "execute_result"
    }
   ],
   "source": [
    "len(df)"
   ]
  },
  {
   "cell_type": "code",
   "execution_count": 113,
   "id": "cfcb33ff-f9af-4d2a-9bd2-ed19b4f5035f",
   "metadata": {},
   "outputs": [
    {
     "data": {
      "text/plain": [
       "910"
      ]
     },
     "execution_count": 113,
     "metadata": {},
     "output_type": "execute_result"
    }
   ],
   "source": [
    "len(df['Sentence #'].unique())"
   ]
  },
  {
   "cell_type": "code",
   "execution_count": 114,
   "id": "ea3b4d77-b0f4-41f1-8b52-0f23995cd6dc",
   "metadata": {},
   "outputs": [
    {
     "data": {
      "text/plain": [
       "27714"
      ]
     },
     "execution_count": 114,
     "metadata": {},
     "output_type": "execute_result"
    }
   ],
   "source": [
    "26804 + 910"
   ]
  },
  {
   "cell_type": "code",
   "execution_count": null,
   "id": "0b160b4c-7846-4455-84e4-f3b1757180ea",
   "metadata": {},
   "outputs": [],
   "source": []
  },
  {
   "cell_type": "code",
   "execution_count": 204,
   "id": "a4a52f25-8259-4736-bf3f-4fbe0c9de565",
   "metadata": {},
   "outputs": [
    {
     "data": {
      "text/html": [
       "<div>\n",
       "<style scoped>\n",
       "    .dataframe tbody tr th:only-of-type {\n",
       "        vertical-align: middle;\n",
       "    }\n",
       "\n",
       "    .dataframe tbody tr th {\n",
       "        vertical-align: top;\n",
       "    }\n",
       "\n",
       "    .dataframe thead th {\n",
       "        text-align: right;\n",
       "    }\n",
       "</style>\n",
       "<table border=\"1\" class=\"dataframe\">\n",
       "  <thead>\n",
       "    <tr style=\"text-align: right;\">\n",
       "      <th></th>\n",
       "      <th>Word Token Index</th>\n",
       "      <th>Sentence #</th>\n",
       "      <th>Word</th>\n",
       "      <th>Tag</th>\n",
       "      <th>Relationship</th>\n",
       "      <th>Relation Index</th>\n",
       "    </tr>\n",
       "  </thead>\n",
       "  <tbody>\n",
       "    <tr>\n",
       "      <th>26794</th>\n",
       "      <td>27</td>\n",
       "      <td>#Sentence 4051</td>\n",
       "      <td>within</td>\n",
       "      <td>O</td>\n",
       "      <td>['N']</td>\n",
       "      <td>[27]</td>\n",
       "    </tr>\n",
       "    <tr>\n",
       "      <th>26795</th>\n",
       "      <td>28</td>\n",
       "      <td>#Sentence 4051</td>\n",
       "      <td>the</td>\n",
       "      <td>O</td>\n",
       "      <td>['N']</td>\n",
       "      <td>[28]</td>\n",
       "    </tr>\n",
       "    <tr>\n",
       "      <th>26796</th>\n",
       "      <td>29</td>\n",
       "      <td>#Sentence 4051</td>\n",
       "      <td>time</td>\n",
       "      <td>O</td>\n",
       "      <td>['N']</td>\n",
       "      <td>[29]</td>\n",
       "    </tr>\n",
       "    <tr>\n",
       "      <th>26797</th>\n",
       "      <td>30</td>\n",
       "      <td>#Sentence 4051</td>\n",
       "      <td>limit</td>\n",
       "      <td>O</td>\n",
       "      <td>['N']</td>\n",
       "      <td>[30]</td>\n",
       "    </tr>\n",
       "    <tr>\n",
       "      <th>26798</th>\n",
       "      <td>31</td>\n",
       "      <td>#Sentence 4051</td>\n",
       "      <td>set</td>\n",
       "      <td>O</td>\n",
       "      <td>['N']</td>\n",
       "      <td>[31]</td>\n",
       "    </tr>\n",
       "    <tr>\n",
       "      <th>26799</th>\n",
       "      <td>32</td>\n",
       "      <td>#Sentence 4051</td>\n",
       "      <td>by</td>\n",
       "      <td>O</td>\n",
       "      <td>['N']</td>\n",
       "      <td>[32]</td>\n",
       "    </tr>\n",
       "    <tr>\n",
       "      <th>26800</th>\n",
       "      <td>33</td>\n",
       "      <td>#Sentence 4051</td>\n",
       "      <td>the</td>\n",
       "      <td>O</td>\n",
       "      <td>['N']</td>\n",
       "      <td>[33]</td>\n",
       "    </tr>\n",
       "    <tr>\n",
       "      <th>26801</th>\n",
       "      <td>34</td>\n",
       "      <td>#Sentence 4051</td>\n",
       "      <td>UR</td>\n",
       "      <td>O</td>\n",
       "      <td>['N']</td>\n",
       "      <td>[34]</td>\n",
       "    </tr>\n",
       "    <tr>\n",
       "      <th>26802</th>\n",
       "      <td>35</td>\n",
       "      <td>#Sentence 4051</td>\n",
       "      <td>agreement</td>\n",
       "      <td>O</td>\n",
       "      <td>['N']</td>\n",
       "      <td>[35]</td>\n",
       "    </tr>\n",
       "    <tr>\n",
       "      <th>26803</th>\n",
       "      <td>36</td>\n",
       "      <td>#Sentence 4051</td>\n",
       "      <td>.</td>\n",
       "      <td>O</td>\n",
       "      <td>['N']</td>\n",
       "      <td>[36]</td>\n",
       "    </tr>\n",
       "  </tbody>\n",
       "</table>\n",
       "</div>"
      ],
      "text/plain": [
       "      Word Token Index      Sentence #       Word Tag Relationship  \\\n",
       "26794               27  #Sentence 4051     within   O        ['N']   \n",
       "26795               28  #Sentence 4051        the   O        ['N']   \n",
       "26796               29  #Sentence 4051       time   O        ['N']   \n",
       "26797               30  #Sentence 4051      limit   O        ['N']   \n",
       "26798               31  #Sentence 4051        set   O        ['N']   \n",
       "26799               32  #Sentence 4051         by   O        ['N']   \n",
       "26800               33  #Sentence 4051        the   O        ['N']   \n",
       "26801               34  #Sentence 4051         UR   O        ['N']   \n",
       "26802               35  #Sentence 4051  agreement   O        ['N']   \n",
       "26803               36  #Sentence 4051          .   O        ['N']   \n",
       "\n",
       "      Relation Index  \n",
       "26794           [27]  \n",
       "26795           [28]  \n",
       "26796           [29]  \n",
       "26797           [30]  \n",
       "26798           [31]  \n",
       "26799           [32]  \n",
       "26800           [33]  \n",
       "26801           [34]  \n",
       "26802           [35]  \n",
       "26803           [36]  "
      ]
     },
     "execution_count": 204,
     "metadata": {},
     "output_type": "execute_result"
    }
   ],
   "source": [
    "data = df\n",
    "data = data.fillna(method=\"ffill\")\n",
    "data.tail(10)"
   ]
  },
  {
   "cell_type": "code",
   "execution_count": 205,
   "id": "d0f196a3-c1d8-472f-8080-d56494ab1be9",
   "metadata": {},
   "outputs": [
    {
     "data": {
      "text/plain": [
       "6389"
      ]
     },
     "execution_count": 205,
     "metadata": {},
     "output_type": "execute_result"
    }
   ],
   "source": [
    "words = list(set(data[\"Word\"].values))\n",
    "words.append(\"ENDPAD\")\n",
    "n_words = len(words); \n",
    "n_words"
   ]
  },
  {
   "cell_type": "code",
   "execution_count": 206,
   "id": "29d7dc1c-04f3-424f-9fb8-dcbb1cf2edac",
   "metadata": {},
   "outputs": [
    {
     "data": {
      "text/plain": [
       "9"
      ]
     },
     "execution_count": 206,
     "metadata": {},
     "output_type": "execute_result"
    }
   ],
   "source": [
    "tags = list(set(data[\"Tag\"].values))\n",
    "n_tags = len(tags); \n",
    "n_tags"
   ]
  },
  {
   "cell_type": "code",
   "execution_count": 207,
   "id": "e5be916a-ebca-4f34-8a6b-ec2fbb1a107b",
   "metadata": {},
   "outputs": [
    {
     "data": {
      "text/plain": [
       "['I-Loc',\n",
       " 'B-Other',\n",
       " 'I-Peop',\n",
       " 'B-Org',\n",
       " 'B-Loc',\n",
       " 'O',\n",
       " 'I-Other',\n",
       " 'B-Peop',\n",
       " 'I-Org']"
      ]
     },
     "execution_count": 207,
     "metadata": {},
     "output_type": "execute_result"
    }
   ],
   "source": [
    "tags"
   ]
  },
  {
   "cell_type": "code",
   "execution_count": 208,
   "id": "1514361b-6557-4201-ae27-9a60a0920124",
   "metadata": {},
   "outputs": [],
   "source": [
    "class SentenceGetter(object):\n",
    "    \n",
    "    def __init__(self, data):\n",
    "        self.n_sent = 1\n",
    "        self.data = data\n",
    "        self.empty = False\n",
    "        agg_func = lambda s: [(w, t) for w, t in zip(s[\"Word\"].values.tolist(),\n",
    "                                                     s[\"Tag\"].values.tolist())]\n",
    "        self.grouped = self.data.groupby(\"Sentence #\").apply(agg_func)\n",
    "        self.sentences = [s for s in self.grouped]\n",
    "    \n",
    "    def get_next(self):\n",
    "        try:\n",
    "            s = self.grouped[\"Sentence: {}\".format(self.n_sent)]\n",
    "            self.n_sent += 1\n",
    "            return s\n",
    "        except:\n",
    "            return None"
   ]
  },
  {
   "cell_type": "code",
   "execution_count": 209,
   "id": "ca636e57-dbe7-44b0-902d-7d8884bf2b8a",
   "metadata": {},
   "outputs": [
    {
     "name": "stdout",
     "output_type": "stream",
     "text": [
      "None\n"
     ]
    }
   ],
   "source": [
    "getter = SentenceGetter(data)\n",
    "sent = getter.get_next()\n",
    "print(sent)"
   ]
  },
  {
   "cell_type": "code",
   "execution_count": 210,
   "id": "7c61012c-ff43-4752-848f-77711a77feae",
   "metadata": {},
   "outputs": [],
   "source": [
    "sentences = getter.sentences"
   ]
  },
  {
   "cell_type": "code",
   "execution_count": 211,
   "id": "dd2df572-4508-41a2-9670-ec84e04b9c43",
   "metadata": {},
   "outputs": [
    {
     "data": {
      "text/plain": [
       "[[('Israel', 'B-Loc'),\n",
       "  ('television', 'O'),\n",
       "  ('rejected', 'O'),\n",
       "  ('a', 'O'),\n",
       "  ('skit', 'O'),\n",
       "  ('by', 'O'),\n",
       "  ('comedian', 'O'),\n",
       "  ('Tuvia', 'B-Peop'),\n",
       "  ('Tzafir', 'I-Peop'),\n",
       "  ('that', 'O'),\n",
       "  ('attacked', 'O'),\n",
       "  ('public', 'O'),\n",
       "  ('apathy', 'O'),\n",
       "  ('by', 'O'),\n",
       "  ('depicting', 'O'),\n",
       "  ('an', 'O'),\n",
       "  ('Israeli', 'B-Other'),\n",
       "  ('family', 'O'),\n",
       "  ('watching', 'O'),\n",
       "  ('TV', 'O'),\n",
       "  ('while', 'O'),\n",
       "  ('a', 'O'),\n",
       "  ('fire', 'O'),\n",
       "  ('raged', 'O'),\n",
       "  ('outside', 'O'),\n",
       "  ('.', 'O')],\n",
       " [('Sen.', 'O'),\n",
       "  ('Jake', 'B-Peop'),\n",
       "  ('Garn', 'I-Peop'),\n",
       "  (',', 'O'),\n",
       "  ('R-Utah', 'O'),\n",
       "  (',', 'O'),\n",
       "  ('flew', 'O'),\n",
       "  ('on', 'O'),\n",
       "  ('the', 'O'),\n",
       "  ('shuttle', 'O'),\n",
       "  ('in', 'O'),\n",
       "  ('April', 'O'),\n",
       "  ('1985', 'B-Other'),\n",
       "  ('and', 'O'),\n",
       "  ('Rep.', 'O'),\n",
       "  ('Bill', 'B-Peop'),\n",
       "  ('Nelson', 'I-Peop'),\n",
       "  (',', 'O'),\n",
       "  ('D-Fla.', 'O'),\n",
       "  (',', 'O'),\n",
       "  ('was', 'O'),\n",
       "  ('aboard', 'O'),\n",
       "  ('in', 'O'),\n",
       "  ('January', 'O'),\n",
       "  ('1986', 'B-Other'),\n",
       "  (',', 'O'),\n",
       "  ('at', 'O'),\n",
       "  ('the', 'O'),\n",
       "  ('invitation', 'O'),\n",
       "  ('of', 'O'),\n",
       "  ('NASA', 'B-Org'),\n",
       "  (\"'s\", 'O'),\n",
       "  ('administrator', 'O'),\n",
       "  ('.', 'O')],\n",
       " [('In', 'O'),\n",
       "  ('1988', 'B-Other'),\n",
       "  (',', 'O'),\n",
       "  ('he', 'O'),\n",
       "  ('directed', 'O'),\n",
       "  ('three', 'O'),\n",
       "  ('productions', 'O'),\n",
       "  (':', 'O'),\n",
       "  ('`', 'O'),\n",
       "  ('`', 'O'),\n",
       "  ('A', 'B-Other'),\n",
       "  ('Street', 'I-Other'),\n",
       "  ('Car', 'I-Other'),\n",
       "  ('Named', 'I-Other'),\n",
       "  ('Desire', 'I-Other'),\n",
       "  (\"'\", 'O'),\n",
       "  (\"'\", 'O'),\n",
       "  ('on', 'B-Other'),\n",
       "  ('Broadway', 'I-Other'),\n",
       "  (',', 'O'),\n",
       "  ('`', 'O'),\n",
       "  ('`', 'O'),\n",
       "  ('Sweet', 'B-Other'),\n",
       "  ('Bird', 'I-Other'),\n",
       "  ('of', 'I-Other'),\n",
       "  ('Youth', 'I-Other'),\n",
       "  (\"'\", 'O'),\n",
       "  (\"'\", 'O'),\n",
       "  ('at', 'O'),\n",
       "  ('the', 'O'),\n",
       "  ('Royal', 'B-Org'),\n",
       "  ('Alexandra', 'I-Org'),\n",
       "  ('Theatre', 'I-Org'),\n",
       "  ('in', 'O'),\n",
       "  ('Toronto', 'B-Loc'),\n",
       "  (',', 'O'),\n",
       "  ('Canada', 'B-Loc'),\n",
       "  (',', 'O'),\n",
       "  ('and', 'O'),\n",
       "  ('`', 'O'),\n",
       "  ('`', 'O'),\n",
       "  ('The', 'B-Other'),\n",
       "  ('Legend', 'I-Other'),\n",
       "  ('of', 'I-Other'),\n",
       "  ('Oedipus', 'I-Other'),\n",
       "  (\"'\", 'O'),\n",
       "  (\"'\", 'O'),\n",
       "  ('in', 'O'),\n",
       "  ('Williamstown', 'B-Loc'),\n",
       "  ('.', 'O')]]"
      ]
     },
     "execution_count": 211,
     "metadata": {},
     "output_type": "execute_result"
    }
   ],
   "source": [
    "sentences[:3]"
   ]
  },
  {
   "cell_type": "code",
   "execution_count": 212,
   "id": "4fd9dde1-e513-4bc4-a6b8-78e5d475ef92",
   "metadata": {},
   "outputs": [
    {
     "name": "stdout",
     "output_type": "stream",
     "text": [
      "30\n"
     ]
    }
   ],
   "source": [
    "check_max_len = 0\n",
    "for sentence in sentences:\n",
    "    split_len = len(sentence)\n",
    "    if split_len > 0:\n",
    "        check_max_len = split_len\n",
    "print(check_max_len)"
   ]
  },
  {
   "cell_type": "code",
   "execution_count": 213,
   "id": "e5728ff2-9cc9-4bdb-bf3f-0bfccffa659c",
   "metadata": {},
   "outputs": [],
   "source": [
    "max_len = 60\n",
    "max_len_char = 10\n",
    "\n",
    "word2idx = {w: i + 2 for i, w in enumerate(words)}\n",
    "word2idx[\"UNK\"] = 1\n",
    "word2idx[\"PAD\"] = 0\n",
    "idx2word = {i: w for w, i in word2idx.items()}\n",
    "tag2idx = {t: i + 1 for i, t in enumerate(tags)}\n",
    "tag2idx[\"PAD\"] = 0\n",
    "idx2tag = {i: w for w, i in tag2idx.items()}"
   ]
  },
  {
   "cell_type": "code",
   "execution_count": 214,
   "id": "123727e3-6715-43ae-92f4-0360959f8250",
   "metadata": {},
   "outputs": [
    {
     "name": "stdout",
     "output_type": "stream",
     "text": [
      "4068 7\n"
     ]
    }
   ],
   "source": [
    "print(word2idx[\"Legend\"], tag2idx['I-Other'])"
   ]
  },
  {
   "cell_type": "code",
   "execution_count": 215,
   "id": "95fc4cac-65c4-48ee-8e5d-561c7e52ac49",
   "metadata": {},
   "outputs": [],
   "source": [
    "from keras.preprocessing.sequence import pad_sequences\n",
    "X_word = [[word2idx[w[0]] for w in s] for s in sentences]"
   ]
  },
  {
   "cell_type": "code",
   "execution_count": 216,
   "id": "37a20657-807f-4520-a213-ceedc5d8da1d",
   "metadata": {},
   "outputs": [
    {
     "name": "stdout",
     "output_type": "stream",
     "text": [
      "76\n"
     ]
    }
   ],
   "source": [
    "X_word = pad_sequences(maxlen=max_len, sequences=X_word, value=word2idx[\"PAD\"], padding='post', truncating='post')\n",
    "chars = set([w_i for w in words for w_i in w])\n",
    "n_chars = len(chars)\n",
    "print(n_chars)\n",
    "char2idx = {c: i + 2 for i, c in enumerate(chars)}\n",
    "char2idx[\"UNK\"] = 1\n",
    "char2idx[\"PAD\"] = 0\n",
    "X_char = []\n",
    "for sentence in sentences:\n",
    "    sent_seq = []\n",
    "    for i in range(max_len):\n",
    "        word_seq = []\n",
    "        for j in range(max_len_char):\n",
    "            try:\n",
    "                word_seq.append(char2idx.get(sentence[i][0][j]))\n",
    "            except:\n",
    "                word_seq.append(char2idx.get(\"PAD\"))\n",
    "        sent_seq.append(word_seq)\n",
    "    X_char.append(np.array(sent_seq))\n",
    "y = [[tag2idx[w[1]] for w in s] for s in sentences]\n",
    "y = pad_sequences(maxlen=max_len, sequences=y, value=tag2idx[\"PAD\"], padding='post', truncating='post')"
   ]
  },
  {
   "cell_type": "code",
   "execution_count": 217,
   "id": "95993b85-60ba-481f-9b2a-ec7b6215d991",
   "metadata": {},
   "outputs": [],
   "source": [
    "from keras.utils.np_utils import to_categorical\n",
    "y = [to_categorical(i, num_classes=n_tags + 1) for i in y]"
   ]
  },
  {
   "cell_type": "code",
   "execution_count": 239,
   "id": "379dd1a6-e056-49f0-9b17-86bfb84bdada",
   "metadata": {},
   "outputs": [
    {
     "data": {
      "text/plain": [
       "array([[0., 0., 0., 0., 0., 1., 0., 0., 0., 0.],\n",
       "       [0., 0., 0., 0., 0., 0., 1., 0., 0., 0.],\n",
       "       [0., 0., 0., 0., 0., 0., 1., 0., 0., 0.],\n",
       "       [0., 0., 0., 0., 0., 0., 1., 0., 0., 0.],\n",
       "       [0., 0., 0., 0., 0., 0., 1., 0., 0., 0.],\n",
       "       [0., 0., 0., 0., 0., 0., 1., 0., 0., 0.],\n",
       "       [0., 0., 0., 0., 0., 0., 1., 0., 0., 0.],\n",
       "       [0., 0., 0., 0., 0., 0., 0., 0., 1., 0.],\n",
       "       [0., 0., 0., 1., 0., 0., 0., 0., 0., 0.],\n",
       "       [0., 0., 0., 0., 0., 0., 1., 0., 0., 0.],\n",
       "       [0., 0., 0., 0., 0., 0., 1., 0., 0., 0.],\n",
       "       [0., 0., 0., 0., 0., 0., 1., 0., 0., 0.],\n",
       "       [0., 0., 0., 0., 0., 0., 1., 0., 0., 0.],\n",
       "       [0., 0., 0., 0., 0., 0., 1., 0., 0., 0.],\n",
       "       [0., 0., 0., 0., 0., 0., 1., 0., 0., 0.],\n",
       "       [0., 0., 0., 0., 0., 0., 1., 0., 0., 0.],\n",
       "       [0., 0., 1., 0., 0., 0., 0., 0., 0., 0.],\n",
       "       [0., 0., 0., 0., 0., 0., 1., 0., 0., 0.],\n",
       "       [0., 0., 0., 0., 0., 0., 1., 0., 0., 0.],\n",
       "       [0., 0., 0., 0., 0., 0., 1., 0., 0., 0.],\n",
       "       [0., 0., 0., 0., 0., 0., 1., 0., 0., 0.],\n",
       "       [0., 0., 0., 0., 0., 0., 1., 0., 0., 0.],\n",
       "       [0., 0., 0., 0., 0., 0., 1., 0., 0., 0.],\n",
       "       [0., 0., 0., 0., 0., 0., 1., 0., 0., 0.],\n",
       "       [0., 0., 0., 0., 0., 0., 1., 0., 0., 0.],\n",
       "       [0., 0., 0., 0., 0., 0., 1., 0., 0., 0.],\n",
       "       [1., 0., 0., 0., 0., 0., 0., 0., 0., 0.],\n",
       "       [1., 0., 0., 0., 0., 0., 0., 0., 0., 0.],\n",
       "       [1., 0., 0., 0., 0., 0., 0., 0., 0., 0.],\n",
       "       [1., 0., 0., 0., 0., 0., 0., 0., 0., 0.],\n",
       "       [1., 0., 0., 0., 0., 0., 0., 0., 0., 0.],\n",
       "       [1., 0., 0., 0., 0., 0., 0., 0., 0., 0.],\n",
       "       [1., 0., 0., 0., 0., 0., 0., 0., 0., 0.],\n",
       "       [1., 0., 0., 0., 0., 0., 0., 0., 0., 0.],\n",
       "       [1., 0., 0., 0., 0., 0., 0., 0., 0., 0.],\n",
       "       [1., 0., 0., 0., 0., 0., 0., 0., 0., 0.],\n",
       "       [1., 0., 0., 0., 0., 0., 0., 0., 0., 0.],\n",
       "       [1., 0., 0., 0., 0., 0., 0., 0., 0., 0.],\n",
       "       [1., 0., 0., 0., 0., 0., 0., 0., 0., 0.],\n",
       "       [1., 0., 0., 0., 0., 0., 0., 0., 0., 0.],\n",
       "       [1., 0., 0., 0., 0., 0., 0., 0., 0., 0.],\n",
       "       [1., 0., 0., 0., 0., 0., 0., 0., 0., 0.],\n",
       "       [1., 0., 0., 0., 0., 0., 0., 0., 0., 0.],\n",
       "       [1., 0., 0., 0., 0., 0., 0., 0., 0., 0.],\n",
       "       [1., 0., 0., 0., 0., 0., 0., 0., 0., 0.],\n",
       "       [1., 0., 0., 0., 0., 0., 0., 0., 0., 0.],\n",
       "       [1., 0., 0., 0., 0., 0., 0., 0., 0., 0.],\n",
       "       [1., 0., 0., 0., 0., 0., 0., 0., 0., 0.],\n",
       "       [1., 0., 0., 0., 0., 0., 0., 0., 0., 0.],\n",
       "       [1., 0., 0., 0., 0., 0., 0., 0., 0., 0.],\n",
       "       [1., 0., 0., 0., 0., 0., 0., 0., 0., 0.],\n",
       "       [1., 0., 0., 0., 0., 0., 0., 0., 0., 0.],\n",
       "       [1., 0., 0., 0., 0., 0., 0., 0., 0., 0.],\n",
       "       [1., 0., 0., 0., 0., 0., 0., 0., 0., 0.],\n",
       "       [1., 0., 0., 0., 0., 0., 0., 0., 0., 0.],\n",
       "       [1., 0., 0., 0., 0., 0., 0., 0., 0., 0.],\n",
       "       [1., 0., 0., 0., 0., 0., 0., 0., 0., 0.],\n",
       "       [1., 0., 0., 0., 0., 0., 0., 0., 0., 0.],\n",
       "       [1., 0., 0., 0., 0., 0., 0., 0., 0., 0.],\n",
       "       [1., 0., 0., 0., 0., 0., 0., 0., 0., 0.]], dtype=float32)"
      ]
     },
     "execution_count": 239,
     "metadata": {},
     "output_type": "execute_result"
    }
   ],
   "source": [
    "y[0]"
   ]
  },
  {
   "cell_type": "code",
   "execution_count": 218,
   "id": "87de9fdc-69c5-43e6-92c7-43ca4ea7af8e",
   "metadata": {},
   "outputs": [],
   "source": [
    "from sklearn.model_selection import train_test_split\n",
    "X_word_tr, X_word_te, y_tr, y_te = train_test_split(X_word, y, test_size=0.1, random_state=2018)\n",
    "X_char_tr, X_char_te, _, _ = train_test_split(X_char, y, test_size=0.1, random_state=2018)"
   ]
  },
  {
   "cell_type": "code",
   "execution_count": 219,
   "id": "f83ad1e2-cab7-4386-a9fb-bfba7cb8be94",
   "metadata": {},
   "outputs": [
    {
     "data": {
      "text/plain": [
       "(819, 60, 10)"
      ]
     },
     "execution_count": 219,
     "metadata": {},
     "output_type": "execute_result"
    }
   ],
   "source": [
    "(np.array(y_tr)).shape"
   ]
  },
  {
   "cell_type": "code",
   "execution_count": 230,
   "id": "9f84ef1d-a19d-445d-b0b6-afd269f09405",
   "metadata": {},
   "outputs": [],
   "source": [
    "# from tensorflow.keras.models import Model\n",
    "# from tensorflow.keras.layers import Input, LSTM, Embedding, Dense, TimeDistributed, Dropout, Conv1D\n",
    "# from tensorflow.keras.layers import Bidirectional, concatenate, SpatialDropout1D, GlobalMaxPooling1D\n",
    "\n",
    "from keras.models import Model, Input\n",
    "from keras.layers import LSTM, Embedding, Dense, TimeDistributed, Dropout, Conv1D, Reshape\n",
    "from keras.layers import Bidirectional, concatenate, SpatialDropout1D, GlobalMaxPooling1D\n",
    "\n",
    "from keras_contrib.layers import CRF\n",
    "import tensorflow_addons as tfa\n",
    "\n",
    "from keras_contrib.losses import crf_loss\n",
    "from keras_contrib.metrics import crf_accuracy\n",
    "from tensorflow_addons.layers import CRF as crf"
   ]
  },
  {
   "cell_type": "code",
   "execution_count": 221,
   "id": "dc613622-bcd5-4028-b395-d865c64bb231",
   "metadata": {},
   "outputs": [
    {
     "name": "stdout",
     "output_type": "stream",
     "text": [
      "WARNING:tensorflow:Layer lstm_44 will not use cuDNN kernels since it doesn't meet the criteria. It will use a generic GPU kernel as fallback when running on GPU.\n",
      "WARNING:tensorflow:Layer lstm_45 will not use cuDNN kernels since it doesn't meet the criteria. It will use a generic GPU kernel as fallback when running on GPU.\n",
      "WARNING:tensorflow:Layer lstm_45 will not use cuDNN kernels since it doesn't meet the criteria. It will use a generic GPU kernel as fallback when running on GPU.\n",
      "WARNING:tensorflow:Layer lstm_45 will not use cuDNN kernels since it doesn't meet the criteria. It will use a generic GPU kernel as fallback when running on GPU.\n",
      "Model: \"model_28\"\n",
      "__________________________________________________________________________________________________\n",
      "Layer (type)                    Output Shape         Param #     Connected to                     \n",
      "==================================================================================================\n",
      "input_47 (InputLayer)           [(None, 60, 10)]     0                                            \n",
      "__________________________________________________________________________________________________\n",
      "input_46 (InputLayer)           [(None, 60)]         0                                            \n",
      "__________________________________________________________________________________________________\n",
      "time_distributed_66 (TimeDistri (None, 60, 10, 10)   780         input_47[0][0]                   \n",
      "__________________________________________________________________________________________________\n",
      "embedding_45 (Embedding)        (None, 60, 20)       127820      input_46[0][0]                   \n",
      "__________________________________________________________________________________________________\n",
      "time_distributed_67 (TimeDistri (None, 60, 20)       2480        time_distributed_66[0][0]        \n",
      "__________________________________________________________________________________________________\n",
      "concatenate_22 (Concatenate)    (None, 60, 40)       0           embedding_45[0][0]               \n",
      "                                                                 time_distributed_67[0][0]        \n",
      "__________________________________________________________________________________________________\n",
      "spatial_dropout1d_22 (SpatialDr (None, 60, 40)       0           concatenate_22[0][0]             \n",
      "__________________________________________________________________________________________________\n",
      "bidirectional_22 (Bidirectional (None, 60, 100)      36400       spatial_dropout1d_22[0][0]       \n",
      "__________________________________________________________________________________________________\n",
      "time_distributed_68 (TimeDistri (None, 60, 10)       1010        bidirectional_22[0][0]           \n",
      "==================================================================================================\n",
      "Total params: 168,490\n",
      "Trainable params: 168,490\n",
      "Non-trainable params: 0\n",
      "__________________________________________________________________________________________________\n"
     ]
    }
   ],
   "source": [
    "word_in = Input(shape=(max_len,))\n",
    "emb_word = Embedding(input_dim=n_words + 2, output_dim=20,\n",
    "                     input_length=max_len, mask_zero=True)(word_in)\n",
    "\n",
    "# input and embeddings for characters\n",
    "char_in = Input(shape=(max_len, max_len_char,))\n",
    "emb_char = TimeDistributed(Embedding(input_dim=n_chars + 2, output_dim=10,\n",
    "                           input_length=max_len_char, mask_zero=True))(char_in)\n",
    "# character LSTM to get word encodings by characters\n",
    "char_enc = TimeDistributed(LSTM(units=20, return_sequences=False,\n",
    "                                recurrent_dropout=0.5))(emb_char)\n",
    "\n",
    "# main LSTM\n",
    "x = concatenate([emb_word, char_enc])\n",
    "x = SpatialDropout1D(0.3)(x)\n",
    "main_lstm = Bidirectional(LSTM(units=50, return_sequences=True,\n",
    "                               recurrent_dropout=0.6))(x)\n",
    "'''\n",
    "out = TimeDistributed(Dense(50, activation=\"relu\"))(main_lstm)\n",
    "\n",
    "# crf_layer = CRF(n_tags + 1)\n",
    "crf_layer = crf(n_tags + 1)\n",
    "crf_outputs = crf_layer(out)\n",
    "\n",
    "model_ner = Model([word_in, char_in], crf_outputs)\n",
    "\n",
    "model_lstm_ner = Model([word_in, char_in], main_lstm)\n",
    "\n",
    "model_ner.compile(optimizer=\"adam\", loss=crf_loss, metrics=[crf_accuracy])\n",
    "model_ner.summary()\n",
    "\n",
    "out = TimeDistributed(Dense(50, activation=\"relu\"))(main_lstm)\n",
    "\n",
    "# crf_layer = CRF(n_tags + 1)\n",
    "crf_layer = crf(n_tags + 1)\n",
    "crf_outputs = crf_layer(out)\n",
    "\n",
    "model_ner = Model([word_in, char_in], crf_outputs)\n",
    "\n",
    "model_lstm_ner = Model([word_in, char_in], main_lstm)\n",
    "\n",
    "model_ner.compile(optimizer=\"adam\", loss=crf_loss, metrics=[crf_accuracy])\n",
    "model_ner.summary()\n",
    "'''\n",
    "out = TimeDistributed(Dense(n_tags + 1, activation=\"sigmoid\"))(main_lstm)\n",
    "\n",
    "model_ner = Model([word_in, char_in], out)\n",
    "\n",
    "model_lstm_ner = Model([word_in, char_in], main_lstm)\n",
    "\n",
    "model_ner.compile(optimizer=\"adam\", loss=\"categorical_crossentropy\", metrics=[\"acc\"])\n",
    "model_ner.summary()"
   ]
  },
  {
   "cell_type": "code",
   "execution_count": 222,
   "id": "a7a42a4d-c267-4d1b-8bc1-cd9a47861337",
   "metadata": {},
   "outputs": [
    {
     "name": "stdout",
     "output_type": "stream",
     "text": [
      "Model: \"model_29\"\n",
      "__________________________________________________________________________________________________\n",
      "Layer (type)                    Output Shape         Param #     Connected to                     \n",
      "==================================================================================================\n",
      "input_47 (InputLayer)           [(None, 60, 10)]     0                                            \n",
      "__________________________________________________________________________________________________\n",
      "input_46 (InputLayer)           [(None, 60)]         0                                            \n",
      "__________________________________________________________________________________________________\n",
      "time_distributed_66 (TimeDistri (None, 60, 10, 10)   780         input_47[0][0]                   \n",
      "__________________________________________________________________________________________________\n",
      "embedding_45 (Embedding)        (None, 60, 20)       127820      input_46[0][0]                   \n",
      "__________________________________________________________________________________________________\n",
      "time_distributed_67 (TimeDistri (None, 60, 20)       2480        time_distributed_66[0][0]        \n",
      "__________________________________________________________________________________________________\n",
      "concatenate_22 (Concatenate)    (None, 60, 40)       0           embedding_45[0][0]               \n",
      "                                                                 time_distributed_67[0][0]        \n",
      "__________________________________________________________________________________________________\n",
      "spatial_dropout1d_22 (SpatialDr (None, 60, 40)       0           concatenate_22[0][0]             \n",
      "__________________________________________________________________________________________________\n",
      "bidirectional_22 (Bidirectional (None, 60, 100)      36400       spatial_dropout1d_22[0][0]       \n",
      "==================================================================================================\n",
      "Total params: 167,480\n",
      "Trainable params: 167,480\n",
      "Non-trainable params: 0\n",
      "__________________________________________________________________________________________________\n"
     ]
    }
   ],
   "source": [
    "model_lstm_ner.summary()"
   ]
  },
  {
   "cell_type": "code",
   "execution_count": 223,
   "id": "2a367e5c-3f59-4d07-a0b8-a130c7245ee8",
   "metadata": {},
   "outputs": [
    {
     "name": "stdout",
     "output_type": "stream",
     "text": [
      "Epoch 1/30\n",
      "21/21 [==============================] - 19s 537ms/step - loss: 1.0747 - acc: 0.6260 - val_loss: 0.8863 - val_acc: 0.7658\n",
      "Epoch 2/30\n",
      "21/21 [==============================] - 8s 386ms/step - loss: 0.7008 - acc: 0.7607 - val_loss: 0.5466 - val_acc: 0.7658\n",
      "Epoch 3/30\n",
      "21/21 [==============================] - 8s 383ms/step - loss: 0.4987 - acc: 0.7594 - val_loss: 0.5369 - val_acc: 0.7658\n",
      "Epoch 4/30\n",
      "21/21 [==============================] - 8s 387ms/step - loss: 0.4986 - acc: 0.7663 - val_loss: 0.5267 - val_acc: 0.7658\n",
      "Epoch 5/30\n",
      "21/21 [==============================] - 8s 390ms/step - loss: 0.4764 - acc: 0.7651 - val_loss: 0.5228 - val_acc: 0.7658\n",
      "Epoch 6/30\n",
      "21/21 [==============================] - 8s 385ms/step - loss: 0.4790 - acc: 0.7628 - val_loss: 0.5123 - val_acc: 0.7658\n",
      "Epoch 7/30\n",
      "21/21 [==============================] - 8s 384ms/step - loss: 0.4690 - acc: 0.7610 - val_loss: 0.4943 - val_acc: 0.7658\n",
      "Epoch 8/30\n",
      "21/21 [==============================] - 8s 383ms/step - loss: 0.4480 - acc: 0.7666 - val_loss: 0.4715 - val_acc: 0.7658\n",
      "Epoch 9/30\n",
      "21/21 [==============================] - 8s 386ms/step - loss: 0.4227 - acc: 0.7612 - val_loss: 0.4443 - val_acc: 0.7658\n",
      "Epoch 10/30\n",
      "21/21 [==============================] - 8s 386ms/step - loss: 0.3956 - acc: 0.7554 - val_loss: 0.4051 - val_acc: 0.7658\n",
      "Epoch 11/30\n",
      "21/21 [==============================] - 8s 386ms/step - loss: 0.3499 - acc: 0.7662 - val_loss: 0.3510 - val_acc: 0.7658\n",
      "Epoch 12/30\n",
      "21/21 [==============================] - 8s 387ms/step - loss: 0.3088 - acc: 0.7599 - val_loss: 0.3356 - val_acc: 0.7658\n",
      "Epoch 13/30\n",
      "21/21 [==============================] - 8s 386ms/step - loss: 0.2917 - acc: 0.7663 - val_loss: 0.3271 - val_acc: 0.7658\n",
      "Epoch 14/30\n",
      "21/21 [==============================] - 8s 389ms/step - loss: 0.2898 - acc: 0.7679 - val_loss: 0.3204 - val_acc: 0.7658\n",
      "Epoch 15/30\n",
      "21/21 [==============================] - 8s 387ms/step - loss: 0.2753 - acc: 0.7621 - val_loss: 0.3147 - val_acc: 0.7658\n",
      "Epoch 16/30\n",
      "21/21 [==============================] - 8s 387ms/step - loss: 0.2828 - acc: 0.7578 - val_loss: 0.3083 - val_acc: 0.7658\n",
      "Epoch 17/30\n",
      "21/21 [==============================] - 8s 387ms/step - loss: 0.2775 - acc: 0.7610 - val_loss: 0.3030 - val_acc: 0.7660\n",
      "Epoch 18/30\n",
      "21/21 [==============================] - 8s 385ms/step - loss: 0.2573 - acc: 0.7679 - val_loss: 0.2967 - val_acc: 0.7684\n",
      "Epoch 19/30\n",
      "21/21 [==============================] - 8s 386ms/step - loss: 0.2579 - acc: 0.7713 - val_loss: 0.2896 - val_acc: 0.7865\n",
      "Epoch 20/30\n",
      "21/21 [==============================] - 8s 387ms/step - loss: 0.2497 - acc: 0.8022 - val_loss: 0.2792 - val_acc: 0.8233\n",
      "Epoch 21/30\n",
      "21/21 [==============================] - 8s 384ms/step - loss: 0.2343 - acc: 0.8427 - val_loss: 0.2662 - val_acc: 0.8370\n",
      "Epoch 22/30\n",
      "21/21 [==============================] - 8s 389ms/step - loss: 0.2254 - acc: 0.8529 - val_loss: 0.2543 - val_acc: 0.8337\n",
      "Epoch 23/30\n",
      "21/21 [==============================] - 8s 383ms/step - loss: 0.1968 - acc: 0.8642 - val_loss: 0.2453 - val_acc: 0.8366\n",
      "Epoch 24/30\n",
      "21/21 [==============================] - 8s 384ms/step - loss: 0.1833 - acc: 0.8764 - val_loss: 0.2356 - val_acc: 0.8453\n",
      "Epoch 25/30\n",
      "21/21 [==============================] - 8s 386ms/step - loss: 0.1774 - acc: 0.8834 - val_loss: 0.2301 - val_acc: 0.8485\n",
      "Epoch 26/30\n",
      "21/21 [==============================] - 8s 385ms/step - loss: 0.1708 - acc: 0.8879 - val_loss: 0.2214 - val_acc: 0.8593\n",
      "Epoch 27/30\n",
      "21/21 [==============================] - 8s 384ms/step - loss: 0.1567 - acc: 0.8946 - val_loss: 0.2217 - val_acc: 0.8534\n",
      "Epoch 28/30\n",
      "21/21 [==============================] - 8s 384ms/step - loss: 0.1478 - acc: 0.9051 - val_loss: 0.2130 - val_acc: 0.8636\n",
      "Epoch 29/30\n",
      "21/21 [==============================] - 8s 389ms/step - loss: 0.1438 - acc: 0.9103 - val_loss: 0.2054 - val_acc: 0.8703\n",
      "Epoch 30/30\n",
      "21/21 [==============================] - 8s 383ms/step - loss: 0.1297 - acc: 0.9180 - val_loss: 0.2022 - val_acc: 0.8742\n"
     ]
    }
   ],
   "source": [
    "history = model_ner.fit([X_word_tr,\n",
    "                     np.array(X_char_tr).reshape((len(X_char_tr), max_len, max_len_char))],\n",
    "                    np.array(y_tr).reshape(len(y_tr), max_len, n_tags + 1),\n",
    "                    batch_size=32, epochs=30, validation_split=0.2, verbose=1)"
   ]
  },
  {
   "cell_type": "code",
   "execution_count": 148,
   "id": "2c9e32b5-3ec0-44bb-9d7d-4c4f55c4d147",
   "metadata": {},
   "outputs": [
    {
     "name": "stdout",
     "output_type": "stream",
     "text": [
      "Epoch 1/5\n"
     ]
    },
    {
     "ename": "AttributeError",
     "evalue": "in user code:\n\n    /home/ubuntu/env/lib/python3.8/site-packages/keras/engine/training.py:830 train_function  *\n        return step_function(self, iterator)\n    /home/ubuntu/env/lib/python3.8/site-packages/keras/engine/training.py:813 run_step  *\n        outputs = model.train_step(data)\n    /home/ubuntu/env/lib/python3.8/site-packages/keras/engine/training.py:771 train_step  *\n        loss = self.compiled_loss(\n    /home/ubuntu/env/lib/python3.8/site-packages/keras/engine/compile_utils.py:201 __call__  *\n        loss_value = loss_obj(y_t, y_p, sample_weight=sw)\n    /home/ubuntu/env/lib/python3.8/site-packages/keras/losses.py:142 __call__  *\n        losses = call_fn(y_true, y_pred)\n    /home/ubuntu/env/lib/python3.8/site-packages/keras/losses.py:246 call  *\n        return ag_fn(y_true, y_pred, **self._fn_kwargs)\n    /home/ubuntu/env/lib/python3.8/site-packages/keras_contrib/losses/crf_losses.py:54 crf_loss  *\n        crf, idx = y_pred._keras_history[:2]\n    /home/ubuntu/env/lib/python3.8/site-packages/tensorflow/python/framework/ops.py:401 __getattr__\n        self.__getattribute__(name)\n\n    AttributeError: 'Tensor' object has no attribute '_keras_history'\n",
     "output_type": "error",
     "traceback": [
      "\u001b[0;31m---------------------------------------------------------------------------\u001b[0m",
      "\u001b[0;31mAttributeError\u001b[0m                            Traceback (most recent call last)",
      "\u001b[0;32m<ipython-input-148-cced88986dd3>\u001b[0m in \u001b[0;36m<module>\u001b[0;34m\u001b[0m\n\u001b[0;32m----> 1\u001b[0;31m history = model_ner.fit([X_word_tr, np.array(X_char_tr)], np.array(y_tr), batch_size=32, epochs=5,\n\u001b[0m\u001b[1;32m      2\u001b[0m                     validation_split=0.1, verbose=1)\n",
      "\u001b[0;32m~/env/lib/python3.8/site-packages/keras/engine/training.py\u001b[0m in \u001b[0;36mfit\u001b[0;34m(self, x, y, batch_size, epochs, verbose, callbacks, validation_split, validation_data, shuffle, class_weight, sample_weight, initial_epoch, steps_per_epoch, validation_steps, validation_batch_size, validation_freq, max_queue_size, workers, use_multiprocessing)\u001b[0m\n\u001b[1;32m   1156\u001b[0m                 _r=1):\n\u001b[1;32m   1157\u001b[0m               \u001b[0mcallbacks\u001b[0m\u001b[0;34m.\u001b[0m\u001b[0mon_train_batch_begin\u001b[0m\u001b[0;34m(\u001b[0m\u001b[0mstep\u001b[0m\u001b[0;34m)\u001b[0m\u001b[0;34m\u001b[0m\u001b[0;34m\u001b[0m\u001b[0m\n\u001b[0;32m-> 1158\u001b[0;31m               \u001b[0mtmp_logs\u001b[0m \u001b[0;34m=\u001b[0m \u001b[0mself\u001b[0m\u001b[0;34m.\u001b[0m\u001b[0mtrain_function\u001b[0m\u001b[0;34m(\u001b[0m\u001b[0miterator\u001b[0m\u001b[0;34m)\u001b[0m\u001b[0;34m\u001b[0m\u001b[0;34m\u001b[0m\u001b[0m\n\u001b[0m\u001b[1;32m   1159\u001b[0m               \u001b[0;32mif\u001b[0m \u001b[0mdata_handler\u001b[0m\u001b[0;34m.\u001b[0m\u001b[0mshould_sync\u001b[0m\u001b[0;34m:\u001b[0m\u001b[0;34m\u001b[0m\u001b[0;34m\u001b[0m\u001b[0m\n\u001b[1;32m   1160\u001b[0m                 \u001b[0mcontext\u001b[0m\u001b[0;34m.\u001b[0m\u001b[0masync_wait\u001b[0m\u001b[0;34m(\u001b[0m\u001b[0;34m)\u001b[0m\u001b[0;34m\u001b[0m\u001b[0;34m\u001b[0m\u001b[0m\n",
      "\u001b[0;32m~/env/lib/python3.8/site-packages/tensorflow/python/eager/def_function.py\u001b[0m in \u001b[0;36m__call__\u001b[0;34m(self, *args, **kwds)\u001b[0m\n\u001b[1;32m    887\u001b[0m \u001b[0;34m\u001b[0m\u001b[0m\n\u001b[1;32m    888\u001b[0m       \u001b[0;32mwith\u001b[0m \u001b[0mOptionalXlaContext\u001b[0m\u001b[0;34m(\u001b[0m\u001b[0mself\u001b[0m\u001b[0;34m.\u001b[0m\u001b[0m_jit_compile\u001b[0m\u001b[0;34m)\u001b[0m\u001b[0;34m:\u001b[0m\u001b[0;34m\u001b[0m\u001b[0;34m\u001b[0m\u001b[0m\n\u001b[0;32m--> 889\u001b[0;31m         \u001b[0mresult\u001b[0m \u001b[0;34m=\u001b[0m \u001b[0mself\u001b[0m\u001b[0;34m.\u001b[0m\u001b[0m_call\u001b[0m\u001b[0;34m(\u001b[0m\u001b[0;34m*\u001b[0m\u001b[0margs\u001b[0m\u001b[0;34m,\u001b[0m \u001b[0;34m**\u001b[0m\u001b[0mkwds\u001b[0m\u001b[0;34m)\u001b[0m\u001b[0;34m\u001b[0m\u001b[0;34m\u001b[0m\u001b[0m\n\u001b[0m\u001b[1;32m    890\u001b[0m \u001b[0;34m\u001b[0m\u001b[0m\n\u001b[1;32m    891\u001b[0m       \u001b[0mnew_tracing_count\u001b[0m \u001b[0;34m=\u001b[0m \u001b[0mself\u001b[0m\u001b[0;34m.\u001b[0m\u001b[0mexperimental_get_tracing_count\u001b[0m\u001b[0;34m(\u001b[0m\u001b[0;34m)\u001b[0m\u001b[0;34m\u001b[0m\u001b[0;34m\u001b[0m\u001b[0m\n",
      "\u001b[0;32m~/env/lib/python3.8/site-packages/tensorflow/python/eager/def_function.py\u001b[0m in \u001b[0;36m_call\u001b[0;34m(self, *args, **kwds)\u001b[0m\n\u001b[1;32m    922\u001b[0m       \u001b[0;31m# In this case we have not created variables on the first call. So we can\u001b[0m\u001b[0;34m\u001b[0m\u001b[0;34m\u001b[0m\u001b[0;34m\u001b[0m\u001b[0m\n\u001b[1;32m    923\u001b[0m       \u001b[0;31m# run the first trace but we should fail if variables are created.\u001b[0m\u001b[0;34m\u001b[0m\u001b[0;34m\u001b[0m\u001b[0;34m\u001b[0m\u001b[0m\n\u001b[0;32m--> 924\u001b[0;31m       \u001b[0mresults\u001b[0m \u001b[0;34m=\u001b[0m \u001b[0mself\u001b[0m\u001b[0;34m.\u001b[0m\u001b[0m_stateful_fn\u001b[0m\u001b[0;34m(\u001b[0m\u001b[0;34m*\u001b[0m\u001b[0margs\u001b[0m\u001b[0;34m,\u001b[0m \u001b[0;34m**\u001b[0m\u001b[0mkwds\u001b[0m\u001b[0;34m)\u001b[0m\u001b[0;34m\u001b[0m\u001b[0;34m\u001b[0m\u001b[0m\n\u001b[0m\u001b[1;32m    925\u001b[0m       \u001b[0;32mif\u001b[0m \u001b[0mself\u001b[0m\u001b[0;34m.\u001b[0m\u001b[0m_created_variables\u001b[0m\u001b[0;34m:\u001b[0m\u001b[0;34m\u001b[0m\u001b[0;34m\u001b[0m\u001b[0m\n\u001b[1;32m    926\u001b[0m         raise ValueError(\"Creating variables on a non-first call to a function\"\n",
      "\u001b[0;32m~/env/lib/python3.8/site-packages/tensorflow/python/eager/function.py\u001b[0m in \u001b[0;36m__call__\u001b[0;34m(self, *args, **kwargs)\u001b[0m\n\u001b[1;32m   3020\u001b[0m     \u001b[0;32mwith\u001b[0m \u001b[0mself\u001b[0m\u001b[0;34m.\u001b[0m\u001b[0m_lock\u001b[0m\u001b[0;34m:\u001b[0m\u001b[0;34m\u001b[0m\u001b[0;34m\u001b[0m\u001b[0m\n\u001b[1;32m   3021\u001b[0m       (graph_function,\n\u001b[0;32m-> 3022\u001b[0;31m        filtered_flat_args) = self._maybe_define_function(args, kwargs)\n\u001b[0m\u001b[1;32m   3023\u001b[0m     return graph_function._call_flat(\n\u001b[1;32m   3024\u001b[0m         filtered_flat_args, captured_inputs=graph_function.captured_inputs)  # pylint: disable=protected-access\n",
      "\u001b[0;32m~/env/lib/python3.8/site-packages/tensorflow/python/eager/function.py\u001b[0m in \u001b[0;36m_maybe_define_function\u001b[0;34m(self, args, kwargs)\u001b[0m\n\u001b[1;32m   3438\u001b[0m               \u001b[0mself\u001b[0m\u001b[0;34m.\u001b[0m\u001b[0minput_signature\u001b[0m \u001b[0;32mis\u001b[0m \u001b[0;32mNone\u001b[0m \u001b[0;32mand\u001b[0m\u001b[0;34m\u001b[0m\u001b[0;34m\u001b[0m\u001b[0m\n\u001b[1;32m   3439\u001b[0m               call_context_key in self._function_cache.missed):\n\u001b[0;32m-> 3440\u001b[0;31m             return self._define_function_with_shape_relaxation(\n\u001b[0m\u001b[1;32m   3441\u001b[0m                 args, kwargs, flat_args, filtered_flat_args, cache_key_context)\n\u001b[1;32m   3442\u001b[0m \u001b[0;34m\u001b[0m\u001b[0m\n",
      "\u001b[0;32m~/env/lib/python3.8/site-packages/tensorflow/python/eager/function.py\u001b[0m in \u001b[0;36m_define_function_with_shape_relaxation\u001b[0;34m(self, args, kwargs, flat_args, filtered_flat_args, cache_key_context)\u001b[0m\n\u001b[1;32m   3360\u001b[0m           expand_composites=True)\n\u001b[1;32m   3361\u001b[0m \u001b[0;34m\u001b[0m\u001b[0m\n\u001b[0;32m-> 3362\u001b[0;31m     graph_function = self._create_graph_function(\n\u001b[0m\u001b[1;32m   3363\u001b[0m         args, kwargs, override_flat_arg_shapes=relaxed_arg_shapes)\n\u001b[1;32m   3364\u001b[0m     \u001b[0mself\u001b[0m\u001b[0;34m.\u001b[0m\u001b[0m_function_cache\u001b[0m\u001b[0;34m.\u001b[0m\u001b[0marg_relaxed\u001b[0m\u001b[0;34m[\u001b[0m\u001b[0mrank_only_cache_key\u001b[0m\u001b[0;34m]\u001b[0m \u001b[0;34m=\u001b[0m \u001b[0mgraph_function\u001b[0m\u001b[0;34m\u001b[0m\u001b[0;34m\u001b[0m\u001b[0m\n",
      "\u001b[0;32m~/env/lib/python3.8/site-packages/tensorflow/python/eager/function.py\u001b[0m in \u001b[0;36m_create_graph_function\u001b[0;34m(self, args, kwargs, override_flat_arg_shapes)\u001b[0m\n\u001b[1;32m   3277\u001b[0m     \u001b[0marg_names\u001b[0m \u001b[0;34m=\u001b[0m \u001b[0mbase_arg_names\u001b[0m \u001b[0;34m+\u001b[0m \u001b[0mmissing_arg_names\u001b[0m\u001b[0;34m\u001b[0m\u001b[0;34m\u001b[0m\u001b[0m\n\u001b[1;32m   3278\u001b[0m     graph_function = ConcreteFunction(\n\u001b[0;32m-> 3279\u001b[0;31m         func_graph_module.func_graph_from_py_func(\n\u001b[0m\u001b[1;32m   3280\u001b[0m             \u001b[0mself\u001b[0m\u001b[0;34m.\u001b[0m\u001b[0m_name\u001b[0m\u001b[0;34m,\u001b[0m\u001b[0;34m\u001b[0m\u001b[0;34m\u001b[0m\u001b[0m\n\u001b[1;32m   3281\u001b[0m             \u001b[0mself\u001b[0m\u001b[0;34m.\u001b[0m\u001b[0m_python_function\u001b[0m\u001b[0;34m,\u001b[0m\u001b[0;34m\u001b[0m\u001b[0;34m\u001b[0m\u001b[0m\n",
      "\u001b[0;32m~/env/lib/python3.8/site-packages/tensorflow/python/framework/func_graph.py\u001b[0m in \u001b[0;36mfunc_graph_from_py_func\u001b[0;34m(name, python_func, args, kwargs, signature, func_graph, autograph, autograph_options, add_control_dependencies, arg_names, op_return_value, collections, capture_by_value, override_flat_arg_shapes)\u001b[0m\n\u001b[1;32m    997\u001b[0m         \u001b[0m_\u001b[0m\u001b[0;34m,\u001b[0m \u001b[0moriginal_func\u001b[0m \u001b[0;34m=\u001b[0m \u001b[0mtf_decorator\u001b[0m\u001b[0;34m.\u001b[0m\u001b[0munwrap\u001b[0m\u001b[0;34m(\u001b[0m\u001b[0mpython_func\u001b[0m\u001b[0;34m)\u001b[0m\u001b[0;34m\u001b[0m\u001b[0;34m\u001b[0m\u001b[0m\n\u001b[1;32m    998\u001b[0m \u001b[0;34m\u001b[0m\u001b[0m\n\u001b[0;32m--> 999\u001b[0;31m       \u001b[0mfunc_outputs\u001b[0m \u001b[0;34m=\u001b[0m \u001b[0mpython_func\u001b[0m\u001b[0;34m(\u001b[0m\u001b[0;34m*\u001b[0m\u001b[0mfunc_args\u001b[0m\u001b[0;34m,\u001b[0m \u001b[0;34m**\u001b[0m\u001b[0mfunc_kwargs\u001b[0m\u001b[0;34m)\u001b[0m\u001b[0;34m\u001b[0m\u001b[0;34m\u001b[0m\u001b[0m\n\u001b[0m\u001b[1;32m   1000\u001b[0m \u001b[0;34m\u001b[0m\u001b[0m\n\u001b[1;32m   1001\u001b[0m       \u001b[0;31m# invariant: `func_outputs` contains only Tensors, CompositeTensors,\u001b[0m\u001b[0;34m\u001b[0m\u001b[0;34m\u001b[0m\u001b[0;34m\u001b[0m\u001b[0m\n",
      "\u001b[0;32m~/env/lib/python3.8/site-packages/tensorflow/python/eager/def_function.py\u001b[0m in \u001b[0;36mwrapped_fn\u001b[0;34m(*args, **kwds)\u001b[0m\n\u001b[1;32m    670\u001b[0m         \u001b[0;31m# the function a weak reference to itself to avoid a reference cycle.\u001b[0m\u001b[0;34m\u001b[0m\u001b[0;34m\u001b[0m\u001b[0;34m\u001b[0m\u001b[0m\n\u001b[1;32m    671\u001b[0m         \u001b[0;32mwith\u001b[0m \u001b[0mOptionalXlaContext\u001b[0m\u001b[0;34m(\u001b[0m\u001b[0mcompile_with_xla\u001b[0m\u001b[0;34m)\u001b[0m\u001b[0;34m:\u001b[0m\u001b[0;34m\u001b[0m\u001b[0;34m\u001b[0m\u001b[0m\n\u001b[0;32m--> 672\u001b[0;31m           \u001b[0mout\u001b[0m \u001b[0;34m=\u001b[0m \u001b[0mweak_wrapped_fn\u001b[0m\u001b[0;34m(\u001b[0m\u001b[0;34m)\u001b[0m\u001b[0;34m.\u001b[0m\u001b[0m__wrapped__\u001b[0m\u001b[0;34m(\u001b[0m\u001b[0;34m*\u001b[0m\u001b[0margs\u001b[0m\u001b[0;34m,\u001b[0m \u001b[0;34m**\u001b[0m\u001b[0mkwds\u001b[0m\u001b[0;34m)\u001b[0m\u001b[0;34m\u001b[0m\u001b[0;34m\u001b[0m\u001b[0m\n\u001b[0m\u001b[1;32m    673\u001b[0m         \u001b[0;32mreturn\u001b[0m \u001b[0mout\u001b[0m\u001b[0;34m\u001b[0m\u001b[0;34m\u001b[0m\u001b[0m\n\u001b[1;32m    674\u001b[0m \u001b[0;34m\u001b[0m\u001b[0m\n",
      "\u001b[0;32m~/env/lib/python3.8/site-packages/tensorflow/python/framework/func_graph.py\u001b[0m in \u001b[0;36mwrapper\u001b[0;34m(*args, **kwargs)\u001b[0m\n\u001b[1;32m    984\u001b[0m           \u001b[0;32mexcept\u001b[0m \u001b[0mException\u001b[0m \u001b[0;32mas\u001b[0m \u001b[0me\u001b[0m\u001b[0;34m:\u001b[0m  \u001b[0;31m# pylint:disable=broad-except\u001b[0m\u001b[0;34m\u001b[0m\u001b[0;34m\u001b[0m\u001b[0m\n\u001b[1;32m    985\u001b[0m             \u001b[0;32mif\u001b[0m \u001b[0mhasattr\u001b[0m\u001b[0;34m(\u001b[0m\u001b[0me\u001b[0m\u001b[0;34m,\u001b[0m \u001b[0;34m\"ag_error_metadata\"\u001b[0m\u001b[0;34m)\u001b[0m\u001b[0;34m:\u001b[0m\u001b[0;34m\u001b[0m\u001b[0;34m\u001b[0m\u001b[0m\n\u001b[0;32m--> 986\u001b[0;31m               \u001b[0;32mraise\u001b[0m \u001b[0me\u001b[0m\u001b[0;34m.\u001b[0m\u001b[0mag_error_metadata\u001b[0m\u001b[0;34m.\u001b[0m\u001b[0mto_exception\u001b[0m\u001b[0;34m(\u001b[0m\u001b[0me\u001b[0m\u001b[0;34m)\u001b[0m\u001b[0;34m\u001b[0m\u001b[0;34m\u001b[0m\u001b[0m\n\u001b[0m\u001b[1;32m    987\u001b[0m             \u001b[0;32melse\u001b[0m\u001b[0;34m:\u001b[0m\u001b[0;34m\u001b[0m\u001b[0;34m\u001b[0m\u001b[0m\n\u001b[1;32m    988\u001b[0m               \u001b[0;32mraise\u001b[0m\u001b[0;34m\u001b[0m\u001b[0;34m\u001b[0m\u001b[0m\n",
      "\u001b[0;31mAttributeError\u001b[0m: in user code:\n\n    /home/ubuntu/env/lib/python3.8/site-packages/keras/engine/training.py:830 train_function  *\n        return step_function(self, iterator)\n    /home/ubuntu/env/lib/python3.8/site-packages/keras/engine/training.py:813 run_step  *\n        outputs = model.train_step(data)\n    /home/ubuntu/env/lib/python3.8/site-packages/keras/engine/training.py:771 train_step  *\n        loss = self.compiled_loss(\n    /home/ubuntu/env/lib/python3.8/site-packages/keras/engine/compile_utils.py:201 __call__  *\n        loss_value = loss_obj(y_t, y_p, sample_weight=sw)\n    /home/ubuntu/env/lib/python3.8/site-packages/keras/losses.py:142 __call__  *\n        losses = call_fn(y_true, y_pred)\n    /home/ubuntu/env/lib/python3.8/site-packages/keras/losses.py:246 call  *\n        return ag_fn(y_true, y_pred, **self._fn_kwargs)\n    /home/ubuntu/env/lib/python3.8/site-packages/keras_contrib/losses/crf_losses.py:54 crf_loss  *\n        crf, idx = y_pred._keras_history[:2]\n    /home/ubuntu/env/lib/python3.8/site-packages/tensorflow/python/framework/ops.py:401 __getattr__\n        self.__getattribute__(name)\n\n    AttributeError: 'Tensor' object has no attribute '_keras_history'\n"
     ]
    }
   ],
   "source": [
    "# history = model_ner.fit([X_word_tr, np.array(X_char_tr)], np.array(y_tr), batch_size=32, epochs=5,\n",
    "#                     validation_split=0.1, verbose=1)"
   ]
  },
  {
   "cell_type": "code",
   "execution_count": 224,
   "id": "e63e11fd-e7a1-4545-9fe5-1724d068a398",
   "metadata": {},
   "outputs": [],
   "source": [
    "# lstm_states = model_lstm_ner.predict(X)\n",
    "\n",
    "model_lstm_ner_embedding = model_lstm_ner.predict([X_word_te,\n",
    "                        np.array(X_char_te).reshape((len(X_char_te),\n",
    "                                                     max_len, max_len_char))])"
   ]
  },
  {
   "cell_type": "code",
   "execution_count": 225,
   "id": "1e636742-df19-462b-8927-0952215ab280",
   "metadata": {},
   "outputs": [
    {
     "data": {
      "text/plain": [
       "(91, 60, 100)"
      ]
     },
     "execution_count": 225,
     "metadata": {},
     "output_type": "execute_result"
    }
   ],
   "source": [
    "model_lstm_ner_embedding.shape"
   ]
  },
  {
   "cell_type": "code",
   "execution_count": 226,
   "id": "c5af0748-61c7-4604-a7cf-11cfd106f9d6",
   "metadata": {},
   "outputs": [
    {
     "data": {
      "text/plain": [
       "91"
      ]
     },
     "execution_count": 226,
     "metadata": {},
     "output_type": "execute_result"
    }
   ],
   "source": [
    "len(X_word_te)"
   ]
  },
  {
   "cell_type": "code",
   "execution_count": 227,
   "id": "ed34822f-eb89-4f45-97e2-152bacb4a7ae",
   "metadata": {},
   "outputs": [
    {
     "name": "stdout",
     "output_type": "stream",
     "text": [
      "[[-0.00589526  0.31680754 -0.20386294 ...  0.6420005   0.68665564\n",
      "  -0.6912282 ]\n",
      " [-0.01005644  0.6949768   0.39937344 ...  0.43215862  0.5289223\n",
      "  -0.6781849 ]\n",
      " [-0.00495683  0.61388475  0.80835253 ...  0.20846473  0.17628011\n",
      "  -0.6845299 ]\n",
      " ...\n",
      " [ 0.          0.          0.         ...  0.          0.\n",
      "   0.        ]\n",
      " [ 0.          0.          0.         ...  0.          0.\n",
      "   0.        ]\n",
      " [ 0.          0.          0.         ...  0.          0.\n",
      "   0.        ]]\n"
     ]
    }
   ],
   "source": [
    "print(model_lstm_ner_embedding[0])"
   ]
  },
  {
   "cell_type": "code",
   "execution_count": 228,
   "id": "abb466d4-7f91-4b8b-9a0b-264bd0af0cc1",
   "metadata": {},
   "outputs": [
    {
     "name": "stdout",
     "output_type": "stream",
     "text": [
      "[[-0.00693452  0.43423432 -0.14973465 ...  0.84933037  0.8812934\n",
      "  -0.10105264]\n",
      " [-0.01058438  0.651135    0.42325923 ...  0.84718037  0.854559\n",
      "  -0.3419517 ]\n",
      " [-0.01190342  0.7418245   0.7834609  ...  0.8597586   0.8108471\n",
      "  -0.48762506]\n",
      " ...\n",
      " [ 0.          0.          0.         ...  0.          0.\n",
      "   0.        ]\n",
      " [ 0.          0.          0.         ...  0.          0.\n",
      "   0.        ]\n",
      " [ 0.          0.          0.         ...  0.          0.\n",
      "   0.        ]]\n"
     ]
    }
   ],
   "source": [
    "print(model_lstm_ner_embedding[1])"
   ]
  },
  {
   "cell_type": "code",
   "execution_count": null,
   "id": "ede436f3-472d-4ce1-994e-87865f1b367f",
   "metadata": {},
   "outputs": [],
   "source": []
  },
  {
   "cell_type": "code",
   "execution_count": null,
   "id": "340265fe-1e7d-4a1e-a74e-badbb9c0ac78",
   "metadata": {},
   "outputs": [],
   "source": []
  },
  {
   "cell_type": "code",
   "execution_count": null,
   "id": "27768409-a81b-45d8-9cbd-277cc02fc54f",
   "metadata": {},
   "outputs": [],
   "source": []
  },
  {
   "cell_type": "code",
   "execution_count": null,
   "id": "1e4bc17f-8dad-40b1-9b11-90f8d4a93536",
   "metadata": {},
   "outputs": [],
   "source": []
  },
  {
   "cell_type": "code",
   "execution_count": 277,
   "id": "effc1589-3f69-4f4a-b9a7-71835e8616e0",
   "metadata": {},
   "outputs": [],
   "source": [
    "class SentenceGetterMultiLabel(object):\n",
    "    \n",
    "    def __init__(self, data):\n",
    "        self.n_sent = 1\n",
    "        self.data = data\n",
    "        self.empty = False\n",
    "        agg_func = lambda s: [(w, t, r, i, rel) for w, t, r, i, rel in zip(s[\"Word\"].values.tolist(),\n",
    "                                                     s[\"Tag\"].values.tolist(),\n",
    "                                                     s['Relation Index'].values.tolist(),\n",
    "                                                     s['Word Token Index'].values.tolist(),\n",
    "                                                     s['Relationship'].values.tolist())]\n",
    "        self.grouped = self.data.groupby(\"Sentence #\").apply(agg_func)\n",
    "        self.sentences = [s for s in self.grouped]\n",
    "    \n",
    "    def get_next(self):\n",
    "        try:\n",
    "            s = self.grouped[\"Sentence: {}\".format(self.n_sent)]\n",
    "            self.n_sent += 1\n",
    "            return s\n",
    "        except:\n",
    "            return None"
   ]
  },
  {
   "cell_type": "code",
   "execution_count": 278,
   "id": "9d745ce1-2d74-4c28-9bc0-420d3e8436ae",
   "metadata": {},
   "outputs": [],
   "source": [
    "getter_multilabel = SentenceGetterMultiLabel(data)\n",
    "sentences_multi_label = getter_multilabel.sentences"
   ]
  },
  {
   "cell_type": "code",
   "execution_count": 279,
   "id": "70f09e95-59ef-47ab-be4f-5781972ca1ce",
   "metadata": {},
   "outputs": [
    {
     "data": {
      "text/plain": [
       "[[('Israel', 'B-Loc', '[0]', '0', \"['N']\"),\n",
       "  ('television', 'O', '[1]', '1', \"['N']\"),\n",
       "  ('rejected', 'O', '[2]', '2', \"['N']\"),\n",
       "  ('a', 'O', '[3]', '3', \"['N']\"),\n",
       "  ('skit', 'O', '[4]', '4', \"['N']\"),\n",
       "  ('by', 'O', '[5]', '5', \"['N']\"),\n",
       "  ('comedian', 'O', '[6]', '6', \"['N']\"),\n",
       "  ('Tuvia', 'B-Peop', '[7]', '7', \"['N']\"),\n",
       "  ('Tzafir', 'I-Peop', '[0]', '8', \"['Live_In']\"),\n",
       "  ('that', 'O', '[9]', '9', \"['N']\"),\n",
       "  ('attacked', 'O', '[10]', '10', \"['N']\"),\n",
       "  ('public', 'O', '[11]', '11', \"['N']\"),\n",
       "  ('apathy', 'O', '[12]', '12', \"['N']\"),\n",
       "  ('by', 'O', '[13]', '13', \"['N']\"),\n",
       "  ('depicting', 'O', '[14]', '14', \"['N']\"),\n",
       "  ('an', 'O', '[15]', '15', \"['N']\"),\n",
       "  ('Israeli', 'B-Other', '[16]', '16', \"['N']\"),\n",
       "  ('family', 'O', '[17]', '17', \"['N']\"),\n",
       "  ('watching', 'O', '[18]', '18', \"['N']\"),\n",
       "  ('TV', 'O', '[19]', '19', \"['N']\"),\n",
       "  ('while', 'O', '[20]', '20', \"['N']\"),\n",
       "  ('a', 'O', '[21]', '21', \"['N']\"),\n",
       "  ('fire', 'O', '[22]', '22', \"['N']\"),\n",
       "  ('raged', 'O', '[23]', '23', \"['N']\"),\n",
       "  ('outside', 'O', '[24]', '24', \"['N']\"),\n",
       "  ('.', 'O', '[25]', '25', \"['N']\")],\n",
       " [('Sen.', 'O', '[0]', '0', \"['N']\"),\n",
       "  ('Jake', 'B-Peop', '[1]', '1', \"['N']\"),\n",
       "  ('Garn', 'I-Peop', '[30]', '2', \"['Work_For']\"),\n",
       "  (',', 'O', '[3]', '3', \"['N']\"),\n",
       "  ('R-Utah', 'O', '[4]', '4', \"['N']\"),\n",
       "  (',', 'O', '[5]', '5', \"['N']\"),\n",
       "  ('flew', 'O', '[6]', '6', \"['N']\"),\n",
       "  ('on', 'O', '[7]', '7', \"['N']\"),\n",
       "  ('the', 'O', '[8]', '8', \"['N']\"),\n",
       "  ('shuttle', 'O', '[9]', '9', \"['N']\"),\n",
       "  ('in', 'O', '[10]', '10', \"['N']\"),\n",
       "  ('April', 'O', '[11]', '11', \"['N']\"),\n",
       "  ('1985', 'B-Other', '[12]', '12', \"['N']\"),\n",
       "  ('and', 'O', '[13]', '13', \"['N']\"),\n",
       "  ('Rep.', 'O', '[14]', '14', \"['N']\"),\n",
       "  ('Bill', 'B-Peop', '[15]', '15', \"['N']\"),\n",
       "  ('Nelson', 'I-Peop', '[30]', '16', \"['Work_For']\"),\n",
       "  (',', 'O', '[17]', '17', \"['N']\"),\n",
       "  ('D-Fla.', 'O', '[18]', '18', \"['N']\"),\n",
       "  (',', 'O', '[19]', '19', \"['N']\"),\n",
       "  ('was', 'O', '[20]', '20', \"['N']\"),\n",
       "  ('aboard', 'O', '[21]', '21', \"['N']\"),\n",
       "  ('in', 'O', '[22]', '22', \"['N']\"),\n",
       "  ('January', 'O', '[23]', '23', \"['N']\"),\n",
       "  ('1986', 'B-Other', '[24]', '24', \"['N']\"),\n",
       "  (',', 'O', '[25]', '25', \"['N']\"),\n",
       "  ('at', 'O', '[26]', '26', \"['N']\"),\n",
       "  ('the', 'O', '[27]', '27', \"['N']\"),\n",
       "  ('invitation', 'O', '[28]', '28', \"['N']\"),\n",
       "  ('of', 'O', '[29]', '29', \"['N']\"),\n",
       "  ('NASA', 'B-Org', '[30]', '30', \"['N']\"),\n",
       "  (\"'s\", 'O', '[31]', '31', \"['N']\"),\n",
       "  ('administrator', 'O', '[32]', '32', \"['N']\"),\n",
       "  ('.', 'O', '[33]', '33', \"['N']\")],\n",
       " [('In', 'O', '[0]', '0', \"['N']\"),\n",
       "  ('1988', 'B-Other', '[1]', '1', \"['N']\"),\n",
       "  (',', 'O', '[2]', '2', \"['N']\"),\n",
       "  ('he', 'O', '[3]', '3', \"['N']\"),\n",
       "  ('directed', 'O', '[4]', '4', \"['N']\"),\n",
       "  ('three', 'O', '[5]', '5', \"['N']\"),\n",
       "  ('productions', 'O', '[6]', '6', \"['N']\"),\n",
       "  (':', 'O', '[7]', '7', \"['N']\"),\n",
       "  ('`', 'O', '[8]', '8', \"['N']\"),\n",
       "  ('`', 'O', '[9]', '9', \"['N']\"),\n",
       "  ('A', 'B-Other', '[10]', '10', \"['N']\"),\n",
       "  ('Street', 'I-Other', '[11]', '11', \"['N']\"),\n",
       "  ('Car', 'I-Other', '[12]', '12', \"['N']\"),\n",
       "  ('Named', 'I-Other', '[13]', '13', \"['N']\"),\n",
       "  ('Desire', 'I-Other', '[14]', '14', \"['N']\"),\n",
       "  (\"'\", 'O', '[15]', '15', \"['N']\"),\n",
       "  (\"'\", 'O', '[16]', '16', \"['N']\"),\n",
       "  ('on', 'B-Other', '[17]', '17', \"['N']\"),\n",
       "  ('Broadway', 'I-Other', '[18]', '18', \"['N']\"),\n",
       "  (',', 'O', '[19]', '19', \"['N']\"),\n",
       "  ('`', 'O', '[20]', '20', \"['N']\"),\n",
       "  ('`', 'O', '[21]', '21', \"['N']\"),\n",
       "  ('Sweet', 'B-Other', '[22]', '22', \"['N']\"),\n",
       "  ('Bird', 'I-Other', '[23]', '23', \"['N']\"),\n",
       "  ('of', 'I-Other', '[24]', '24', \"['N']\"),\n",
       "  ('Youth', 'I-Other', '[25]', '25', \"['N']\"),\n",
       "  (\"'\", 'O', '[26]', '26', \"['N']\"),\n",
       "  (\"'\", 'O', '[27]', '27', \"['N']\"),\n",
       "  ('at', 'O', '[28]', '28', \"['N']\"),\n",
       "  ('the', 'O', '[29]', '29', \"['N']\"),\n",
       "  ('Royal', 'B-Org', '[30]', '30', \"['N']\"),\n",
       "  ('Alexandra', 'I-Org', '[31]', '31', \"['N']\"),\n",
       "  ('Theatre', 'I-Org', '[34, 36]', '32', \"['OrgBased_In', 'OrgBased_In']\"),\n",
       "  ('in', 'O', '[33]', '33', \"['N']\"),\n",
       "  ('Toronto', 'B-Loc', '[36]', '34', \"['Located_In']\"),\n",
       "  (',', 'O', '[35]', '35', \"['N']\"),\n",
       "  ('Canada', 'B-Loc', '[36]', '36', \"['N']\"),\n",
       "  (',', 'O', '[37]', '37', \"['N']\"),\n",
       "  ('and', 'O', '[38]', '38', \"['N']\"),\n",
       "  ('`', 'O', '[39]', '39', \"['N']\"),\n",
       "  ('`', 'O', '[40]', '40', \"['N']\"),\n",
       "  ('The', 'B-Other', '[41]', '41', \"['N']\"),\n",
       "  ('Legend', 'I-Other', '[42]', '42', \"['N']\"),\n",
       "  ('of', 'I-Other', '[43]', '43', \"['N']\"),\n",
       "  ('Oedipus', 'I-Other', '[44]', '44', \"['N']\"),\n",
       "  (\"'\", 'O', '[45]', '45', \"['N']\"),\n",
       "  (\"'\", 'O', '[46]', '46', \"['N']\"),\n",
       "  ('in', 'O', '[47]', '47', \"['N']\"),\n",
       "  ('Williamstown', 'B-Loc', '[48]', '48', \"['N']\"),\n",
       "  ('.', 'O', '[49]', '49', \"['N']\")]]"
      ]
     },
     "execution_count": 279,
     "metadata": {},
     "output_type": "execute_result"
    }
   ],
   "source": [
    "sentences_multi_label[:3]"
   ]
  },
  {
   "cell_type": "code",
   "execution_count": 280,
   "id": "bd6a7d27-faaa-46cb-8860-6f5f2d6b3f21",
   "metadata": {},
   "outputs": [
    {
     "data": {
      "text/plain": [
       "[34, 36]"
      ]
     },
     "execution_count": 280,
     "metadata": {},
     "output_type": "execute_result"
    }
   ],
   "source": [
    "import json\n",
    "json.loads('[34, 36]')"
   ]
  },
  {
   "cell_type": "code",
   "execution_count": 281,
   "id": "5edf0d4b-723e-4bac-a5d1-642421ff295e",
   "metadata": {},
   "outputs": [],
   "source": [
    "for sent_index, sentence in enumerate(sentences_multi_label):\n",
    "    for index, tup in enumerate(sentence):\n",
    "        relation_index = tup[2]\n",
    "        relation_index_loaded = json.loads(relation_index)\n",
    "        relation_word_list = []\n",
    "        for word_ndex in relation_index_loaded:\n",
    "            relation_word_list.append(sentence[word_ndex][0])\n",
    "        relation_word_list_serialized = json.dumps(relation_word_list)\n",
    "        sentences_multi_label[sent_index][index] += (relation_word_list_serialized,)\n",
    "        sentences_multi_label[sent_index][index] += (relation_index_loaded,)"
   ]
  },
  {
   "cell_type": "code",
   "execution_count": 282,
   "id": "e8596cb1-d806-4b30-8634-04e621bb352c",
   "metadata": {},
   "outputs": [
    {
     "data": {
      "text/plain": [
       "[[('Israel', 'B-Loc', '[0]', '0', \"['N']\", '[\"Israel\"]', [0]),\n",
       "  ('television', 'O', '[1]', '1', \"['N']\", '[\"television\"]', [1]),\n",
       "  ('rejected', 'O', '[2]', '2', \"['N']\", '[\"rejected\"]', [2]),\n",
       "  ('a', 'O', '[3]', '3', \"['N']\", '[\"a\"]', [3]),\n",
       "  ('skit', 'O', '[4]', '4', \"['N']\", '[\"skit\"]', [4]),\n",
       "  ('by', 'O', '[5]', '5', \"['N']\", '[\"by\"]', [5]),\n",
       "  ('comedian', 'O', '[6]', '6', \"['N']\", '[\"comedian\"]', [6]),\n",
       "  ('Tuvia', 'B-Peop', '[7]', '7', \"['N']\", '[\"Tuvia\"]', [7]),\n",
       "  ('Tzafir', 'I-Peop', '[0]', '8', \"['Live_In']\", '[\"Israel\"]', [0]),\n",
       "  ('that', 'O', '[9]', '9', \"['N']\", '[\"that\"]', [9]),\n",
       "  ('attacked', 'O', '[10]', '10', \"['N']\", '[\"attacked\"]', [10]),\n",
       "  ('public', 'O', '[11]', '11', \"['N']\", '[\"public\"]', [11]),\n",
       "  ('apathy', 'O', '[12]', '12', \"['N']\", '[\"apathy\"]', [12]),\n",
       "  ('by', 'O', '[13]', '13', \"['N']\", '[\"by\"]', [13]),\n",
       "  ('depicting', 'O', '[14]', '14', \"['N']\", '[\"depicting\"]', [14]),\n",
       "  ('an', 'O', '[15]', '15', \"['N']\", '[\"an\"]', [15]),\n",
       "  ('Israeli', 'B-Other', '[16]', '16', \"['N']\", '[\"Israeli\"]', [16]),\n",
       "  ('family', 'O', '[17]', '17', \"['N']\", '[\"family\"]', [17]),\n",
       "  ('watching', 'O', '[18]', '18', \"['N']\", '[\"watching\"]', [18]),\n",
       "  ('TV', 'O', '[19]', '19', \"['N']\", '[\"TV\"]', [19]),\n",
       "  ('while', 'O', '[20]', '20', \"['N']\", '[\"while\"]', [20]),\n",
       "  ('a', 'O', '[21]', '21', \"['N']\", '[\"a\"]', [21]),\n",
       "  ('fire', 'O', '[22]', '22', \"['N']\", '[\"fire\"]', [22]),\n",
       "  ('raged', 'O', '[23]', '23', \"['N']\", '[\"raged\"]', [23]),\n",
       "  ('outside', 'O', '[24]', '24', \"['N']\", '[\"outside\"]', [24]),\n",
       "  ('.', 'O', '[25]', '25', \"['N']\", '[\".\"]', [25])],\n",
       " [('Sen.', 'O', '[0]', '0', \"['N']\", '[\"Sen.\"]', [0]),\n",
       "  ('Jake', 'B-Peop', '[1]', '1', \"['N']\", '[\"Jake\"]', [1]),\n",
       "  ('Garn', 'I-Peop', '[30]', '2', \"['Work_For']\", '[\"NASA\"]', [30]),\n",
       "  (',', 'O', '[3]', '3', \"['N']\", '[\",\"]', [3]),\n",
       "  ('R-Utah', 'O', '[4]', '4', \"['N']\", '[\"R-Utah\"]', [4]),\n",
       "  (',', 'O', '[5]', '5', \"['N']\", '[\",\"]', [5]),\n",
       "  ('flew', 'O', '[6]', '6', \"['N']\", '[\"flew\"]', [6]),\n",
       "  ('on', 'O', '[7]', '7', \"['N']\", '[\"on\"]', [7]),\n",
       "  ('the', 'O', '[8]', '8', \"['N']\", '[\"the\"]', [8]),\n",
       "  ('shuttle', 'O', '[9]', '9', \"['N']\", '[\"shuttle\"]', [9]),\n",
       "  ('in', 'O', '[10]', '10', \"['N']\", '[\"in\"]', [10]),\n",
       "  ('April', 'O', '[11]', '11', \"['N']\", '[\"April\"]', [11]),\n",
       "  ('1985', 'B-Other', '[12]', '12', \"['N']\", '[\"1985\"]', [12]),\n",
       "  ('and', 'O', '[13]', '13', \"['N']\", '[\"and\"]', [13]),\n",
       "  ('Rep.', 'O', '[14]', '14', \"['N']\", '[\"Rep.\"]', [14]),\n",
       "  ('Bill', 'B-Peop', '[15]', '15', \"['N']\", '[\"Bill\"]', [15]),\n",
       "  ('Nelson', 'I-Peop', '[30]', '16', \"['Work_For']\", '[\"NASA\"]', [30]),\n",
       "  (',', 'O', '[17]', '17', \"['N']\", '[\",\"]', [17]),\n",
       "  ('D-Fla.', 'O', '[18]', '18', \"['N']\", '[\"D-Fla.\"]', [18]),\n",
       "  (',', 'O', '[19]', '19', \"['N']\", '[\",\"]', [19]),\n",
       "  ('was', 'O', '[20]', '20', \"['N']\", '[\"was\"]', [20]),\n",
       "  ('aboard', 'O', '[21]', '21', \"['N']\", '[\"aboard\"]', [21]),\n",
       "  ('in', 'O', '[22]', '22', \"['N']\", '[\"in\"]', [22]),\n",
       "  ('January', 'O', '[23]', '23', \"['N']\", '[\"January\"]', [23]),\n",
       "  ('1986', 'B-Other', '[24]', '24', \"['N']\", '[\"1986\"]', [24]),\n",
       "  (',', 'O', '[25]', '25', \"['N']\", '[\",\"]', [25]),\n",
       "  ('at', 'O', '[26]', '26', \"['N']\", '[\"at\"]', [26]),\n",
       "  ('the', 'O', '[27]', '27', \"['N']\", '[\"the\"]', [27]),\n",
       "  ('invitation', 'O', '[28]', '28', \"['N']\", '[\"invitation\"]', [28]),\n",
       "  ('of', 'O', '[29]', '29', \"['N']\", '[\"of\"]', [29]),\n",
       "  ('NASA', 'B-Org', '[30]', '30', \"['N']\", '[\"NASA\"]', [30]),\n",
       "  (\"'s\", 'O', '[31]', '31', \"['N']\", '[\"\\'s\"]', [31]),\n",
       "  ('administrator', 'O', '[32]', '32', \"['N']\", '[\"administrator\"]', [32]),\n",
       "  ('.', 'O', '[33]', '33', \"['N']\", '[\".\"]', [33])],\n",
       " [('In', 'O', '[0]', '0', \"['N']\", '[\"In\"]', [0]),\n",
       "  ('1988', 'B-Other', '[1]', '1', \"['N']\", '[\"1988\"]', [1]),\n",
       "  (',', 'O', '[2]', '2', \"['N']\", '[\",\"]', [2]),\n",
       "  ('he', 'O', '[3]', '3', \"['N']\", '[\"he\"]', [3]),\n",
       "  ('directed', 'O', '[4]', '4', \"['N']\", '[\"directed\"]', [4]),\n",
       "  ('three', 'O', '[5]', '5', \"['N']\", '[\"three\"]', [5]),\n",
       "  ('productions', 'O', '[6]', '6', \"['N']\", '[\"productions\"]', [6]),\n",
       "  (':', 'O', '[7]', '7', \"['N']\", '[\":\"]', [7]),\n",
       "  ('`', 'O', '[8]', '8', \"['N']\", '[\"`\"]', [8]),\n",
       "  ('`', 'O', '[9]', '9', \"['N']\", '[\"`\"]', [9]),\n",
       "  ('A', 'B-Other', '[10]', '10', \"['N']\", '[\"A\"]', [10]),\n",
       "  ('Street', 'I-Other', '[11]', '11', \"['N']\", '[\"Street\"]', [11]),\n",
       "  ('Car', 'I-Other', '[12]', '12', \"['N']\", '[\"Car\"]', [12]),\n",
       "  ('Named', 'I-Other', '[13]', '13', \"['N']\", '[\"Named\"]', [13]),\n",
       "  ('Desire', 'I-Other', '[14]', '14', \"['N']\", '[\"Desire\"]', [14]),\n",
       "  (\"'\", 'O', '[15]', '15', \"['N']\", '[\"\\'\"]', [15]),\n",
       "  (\"'\", 'O', '[16]', '16', \"['N']\", '[\"\\'\"]', [16]),\n",
       "  ('on', 'B-Other', '[17]', '17', \"['N']\", '[\"on\"]', [17]),\n",
       "  ('Broadway', 'I-Other', '[18]', '18', \"['N']\", '[\"Broadway\"]', [18]),\n",
       "  (',', 'O', '[19]', '19', \"['N']\", '[\",\"]', [19]),\n",
       "  ('`', 'O', '[20]', '20', \"['N']\", '[\"`\"]', [20]),\n",
       "  ('`', 'O', '[21]', '21', \"['N']\", '[\"`\"]', [21]),\n",
       "  ('Sweet', 'B-Other', '[22]', '22', \"['N']\", '[\"Sweet\"]', [22]),\n",
       "  ('Bird', 'I-Other', '[23]', '23', \"['N']\", '[\"Bird\"]', [23]),\n",
       "  ('of', 'I-Other', '[24]', '24', \"['N']\", '[\"of\"]', [24]),\n",
       "  ('Youth', 'I-Other', '[25]', '25', \"['N']\", '[\"Youth\"]', [25]),\n",
       "  (\"'\", 'O', '[26]', '26', \"['N']\", '[\"\\'\"]', [26]),\n",
       "  (\"'\", 'O', '[27]', '27', \"['N']\", '[\"\\'\"]', [27]),\n",
       "  ('at', 'O', '[28]', '28', \"['N']\", '[\"at\"]', [28]),\n",
       "  ('the', 'O', '[29]', '29', \"['N']\", '[\"the\"]', [29]),\n",
       "  ('Royal', 'B-Org', '[30]', '30', \"['N']\", '[\"Royal\"]', [30]),\n",
       "  ('Alexandra', 'I-Org', '[31]', '31', \"['N']\", '[\"Alexandra\"]', [31]),\n",
       "  ('Theatre',\n",
       "   'I-Org',\n",
       "   '[34, 36]',\n",
       "   '32',\n",
       "   \"['OrgBased_In', 'OrgBased_In']\",\n",
       "   '[\"Toronto\", \"Canada\"]',\n",
       "   [34, 36]),\n",
       "  ('in', 'O', '[33]', '33', \"['N']\", '[\"in\"]', [33]),\n",
       "  ('Toronto', 'B-Loc', '[36]', '34', \"['Located_In']\", '[\"Canada\"]', [36]),\n",
       "  (',', 'O', '[35]', '35', \"['N']\", '[\",\"]', [35]),\n",
       "  ('Canada', 'B-Loc', '[36]', '36', \"['N']\", '[\"Canada\"]', [36]),\n",
       "  (',', 'O', '[37]', '37', \"['N']\", '[\",\"]', [37]),\n",
       "  ('and', 'O', '[38]', '38', \"['N']\", '[\"and\"]', [38]),\n",
       "  ('`', 'O', '[39]', '39', \"['N']\", '[\"`\"]', [39]),\n",
       "  ('`', 'O', '[40]', '40', \"['N']\", '[\"`\"]', [40]),\n",
       "  ('The', 'B-Other', '[41]', '41', \"['N']\", '[\"The\"]', [41]),\n",
       "  ('Legend', 'I-Other', '[42]', '42', \"['N']\", '[\"Legend\"]', [42]),\n",
       "  ('of', 'I-Other', '[43]', '43', \"['N']\", '[\"of\"]', [43]),\n",
       "  ('Oedipus', 'I-Other', '[44]', '44', \"['N']\", '[\"Oedipus\"]', [44]),\n",
       "  (\"'\", 'O', '[45]', '45', \"['N']\", '[\"\\'\"]', [45]),\n",
       "  (\"'\", 'O', '[46]', '46', \"['N']\", '[\"\\'\"]', [46]),\n",
       "  ('in', 'O', '[47]', '47', \"['N']\", '[\"in\"]', [47]),\n",
       "  ('Williamstown', 'B-Loc', '[48]', '48', \"['N']\", '[\"Williamstown\"]', [48]),\n",
       "  ('.', 'O', '[49]', '49', \"['N']\", '[\".\"]', [49])]]"
      ]
     },
     "execution_count": 282,
     "metadata": {},
     "output_type": "execute_result"
    }
   ],
   "source": [
    "sentences_multi_label[:3]"
   ]
  },
  {
   "cell_type": "code",
   "execution_count": 327,
   "id": "2b742f39-0be0-4557-8943-c03a02e49fac",
   "metadata": {},
   "outputs": [
    {
     "name": "stdout",
     "output_type": "stream",
     "text": [
      "113\n"
     ]
    }
   ],
   "source": [
    "check_max_len = 0\n",
    "for sentence in sentences_multi_label:\n",
    "    split_len = len(sentence)\n",
    "    if split_len > check_max_len:\n",
    "        check_max_len = split_len\n",
    "print(check_max_len)\n",
    "\n",
    "max_len = 120\n",
    "max_len_char = 10\n",
    "\n",
    "word2idx = {w: i + 2 for i, w in enumerate(words)}\n",
    "word2idx[\"UNK\"] = 1\n",
    "word2idx[\"PAD\"] = 0\n",
    "idx2word = {i: w for w, i in word2idx.items()}\n",
    "tag2idx = {t: i + 1 for i, t in enumerate(tags)}\n",
    "tag2idx[\"PAD\"] = 0\n",
    "idx2tag = {i: w for w, i in tag2idx.items()}"
   ]
  },
  {
   "cell_type": "code",
   "execution_count": 328,
   "id": "5673f8a9-f69c-4181-a620-73970dfa03c7",
   "metadata": {},
   "outputs": [],
   "source": [
    "from keras.preprocessing.sequence import pad_sequences\n",
    "X_word = [[word2idx[w[0]] for w in s] for s in sentences_multi_label]"
   ]
  },
  {
   "cell_type": "code",
   "execution_count": 329,
   "id": "287e4a98-8823-4497-b319-8545503f3616",
   "metadata": {},
   "outputs": [
    {
     "name": "stdout",
     "output_type": "stream",
     "text": [
      "76\n"
     ]
    }
   ],
   "source": [
    "X_word = pad_sequences(maxlen=max_len, sequences=X_word, value=word2idx[\"PAD\"], padding='post', truncating='post')\n",
    "chars = set([w_i for w in words for w_i in w])\n",
    "n_chars = len(chars)\n",
    "print(n_chars)\n",
    "char2idx = {c: i + 2 for i, c in enumerate(chars)}\n",
    "char2idx[\"UNK\"] = 1\n",
    "char2idx[\"PAD\"] = 0\n",
    "X_char = []\n",
    "for sentence in sentences_multi_label:\n",
    "    sent_seq = []\n",
    "    for i in range(max_len):\n",
    "        word_seq = []\n",
    "        for j in range(max_len_char):\n",
    "            try:\n",
    "                word_seq.append(char2idx.get(sentence[i][0][j]))\n",
    "            except:\n",
    "                word_seq.append(char2idx.get(\"PAD\"))\n",
    "        sent_seq.append(word_seq)\n",
    "    X_char.append(np.array(sent_seq))\n",
    "\n",
    "y_ner = [[tag2idx[w[1]] for w in s] for s in sentences]\n",
    "y_ner = pad_sequences(maxlen=max_len, sequences=y_ner, value=tag2idx[\"PAD\"], padding='post', truncating='post')"
   ]
  },
  {
   "cell_type": "code",
   "execution_count": 371,
   "id": "3855a80b-c595-4526-95a1-b096ad3a500b",
   "metadata": {},
   "outputs": [
    {
     "data": {
      "text/plain": [
       "910"
      ]
     },
     "execution_count": 371,
     "metadata": {},
     "output_type": "execute_result"
    }
   ],
   "source": [
    "len(X_word)"
   ]
  },
  {
   "cell_type": "code",
   "execution_count": 400,
   "id": "18510899-6e0a-45aa-94e2-e6a9ce522d86",
   "metadata": {},
   "outputs": [
    {
     "data": {
      "text/plain": [
       "array([5812,  648, 3271, 3585, 4072, 2274, 2201, 5497, 2822, 1762,  851,\n",
       "       3454, 6049, 2274, 1307, 4879, 6035, 3887, 1801, 4431,  392, 3585,\n",
       "       5399, 4810, 4109,  344,    0,    0,    0,    0,    0,    0,    0,\n",
       "          0,    0,    0,    0,    0,    0,    0,    0,    0,    0,    0,\n",
       "          0,    0,    0,    0,    0,    0,    0,    0,    0,    0,    0,\n",
       "          0,    0,    0,    0,    0,    0,    0,    0,    0,    0,    0,\n",
       "          0,    0,    0,    0,    0,    0,    0,    0,    0,    0,    0,\n",
       "          0,    0,    0,    0,    0,    0,    0,    0,    0,    0,    0,\n",
       "          0,    0,    0,    0,    0,    0,    0,    0,    0,    0,    0,\n",
       "          0,    0,    0,    0,    0,    0,    0,    0,    0,    0,    0,\n",
       "          0,    0,    0,    0,    0,    0,    0,    0,    0,    0],\n",
       "      dtype=int32)"
      ]
     },
     "execution_count": 400,
     "metadata": {},
     "output_type": "execute_result"
    }
   ],
   "source": [
    "X_word[0]"
   ]
  },
  {
   "cell_type": "code",
   "execution_count": 399,
   "id": "f015030b-813b-4adb-a869-06fcbf3f0486",
   "metadata": {},
   "outputs": [
    {
     "data": {
      "text/plain": [
       "120"
      ]
     },
     "execution_count": 399,
     "metadata": {},
     "output_type": "execute_result"
    }
   ],
   "source": [
    "len(X_word[0])"
   ]
  },
  {
   "cell_type": "code",
   "execution_count": 403,
   "id": "cc82452d-c78d-4568-b370-48d2a8299c1e",
   "metadata": {},
   "outputs": [
    {
     "name": "stdout",
     "output_type": "stream",
     "text": [
      "910 120 10\n"
     ]
    }
   ],
   "source": [
    "print(len(X_char), len(X_char[0]), len(X_char[0][0]))"
   ]
  },
  {
   "cell_type": "code",
   "execution_count": 332,
   "id": "183a9835-c68e-4577-a380-85a321fd37e7",
   "metadata": {},
   "outputs": [
    {
     "data": {
      "text/plain": [
       "array([5, 6, 6, 6, 6, 6, 6, 8, 3, 6, 6, 6, 6, 6, 6, 6, 2, 6, 6, 6, 6, 6,\n",
       "       6, 6, 6, 6, 0, 0, 0, 0, 0, 0, 0, 0, 0, 0, 0, 0, 0, 0, 0, 0, 0, 0,\n",
       "       0, 0, 0, 0, 0, 0, 0, 0, 0, 0, 0, 0, 0, 0, 0, 0, 0, 0, 0, 0, 0, 0,\n",
       "       0, 0, 0, 0, 0, 0, 0, 0, 0, 0, 0, 0, 0, 0, 0, 0, 0, 0, 0, 0, 0, 0,\n",
       "       0, 0, 0, 0, 0, 0, 0, 0, 0, 0, 0, 0, 0, 0, 0, 0, 0, 0, 0, 0, 0, 0,\n",
       "       0, 0, 0, 0, 0, 0, 0, 0, 0, 0], dtype=int32)"
      ]
     },
     "execution_count": 332,
     "metadata": {},
     "output_type": "execute_result"
    }
   ],
   "source": [
    "y_ner[0]"
   ]
  },
  {
   "cell_type": "code",
   "execution_count": 333,
   "id": "bc85b69c-7cee-4a3b-b559-5920181f447d",
   "metadata": {},
   "outputs": [],
   "source": [
    "from keras.utils.np_utils import to_categorical\n",
    "y_ner = [to_categorical(i, num_classes=n_tags + 1) for i in y_ner]"
   ]
  },
  {
   "cell_type": "code",
   "execution_count": 336,
   "id": "a9bcb969-3112-4af9-ba1c-f8e0fa8eda5f",
   "metadata": {},
   "outputs": [
    {
     "data": {
      "text/plain": [
       "array([0., 0., 0., 0., 0., 0., 1., 0., 0., 0.], dtype=float32)"
      ]
     },
     "execution_count": 336,
     "metadata": {},
     "output_type": "execute_result"
    }
   ],
   "source": [
    "y_ner[0][1]"
   ]
  },
  {
   "cell_type": "code",
   "execution_count": 337,
   "id": "fc1ee186-d4ea-4278-b920-4b450cd79f8b",
   "metadata": {},
   "outputs": [],
   "source": [
    "y_rel = [[w[-1] for w in s] for s in sentences_multi_label]"
   ]
  },
  {
   "cell_type": "code",
   "execution_count": 338,
   "id": "98ddf094-4ffe-4f16-bdea-97c29c14aeac",
   "metadata": {},
   "outputs": [
    {
     "data": {
      "text/plain": [
       "[[0],\n",
       " [1],\n",
       " [2],\n",
       " [3],\n",
       " [4],\n",
       " [5],\n",
       " [6],\n",
       " [7],\n",
       " [0],\n",
       " [9],\n",
       " [10],\n",
       " [11],\n",
       " [12],\n",
       " [13],\n",
       " [14],\n",
       " [15],\n",
       " [16],\n",
       " [17],\n",
       " [18],\n",
       " [19],\n",
       " [20],\n",
       " [21],\n",
       " [22],\n",
       " [23],\n",
       " [24],\n",
       " [25]]"
      ]
     },
     "execution_count": 338,
     "metadata": {},
     "output_type": "execute_result"
    }
   ],
   "source": [
    "y_rel[0]"
   ]
  },
  {
   "cell_type": "code",
   "execution_count": 339,
   "id": "a79978ef-8c96-4022-8855-788b30293d52",
   "metadata": {},
   "outputs": [],
   "source": [
    "# manual post padding\n",
    "for index, y_relation in enumerate(y_rel):\n",
    "    y_rel_len = len(y_relation)\n",
    "    pad_len = max_len - y_rel_len\n",
    "    y_relation_padded = y_relation + [0] * pad_len\n",
    "    y_rel[index] = y_relation_padded"
   ]
  },
  {
   "cell_type": "code",
   "execution_count": 340,
   "id": "88027905-425a-4e4d-aab7-a07eb2f1bb8d",
   "metadata": {},
   "outputs": [
    {
     "data": {
      "text/plain": [
       "120"
      ]
     },
     "execution_count": 340,
     "metadata": {},
     "output_type": "execute_result"
    }
   ],
   "source": [
    "len(y_rel[0])"
   ]
  },
  {
   "cell_type": "code",
   "execution_count": 341,
   "id": "8427dad7-3ba7-4ed7-8b97-3bbb69aef3fe",
   "metadata": {},
   "outputs": [
    {
     "name": "stdout",
     "output_type": "stream",
     "text": [
      "[[0 1]\n",
      " [2 3]]\n",
      "[2 4]\n"
     ]
    }
   ],
   "source": [
    "import numpy as np\n",
    "a = np.arange(4).reshape(2, 2)\n",
    "print(a)\n",
    "b = np.add.reduce(a)\n",
    "print(b)"
   ]
  },
  {
   "cell_type": "code",
   "execution_count": 362,
   "id": "e4662447-41d1-4ac1-9454-b5c4d87116da",
   "metadata": {},
   "outputs": [],
   "source": [
    "y_multi_labels = []\n",
    "for index, y_relation in enumerate(y_rel):\n",
    "    y_multi_label = []\n",
    "    for rel_indices in y_relation:\n",
    "        if isinstance(rel_indices, list):\n",
    "            np_array = np.array(rel_indices)\n",
    "            one_hot_array = np.zeros((np_array.size, max_len))\n",
    "            try:\n",
    "                one_hot_array[np.arange(np_array.size),np_array] = 1\n",
    "            except Exception as e:\n",
    "                print(np_array)\n",
    "            reduced_one_hot = np.add.reduce(one_hot_array)\n",
    "            y_multi_label.append(list(reduced_one_hot))\n",
    "        else:\n",
    "            one_hot_array = np.zeros((max_len,))\n",
    "            one_hot_array[max_len - 1] = 1\n",
    "            y_multi_label.append(list(one_hot_array))\n",
    "    y_multi_labels.append(y_multi_label)"
   ]
  },
  {
   "cell_type": "code",
   "execution_count": 363,
   "id": "6aaf536f-5ed3-4ec0-8139-fe6d1726b5fb",
   "metadata": {},
   "outputs": [
    {
     "data": {
      "text/plain": [
       "120"
      ]
     },
     "execution_count": 363,
     "metadata": {},
     "output_type": "execute_result"
    }
   ],
   "source": [
    "len(y_multi_labels[0][8])"
   ]
  },
  {
   "cell_type": "code",
   "execution_count": 364,
   "id": "a6407c9e-45df-4084-bda6-77b432de5c40",
   "metadata": {},
   "outputs": [],
   "source": [
    "from sklearn.model_selection import train_test_split\n",
    "X_word_tr, X_word_te, y_tr_ner, y_te_ner = train_test_split(X_word, y_ner, test_size=0.1, random_state=2018)\n",
    "X_char_tr, X_char_te, _, _ = train_test_split(X_char, y_ner, test_size=0.1, random_state=2018)\n",
    "\n",
    "_, _, y_tr_rel, y_te_rel = train_test_split(X_word, y_multi_labels, test_size=0.1, random_state=2018) "
   ]
  },
  {
   "cell_type": "code",
   "execution_count": 365,
   "id": "439b540e-1124-4504-ab97-5357551efed0",
   "metadata": {},
   "outputs": [
    {
     "data": {
      "text/plain": [
       "array([3956,   46, 1457, 4453,  711,    0,    0,    0,    0,    0,    0,\n",
       "          0,    0,    0,    0,    0,    0,    0,    0,    0,    0,    0,\n",
       "          0,    0,    0,    0,    0,    0,    0,    0,    0,    0,    0,\n",
       "          0,    0,    0,    0,    0,    0,    0,    0,    0,    0,    0,\n",
       "          0,    0,    0,    0,    0,    0,    0,    0,    0,    0,    0,\n",
       "          0,    0,    0,    0,    0,    0,    0,    0,    0,    0,    0,\n",
       "          0,    0,    0,    0,    0,    0,    0,    0,    0,    0,    0,\n",
       "          0,    0,    0,    0,    0,    0,    0,    0,    0,    0,    0,\n",
       "          0,    0,    0,    0,    0,    0,    0,    0,    0,    0,    0,\n",
       "          0,    0,    0,    0,    0,    0,    0,    0,    0,    0,    0,\n",
       "          0,    0,    0,    0,    0,    0,    0,    0,    0,    0],\n",
       "      dtype=int32)"
      ]
     },
     "execution_count": 365,
     "metadata": {},
     "output_type": "execute_result"
    }
   ],
   "source": [
    "X_word_tr[0]"
   ]
  },
  {
   "cell_type": "code",
   "execution_count": 366,
   "id": "079cc834-c9d4-4bfd-8b0b-e5012433066b",
   "metadata": {},
   "outputs": [
    {
     "name": "stdout",
     "output_type": "stream",
     "text": [
      "[0. 0. 0. 0. 0. 1. 0. 0. 0. 0.] [0. 1. 0. 0. 0. 0. 0. 0. 0. 0.] [0. 0. 0. 0. 0. 0. 1. 0. 0. 0.] [0. 0. 0. 0. 0. 1. 0. 0. 0. 0.] [0. 0. 0. 0. 0. 0. 1. 0. 0. 0.] [1. 0. 0. 0. 0. 0. 0. 0. 0. 0.] [1. 0. 0. 0. 0. 0. 0. 0. 0. 0.]\n"
     ]
    }
   ],
   "source": [
    "print(y_tr_ner[0][0], y_tr_ner[0][1], y_tr_ner[0][2], y_tr_ner[0][3], y_tr_ner[0][4], y_tr_ner[0][5], y_tr_ner[0][6])"
   ]
  },
  {
   "cell_type": "code",
   "execution_count": 367,
   "id": "df85768e-4322-456d-89ac-d1df011e6a84",
   "metadata": {},
   "outputs": [
    {
     "name": "stdout",
     "output_type": "stream",
     "text": [
      "[0.0, 0.0, 0.0, 0.0, 1.0, 0.0, 0.0, 0.0, 0.0, 0.0, 0.0, 0.0, 0.0, 0.0, 0.0, 0.0, 0.0, 0.0, 0.0, 0.0, 0.0, 0.0, 0.0, 0.0, 0.0, 0.0, 0.0, 0.0, 0.0, 0.0, 0.0, 0.0, 0.0, 0.0, 0.0, 0.0, 0.0, 0.0, 0.0, 0.0, 0.0, 0.0, 0.0, 0.0, 0.0, 0.0, 0.0, 0.0, 0.0, 0.0, 0.0, 0.0, 0.0, 0.0, 0.0, 0.0, 0.0, 0.0, 0.0, 0.0, 0.0, 0.0, 0.0, 0.0, 0.0, 0.0, 0.0, 0.0, 0.0, 0.0, 0.0, 0.0, 0.0, 0.0, 0.0, 0.0, 0.0, 0.0, 0.0, 0.0, 0.0, 0.0, 0.0, 0.0, 0.0, 0.0, 0.0, 0.0, 0.0, 0.0, 0.0, 0.0, 0.0, 0.0, 0.0, 0.0, 0.0, 0.0, 0.0, 0.0, 0.0, 0.0, 0.0, 0.0, 0.0, 0.0, 0.0, 0.0, 0.0, 0.0, 0.0, 0.0, 0.0, 0.0, 0.0, 0.0, 0.0, 0.0, 0.0, 0.0] [0.0, 0.0, 0.0, 0.0, 0.0, 0.0, 0.0, 0.0, 0.0, 0.0, 0.0, 0.0, 0.0, 0.0, 0.0, 0.0, 0.0, 0.0, 0.0, 0.0, 0.0, 0.0, 0.0, 0.0, 0.0, 0.0, 0.0, 0.0, 0.0, 0.0, 0.0, 0.0, 0.0, 0.0, 0.0, 0.0, 0.0, 0.0, 0.0, 0.0, 0.0, 0.0, 0.0, 0.0, 0.0, 0.0, 0.0, 0.0, 0.0, 0.0, 0.0, 0.0, 0.0, 0.0, 0.0, 0.0, 0.0, 0.0, 0.0, 0.0, 0.0, 0.0, 0.0, 0.0, 0.0, 0.0, 0.0, 0.0, 0.0, 0.0, 0.0, 0.0, 0.0, 0.0, 0.0, 0.0, 0.0, 0.0, 0.0, 0.0, 0.0, 0.0, 0.0, 0.0, 0.0, 0.0, 0.0, 0.0, 0.0, 0.0, 0.0, 0.0, 0.0, 0.0, 0.0, 0.0, 0.0, 0.0, 0.0, 0.0, 0.0, 0.0, 0.0, 0.0, 0.0, 0.0, 0.0, 0.0, 0.0, 0.0, 0.0, 0.0, 0.0, 0.0, 0.0, 0.0, 0.0, 0.0, 0.0, 1.0] [0.0, 0.0, 0.0, 0.0, 0.0, 0.0, 0.0, 0.0, 0.0, 0.0, 0.0, 0.0, 0.0, 0.0, 0.0, 0.0, 0.0, 0.0, 0.0, 0.0, 0.0, 0.0, 0.0, 0.0, 0.0, 0.0, 0.0, 0.0, 0.0, 0.0, 0.0, 0.0, 0.0, 0.0, 0.0, 0.0, 0.0, 0.0, 0.0, 0.0, 0.0, 0.0, 0.0, 0.0, 0.0, 0.0, 0.0, 0.0, 0.0, 0.0, 0.0, 0.0, 0.0, 0.0, 0.0, 0.0, 0.0, 0.0, 0.0, 0.0, 0.0, 0.0, 0.0, 0.0, 0.0, 0.0, 0.0, 0.0, 0.0, 0.0, 0.0, 0.0, 0.0, 0.0, 0.0, 0.0, 0.0, 0.0, 0.0, 0.0, 0.0, 0.0, 0.0, 0.0, 0.0, 0.0, 0.0, 0.0, 0.0, 0.0, 0.0, 0.0, 0.0, 0.0, 0.0, 0.0, 0.0, 0.0, 0.0, 0.0, 0.0, 0.0, 0.0, 0.0, 0.0, 0.0, 0.0, 0.0, 0.0, 0.0, 0.0, 0.0, 0.0, 0.0, 0.0, 0.0, 0.0, 0.0, 0.0, 1.0]\n"
     ]
    }
   ],
   "source": [
    "print(y_tr_rel[0][4], y_tr_rel[0][5], y_tr_rel[0][6])"
   ]
  },
  {
   "cell_type": "code",
   "execution_count": 368,
   "id": "3dfd8bd9-90d9-4135-9af9-dc4b86605049",
   "metadata": {},
   "outputs": [
    {
     "data": {
      "text/plain": [
       "array([4548, 5964, 3587,    0,    0,    0,    0,    0,    0,    0,    0,\n",
       "          0,    0,    0,    0,    0,    0,    0,    0,    0,    0,    0,\n",
       "          0,    0,    0,    0,    0,    0,    0,    0,    0,    0,    0,\n",
       "          0,    0,    0,    0,    0,    0,    0,    0,    0,    0,    0,\n",
       "          0,    0,    0,    0,    0,    0,    0,    0,    0,    0,    0,\n",
       "          0,    0,    0,    0,    0,    0,    0,    0,    0,    0,    0,\n",
       "          0,    0,    0,    0,    0,    0,    0,    0,    0,    0,    0,\n",
       "          0,    0,    0,    0,    0,    0,    0,    0,    0,    0,    0,\n",
       "          0,    0,    0,    0,    0,    0,    0,    0,    0,    0,    0,\n",
       "          0,    0,    0,    0,    0,    0,    0,    0,    0,    0,    0,\n",
       "          0,    0,    0,    0,    0,    0,    0,    0,    0,    0],\n",
       "      dtype=int32)"
      ]
     },
     "execution_count": 368,
     "metadata": {},
     "output_type": "execute_result"
    }
   ],
   "source": [
    "X_word_te[0]"
   ]
  },
  {
   "cell_type": "code",
   "execution_count": 369,
   "id": "8ac21697-527e-4f36-b2e6-961faa828fe3",
   "metadata": {},
   "outputs": [
    {
     "name": "stdout",
     "output_type": "stream",
     "text": [
      "[0. 0. 0. 0. 0. 1. 0. 0. 0. 0.] [0. 0. 0. 0. 1. 0. 0. 0. 0. 0.] [0. 0. 0. 0. 0. 0. 0. 0. 0. 1.] [1. 0. 0. 0. 0. 0. 0. 0. 0. 0.] [1. 0. 0. 0. 0. 0. 0. 0. 0. 0.] [1. 0. 0. 0. 0. 0. 0. 0. 0. 0.] [1. 0. 0. 0. 0. 0. 0. 0. 0. 0.]\n"
     ]
    }
   ],
   "source": [
    "print(y_te_ner[0][0], y_te_ner[0][1], y_te_ner[0][2], y_te_ner[0][3], y_te_ner[0][4], y_te_ner[0][5], y_te_ner[0][6])"
   ]
  },
  {
   "cell_type": "code",
   "execution_count": 370,
   "id": "dbfd8d15-7914-47e5-b198-3ad964fed095",
   "metadata": {},
   "outputs": [
    {
     "name": "stdout",
     "output_type": "stream",
     "text": [
      "[0.0, 1.0, 0.0, 0.0, 0.0, 0.0, 0.0, 0.0, 0.0, 0.0, 0.0, 0.0, 0.0, 0.0, 0.0, 0.0, 0.0, 0.0, 0.0, 0.0, 0.0, 0.0, 0.0, 0.0, 0.0, 0.0, 0.0, 0.0, 0.0, 0.0, 0.0, 0.0, 0.0, 0.0, 0.0, 0.0, 0.0, 0.0, 0.0, 0.0, 0.0, 0.0, 0.0, 0.0, 0.0, 0.0, 0.0, 0.0, 0.0, 0.0, 0.0, 0.0, 0.0, 0.0, 0.0, 0.0, 0.0, 0.0, 0.0, 0.0, 0.0, 0.0, 0.0, 0.0, 0.0, 0.0, 0.0, 0.0, 0.0, 0.0, 0.0, 0.0, 0.0, 0.0, 0.0, 0.0, 0.0, 0.0, 0.0, 0.0, 0.0, 0.0, 0.0, 0.0, 0.0, 0.0, 0.0, 0.0, 0.0, 0.0, 0.0, 0.0, 0.0, 0.0, 0.0, 0.0, 0.0, 0.0, 0.0, 0.0, 0.0, 0.0, 0.0, 0.0, 0.0, 0.0, 0.0, 0.0, 0.0, 0.0, 0.0, 0.0, 0.0, 0.0, 0.0, 0.0, 0.0, 0.0, 0.0, 0.0] [1.0, 0.0, 0.0, 0.0, 0.0, 0.0, 0.0, 0.0, 0.0, 0.0, 0.0, 0.0, 0.0, 0.0, 0.0, 0.0, 0.0, 0.0, 0.0, 0.0, 0.0, 0.0, 0.0, 0.0, 0.0, 0.0, 0.0, 0.0, 0.0, 0.0, 0.0, 0.0, 0.0, 0.0, 0.0, 0.0, 0.0, 0.0, 0.0, 0.0, 0.0, 0.0, 0.0, 0.0, 0.0, 0.0, 0.0, 0.0, 0.0, 0.0, 0.0, 0.0, 0.0, 0.0, 0.0, 0.0, 0.0, 0.0, 0.0, 0.0, 0.0, 0.0, 0.0, 0.0, 0.0, 0.0, 0.0, 0.0, 0.0, 0.0, 0.0, 0.0, 0.0, 0.0, 0.0, 0.0, 0.0, 0.0, 0.0, 0.0, 0.0, 0.0, 0.0, 0.0, 0.0, 0.0, 0.0, 0.0, 0.0, 0.0, 0.0, 0.0, 0.0, 0.0, 0.0, 0.0, 0.0, 0.0, 0.0, 0.0, 0.0, 0.0, 0.0, 0.0, 0.0, 0.0, 0.0, 0.0, 0.0, 0.0, 0.0, 0.0, 0.0, 0.0, 0.0, 0.0, 0.0, 0.0, 0.0, 0.0] [0.0, 0.0, 0.0, 0.0, 0.0, 0.0, 0.0, 0.0, 0.0, 0.0, 0.0, 0.0, 0.0, 0.0, 0.0, 0.0, 0.0, 0.0, 0.0, 0.0, 0.0, 0.0, 0.0, 0.0, 0.0, 0.0, 0.0, 0.0, 0.0, 0.0, 0.0, 0.0, 0.0, 0.0, 0.0, 0.0, 0.0, 0.0, 0.0, 0.0, 0.0, 0.0, 0.0, 0.0, 0.0, 0.0, 0.0, 0.0, 0.0, 0.0, 0.0, 0.0, 0.0, 0.0, 0.0, 0.0, 0.0, 0.0, 0.0, 0.0, 0.0, 0.0, 0.0, 0.0, 0.0, 0.0, 0.0, 0.0, 0.0, 0.0, 0.0, 0.0, 0.0, 0.0, 0.0, 0.0, 0.0, 0.0, 0.0, 0.0, 0.0, 0.0, 0.0, 0.0, 0.0, 0.0, 0.0, 0.0, 0.0, 0.0, 0.0, 0.0, 0.0, 0.0, 0.0, 0.0, 0.0, 0.0, 0.0, 0.0, 0.0, 0.0, 0.0, 0.0, 0.0, 0.0, 0.0, 0.0, 0.0, 0.0, 0.0, 0.0, 0.0, 0.0, 0.0, 0.0, 0.0, 0.0, 0.0, 1.0] [0.0, 0.0, 0.0, 0.0, 0.0, 0.0, 0.0, 0.0, 0.0, 0.0, 0.0, 0.0, 0.0, 0.0, 0.0, 0.0, 0.0, 0.0, 0.0, 0.0, 0.0, 0.0, 0.0, 0.0, 0.0, 0.0, 0.0, 0.0, 0.0, 0.0, 0.0, 0.0, 0.0, 0.0, 0.0, 0.0, 0.0, 0.0, 0.0, 0.0, 0.0, 0.0, 0.0, 0.0, 0.0, 0.0, 0.0, 0.0, 0.0, 0.0, 0.0, 0.0, 0.0, 0.0, 0.0, 0.0, 0.0, 0.0, 0.0, 0.0, 0.0, 0.0, 0.0, 0.0, 0.0, 0.0, 0.0, 0.0, 0.0, 0.0, 0.0, 0.0, 0.0, 0.0, 0.0, 0.0, 0.0, 0.0, 0.0, 0.0, 0.0, 0.0, 0.0, 0.0, 0.0, 0.0, 0.0, 0.0, 0.0, 0.0, 0.0, 0.0, 0.0, 0.0, 0.0, 0.0, 0.0, 0.0, 0.0, 0.0, 0.0, 0.0, 0.0, 0.0, 0.0, 0.0, 0.0, 0.0, 0.0, 0.0, 0.0, 0.0, 0.0, 0.0, 0.0, 0.0, 0.0, 0.0, 0.0, 1.0]\n"
     ]
    }
   ],
   "source": [
    "print(y_te_rel[0][1], y_te_rel[0][2], y_te_rel[0][3], y_te_rel[0][4])"
   ]
  },
  {
   "cell_type": "code",
   "execution_count": 387,
   "id": "d13f4034-2185-4c71-b6c0-55382c93ad01",
   "metadata": {},
   "outputs": [
    {
     "name": "stdout",
     "output_type": "stream",
     "text": [
      "WARNING:tensorflow:Layer lstm_82 will not use cuDNN kernels since it doesn't meet the criteria. It will use a generic GPU kernel as fallback when running on GPU.\n",
      "WARNING:tensorflow:Layer lstm_83 will not use cuDNN kernels since it doesn't meet the criteria. It will use a generic GPU kernel as fallback when running on GPU.\n",
      "WARNING:tensorflow:Layer lstm_83 will not use cuDNN kernels since it doesn't meet the criteria. It will use a generic GPU kernel as fallback when running on GPU.\n",
      "WARNING:tensorflow:Layer lstm_83 will not use cuDNN kernels since it doesn't meet the criteria. It will use a generic GPU kernel as fallback when running on GPU.\n",
      "Model: \"model_40\"\n",
      "__________________________________________________________________________________________________\n",
      "Layer (type)                    Output Shape         Param #     Connected to                     \n",
      "==================================================================================================\n",
      "input_85 (InputLayer)           [(None, 120, 10)]    0                                            \n",
      "__________________________________________________________________________________________________\n",
      "input_84 (InputLayer)           [(None, 120)]        0                                            \n",
      "__________________________________________________________________________________________________\n",
      "time_distributed_147 (TimeDistr (None, 120, 10, 10)  780         input_85[0][0]                   \n",
      "__________________________________________________________________________________________________\n",
      "embedding_101 (Embedding)       (None, 120, 20)      127820      input_84[0][0]                   \n",
      "__________________________________________________________________________________________________\n",
      "time_distributed_148 (TimeDistr (None, 120, 20)      2480        time_distributed_147[0][0]       \n",
      "__________________________________________________________________________________________________\n",
      "concatenate_54 (Concatenate)    (None, 120, 40)      0           embedding_101[0][0]              \n",
      "                                                                 time_distributed_148[0][0]       \n",
      "__________________________________________________________________________________________________\n",
      "spatial_dropout1d_41 (SpatialDr (None, 120, 40)      0           concatenate_54[0][0]             \n",
      "__________________________________________________________________________________________________\n",
      "bidirectional_41 (Bidirectional (None, 120, 100)     36400       spatial_dropout1d_41[0][0]       \n",
      "__________________________________________________________________________________________________\n",
      "time_distributed_149 (TimeDistr (None, 120, 10)      1010        bidirectional_41[0][0]           \n",
      "__________________________________________________________________________________________________\n",
      "embedding_103 (Embedding)       (None, 120, 10, 10)  100         time_distributed_149[0][0]       \n",
      "__________________________________________________________________________________________________\n",
      "reshape_12 (Reshape)            (None, 120, 100)     0           embedding_103[0][0]              \n",
      "__________________________________________________________________________________________________\n",
      "concatenate_55 (Concatenate)    (None, 120, 200)     0           bidirectional_41[0][0]           \n",
      "                                                                 reshape_12[0][0]                 \n",
      "__________________________________________________________________________________________________\n",
      "time_distributed_150 (TimeDistr (None, 120, 140)     28140       concatenate_55[0][0]             \n",
      "__________________________________________________________________________________________________\n",
      "time_distributed_151 (TimeDistr (None, 120, 120)     16920       time_distributed_150[0][0]       \n",
      "==================================================================================================\n",
      "Total params: 213,650\n",
      "Trainable params: 213,650\n",
      "Non-trainable params: 0\n",
      "__________________________________________________________________________________________________\n"
     ]
    }
   ],
   "source": [
    "word_in = Input(shape=(max_len,))\n",
    "emb_word = Embedding(input_dim=n_words + 2, output_dim=20,\n",
    "                     input_length=max_len, mask_zero=True)(word_in)\n",
    "\n",
    "# input and embeddings for characters\n",
    "char_in = Input(shape=(max_len, max_len_char,))\n",
    "emb_char = TimeDistributed(Embedding(input_dim=n_chars + 2, output_dim=10,\n",
    "                           input_length=max_len_char, mask_zero=True))(char_in)\n",
    "# character LSTM to get word encodings by characters\n",
    "char_enc = TimeDistributed(LSTM(units=20, return_sequences=False,\n",
    "                                recurrent_dropout=0.5))(emb_char)\n",
    "\n",
    "# main LSTM\n",
    "x = concatenate([emb_word, char_enc])\n",
    "x = SpatialDropout1D(0.3)(x)\n",
    "main_lstm = Bidirectional(LSTM(units=50, return_sequences=True,\n",
    "                               recurrent_dropout=0.6))(x)\n",
    "'''\n",
    "out = TimeDistributed(Dense(50, activation=\"relu\"))(main_lstm)\n",
    "\n",
    "# crf_layer = CRF(n_tags + 1)\n",
    "crf_layer = crf(n_tags + 1)\n",
    "crf_outputs = crf_layer(out)\n",
    "\n",
    "model_ner = Model([word_in, char_in], crf_outputs)\n",
    "\n",
    "model_lstm_ner = Model([word_in, char_in], main_lstm)\n",
    "\n",
    "model_ner.compile(optimizer=\"adam\", loss=crf_loss, metrics=[crf_accuracy])\n",
    "model_ner.summary()\n",
    "\n",
    "out = TimeDistributed(Dense(50, activation=\"relu\"))(main_lstm)\n",
    "\n",
    "# crf_layer = CRF(n_tags + 1)\n",
    "crf_layer = crf(n_tags + 1)\n",
    "crf_outputs = crf_layer(out)\n",
    "\n",
    "model_ner = Model([word_in, char_in], crf_outputs)\n",
    "\n",
    "model_lstm_ner = Model([word_in, char_in], main_lstm)\n",
    "\n",
    "model_ner.compile(optimizer=\"adam\", loss=crf_loss, metrics=[crf_accuracy])\n",
    "model_ner.summary()\n",
    "'''\n",
    "ner_outputs = TimeDistributed(Dense(n_tags + 1, activation=\"softmax\", name='ner_outputs'))(main_lstm)\n",
    "\n",
    "label_embedding_ner_tags = Embedding(input_dim=n_tags + 1, output_dim=10,\n",
    "                     input_length=max_len, mask_zero=True)(ner_outputs) # max_len -> TimeDistributed steps = max_len\n",
    "\n",
    "label_embedding_ner_tags_reshaped = Reshape((max_len, ((n_tags + 1) * 10)))(label_embedding_ner_tags) #10 - output_dim\n",
    "\n",
    "concat_lstm_label_embeddings = concatenate([main_lstm, label_embedding_ner_tags_reshaped])\n",
    "hidden_layer_1 = TimeDistributed(Dense(max_len + 20, activation=\"sigmoid\"))(concat_lstm_label_embeddings) # (60 time stamps) * (120 embedding column vecs) => In each time step: (1 * 120) * (120 * 30) -> (1 * 30)\n",
    "dep_parser_outputs = TimeDistributed(Dense(max_len, activation=\"sigmoid\", name='dep_parser_outputs'))(hidden_layer_1) # (1 * 30) * (30 * num_tags+1) -> (1 * num_tags+1)\n",
    "\n",
    "# model_rel = Model([word_in, char_in], [ner_out, relation_ship_outputs])\n",
    "model_rel = Model(inputs=[word_in, char_in], outputs=[ner_outputs, dep_parser_outputs])\n",
    "\n",
    "\n",
    "# model_rel.compile(loss={'ner_outputs': 'categorical_crossentropy', 'dep_parser_outputs': 'binary_crossentropy'}, \n",
    "#               optimizer='adam', metrics={'ner_outputs': 'accuracy', 'dep_parser_outputs': 'accuracy'})\n",
    "model_rel.compile(loss=['categorical_crossentropy', 'binary_crossentropy'], \n",
    "              optimizer='adam', metrics=['accuracy'])\n",
    "model_rel.summary()"
   ]
  },
  {
   "cell_type": "code",
   "execution_count": 383,
   "id": "12b179c1-a997-404d-9608-e4e4a3101ca6",
   "metadata": {},
   "outputs": [
    {
     "name": "stdout",
     "output_type": "stream",
     "text": [
      "Epoch 1/30\n"
     ]
    },
    {
     "ename": "ValueError",
     "evalue": "in user code:\n\n    /home/ubuntu/env/lib/python3.8/site-packages/keras/engine/training.py:830 train_function  *\n        return step_function(self, iterator)\n    /home/ubuntu/env/lib/python3.8/site-packages/keras/engine/training.py:813 run_step  *\n        outputs = model.train_step(data)\n    /home/ubuntu/env/lib/python3.8/site-packages/keras/engine/training.py:771 train_step  *\n        loss = self.compiled_loss(\n    /home/ubuntu/env/lib/python3.8/site-packages/keras/engine/compile_utils.py:180 __call__  *\n        y_true = self._conform_to_outputs(y_pred, y_true)\n    /home/ubuntu/env/lib/python3.8/site-packages/keras/engine/compile_utils.py:56 _conform_to_outputs  *\n        struct = map_to_output_names(outputs, self._output_names, struct)\n    /home/ubuntu/env/lib/python3.8/site-packages/keras/engine/compile_utils.py:649 map_to_output_names  *\n        raise ValueError('Found unexpected keys that do not correspond '\n\n    ValueError: Found unexpected keys that do not correspond to any Model output: dict_keys(['ner_outputs', 'dep_parser_outputs']). Expected: ['time_distributed_139', 'time_distributed_141']\n",
     "output_type": "error",
     "traceback": [
      "\u001b[0;31m---------------------------------------------------------------------------\u001b[0m",
      "\u001b[0;31mValueError\u001b[0m                                Traceback (most recent call last)",
      "\u001b[0;32m<ipython-input-383-7adcc041162c>\u001b[0m in \u001b[0;36m<module>\u001b[0;34m\u001b[0m\n\u001b[0;32m----> 1\u001b[0;31m history = model_rel.fit(x=[X_word_tr,\n\u001b[0m\u001b[1;32m      2\u001b[0m                      np.array(X_char_tr).reshape((len(X_char_tr), max_len, max_len_char))],\n\u001b[1;32m      3\u001b[0m                     \u001b[0my\u001b[0m\u001b[0;34m=\u001b[0m\u001b[0;34m{\u001b[0m\u001b[0;34m'ner_outputs'\u001b[0m\u001b[0;34m:\u001b[0m \u001b[0mnp\u001b[0m\u001b[0;34m.\u001b[0m\u001b[0marray\u001b[0m\u001b[0;34m(\u001b[0m\u001b[0my_tr_ner\u001b[0m\u001b[0;34m)\u001b[0m\u001b[0;34m.\u001b[0m\u001b[0mreshape\u001b[0m\u001b[0;34m(\u001b[0m\u001b[0mlen\u001b[0m\u001b[0;34m(\u001b[0m\u001b[0my_tr_ner\u001b[0m\u001b[0;34m)\u001b[0m\u001b[0;34m,\u001b[0m \u001b[0mmax_len\u001b[0m\u001b[0;34m,\u001b[0m \u001b[0mn_tags\u001b[0m \u001b[0;34m+\u001b[0m \u001b[0;36m1\u001b[0m\u001b[0;34m)\u001b[0m\u001b[0;34m,\u001b[0m \u001b[0;34m'dep_parser_outputs'\u001b[0m\u001b[0;34m:\u001b[0m \u001b[0mnp\u001b[0m\u001b[0;34m.\u001b[0m\u001b[0marray\u001b[0m\u001b[0;34m(\u001b[0m\u001b[0my_tr_rel\u001b[0m\u001b[0;34m)\u001b[0m\u001b[0;34m.\u001b[0m\u001b[0mreshape\u001b[0m\u001b[0;34m(\u001b[0m\u001b[0mlen\u001b[0m\u001b[0;34m(\u001b[0m\u001b[0my_tr_rel\u001b[0m\u001b[0;34m)\u001b[0m\u001b[0;34m,\u001b[0m \u001b[0mmax_len\u001b[0m\u001b[0;34m,\u001b[0m \u001b[0mmax_len\u001b[0m\u001b[0;34m)\u001b[0m\u001b[0;34m}\u001b[0m\u001b[0;34m,\u001b[0m\u001b[0;34m\u001b[0m\u001b[0;34m\u001b[0m\u001b[0m\n\u001b[1;32m      4\u001b[0m                     batch_size=32, epochs=30, validation_split=0.2, verbose=1)\n",
      "\u001b[0;32m~/env/lib/python3.8/site-packages/keras/engine/training.py\u001b[0m in \u001b[0;36mfit\u001b[0;34m(self, x, y, batch_size, epochs, verbose, callbacks, validation_split, validation_data, shuffle, class_weight, sample_weight, initial_epoch, steps_per_epoch, validation_steps, validation_batch_size, validation_freq, max_queue_size, workers, use_multiprocessing)\u001b[0m\n\u001b[1;32m   1156\u001b[0m                 _r=1):\n\u001b[1;32m   1157\u001b[0m               \u001b[0mcallbacks\u001b[0m\u001b[0;34m.\u001b[0m\u001b[0mon_train_batch_begin\u001b[0m\u001b[0;34m(\u001b[0m\u001b[0mstep\u001b[0m\u001b[0;34m)\u001b[0m\u001b[0;34m\u001b[0m\u001b[0;34m\u001b[0m\u001b[0m\n\u001b[0;32m-> 1158\u001b[0;31m               \u001b[0mtmp_logs\u001b[0m \u001b[0;34m=\u001b[0m \u001b[0mself\u001b[0m\u001b[0;34m.\u001b[0m\u001b[0mtrain_function\u001b[0m\u001b[0;34m(\u001b[0m\u001b[0miterator\u001b[0m\u001b[0;34m)\u001b[0m\u001b[0;34m\u001b[0m\u001b[0;34m\u001b[0m\u001b[0m\n\u001b[0m\u001b[1;32m   1159\u001b[0m               \u001b[0;32mif\u001b[0m \u001b[0mdata_handler\u001b[0m\u001b[0;34m.\u001b[0m\u001b[0mshould_sync\u001b[0m\u001b[0;34m:\u001b[0m\u001b[0;34m\u001b[0m\u001b[0;34m\u001b[0m\u001b[0m\n\u001b[1;32m   1160\u001b[0m                 \u001b[0mcontext\u001b[0m\u001b[0;34m.\u001b[0m\u001b[0masync_wait\u001b[0m\u001b[0;34m(\u001b[0m\u001b[0;34m)\u001b[0m\u001b[0;34m\u001b[0m\u001b[0;34m\u001b[0m\u001b[0m\n",
      "\u001b[0;32m~/env/lib/python3.8/site-packages/tensorflow/python/eager/def_function.py\u001b[0m in \u001b[0;36m__call__\u001b[0;34m(self, *args, **kwds)\u001b[0m\n\u001b[1;32m    887\u001b[0m \u001b[0;34m\u001b[0m\u001b[0m\n\u001b[1;32m    888\u001b[0m       \u001b[0;32mwith\u001b[0m \u001b[0mOptionalXlaContext\u001b[0m\u001b[0;34m(\u001b[0m\u001b[0mself\u001b[0m\u001b[0;34m.\u001b[0m\u001b[0m_jit_compile\u001b[0m\u001b[0;34m)\u001b[0m\u001b[0;34m:\u001b[0m\u001b[0;34m\u001b[0m\u001b[0;34m\u001b[0m\u001b[0m\n\u001b[0;32m--> 889\u001b[0;31m         \u001b[0mresult\u001b[0m \u001b[0;34m=\u001b[0m \u001b[0mself\u001b[0m\u001b[0;34m.\u001b[0m\u001b[0m_call\u001b[0m\u001b[0;34m(\u001b[0m\u001b[0;34m*\u001b[0m\u001b[0margs\u001b[0m\u001b[0;34m,\u001b[0m \u001b[0;34m**\u001b[0m\u001b[0mkwds\u001b[0m\u001b[0;34m)\u001b[0m\u001b[0;34m\u001b[0m\u001b[0;34m\u001b[0m\u001b[0m\n\u001b[0m\u001b[1;32m    890\u001b[0m \u001b[0;34m\u001b[0m\u001b[0m\n\u001b[1;32m    891\u001b[0m       \u001b[0mnew_tracing_count\u001b[0m \u001b[0;34m=\u001b[0m \u001b[0mself\u001b[0m\u001b[0;34m.\u001b[0m\u001b[0mexperimental_get_tracing_count\u001b[0m\u001b[0;34m(\u001b[0m\u001b[0;34m)\u001b[0m\u001b[0;34m\u001b[0m\u001b[0;34m\u001b[0m\u001b[0m\n",
      "\u001b[0;32m~/env/lib/python3.8/site-packages/tensorflow/python/eager/def_function.py\u001b[0m in \u001b[0;36m_call\u001b[0;34m(self, *args, **kwds)\u001b[0m\n\u001b[1;32m    931\u001b[0m       \u001b[0;31m# This is the first call of __call__, so we have to initialize.\u001b[0m\u001b[0;34m\u001b[0m\u001b[0;34m\u001b[0m\u001b[0;34m\u001b[0m\u001b[0m\n\u001b[1;32m    932\u001b[0m       \u001b[0minitializers\u001b[0m \u001b[0;34m=\u001b[0m \u001b[0;34m[\u001b[0m\u001b[0;34m]\u001b[0m\u001b[0;34m\u001b[0m\u001b[0;34m\u001b[0m\u001b[0m\n\u001b[0;32m--> 933\u001b[0;31m       \u001b[0mself\u001b[0m\u001b[0;34m.\u001b[0m\u001b[0m_initialize\u001b[0m\u001b[0;34m(\u001b[0m\u001b[0margs\u001b[0m\u001b[0;34m,\u001b[0m \u001b[0mkwds\u001b[0m\u001b[0;34m,\u001b[0m \u001b[0madd_initializers_to\u001b[0m\u001b[0;34m=\u001b[0m\u001b[0minitializers\u001b[0m\u001b[0;34m)\u001b[0m\u001b[0;34m\u001b[0m\u001b[0;34m\u001b[0m\u001b[0m\n\u001b[0m\u001b[1;32m    934\u001b[0m     \u001b[0;32mfinally\u001b[0m\u001b[0;34m:\u001b[0m\u001b[0;34m\u001b[0m\u001b[0;34m\u001b[0m\u001b[0m\n\u001b[1;32m    935\u001b[0m       \u001b[0;31m# At this point we know that the initialization is complete (or less\u001b[0m\u001b[0;34m\u001b[0m\u001b[0;34m\u001b[0m\u001b[0;34m\u001b[0m\u001b[0m\n",
      "\u001b[0;32m~/env/lib/python3.8/site-packages/tensorflow/python/eager/def_function.py\u001b[0m in \u001b[0;36m_initialize\u001b[0;34m(self, args, kwds, add_initializers_to)\u001b[0m\n\u001b[1;32m    761\u001b[0m     \u001b[0mself\u001b[0m\u001b[0;34m.\u001b[0m\u001b[0m_graph_deleter\u001b[0m \u001b[0;34m=\u001b[0m \u001b[0mFunctionDeleter\u001b[0m\u001b[0;34m(\u001b[0m\u001b[0mself\u001b[0m\u001b[0;34m.\u001b[0m\u001b[0m_lifted_initializer_graph\u001b[0m\u001b[0;34m)\u001b[0m\u001b[0;34m\u001b[0m\u001b[0;34m\u001b[0m\u001b[0m\n\u001b[1;32m    762\u001b[0m     self._concrete_stateful_fn = (\n\u001b[0;32m--> 763\u001b[0;31m         self._stateful_fn._get_concrete_function_internal_garbage_collected(  # pylint: disable=protected-access\n\u001b[0m\u001b[1;32m    764\u001b[0m             *args, **kwds))\n\u001b[1;32m    765\u001b[0m \u001b[0;34m\u001b[0m\u001b[0m\n",
      "\u001b[0;32m~/env/lib/python3.8/site-packages/tensorflow/python/eager/function.py\u001b[0m in \u001b[0;36m_get_concrete_function_internal_garbage_collected\u001b[0;34m(self, *args, **kwargs)\u001b[0m\n\u001b[1;32m   3048\u001b[0m       \u001b[0margs\u001b[0m\u001b[0;34m,\u001b[0m \u001b[0mkwargs\u001b[0m \u001b[0;34m=\u001b[0m \u001b[0;32mNone\u001b[0m\u001b[0;34m,\u001b[0m \u001b[0;32mNone\u001b[0m\u001b[0;34m\u001b[0m\u001b[0;34m\u001b[0m\u001b[0m\n\u001b[1;32m   3049\u001b[0m     \u001b[0;32mwith\u001b[0m \u001b[0mself\u001b[0m\u001b[0;34m.\u001b[0m\u001b[0m_lock\u001b[0m\u001b[0;34m:\u001b[0m\u001b[0;34m\u001b[0m\u001b[0;34m\u001b[0m\u001b[0m\n\u001b[0;32m-> 3050\u001b[0;31m       \u001b[0mgraph_function\u001b[0m\u001b[0;34m,\u001b[0m \u001b[0m_\u001b[0m \u001b[0;34m=\u001b[0m \u001b[0mself\u001b[0m\u001b[0;34m.\u001b[0m\u001b[0m_maybe_define_function\u001b[0m\u001b[0;34m(\u001b[0m\u001b[0margs\u001b[0m\u001b[0;34m,\u001b[0m \u001b[0mkwargs\u001b[0m\u001b[0;34m)\u001b[0m\u001b[0;34m\u001b[0m\u001b[0;34m\u001b[0m\u001b[0m\n\u001b[0m\u001b[1;32m   3051\u001b[0m     \u001b[0;32mreturn\u001b[0m \u001b[0mgraph_function\u001b[0m\u001b[0;34m\u001b[0m\u001b[0;34m\u001b[0m\u001b[0m\n\u001b[1;32m   3052\u001b[0m \u001b[0;34m\u001b[0m\u001b[0m\n",
      "\u001b[0;32m~/env/lib/python3.8/site-packages/tensorflow/python/eager/function.py\u001b[0m in \u001b[0;36m_maybe_define_function\u001b[0;34m(self, args, kwargs)\u001b[0m\n\u001b[1;32m   3442\u001b[0m \u001b[0;34m\u001b[0m\u001b[0m\n\u001b[1;32m   3443\u001b[0m           \u001b[0mself\u001b[0m\u001b[0;34m.\u001b[0m\u001b[0m_function_cache\u001b[0m\u001b[0;34m.\u001b[0m\u001b[0mmissed\u001b[0m\u001b[0;34m.\u001b[0m\u001b[0madd\u001b[0m\u001b[0;34m(\u001b[0m\u001b[0mcall_context_key\u001b[0m\u001b[0;34m)\u001b[0m\u001b[0;34m\u001b[0m\u001b[0;34m\u001b[0m\u001b[0m\n\u001b[0;32m-> 3444\u001b[0;31m           \u001b[0mgraph_function\u001b[0m \u001b[0;34m=\u001b[0m \u001b[0mself\u001b[0m\u001b[0;34m.\u001b[0m\u001b[0m_create_graph_function\u001b[0m\u001b[0;34m(\u001b[0m\u001b[0margs\u001b[0m\u001b[0;34m,\u001b[0m \u001b[0mkwargs\u001b[0m\u001b[0;34m)\u001b[0m\u001b[0;34m\u001b[0m\u001b[0;34m\u001b[0m\u001b[0m\n\u001b[0m\u001b[1;32m   3445\u001b[0m           \u001b[0mself\u001b[0m\u001b[0;34m.\u001b[0m\u001b[0m_function_cache\u001b[0m\u001b[0;34m.\u001b[0m\u001b[0mprimary\u001b[0m\u001b[0;34m[\u001b[0m\u001b[0mcache_key\u001b[0m\u001b[0;34m]\u001b[0m \u001b[0;34m=\u001b[0m \u001b[0mgraph_function\u001b[0m\u001b[0;34m\u001b[0m\u001b[0;34m\u001b[0m\u001b[0m\n\u001b[1;32m   3446\u001b[0m \u001b[0;34m\u001b[0m\u001b[0m\n",
      "\u001b[0;32m~/env/lib/python3.8/site-packages/tensorflow/python/eager/function.py\u001b[0m in \u001b[0;36m_create_graph_function\u001b[0;34m(self, args, kwargs, override_flat_arg_shapes)\u001b[0m\n\u001b[1;32m   3277\u001b[0m     \u001b[0marg_names\u001b[0m \u001b[0;34m=\u001b[0m \u001b[0mbase_arg_names\u001b[0m \u001b[0;34m+\u001b[0m \u001b[0mmissing_arg_names\u001b[0m\u001b[0;34m\u001b[0m\u001b[0;34m\u001b[0m\u001b[0m\n\u001b[1;32m   3278\u001b[0m     graph_function = ConcreteFunction(\n\u001b[0;32m-> 3279\u001b[0;31m         func_graph_module.func_graph_from_py_func(\n\u001b[0m\u001b[1;32m   3280\u001b[0m             \u001b[0mself\u001b[0m\u001b[0;34m.\u001b[0m\u001b[0m_name\u001b[0m\u001b[0;34m,\u001b[0m\u001b[0;34m\u001b[0m\u001b[0;34m\u001b[0m\u001b[0m\n\u001b[1;32m   3281\u001b[0m             \u001b[0mself\u001b[0m\u001b[0;34m.\u001b[0m\u001b[0m_python_function\u001b[0m\u001b[0;34m,\u001b[0m\u001b[0;34m\u001b[0m\u001b[0;34m\u001b[0m\u001b[0m\n",
      "\u001b[0;32m~/env/lib/python3.8/site-packages/tensorflow/python/framework/func_graph.py\u001b[0m in \u001b[0;36mfunc_graph_from_py_func\u001b[0;34m(name, python_func, args, kwargs, signature, func_graph, autograph, autograph_options, add_control_dependencies, arg_names, op_return_value, collections, capture_by_value, override_flat_arg_shapes)\u001b[0m\n\u001b[1;32m    997\u001b[0m         \u001b[0m_\u001b[0m\u001b[0;34m,\u001b[0m \u001b[0moriginal_func\u001b[0m \u001b[0;34m=\u001b[0m \u001b[0mtf_decorator\u001b[0m\u001b[0;34m.\u001b[0m\u001b[0munwrap\u001b[0m\u001b[0;34m(\u001b[0m\u001b[0mpython_func\u001b[0m\u001b[0;34m)\u001b[0m\u001b[0;34m\u001b[0m\u001b[0;34m\u001b[0m\u001b[0m\n\u001b[1;32m    998\u001b[0m \u001b[0;34m\u001b[0m\u001b[0m\n\u001b[0;32m--> 999\u001b[0;31m       \u001b[0mfunc_outputs\u001b[0m \u001b[0;34m=\u001b[0m \u001b[0mpython_func\u001b[0m\u001b[0;34m(\u001b[0m\u001b[0;34m*\u001b[0m\u001b[0mfunc_args\u001b[0m\u001b[0;34m,\u001b[0m \u001b[0;34m**\u001b[0m\u001b[0mfunc_kwargs\u001b[0m\u001b[0;34m)\u001b[0m\u001b[0;34m\u001b[0m\u001b[0;34m\u001b[0m\u001b[0m\n\u001b[0m\u001b[1;32m   1000\u001b[0m \u001b[0;34m\u001b[0m\u001b[0m\n\u001b[1;32m   1001\u001b[0m       \u001b[0;31m# invariant: `func_outputs` contains only Tensors, CompositeTensors,\u001b[0m\u001b[0;34m\u001b[0m\u001b[0;34m\u001b[0m\u001b[0;34m\u001b[0m\u001b[0m\n",
      "\u001b[0;32m~/env/lib/python3.8/site-packages/tensorflow/python/eager/def_function.py\u001b[0m in \u001b[0;36mwrapped_fn\u001b[0;34m(*args, **kwds)\u001b[0m\n\u001b[1;32m    670\u001b[0m         \u001b[0;31m# the function a weak reference to itself to avoid a reference cycle.\u001b[0m\u001b[0;34m\u001b[0m\u001b[0;34m\u001b[0m\u001b[0;34m\u001b[0m\u001b[0m\n\u001b[1;32m    671\u001b[0m         \u001b[0;32mwith\u001b[0m \u001b[0mOptionalXlaContext\u001b[0m\u001b[0;34m(\u001b[0m\u001b[0mcompile_with_xla\u001b[0m\u001b[0;34m)\u001b[0m\u001b[0;34m:\u001b[0m\u001b[0;34m\u001b[0m\u001b[0;34m\u001b[0m\u001b[0m\n\u001b[0;32m--> 672\u001b[0;31m           \u001b[0mout\u001b[0m \u001b[0;34m=\u001b[0m \u001b[0mweak_wrapped_fn\u001b[0m\u001b[0;34m(\u001b[0m\u001b[0;34m)\u001b[0m\u001b[0;34m.\u001b[0m\u001b[0m__wrapped__\u001b[0m\u001b[0;34m(\u001b[0m\u001b[0;34m*\u001b[0m\u001b[0margs\u001b[0m\u001b[0;34m,\u001b[0m \u001b[0;34m**\u001b[0m\u001b[0mkwds\u001b[0m\u001b[0;34m)\u001b[0m\u001b[0;34m\u001b[0m\u001b[0;34m\u001b[0m\u001b[0m\n\u001b[0m\u001b[1;32m    673\u001b[0m         \u001b[0;32mreturn\u001b[0m \u001b[0mout\u001b[0m\u001b[0;34m\u001b[0m\u001b[0;34m\u001b[0m\u001b[0m\n\u001b[1;32m    674\u001b[0m \u001b[0;34m\u001b[0m\u001b[0m\n",
      "\u001b[0;32m~/env/lib/python3.8/site-packages/tensorflow/python/framework/func_graph.py\u001b[0m in \u001b[0;36mwrapper\u001b[0;34m(*args, **kwargs)\u001b[0m\n\u001b[1;32m    984\u001b[0m           \u001b[0;32mexcept\u001b[0m \u001b[0mException\u001b[0m \u001b[0;32mas\u001b[0m \u001b[0me\u001b[0m\u001b[0;34m:\u001b[0m  \u001b[0;31m# pylint:disable=broad-except\u001b[0m\u001b[0;34m\u001b[0m\u001b[0;34m\u001b[0m\u001b[0m\n\u001b[1;32m    985\u001b[0m             \u001b[0;32mif\u001b[0m \u001b[0mhasattr\u001b[0m\u001b[0;34m(\u001b[0m\u001b[0me\u001b[0m\u001b[0;34m,\u001b[0m \u001b[0;34m\"ag_error_metadata\"\u001b[0m\u001b[0;34m)\u001b[0m\u001b[0;34m:\u001b[0m\u001b[0;34m\u001b[0m\u001b[0;34m\u001b[0m\u001b[0m\n\u001b[0;32m--> 986\u001b[0;31m               \u001b[0;32mraise\u001b[0m \u001b[0me\u001b[0m\u001b[0;34m.\u001b[0m\u001b[0mag_error_metadata\u001b[0m\u001b[0;34m.\u001b[0m\u001b[0mto_exception\u001b[0m\u001b[0;34m(\u001b[0m\u001b[0me\u001b[0m\u001b[0;34m)\u001b[0m\u001b[0;34m\u001b[0m\u001b[0;34m\u001b[0m\u001b[0m\n\u001b[0m\u001b[1;32m    987\u001b[0m             \u001b[0;32melse\u001b[0m\u001b[0;34m:\u001b[0m\u001b[0;34m\u001b[0m\u001b[0;34m\u001b[0m\u001b[0m\n\u001b[1;32m    988\u001b[0m               \u001b[0;32mraise\u001b[0m\u001b[0;34m\u001b[0m\u001b[0;34m\u001b[0m\u001b[0m\n",
      "\u001b[0;31mValueError\u001b[0m: in user code:\n\n    /home/ubuntu/env/lib/python3.8/site-packages/keras/engine/training.py:830 train_function  *\n        return step_function(self, iterator)\n    /home/ubuntu/env/lib/python3.8/site-packages/keras/engine/training.py:813 run_step  *\n        outputs = model.train_step(data)\n    /home/ubuntu/env/lib/python3.8/site-packages/keras/engine/training.py:771 train_step  *\n        loss = self.compiled_loss(\n    /home/ubuntu/env/lib/python3.8/site-packages/keras/engine/compile_utils.py:180 __call__  *\n        y_true = self._conform_to_outputs(y_pred, y_true)\n    /home/ubuntu/env/lib/python3.8/site-packages/keras/engine/compile_utils.py:56 _conform_to_outputs  *\n        struct = map_to_output_names(outputs, self._output_names, struct)\n    /home/ubuntu/env/lib/python3.8/site-packages/keras/engine/compile_utils.py:649 map_to_output_names  *\n        raise ValueError('Found unexpected keys that do not correspond '\n\n    ValueError: Found unexpected keys that do not correspond to any Model output: dict_keys(['ner_outputs', 'dep_parser_outputs']). Expected: ['time_distributed_139', 'time_distributed_141']\n"
     ]
    }
   ],
   "source": [
    "history = model_rel.fit(x=[X_word_tr,\n",
    "                     np.array(X_char_tr).reshape((len(X_char_tr), max_len, max_len_char))],\n",
    "                    y={'ner_outputs': np.array(y_tr_ner).reshape(len(y_tr_ner), max_len, n_tags + 1), 'dep_parser_outputs': np.array(y_tr_rel).reshape(len(y_tr_rel), max_len, max_len)},\n",
    "                    batch_size=32, epochs=30, validation_split=0.2, verbose=1)"
   ]
  },
  {
   "cell_type": "code",
   "execution_count": 389,
   "id": "7da0dede-13ac-4719-ae63-4890c38d2c68",
   "metadata": {},
   "outputs": [
    {
     "name": "stdout",
     "output_type": "stream",
     "text": [
      "Epoch 1/51\n",
      "21/21 [==============================] - 16s 745ms/step - loss: 0.0553 - time_distributed_149_loss: 0.0455 - time_distributed_151_loss: 0.0099 - time_distributed_149_accuracy: 0.9454 - time_distributed_151_accuracy: 0.0622 - val_loss: 0.1463 - val_time_distributed_149_loss: 0.1351 - val_time_distributed_151_loss: 0.0112 - val_time_distributed_149_accuracy: 0.8422 - val_time_distributed_151_accuracy: 0.0568\n",
      "Epoch 2/51\n",
      "21/21 [==============================] - 16s 742ms/step - loss: 0.0525 - time_distributed_149_loss: 0.0426 - time_distributed_151_loss: 0.0099 - time_distributed_149_accuracy: 0.9484 - time_distributed_151_accuracy: 0.0574 - val_loss: 0.1426 - val_time_distributed_149_loss: 0.1314 - val_time_distributed_151_loss: 0.0112 - val_time_distributed_149_accuracy: 0.8588 - val_time_distributed_151_accuracy: 0.0522\n",
      "Epoch 3/51\n",
      "21/21 [==============================] - 16s 746ms/step - loss: 0.0494 - time_distributed_149_loss: 0.0395 - time_distributed_151_loss: 0.0099 - time_distributed_149_accuracy: 0.9537 - time_distributed_151_accuracy: 0.0597 - val_loss: 0.1428 - val_time_distributed_149_loss: 0.1316 - val_time_distributed_151_loss: 0.0112 - val_time_distributed_149_accuracy: 0.8575 - val_time_distributed_151_accuracy: 0.0560\n",
      "Epoch 4/51\n",
      "21/21 [==============================] - 16s 744ms/step - loss: 0.0480 - time_distributed_149_loss: 0.0382 - time_distributed_151_loss: 0.0098 - time_distributed_149_accuracy: 0.9554 - time_distributed_151_accuracy: 0.0583 - val_loss: 0.1429 - val_time_distributed_149_loss: 0.1317 - val_time_distributed_151_loss: 0.0112 - val_time_distributed_149_accuracy: 0.8601 - val_time_distributed_151_accuracy: 0.0477\n",
      "Epoch 5/51\n",
      "21/21 [==============================] - 16s 742ms/step - loss: 0.0463 - time_distributed_149_loss: 0.0365 - time_distributed_151_loss: 0.0098 - time_distributed_149_accuracy: 0.9570 - time_distributed_151_accuracy: 0.0567 - val_loss: 0.1451 - val_time_distributed_149_loss: 0.1339 - val_time_distributed_151_loss: 0.0112 - val_time_distributed_149_accuracy: 0.8545 - val_time_distributed_151_accuracy: 0.0555\n",
      "Epoch 6/51\n",
      "21/21 [==============================] - 16s 747ms/step - loss: 0.0441 - time_distributed_149_loss: 0.0343 - time_distributed_151_loss: 0.0098 - time_distributed_149_accuracy: 0.9603 - time_distributed_151_accuracy: 0.0599 - val_loss: 0.1439 - val_time_distributed_149_loss: 0.1327 - val_time_distributed_151_loss: 0.0112 - val_time_distributed_149_accuracy: 0.8550 - val_time_distributed_151_accuracy: 0.0560\n",
      "Epoch 7/51\n",
      "21/21 [==============================] - 16s 743ms/step - loss: 0.0426 - time_distributed_149_loss: 0.0328 - time_distributed_151_loss: 0.0098 - time_distributed_149_accuracy: 0.9632 - time_distributed_151_accuracy: 0.0607 - val_loss: 0.1427 - val_time_distributed_149_loss: 0.1315 - val_time_distributed_151_loss: 0.0112 - val_time_distributed_149_accuracy: 0.8624 - val_time_distributed_151_accuracy: 0.0553\n",
      "Epoch 8/51\n",
      "21/21 [==============================] - 16s 746ms/step - loss: 0.0409 - time_distributed_149_loss: 0.0311 - time_distributed_151_loss: 0.0098 - time_distributed_149_accuracy: 0.9625 - time_distributed_151_accuracy: 0.0614 - val_loss: 0.1421 - val_time_distributed_149_loss: 0.1309 - val_time_distributed_151_loss: 0.0112 - val_time_distributed_149_accuracy: 0.8679 - val_time_distributed_151_accuracy: 0.0573\n",
      "Epoch 9/51\n",
      "21/21 [==============================] - 16s 745ms/step - loss: 0.0400 - time_distributed_149_loss: 0.0302 - time_distributed_151_loss: 0.0098 - time_distributed_149_accuracy: 0.9646 - time_distributed_151_accuracy: 0.0613 - val_loss: 0.1408 - val_time_distributed_149_loss: 0.1296 - val_time_distributed_151_loss: 0.0112 - val_time_distributed_149_accuracy: 0.8653 - val_time_distributed_151_accuracy: 0.0539\n",
      "Epoch 10/51\n",
      "21/21 [==============================] - 16s 746ms/step - loss: 0.0381 - time_distributed_149_loss: 0.0283 - time_distributed_151_loss: 0.0098 - time_distributed_149_accuracy: 0.9669 - time_distributed_151_accuracy: 0.0630 - val_loss: 0.1445 - val_time_distributed_149_loss: 0.1333 - val_time_distributed_151_loss: 0.0111 - val_time_distributed_149_accuracy: 0.8547 - val_time_distributed_151_accuracy: 0.0619\n",
      "Epoch 11/51\n",
      "21/21 [==============================] - 16s 744ms/step - loss: 0.0373 - time_distributed_149_loss: 0.0275 - time_distributed_151_loss: 0.0098 - time_distributed_149_accuracy: 0.9683 - time_distributed_151_accuracy: 0.0637 - val_loss: 0.1444 - val_time_distributed_149_loss: 0.1333 - val_time_distributed_151_loss: 0.0111 - val_time_distributed_149_accuracy: 0.8624 - val_time_distributed_151_accuracy: 0.0594\n",
      "Epoch 12/51\n",
      "21/21 [==============================] - 16s 747ms/step - loss: 0.0359 - time_distributed_149_loss: 0.0261 - time_distributed_151_loss: 0.0098 - time_distributed_149_accuracy: 0.9690 - time_distributed_151_accuracy: 0.0666 - val_loss: 0.1411 - val_time_distributed_149_loss: 0.1300 - val_time_distributed_151_loss: 0.0111 - val_time_distributed_149_accuracy: 0.8704 - val_time_distributed_151_accuracy: 0.0602\n",
      "Epoch 13/51\n",
      "21/21 [==============================] - 15s 737ms/step - loss: 0.0354 - time_distributed_149_loss: 0.0257 - time_distributed_151_loss: 0.0098 - time_distributed_149_accuracy: 0.9701 - time_distributed_151_accuracy: 0.0654 - val_loss: 0.1410 - val_time_distributed_149_loss: 0.1298 - val_time_distributed_151_loss: 0.0111 - val_time_distributed_149_accuracy: 0.8732 - val_time_distributed_151_accuracy: 0.0606\n",
      "Epoch 14/51\n",
      "21/21 [==============================] - 16s 746ms/step - loss: 0.0335 - time_distributed_149_loss: 0.0237 - time_distributed_151_loss: 0.0098 - time_distributed_149_accuracy: 0.9719 - time_distributed_151_accuracy: 0.0683 - val_loss: 0.1415 - val_time_distributed_149_loss: 0.1304 - val_time_distributed_151_loss: 0.0111 - val_time_distributed_149_accuracy: 0.8681 - val_time_distributed_151_accuracy: 0.0628\n",
      "Epoch 15/51\n",
      "21/21 [==============================] - 16s 748ms/step - loss: 0.0322 - time_distributed_149_loss: 0.0224 - time_distributed_151_loss: 0.0098 - time_distributed_149_accuracy: 0.9738 - time_distributed_151_accuracy: 0.0660 - val_loss: 0.1427 - val_time_distributed_149_loss: 0.1316 - val_time_distributed_151_loss: 0.0111 - val_time_distributed_149_accuracy: 0.8772 - val_time_distributed_151_accuracy: 0.0592\n",
      "Epoch 16/51\n",
      "21/21 [==============================] - 16s 744ms/step - loss: 0.0320 - time_distributed_149_loss: 0.0223 - time_distributed_151_loss: 0.0098 - time_distributed_149_accuracy: 0.9737 - time_distributed_151_accuracy: 0.0660 - val_loss: 0.1396 - val_time_distributed_149_loss: 0.1285 - val_time_distributed_151_loss: 0.0111 - val_time_distributed_149_accuracy: 0.8715 - val_time_distributed_151_accuracy: 0.0632\n",
      "Epoch 17/51\n",
      "21/21 [==============================] - 16s 743ms/step - loss: 0.0313 - time_distributed_149_loss: 0.0215 - time_distributed_151_loss: 0.0098 - time_distributed_149_accuracy: 0.9755 - time_distributed_151_accuracy: 0.0661 - val_loss: 0.1418 - val_time_distributed_149_loss: 0.1307 - val_time_distributed_151_loss: 0.0111 - val_time_distributed_149_accuracy: 0.8690 - val_time_distributed_151_accuracy: 0.0626\n",
      "Epoch 18/51\n",
      "21/21 [==============================] - 16s 744ms/step - loss: 0.0301 - time_distributed_149_loss: 0.0203 - time_distributed_151_loss: 0.0098 - time_distributed_149_accuracy: 0.9749 - time_distributed_151_accuracy: 0.0649 - val_loss: 0.1434 - val_time_distributed_149_loss: 0.1324 - val_time_distributed_151_loss: 0.0111 - val_time_distributed_149_accuracy: 0.8717 - val_time_distributed_151_accuracy: 0.0643\n",
      "Epoch 19/51\n",
      "21/21 [==============================] - 16s 746ms/step - loss: 0.0292 - time_distributed_149_loss: 0.0194 - time_distributed_151_loss: 0.0097 - time_distributed_149_accuracy: 0.9769 - time_distributed_151_accuracy: 0.0681 - val_loss: 0.1417 - val_time_distributed_149_loss: 0.1306 - val_time_distributed_151_loss: 0.0111 - val_time_distributed_149_accuracy: 0.8734 - val_time_distributed_151_accuracy: 0.0623\n",
      "Epoch 20/51\n",
      "21/21 [==============================] - 16s 744ms/step - loss: 0.0290 - time_distributed_149_loss: 0.0193 - time_distributed_151_loss: 0.0097 - time_distributed_149_accuracy: 0.9775 - time_distributed_151_accuracy: 0.0661 - val_loss: 0.1417 - val_time_distributed_149_loss: 0.1307 - val_time_distributed_151_loss: 0.0111 - val_time_distributed_149_accuracy: 0.8751 - val_time_distributed_151_accuracy: 0.0619\n",
      "Epoch 21/51\n",
      "21/21 [==============================] - 16s 745ms/step - loss: 0.0283 - time_distributed_149_loss: 0.0186 - time_distributed_151_loss: 0.0097 - time_distributed_149_accuracy: 0.9781 - time_distributed_151_accuracy: 0.0678 - val_loss: 0.1412 - val_time_distributed_149_loss: 0.1302 - val_time_distributed_151_loss: 0.0111 - val_time_distributed_149_accuracy: 0.8810 - val_time_distributed_151_accuracy: 0.0640\n",
      "Epoch 22/51\n",
      "21/21 [==============================] - 16s 743ms/step - loss: 0.0274 - time_distributed_149_loss: 0.0177 - time_distributed_151_loss: 0.0097 - time_distributed_149_accuracy: 0.9790 - time_distributed_151_accuracy: 0.0657 - val_loss: 0.1414 - val_time_distributed_149_loss: 0.1303 - val_time_distributed_151_loss: 0.0110 - val_time_distributed_149_accuracy: 0.8759 - val_time_distributed_151_accuracy: 0.0626\n",
      "Epoch 23/51\n",
      "21/21 [==============================] - 16s 746ms/step - loss: 0.0268 - time_distributed_149_loss: 0.0171 - time_distributed_151_loss: 0.0097 - time_distributed_149_accuracy: 0.9794 - time_distributed_151_accuracy: 0.0660 - val_loss: 0.1408 - val_time_distributed_149_loss: 0.1298 - val_time_distributed_151_loss: 0.0110 - val_time_distributed_149_accuracy: 0.8815 - val_time_distributed_151_accuracy: 0.0653\n",
      "Epoch 24/51\n",
      "21/21 [==============================] - 16s 746ms/step - loss: 0.0259 - time_distributed_149_loss: 0.0162 - time_distributed_151_loss: 0.0097 - time_distributed_149_accuracy: 0.9803 - time_distributed_151_accuracy: 0.0692 - val_loss: 0.1401 - val_time_distributed_149_loss: 0.1291 - val_time_distributed_151_loss: 0.0110 - val_time_distributed_149_accuracy: 0.8768 - val_time_distributed_151_accuracy: 0.0653\n",
      "Epoch 25/51\n",
      "21/21 [==============================] - 16s 746ms/step - loss: 0.0255 - time_distributed_149_loss: 0.0158 - time_distributed_151_loss: 0.0097 - time_distributed_149_accuracy: 0.9814 - time_distributed_151_accuracy: 0.0713 - val_loss: 0.1426 - val_time_distributed_149_loss: 0.1315 - val_time_distributed_151_loss: 0.0110 - val_time_distributed_149_accuracy: 0.8768 - val_time_distributed_151_accuracy: 0.0632\n",
      "Epoch 26/51\n",
      "21/21 [==============================] - 16s 748ms/step - loss: 0.0247 - time_distributed_149_loss: 0.0150 - time_distributed_151_loss: 0.0097 - time_distributed_149_accuracy: 0.9814 - time_distributed_151_accuracy: 0.0678 - val_loss: 0.1422 - val_time_distributed_149_loss: 0.1312 - val_time_distributed_151_loss: 0.0110 - val_time_distributed_149_accuracy: 0.8800 - val_time_distributed_151_accuracy: 0.0645\n",
      "Epoch 27/51\n",
      "21/21 [==============================] - 16s 747ms/step - loss: 0.0244 - time_distributed_149_loss: 0.0147 - time_distributed_151_loss: 0.0097 - time_distributed_149_accuracy: 0.9821 - time_distributed_151_accuracy: 0.0681 - val_loss: 0.1441 - val_time_distributed_149_loss: 0.1331 - val_time_distributed_151_loss: 0.0110 - val_time_distributed_149_accuracy: 0.8829 - val_time_distributed_151_accuracy: 0.0657\n",
      "Epoch 28/51\n",
      "21/21 [==============================] - 16s 743ms/step - loss: 0.0239 - time_distributed_149_loss: 0.0143 - time_distributed_151_loss: 0.0097 - time_distributed_149_accuracy: 0.9836 - time_distributed_151_accuracy: 0.0685 - val_loss: 0.1414 - val_time_distributed_149_loss: 0.1304 - val_time_distributed_151_loss: 0.0110 - val_time_distributed_149_accuracy: 0.8846 - val_time_distributed_151_accuracy: 0.0672\n",
      "Epoch 29/51\n",
      "21/21 [==============================] - 16s 746ms/step - loss: 0.0235 - time_distributed_149_loss: 0.0138 - time_distributed_151_loss: 0.0097 - time_distributed_149_accuracy: 0.9830 - time_distributed_151_accuracy: 0.0680 - val_loss: 0.1424 - val_time_distributed_149_loss: 0.1314 - val_time_distributed_151_loss: 0.0110 - val_time_distributed_149_accuracy: 0.8793 - val_time_distributed_151_accuracy: 0.0643\n",
      "Epoch 30/51\n",
      "21/21 [==============================] - 16s 746ms/step - loss: 0.0230 - time_distributed_149_loss: 0.0134 - time_distributed_151_loss: 0.0096 - time_distributed_149_accuracy: 0.9842 - time_distributed_151_accuracy: 0.0684 - val_loss: 0.1449 - val_time_distributed_149_loss: 0.1340 - val_time_distributed_151_loss: 0.0110 - val_time_distributed_149_accuracy: 0.8853 - val_time_distributed_151_accuracy: 0.0693\n",
      "Epoch 31/51\n",
      "21/21 [==============================] - 16s 747ms/step - loss: 0.0226 - time_distributed_149_loss: 0.0129 - time_distributed_151_loss: 0.0096 - time_distributed_149_accuracy: 0.9853 - time_distributed_151_accuracy: 0.0731 - val_loss: 0.1429 - val_time_distributed_149_loss: 0.1320 - val_time_distributed_151_loss: 0.0110 - val_time_distributed_149_accuracy: 0.8812 - val_time_distributed_151_accuracy: 0.0664\n",
      "Epoch 32/51\n",
      "21/21 [==============================] - 16s 747ms/step - loss: 0.0217 - time_distributed_149_loss: 0.0121 - time_distributed_151_loss: 0.0096 - time_distributed_149_accuracy: 0.9866 - time_distributed_151_accuracy: 0.0712 - val_loss: 0.1464 - val_time_distributed_149_loss: 0.1355 - val_time_distributed_151_loss: 0.0109 - val_time_distributed_149_accuracy: 0.8777 - val_time_distributed_151_accuracy: 0.0772\n",
      "Epoch 33/51\n",
      "21/21 [==============================] - 16s 746ms/step - loss: 0.0221 - time_distributed_149_loss: 0.0125 - time_distributed_151_loss: 0.0096 - time_distributed_149_accuracy: 0.9850 - time_distributed_151_accuracy: 0.0703 - val_loss: 0.1450 - val_time_distributed_149_loss: 0.1341 - val_time_distributed_151_loss: 0.0109 - val_time_distributed_149_accuracy: 0.8829 - val_time_distributed_151_accuracy: 0.0685\n",
      "Epoch 34/51\n",
      "21/21 [==============================] - 16s 752ms/step - loss: 0.0216 - time_distributed_149_loss: 0.0120 - time_distributed_151_loss: 0.0096 - time_distributed_149_accuracy: 0.9853 - time_distributed_151_accuracy: 0.0770 - val_loss: 0.1475 - val_time_distributed_149_loss: 0.1366 - val_time_distributed_151_loss: 0.0109 - val_time_distributed_149_accuracy: 0.8834 - val_time_distributed_151_accuracy: 0.0689\n",
      "Epoch 35/51\n",
      "21/21 [==============================] - 16s 745ms/step - loss: 0.0217 - time_distributed_149_loss: 0.0121 - time_distributed_151_loss: 0.0096 - time_distributed_149_accuracy: 0.9860 - time_distributed_151_accuracy: 0.0730 - val_loss: 0.1446 - val_time_distributed_149_loss: 0.1337 - val_time_distributed_151_loss: 0.0109 - val_time_distributed_149_accuracy: 0.8813 - val_time_distributed_151_accuracy: 0.0712\n",
      "Epoch 36/51\n",
      "21/21 [==============================] - 16s 748ms/step - loss: 0.0205 - time_distributed_149_loss: 0.0110 - time_distributed_151_loss: 0.0096 - time_distributed_149_accuracy: 0.9874 - time_distributed_151_accuracy: 0.0737 - val_loss: 0.1466 - val_time_distributed_149_loss: 0.1357 - val_time_distributed_151_loss: 0.0109 - val_time_distributed_149_accuracy: 0.8806 - val_time_distributed_151_accuracy: 0.0772\n",
      "Epoch 37/51\n",
      "21/21 [==============================] - 16s 742ms/step - loss: 0.0206 - time_distributed_149_loss: 0.0111 - time_distributed_151_loss: 0.0096 - time_distributed_149_accuracy: 0.9876 - time_distributed_151_accuracy: 0.0759 - val_loss: 0.1468 - val_time_distributed_149_loss: 0.1359 - val_time_distributed_151_loss: 0.0109 - val_time_distributed_149_accuracy: 0.8817 - val_time_distributed_151_accuracy: 0.0744\n",
      "Epoch 38/51\n",
      "21/21 [==============================] - 16s 746ms/step - loss: 0.0201 - time_distributed_149_loss: 0.0106 - time_distributed_151_loss: 0.0096 - time_distributed_149_accuracy: 0.9872 - time_distributed_151_accuracy: 0.0781 - val_loss: 0.1480 - val_time_distributed_149_loss: 0.1371 - val_time_distributed_151_loss: 0.0109 - val_time_distributed_149_accuracy: 0.8861 - val_time_distributed_151_accuracy: 0.0742\n",
      "Epoch 39/51\n",
      "21/21 [==============================] - 16s 745ms/step - loss: 0.0198 - time_distributed_149_loss: 0.0103 - time_distributed_151_loss: 0.0096 - time_distributed_149_accuracy: 0.9882 - time_distributed_151_accuracy: 0.0799 - val_loss: 0.1466 - val_time_distributed_149_loss: 0.1358 - val_time_distributed_151_loss: 0.0109 - val_time_distributed_149_accuracy: 0.8817 - val_time_distributed_151_accuracy: 0.0814\n",
      "Epoch 40/51\n",
      "21/21 [==============================] - 16s 748ms/step - loss: 0.0197 - time_distributed_149_loss: 0.0102 - time_distributed_151_loss: 0.0096 - time_distributed_149_accuracy: 0.9872 - time_distributed_151_accuracy: 0.0804 - val_loss: 0.1505 - val_time_distributed_149_loss: 0.1397 - val_time_distributed_151_loss: 0.0109 - val_time_distributed_149_accuracy: 0.8838 - val_time_distributed_151_accuracy: 0.0713\n",
      "Epoch 41/51\n",
      "21/21 [==============================] - 16s 748ms/step - loss: 0.0190 - time_distributed_149_loss: 0.0095 - time_distributed_151_loss: 0.0095 - time_distributed_149_accuracy: 0.9888 - time_distributed_151_accuracy: 0.0791 - val_loss: 0.1508 - val_time_distributed_149_loss: 0.1400 - val_time_distributed_151_loss: 0.0109 - val_time_distributed_149_accuracy: 0.8864 - val_time_distributed_151_accuracy: 0.0778\n",
      "Epoch 42/51\n",
      "21/21 [==============================] - 16s 747ms/step - loss: 0.0195 - time_distributed_149_loss: 0.0100 - time_distributed_151_loss: 0.0095 - time_distributed_149_accuracy: 0.9876 - time_distributed_151_accuracy: 0.0799 - val_loss: 0.1503 - val_time_distributed_149_loss: 0.1395 - val_time_distributed_151_loss: 0.0108 - val_time_distributed_149_accuracy: 0.8849 - val_time_distributed_151_accuracy: 0.0761\n",
      "Epoch 43/51\n",
      "21/21 [==============================] - 16s 749ms/step - loss: 0.0190 - time_distributed_149_loss: 0.0094 - time_distributed_151_loss: 0.0095 - time_distributed_149_accuracy: 0.9891 - time_distributed_151_accuracy: 0.0812 - val_loss: 0.1503 - val_time_distributed_149_loss: 0.1395 - val_time_distributed_151_loss: 0.0108 - val_time_distributed_149_accuracy: 0.8842 - val_time_distributed_151_accuracy: 0.0785\n",
      "Epoch 44/51\n",
      "21/21 [==============================] - 16s 748ms/step - loss: 0.0188 - time_distributed_149_loss: 0.0093 - time_distributed_151_loss: 0.0095 - time_distributed_149_accuracy: 0.9891 - time_distributed_151_accuracy: 0.0807 - val_loss: 0.1506 - val_time_distributed_149_loss: 0.1398 - val_time_distributed_151_loss: 0.0108 - val_time_distributed_149_accuracy: 0.8847 - val_time_distributed_151_accuracy: 0.0806\n",
      "Epoch 45/51\n",
      "21/21 [==============================] - 16s 748ms/step - loss: 0.0185 - time_distributed_149_loss: 0.0090 - time_distributed_151_loss: 0.0095 - time_distributed_149_accuracy: 0.9903 - time_distributed_151_accuracy: 0.0842 - val_loss: 0.1530 - val_time_distributed_149_loss: 0.1422 - val_time_distributed_151_loss: 0.0108 - val_time_distributed_149_accuracy: 0.8861 - val_time_distributed_151_accuracy: 0.0814\n",
      "Epoch 46/51\n",
      "21/21 [==============================] - 16s 750ms/step - loss: 0.0182 - time_distributed_149_loss: 0.0088 - time_distributed_151_loss: 0.0095 - time_distributed_149_accuracy: 0.9896 - time_distributed_151_accuracy: 0.0833 - val_loss: 0.1519 - val_time_distributed_149_loss: 0.1411 - val_time_distributed_151_loss: 0.0108 - val_time_distributed_149_accuracy: 0.8838 - val_time_distributed_151_accuracy: 0.0865\n",
      "Epoch 47/51\n",
      "21/21 [==============================] - 16s 744ms/step - loss: 0.0184 - time_distributed_149_loss: 0.0089 - time_distributed_151_loss: 0.0095 - time_distributed_149_accuracy: 0.9891 - time_distributed_151_accuracy: 0.0855 - val_loss: 0.1520 - val_time_distributed_149_loss: 0.1412 - val_time_distributed_151_loss: 0.0108 - val_time_distributed_149_accuracy: 0.8829 - val_time_distributed_151_accuracy: 0.0889\n",
      "Epoch 48/51\n",
      "21/21 [==============================] - 16s 744ms/step - loss: 0.0182 - time_distributed_149_loss: 0.0087 - time_distributed_151_loss: 0.0095 - time_distributed_149_accuracy: 0.9896 - time_distributed_151_accuracy: 0.0865 - val_loss: 0.1510 - val_time_distributed_149_loss: 0.1403 - val_time_distributed_151_loss: 0.0108 - val_time_distributed_149_accuracy: 0.8834 - val_time_distributed_151_accuracy: 0.0857\n",
      "Epoch 49/51\n",
      "21/21 [==============================] - 16s 750ms/step - loss: 0.0176 - time_distributed_149_loss: 0.0082 - time_distributed_151_loss: 0.0095 - time_distributed_149_accuracy: 0.9905 - time_distributed_151_accuracy: 0.0848 - val_loss: 0.1500 - val_time_distributed_149_loss: 0.1393 - val_time_distributed_151_loss: 0.0108 - val_time_distributed_149_accuracy: 0.8817 - val_time_distributed_151_accuracy: 0.0840\n",
      "Epoch 50/51\n",
      "21/21 [==============================] - 16s 744ms/step - loss: 0.0177 - time_distributed_149_loss: 0.0083 - time_distributed_151_loss: 0.0094 - time_distributed_149_accuracy: 0.9897 - time_distributed_151_accuracy: 0.0917 - val_loss: 0.1521 - val_time_distributed_149_loss: 0.1414 - val_time_distributed_151_loss: 0.0108 - val_time_distributed_149_accuracy: 0.8798 - val_time_distributed_151_accuracy: 0.0937\n",
      "Epoch 51/51\n",
      "21/21 [==============================] - 16s 750ms/step - loss: 0.0177 - time_distributed_149_loss: 0.0082 - time_distributed_151_loss: 0.0094 - time_distributed_149_accuracy: 0.9901 - time_distributed_151_accuracy: 0.0893 - val_loss: 0.1524 - val_time_distributed_149_loss: 0.1416 - val_time_distributed_151_loss: 0.0108 - val_time_distributed_149_accuracy: 0.8863 - val_time_distributed_151_accuracy: 0.0899\n"
     ]
    }
   ],
   "source": [
    "history = model_rel.fit(x=[X_word_tr,\n",
    "                     np.array(X_char_tr).reshape((len(X_char_tr), max_len, max_len_char))],\n",
    "                    y=[np.array(y_tr_ner).reshape(len(y_tr_ner), max_len, n_tags + 1), np.array(y_tr_rel).reshape(len(y_tr_rel), max_len, max_len)],\n",
    "                    batch_size=32, epochs=51, validation_split=0.2, verbose=1)"
   ]
  },
  {
   "cell_type": "code",
   "execution_count": 390,
   "id": "daa4f7c3-7c53-41bb-9d15-7fc87f356569",
   "metadata": {},
   "outputs": [
    {
     "name": "stdout",
     "output_type": "stream",
     "text": [
      "Epoch 1/100\n",
      "21/21 [==============================] - 16s 743ms/step - loss: 0.0172 - time_distributed_149_loss: 0.0077 - time_distributed_151_loss: 0.0094 - time_distributed_149_accuracy: 0.9910 - time_distributed_151_accuracy: 0.0895 - val_loss: 0.1578 - val_time_distributed_149_loss: 0.1471 - val_time_distributed_151_loss: 0.0107 - val_time_distributed_149_accuracy: 0.8861 - val_time_distributed_151_accuracy: 0.0912\n",
      "Epoch 2/100\n",
      "21/21 [==============================] - 16s 750ms/step - loss: 0.0170 - time_distributed_149_loss: 0.0076 - time_distributed_151_loss: 0.0094 - time_distributed_149_accuracy: 0.9904 - time_distributed_151_accuracy: 0.0922 - val_loss: 0.1595 - val_time_distributed_149_loss: 0.1488 - val_time_distributed_151_loss: 0.0107 - val_time_distributed_149_accuracy: 0.8863 - val_time_distributed_151_accuracy: 0.0910\n",
      "Epoch 3/100\n",
      "21/21 [==============================] - 16s 750ms/step - loss: 0.0167 - time_distributed_149_loss: 0.0072 - time_distributed_151_loss: 0.0094 - time_distributed_149_accuracy: 0.9918 - time_distributed_151_accuracy: 0.0932 - val_loss: 0.1564 - val_time_distributed_149_loss: 0.1457 - val_time_distributed_151_loss: 0.0107 - val_time_distributed_149_accuracy: 0.8863 - val_time_distributed_151_accuracy: 0.0950\n",
      "Epoch 4/100\n",
      "21/21 [==============================] - 16s 747ms/step - loss: 0.0159 - time_distributed_149_loss: 0.0065 - time_distributed_151_loss: 0.0094 - time_distributed_149_accuracy: 0.9928 - time_distributed_151_accuracy: 0.0937 - val_loss: 0.1580 - val_time_distributed_149_loss: 0.1473 - val_time_distributed_151_loss: 0.0107 - val_time_distributed_149_accuracy: 0.8863 - val_time_distributed_151_accuracy: 0.0958\n",
      "Epoch 5/100\n",
      "21/21 [==============================] - 16s 752ms/step - loss: 0.0168 - time_distributed_149_loss: 0.0074 - time_distributed_151_loss: 0.0094 - time_distributed_149_accuracy: 0.9920 - time_distributed_151_accuracy: 0.0944 - val_loss: 0.1572 - val_time_distributed_149_loss: 0.1465 - val_time_distributed_151_loss: 0.0107 - val_time_distributed_149_accuracy: 0.8813 - val_time_distributed_151_accuracy: 0.0988\n",
      "Epoch 6/100\n",
      "21/21 [==============================] - 16s 745ms/step - loss: 0.0162 - time_distributed_149_loss: 0.0068 - time_distributed_151_loss: 0.0094 - time_distributed_149_accuracy: 0.9919 - time_distributed_151_accuracy: 0.0979 - val_loss: 0.1587 - val_time_distributed_149_loss: 0.1480 - val_time_distributed_151_loss: 0.0107 - val_time_distributed_149_accuracy: 0.8840 - val_time_distributed_151_accuracy: 0.0971\n",
      "Epoch 7/100\n",
      "21/21 [==============================] - 16s 748ms/step - loss: 0.0158 - time_distributed_149_loss: 0.0064 - time_distributed_151_loss: 0.0094 - time_distributed_149_accuracy: 0.9931 - time_distributed_151_accuracy: 0.0951 - val_loss: 0.1578 - val_time_distributed_149_loss: 0.1471 - val_time_distributed_151_loss: 0.0107 - val_time_distributed_149_accuracy: 0.8821 - val_time_distributed_151_accuracy: 0.0995\n",
      "Epoch 8/100\n",
      "21/21 [==============================] - 16s 746ms/step - loss: 0.0158 - time_distributed_149_loss: 0.0064 - time_distributed_151_loss: 0.0094 - time_distributed_149_accuracy: 0.9924 - time_distributed_151_accuracy: 0.0988 - val_loss: 0.1594 - val_time_distributed_149_loss: 0.1488 - val_time_distributed_151_loss: 0.0107 - val_time_distributed_149_accuracy: 0.8870 - val_time_distributed_151_accuracy: 0.1069\n",
      "Epoch 9/100\n",
      "21/21 [==============================] - 16s 742ms/step - loss: 0.0152 - time_distributed_149_loss: 0.0059 - time_distributed_151_loss: 0.0093 - time_distributed_149_accuracy: 0.9936 - time_distributed_151_accuracy: 0.1020 - val_loss: 0.1592 - val_time_distributed_149_loss: 0.1486 - val_time_distributed_151_loss: 0.0106 - val_time_distributed_149_accuracy: 0.8857 - val_time_distributed_151_accuracy: 0.1035\n",
      "Epoch 10/100\n",
      "21/21 [==============================] - 15s 737ms/step - loss: 0.0154 - time_distributed_149_loss: 0.0061 - time_distributed_151_loss: 0.0093 - time_distributed_149_accuracy: 0.9931 - time_distributed_151_accuracy: 0.1039 - val_loss: 0.1638 - val_time_distributed_149_loss: 0.1532 - val_time_distributed_151_loss: 0.0106 - val_time_distributed_149_accuracy: 0.8834 - val_time_distributed_151_accuracy: 0.1081\n",
      "Epoch 11/100\n",
      "21/21 [==============================] - 16s 744ms/step - loss: 0.0158 - time_distributed_149_loss: 0.0065 - time_distributed_151_loss: 0.0093 - time_distributed_149_accuracy: 0.9933 - time_distributed_151_accuracy: 0.1030 - val_loss: 0.1616 - val_time_distributed_149_loss: 0.1509 - val_time_distributed_151_loss: 0.0106 - val_time_distributed_149_accuracy: 0.8864 - val_time_distributed_151_accuracy: 0.1096\n",
      "Epoch 12/100\n",
      "21/21 [==============================] - 16s 748ms/step - loss: 0.0154 - time_distributed_149_loss: 0.0061 - time_distributed_151_loss: 0.0093 - time_distributed_149_accuracy: 0.9936 - time_distributed_151_accuracy: 0.1026 - val_loss: 0.1598 - val_time_distributed_149_loss: 0.1492 - val_time_distributed_151_loss: 0.0106 - val_time_distributed_149_accuracy: 0.8872 - val_time_distributed_151_accuracy: 0.1058\n",
      "Epoch 13/100\n",
      "21/21 [==============================] - 16s 750ms/step - loss: 0.0153 - time_distributed_149_loss: 0.0060 - time_distributed_151_loss: 0.0093 - time_distributed_149_accuracy: 0.9930 - time_distributed_151_accuracy: 0.1036 - val_loss: 0.1601 - val_time_distributed_149_loss: 0.1495 - val_time_distributed_151_loss: 0.0106 - val_time_distributed_149_accuracy: 0.8870 - val_time_distributed_151_accuracy: 0.1109\n",
      "Epoch 14/100\n",
      "21/21 [==============================] - 16s 752ms/step - loss: 0.0150 - time_distributed_149_loss: 0.0057 - time_distributed_151_loss: 0.0093 - time_distributed_149_accuracy: 0.9938 - time_distributed_151_accuracy: 0.1024 - val_loss: 0.1641 - val_time_distributed_149_loss: 0.1535 - val_time_distributed_151_loss: 0.0106 - val_time_distributed_149_accuracy: 0.8876 - val_time_distributed_151_accuracy: 0.1100\n",
      "Epoch 15/100\n",
      "21/21 [==============================] - 16s 745ms/step - loss: 0.0151 - time_distributed_149_loss: 0.0058 - time_distributed_151_loss: 0.0093 - time_distributed_149_accuracy: 0.9930 - time_distributed_151_accuracy: 0.1088 - val_loss: 0.1636 - val_time_distributed_149_loss: 0.1531 - val_time_distributed_151_loss: 0.0106 - val_time_distributed_149_accuracy: 0.8866 - val_time_distributed_151_accuracy: 0.1071\n",
      "Epoch 16/100\n",
      "21/21 [==============================] - 16s 746ms/step - loss: 0.0145 - time_distributed_149_loss: 0.0052 - time_distributed_151_loss: 0.0093 - time_distributed_149_accuracy: 0.9942 - time_distributed_151_accuracy: 0.1050 - val_loss: 0.1623 - val_time_distributed_149_loss: 0.1517 - val_time_distributed_151_loss: 0.0105 - val_time_distributed_149_accuracy: 0.8844 - val_time_distributed_151_accuracy: 0.1067\n",
      "Epoch 17/100\n",
      "21/21 [==============================] - 16s 748ms/step - loss: 0.0145 - time_distributed_149_loss: 0.0052 - time_distributed_151_loss: 0.0092 - time_distributed_149_accuracy: 0.9943 - time_distributed_151_accuracy: 0.1071 - val_loss: 0.1624 - val_time_distributed_149_loss: 0.1518 - val_time_distributed_151_loss: 0.0105 - val_time_distributed_149_accuracy: 0.8855 - val_time_distributed_151_accuracy: 0.1083\n",
      "Epoch 18/100\n",
      "21/21 [==============================] - 16s 748ms/step - loss: 0.0146 - time_distributed_149_loss: 0.0054 - time_distributed_151_loss: 0.0092 - time_distributed_149_accuracy: 0.9939 - time_distributed_151_accuracy: 0.1125 - val_loss: 0.1664 - val_time_distributed_149_loss: 0.1559 - val_time_distributed_151_loss: 0.0105 - val_time_distributed_149_accuracy: 0.8878 - val_time_distributed_151_accuracy: 0.1107\n",
      "Epoch 19/100\n",
      "21/21 [==============================] - 16s 749ms/step - loss: 0.0146 - time_distributed_149_loss: 0.0054 - time_distributed_151_loss: 0.0092 - time_distributed_149_accuracy: 0.9940 - time_distributed_151_accuracy: 0.1086 - val_loss: 0.1642 - val_time_distributed_149_loss: 0.1537 - val_time_distributed_151_loss: 0.0105 - val_time_distributed_149_accuracy: 0.8866 - val_time_distributed_151_accuracy: 0.1154\n",
      "Epoch 20/100\n",
      "21/21 [==============================] - 16s 747ms/step - loss: 0.0142 - time_distributed_149_loss: 0.0050 - time_distributed_151_loss: 0.0092 - time_distributed_149_accuracy: 0.9946 - time_distributed_151_accuracy: 0.1071 - val_loss: 0.1691 - val_time_distributed_149_loss: 0.1586 - val_time_distributed_151_loss: 0.0105 - val_time_distributed_149_accuracy: 0.8874 - val_time_distributed_151_accuracy: 0.1194\n",
      "Epoch 21/100\n",
      "21/21 [==============================] - 16s 749ms/step - loss: 0.0141 - time_distributed_149_loss: 0.0049 - time_distributed_151_loss: 0.0092 - time_distributed_149_accuracy: 0.9946 - time_distributed_151_accuracy: 0.1104 - val_loss: 0.1656 - val_time_distributed_149_loss: 0.1551 - val_time_distributed_151_loss: 0.0105 - val_time_distributed_149_accuracy: 0.8870 - val_time_distributed_151_accuracy: 0.1170\n",
      "Epoch 22/100\n",
      "21/21 [==============================] - 16s 747ms/step - loss: 0.0143 - time_distributed_149_loss: 0.0052 - time_distributed_151_loss: 0.0092 - time_distributed_149_accuracy: 0.9937 - time_distributed_151_accuracy: 0.1105 - val_loss: 0.1637 - val_time_distributed_149_loss: 0.1533 - val_time_distributed_151_loss: 0.0105 - val_time_distributed_149_accuracy: 0.8849 - val_time_distributed_151_accuracy: 0.1154\n",
      "Epoch 23/100\n",
      "21/21 [==============================] - 16s 745ms/step - loss: 0.0142 - time_distributed_149_loss: 0.0050 - time_distributed_151_loss: 0.0092 - time_distributed_149_accuracy: 0.9945 - time_distributed_151_accuracy: 0.1171 - val_loss: 0.1704 - val_time_distributed_149_loss: 0.1599 - val_time_distributed_151_loss: 0.0105 - val_time_distributed_149_accuracy: 0.8880 - val_time_distributed_151_accuracy: 0.1226\n",
      "Epoch 24/100\n",
      "21/21 [==============================] - 16s 748ms/step - loss: 0.0139 - time_distributed_149_loss: 0.0047 - time_distributed_151_loss: 0.0091 - time_distributed_149_accuracy: 0.9946 - time_distributed_151_accuracy: 0.1150 - val_loss: 0.1651 - val_time_distributed_149_loss: 0.1546 - val_time_distributed_151_loss: 0.0104 - val_time_distributed_149_accuracy: 0.8832 - val_time_distributed_151_accuracy: 0.1194\n",
      "Epoch 25/100\n",
      "21/21 [==============================] - 16s 750ms/step - loss: 0.0136 - time_distributed_149_loss: 0.0045 - time_distributed_151_loss: 0.0091 - time_distributed_149_accuracy: 0.9950 - time_distributed_151_accuracy: 0.1166 - val_loss: 0.1697 - val_time_distributed_149_loss: 0.1593 - val_time_distributed_151_loss: 0.0104 - val_time_distributed_149_accuracy: 0.8846 - val_time_distributed_151_accuracy: 0.1219\n",
      "Epoch 26/100\n",
      "21/21 [==============================] - 16s 747ms/step - loss: 0.0138 - time_distributed_149_loss: 0.0047 - time_distributed_151_loss: 0.0091 - time_distributed_149_accuracy: 0.9943 - time_distributed_151_accuracy: 0.1151 - val_loss: 0.1641 - val_time_distributed_149_loss: 0.1537 - val_time_distributed_151_loss: 0.0104 - val_time_distributed_149_accuracy: 0.8857 - val_time_distributed_151_accuracy: 0.1219\n",
      "Epoch 27/100\n",
      "21/21 [==============================] - 16s 750ms/step - loss: 0.0137 - time_distributed_149_loss: 0.0046 - time_distributed_151_loss: 0.0091 - time_distributed_149_accuracy: 0.9951 - time_distributed_151_accuracy: 0.1180 - val_loss: 0.1703 - val_time_distributed_149_loss: 0.1599 - val_time_distributed_151_loss: 0.0104 - val_time_distributed_149_accuracy: 0.8889 - val_time_distributed_151_accuracy: 0.1198\n",
      "Epoch 28/100\n",
      "21/21 [==============================] - 16s 748ms/step - loss: 0.0135 - time_distributed_149_loss: 0.0044 - time_distributed_151_loss: 0.0091 - time_distributed_149_accuracy: 0.9949 - time_distributed_151_accuracy: 0.1201 - val_loss: 0.1704 - val_time_distributed_149_loss: 0.1600 - val_time_distributed_151_loss: 0.0104 - val_time_distributed_149_accuracy: 0.8829 - val_time_distributed_151_accuracy: 0.1185\n",
      "Epoch 29/100\n",
      "21/21 [==============================] - 16s 750ms/step - loss: 0.0136 - time_distributed_149_loss: 0.0045 - time_distributed_151_loss: 0.0091 - time_distributed_149_accuracy: 0.9950 - time_distributed_151_accuracy: 0.1189 - val_loss: 0.1696 - val_time_distributed_149_loss: 0.1593 - val_time_distributed_151_loss: 0.0103 - val_time_distributed_149_accuracy: 0.8876 - val_time_distributed_151_accuracy: 0.1156\n",
      "Epoch 30/100\n",
      "21/21 [==============================] - 16s 750ms/step - loss: 0.0131 - time_distributed_149_loss: 0.0041 - time_distributed_151_loss: 0.0090 - time_distributed_149_accuracy: 0.9960 - time_distributed_151_accuracy: 0.1188 - val_loss: 0.1720 - val_time_distributed_149_loss: 0.1617 - val_time_distributed_151_loss: 0.0103 - val_time_distributed_149_accuracy: 0.8872 - val_time_distributed_151_accuracy: 0.1221\n",
      "Epoch 31/100\n",
      "21/21 [==============================] - 16s 746ms/step - loss: 0.0133 - time_distributed_149_loss: 0.0043 - time_distributed_151_loss: 0.0090 - time_distributed_149_accuracy: 0.9954 - time_distributed_151_accuracy: 0.1190 - val_loss: 0.1678 - val_time_distributed_149_loss: 0.1575 - val_time_distributed_151_loss: 0.0103 - val_time_distributed_149_accuracy: 0.8846 - val_time_distributed_151_accuracy: 0.1194\n",
      "Epoch 32/100\n",
      "21/21 [==============================] - 16s 753ms/step - loss: 0.0131 - time_distributed_149_loss: 0.0041 - time_distributed_151_loss: 0.0090 - time_distributed_149_accuracy: 0.9957 - time_distributed_151_accuracy: 0.1244 - val_loss: 0.1722 - val_time_distributed_149_loss: 0.1619 - val_time_distributed_151_loss: 0.0103 - val_time_distributed_149_accuracy: 0.8880 - val_time_distributed_151_accuracy: 0.1238\n",
      "Epoch 33/100\n",
      "21/21 [==============================] - 16s 748ms/step - loss: 0.0131 - time_distributed_149_loss: 0.0041 - time_distributed_151_loss: 0.0090 - time_distributed_149_accuracy: 0.9953 - time_distributed_151_accuracy: 0.1204 - val_loss: 0.1763 - val_time_distributed_149_loss: 0.1660 - val_time_distributed_151_loss: 0.0103 - val_time_distributed_149_accuracy: 0.8855 - val_time_distributed_151_accuracy: 0.1257\n",
      "Epoch 34/100\n",
      "21/21 [==============================] - 16s 748ms/step - loss: 0.0130 - time_distributed_149_loss: 0.0040 - time_distributed_151_loss: 0.0090 - time_distributed_149_accuracy: 0.9954 - time_distributed_151_accuracy: 0.1176 - val_loss: 0.1734 - val_time_distributed_149_loss: 0.1632 - val_time_distributed_151_loss: 0.0102 - val_time_distributed_149_accuracy: 0.8882 - val_time_distributed_151_accuracy: 0.1253\n",
      "Epoch 35/100\n",
      "21/21 [==============================] - 16s 747ms/step - loss: 0.0129 - time_distributed_149_loss: 0.0039 - time_distributed_151_loss: 0.0090 - time_distributed_149_accuracy: 0.9960 - time_distributed_151_accuracy: 0.1219 - val_loss: 0.1698 - val_time_distributed_149_loss: 0.1596 - val_time_distributed_151_loss: 0.0102 - val_time_distributed_149_accuracy: 0.8891 - val_time_distributed_151_accuracy: 0.1300\n",
      "Epoch 36/100\n",
      "21/21 [==============================] - 16s 750ms/step - loss: 0.0128 - time_distributed_149_loss: 0.0038 - time_distributed_151_loss: 0.0089 - time_distributed_149_accuracy: 0.9956 - time_distributed_151_accuracy: 0.1232 - val_loss: 0.1703 - val_time_distributed_149_loss: 0.1601 - val_time_distributed_151_loss: 0.0102 - val_time_distributed_149_accuracy: 0.8866 - val_time_distributed_151_accuracy: 0.1357\n",
      "Epoch 37/100\n",
      "21/21 [==============================] - 16s 748ms/step - loss: 0.0129 - time_distributed_149_loss: 0.0039 - time_distributed_151_loss: 0.0089 - time_distributed_149_accuracy: 0.9959 - time_distributed_151_accuracy: 0.1275 - val_loss: 0.1715 - val_time_distributed_149_loss: 0.1613 - val_time_distributed_151_loss: 0.0102 - val_time_distributed_149_accuracy: 0.8872 - val_time_distributed_151_accuracy: 0.1312\n",
      "Epoch 38/100\n",
      "21/21 [==============================] - 16s 749ms/step - loss: 0.0129 - time_distributed_149_loss: 0.0040 - time_distributed_151_loss: 0.0089 - time_distributed_149_accuracy: 0.9958 - time_distributed_151_accuracy: 0.1268 - val_loss: 0.1781 - val_time_distributed_149_loss: 0.1680 - val_time_distributed_151_loss: 0.0101 - val_time_distributed_149_accuracy: 0.8846 - val_time_distributed_151_accuracy: 0.1302\n",
      "Epoch 39/100\n",
      "21/21 [==============================] - 16s 751ms/step - loss: 0.0124 - time_distributed_149_loss: 0.0036 - time_distributed_151_loss: 0.0089 - time_distributed_149_accuracy: 0.9959 - time_distributed_151_accuracy: 0.1249 - val_loss: 0.1701 - val_time_distributed_149_loss: 0.1600 - val_time_distributed_151_loss: 0.0101 - val_time_distributed_149_accuracy: 0.8851 - val_time_distributed_151_accuracy: 0.1359\n",
      "Epoch 40/100\n",
      "21/21 [==============================] - 16s 744ms/step - loss: 0.0125 - time_distributed_149_loss: 0.0036 - time_distributed_151_loss: 0.0089 - time_distributed_149_accuracy: 0.9960 - time_distributed_151_accuracy: 0.1271 - val_loss: 0.1741 - val_time_distributed_149_loss: 0.1640 - val_time_distributed_151_loss: 0.0101 - val_time_distributed_149_accuracy: 0.8880 - val_time_distributed_151_accuracy: 0.1382\n",
      "Epoch 41/100\n",
      "21/21 [==============================] - 16s 747ms/step - loss: 0.0126 - time_distributed_149_loss: 0.0037 - time_distributed_151_loss: 0.0088 - time_distributed_149_accuracy: 0.9961 - time_distributed_151_accuracy: 0.1307 - val_loss: 0.1754 - val_time_distributed_149_loss: 0.1653 - val_time_distributed_151_loss: 0.0101 - val_time_distributed_149_accuracy: 0.8864 - val_time_distributed_151_accuracy: 0.1332\n",
      "Epoch 42/100\n",
      "21/21 [==============================] - 16s 746ms/step - loss: 0.0127 - time_distributed_149_loss: 0.0038 - time_distributed_151_loss: 0.0088 - time_distributed_149_accuracy: 0.9957 - time_distributed_151_accuracy: 0.1310 - val_loss: 0.1730 - val_time_distributed_149_loss: 0.1630 - val_time_distributed_151_loss: 0.0101 - val_time_distributed_149_accuracy: 0.8870 - val_time_distributed_151_accuracy: 0.1383\n",
      "Epoch 43/100\n",
      "21/21 [==============================] - 16s 746ms/step - loss: 0.0121 - time_distributed_149_loss: 0.0033 - time_distributed_151_loss: 0.0088 - time_distributed_149_accuracy: 0.9965 - time_distributed_151_accuracy: 0.1306 - val_loss: 0.1750 - val_time_distributed_149_loss: 0.1649 - val_time_distributed_151_loss: 0.0100 - val_time_distributed_149_accuracy: 0.8878 - val_time_distributed_151_accuracy: 0.1417\n",
      "Epoch 44/100\n",
      "21/21 [==============================] - 16s 749ms/step - loss: 0.0122 - time_distributed_149_loss: 0.0034 - time_distributed_151_loss: 0.0088 - time_distributed_149_accuracy: 0.9966 - time_distributed_151_accuracy: 0.1341 - val_loss: 0.1780 - val_time_distributed_149_loss: 0.1680 - val_time_distributed_151_loss: 0.0100 - val_time_distributed_149_accuracy: 0.8868 - val_time_distributed_151_accuracy: 0.1448\n",
      "Epoch 45/100\n",
      "21/21 [==============================] - 16s 749ms/step - loss: 0.0124 - time_distributed_149_loss: 0.0037 - time_distributed_151_loss: 0.0088 - time_distributed_149_accuracy: 0.9963 - time_distributed_151_accuracy: 0.1335 - val_loss: 0.1768 - val_time_distributed_149_loss: 0.1668 - val_time_distributed_151_loss: 0.0100 - val_time_distributed_149_accuracy: 0.8863 - val_time_distributed_151_accuracy: 0.1425\n",
      "Epoch 46/100\n",
      "21/21 [==============================] - 16s 747ms/step - loss: 0.0125 - time_distributed_149_loss: 0.0038 - time_distributed_151_loss: 0.0087 - time_distributed_149_accuracy: 0.9951 - time_distributed_151_accuracy: 0.1364 - val_loss: 0.1755 - val_time_distributed_149_loss: 0.1655 - val_time_distributed_151_loss: 0.0100 - val_time_distributed_149_accuracy: 0.8868 - val_time_distributed_151_accuracy: 0.1444\n",
      "Epoch 47/100\n",
      "21/21 [==============================] - 16s 744ms/step - loss: 0.0120 - time_distributed_149_loss: 0.0032 - time_distributed_151_loss: 0.0087 - time_distributed_149_accuracy: 0.9967 - time_distributed_151_accuracy: 0.1357 - val_loss: 0.1725 - val_time_distributed_149_loss: 0.1625 - val_time_distributed_151_loss: 0.0100 - val_time_distributed_149_accuracy: 0.8899 - val_time_distributed_151_accuracy: 0.1503\n",
      "Epoch 48/100\n",
      "21/21 [==============================] - 16s 749ms/step - loss: 0.0119 - time_distributed_149_loss: 0.0032 - time_distributed_151_loss: 0.0087 - time_distributed_149_accuracy: 0.9964 - time_distributed_151_accuracy: 0.1367 - val_loss: 0.1767 - val_time_distributed_149_loss: 0.1668 - val_time_distributed_151_loss: 0.0100 - val_time_distributed_149_accuracy: 0.8846 - val_time_distributed_151_accuracy: 0.1501\n",
      "Epoch 49/100\n",
      "21/21 [==============================] - 16s 750ms/step - loss: 0.0120 - time_distributed_149_loss: 0.0033 - time_distributed_151_loss: 0.0087 - time_distributed_149_accuracy: 0.9967 - time_distributed_151_accuracy: 0.1409 - val_loss: 0.1763 - val_time_distributed_149_loss: 0.1664 - val_time_distributed_151_loss: 0.0099 - val_time_distributed_149_accuracy: 0.8872 - val_time_distributed_151_accuracy: 0.1486\n",
      "Epoch 50/100\n",
      "21/21 [==============================] - 16s 748ms/step - loss: 0.0118 - time_distributed_149_loss: 0.0032 - time_distributed_151_loss: 0.0087 - time_distributed_149_accuracy: 0.9969 - time_distributed_151_accuracy: 0.1390 - val_loss: 0.1806 - val_time_distributed_149_loss: 0.1707 - val_time_distributed_151_loss: 0.0099 - val_time_distributed_149_accuracy: 0.8870 - val_time_distributed_151_accuracy: 0.1383\n",
      "Epoch 51/100\n",
      "21/21 [==============================] - 16s 748ms/step - loss: 0.0118 - time_distributed_149_loss: 0.0032 - time_distributed_151_loss: 0.0086 - time_distributed_149_accuracy: 0.9967 - time_distributed_151_accuracy: 0.1466 - val_loss: 0.1791 - val_time_distributed_149_loss: 0.1692 - val_time_distributed_151_loss: 0.0099 - val_time_distributed_149_accuracy: 0.8883 - val_time_distributed_151_accuracy: 0.1503\n",
      "Epoch 52/100\n",
      "21/21 [==============================] - 16s 746ms/step - loss: 0.0120 - time_distributed_149_loss: 0.0034 - time_distributed_151_loss: 0.0086 - time_distributed_149_accuracy: 0.9953 - time_distributed_151_accuracy: 0.1449 - val_loss: 0.1791 - val_time_distributed_149_loss: 0.1692 - val_time_distributed_151_loss: 0.0099 - val_time_distributed_149_accuracy: 0.8880 - val_time_distributed_151_accuracy: 0.1425\n",
      "Epoch 53/100\n",
      "21/21 [==============================] - 16s 747ms/step - loss: 0.0118 - time_distributed_149_loss: 0.0032 - time_distributed_151_loss: 0.0086 - time_distributed_149_accuracy: 0.9961 - time_distributed_151_accuracy: 0.1467 - val_loss: 0.1815 - val_time_distributed_149_loss: 0.1717 - val_time_distributed_151_loss: 0.0098 - val_time_distributed_149_accuracy: 0.8870 - val_time_distributed_151_accuracy: 0.1599\n",
      "Epoch 54/100\n",
      "21/21 [==============================] - 16s 745ms/step - loss: 0.0113 - time_distributed_149_loss: 0.0028 - time_distributed_151_loss: 0.0086 - time_distributed_149_accuracy: 0.9971 - time_distributed_151_accuracy: 0.1457 - val_loss: 0.1763 - val_time_distributed_149_loss: 0.1665 - val_time_distributed_151_loss: 0.0098 - val_time_distributed_149_accuracy: 0.8847 - val_time_distributed_151_accuracy: 0.1590\n",
      "Epoch 55/100\n",
      "21/21 [==============================] - 16s 746ms/step - loss: 0.0116 - time_distributed_149_loss: 0.0031 - time_distributed_151_loss: 0.0085 - time_distributed_149_accuracy: 0.9965 - time_distributed_151_accuracy: 0.1474 - val_loss: 0.1778 - val_time_distributed_149_loss: 0.1681 - val_time_distributed_151_loss: 0.0098 - val_time_distributed_149_accuracy: 0.8872 - val_time_distributed_151_accuracy: 0.1669\n",
      "Epoch 56/100\n",
      "21/21 [==============================] - 16s 745ms/step - loss: 0.0116 - time_distributed_149_loss: 0.0031 - time_distributed_151_loss: 0.0085 - time_distributed_149_accuracy: 0.9966 - time_distributed_151_accuracy: 0.1461 - val_loss: 0.1759 - val_time_distributed_149_loss: 0.1661 - val_time_distributed_151_loss: 0.0098 - val_time_distributed_149_accuracy: 0.8868 - val_time_distributed_151_accuracy: 0.1650\n",
      "Epoch 57/100\n",
      "21/21 [==============================] - 16s 746ms/step - loss: 0.0112 - time_distributed_149_loss: 0.0027 - time_distributed_151_loss: 0.0085 - time_distributed_149_accuracy: 0.9973 - time_distributed_151_accuracy: 0.1497 - val_loss: 0.1777 - val_time_distributed_149_loss: 0.1680 - val_time_distributed_151_loss: 0.0097 - val_time_distributed_149_accuracy: 0.8861 - val_time_distributed_151_accuracy: 0.1654\n",
      "Epoch 58/100\n",
      "21/21 [==============================] - 16s 750ms/step - loss: 0.0112 - time_distributed_149_loss: 0.0027 - time_distributed_151_loss: 0.0085 - time_distributed_149_accuracy: 0.9971 - time_distributed_151_accuracy: 0.1498 - val_loss: 0.1804 - val_time_distributed_149_loss: 0.1707 - val_time_distributed_151_loss: 0.0097 - val_time_distributed_149_accuracy: 0.8872 - val_time_distributed_151_accuracy: 0.1673\n",
      "Epoch 59/100\n",
      "21/21 [==============================] - 16s 750ms/step - loss: 0.0115 - time_distributed_149_loss: 0.0030 - time_distributed_151_loss: 0.0085 - time_distributed_149_accuracy: 0.9968 - time_distributed_151_accuracy: 0.1515 - val_loss: 0.1858 - val_time_distributed_149_loss: 0.1761 - val_time_distributed_151_loss: 0.0097 - val_time_distributed_149_accuracy: 0.8866 - val_time_distributed_151_accuracy: 0.1588\n",
      "Epoch 60/100\n",
      "21/21 [==============================] - 16s 748ms/step - loss: 0.0110 - time_distributed_149_loss: 0.0026 - time_distributed_151_loss: 0.0084 - time_distributed_149_accuracy: 0.9970 - time_distributed_151_accuracy: 0.1533 - val_loss: 0.1792 - val_time_distributed_149_loss: 0.1695 - val_time_distributed_151_loss: 0.0097 - val_time_distributed_149_accuracy: 0.8842 - val_time_distributed_151_accuracy: 0.1681\n",
      "Epoch 61/100\n",
      "21/21 [==============================] - 16s 754ms/step - loss: 0.0112 - time_distributed_149_loss: 0.0028 - time_distributed_151_loss: 0.0084 - time_distributed_149_accuracy: 0.9969 - time_distributed_151_accuracy: 0.1532 - val_loss: 0.1805 - val_time_distributed_149_loss: 0.1709 - val_time_distributed_151_loss: 0.0096 - val_time_distributed_149_accuracy: 0.8861 - val_time_distributed_151_accuracy: 0.1730\n",
      "Epoch 62/100\n",
      "21/21 [==============================] - 16s 747ms/step - loss: 0.0112 - time_distributed_149_loss: 0.0029 - time_distributed_151_loss: 0.0084 - time_distributed_149_accuracy: 0.9965 - time_distributed_151_accuracy: 0.1525 - val_loss: 0.1809 - val_time_distributed_149_loss: 0.1713 - val_time_distributed_151_loss: 0.0096 - val_time_distributed_149_accuracy: 0.8874 - val_time_distributed_151_accuracy: 0.1612\n",
      "Epoch 63/100\n",
      "21/21 [==============================] - 16s 747ms/step - loss: 0.0110 - time_distributed_149_loss: 0.0026 - time_distributed_151_loss: 0.0083 - time_distributed_149_accuracy: 0.9970 - time_distributed_151_accuracy: 0.1618 - val_loss: 0.1818 - val_time_distributed_149_loss: 0.1722 - val_time_distributed_151_loss: 0.0096 - val_time_distributed_149_accuracy: 0.8861 - val_time_distributed_151_accuracy: 0.1794\n",
      "Epoch 64/100\n",
      "21/21 [==============================] - 16s 749ms/step - loss: 0.0110 - time_distributed_149_loss: 0.0027 - time_distributed_151_loss: 0.0083 - time_distributed_149_accuracy: 0.9972 - time_distributed_151_accuracy: 0.1627 - val_loss: 0.1844 - val_time_distributed_149_loss: 0.1749 - val_time_distributed_151_loss: 0.0096 - val_time_distributed_149_accuracy: 0.8851 - val_time_distributed_151_accuracy: 0.1794\n",
      "Epoch 65/100\n",
      "21/21 [==============================] - 16s 748ms/step - loss: 0.0109 - time_distributed_149_loss: 0.0026 - time_distributed_151_loss: 0.0083 - time_distributed_149_accuracy: 0.9977 - time_distributed_151_accuracy: 0.1649 - val_loss: 0.1848 - val_time_distributed_149_loss: 0.1753 - val_time_distributed_151_loss: 0.0095 - val_time_distributed_149_accuracy: 0.8853 - val_time_distributed_151_accuracy: 0.1713\n",
      "Epoch 66/100\n",
      "21/21 [==============================] - 16s 749ms/step - loss: 0.0109 - time_distributed_149_loss: 0.0026 - time_distributed_151_loss: 0.0083 - time_distributed_149_accuracy: 0.9969 - time_distributed_151_accuracy: 0.1592 - val_loss: 0.1919 - val_time_distributed_149_loss: 0.1824 - val_time_distributed_151_loss: 0.0095 - val_time_distributed_149_accuracy: 0.8864 - val_time_distributed_151_accuracy: 0.1874\n",
      "Epoch 67/100\n",
      "21/21 [==============================] - 16s 743ms/step - loss: 0.0107 - time_distributed_149_loss: 0.0025 - time_distributed_151_loss: 0.0083 - time_distributed_149_accuracy: 0.9976 - time_distributed_151_accuracy: 0.1667 - val_loss: 0.1845 - val_time_distributed_149_loss: 0.1750 - val_time_distributed_151_loss: 0.0095 - val_time_distributed_149_accuracy: 0.8872 - val_time_distributed_151_accuracy: 0.1821\n",
      "Epoch 68/100\n",
      "21/21 [==============================] - 16s 744ms/step - loss: 0.0105 - time_distributed_149_loss: 0.0023 - time_distributed_151_loss: 0.0082 - time_distributed_149_accuracy: 0.9976 - time_distributed_151_accuracy: 0.1663 - val_loss: 0.1880 - val_time_distributed_149_loss: 0.1786 - val_time_distributed_151_loss: 0.0095 - val_time_distributed_149_accuracy: 0.8849 - val_time_distributed_151_accuracy: 0.1756\n",
      "Epoch 69/100\n",
      "21/21 [==============================] - 16s 751ms/step - loss: 0.0108 - time_distributed_149_loss: 0.0026 - time_distributed_151_loss: 0.0082 - time_distributed_149_accuracy: 0.9974 - time_distributed_151_accuracy: 0.1653 - val_loss: 0.1868 - val_time_distributed_149_loss: 0.1774 - val_time_distributed_151_loss: 0.0094 - val_time_distributed_149_accuracy: 0.8847 - val_time_distributed_151_accuracy: 0.1908\n",
      "Epoch 70/100\n",
      "21/21 [==============================] - 16s 747ms/step - loss: 0.0105 - time_distributed_149_loss: 0.0023 - time_distributed_151_loss: 0.0082 - time_distributed_149_accuracy: 0.9974 - time_distributed_151_accuracy: 0.1679 - val_loss: 0.1849 - val_time_distributed_149_loss: 0.1755 - val_time_distributed_151_loss: 0.0094 - val_time_distributed_149_accuracy: 0.8836 - val_time_distributed_151_accuracy: 0.1921\n",
      "Epoch 71/100\n",
      "21/21 [==============================] - 16s 750ms/step - loss: 0.0111 - time_distributed_149_loss: 0.0029 - time_distributed_151_loss: 0.0082 - time_distributed_149_accuracy: 0.9968 - time_distributed_151_accuracy: 0.1686 - val_loss: 0.1862 - val_time_distributed_149_loss: 0.1769 - val_time_distributed_151_loss: 0.0093 - val_time_distributed_149_accuracy: 0.8876 - val_time_distributed_151_accuracy: 0.1951\n",
      "Epoch 72/100\n",
      "21/21 [==============================] - 16s 750ms/step - loss: 0.0105 - time_distributed_149_loss: 0.0023 - time_distributed_151_loss: 0.0082 - time_distributed_149_accuracy: 0.9974 - time_distributed_151_accuracy: 0.1627 - val_loss: 0.1949 - val_time_distributed_149_loss: 0.1855 - val_time_distributed_151_loss: 0.0094 - val_time_distributed_149_accuracy: 0.8849 - val_time_distributed_151_accuracy: 0.1677\n",
      "Epoch 73/100\n",
      "21/21 [==============================] - 16s 751ms/step - loss: 0.0105 - time_distributed_149_loss: 0.0024 - time_distributed_151_loss: 0.0081 - time_distributed_149_accuracy: 0.9975 - time_distributed_151_accuracy: 0.1745 - val_loss: 0.1829 - val_time_distributed_149_loss: 0.1735 - val_time_distributed_151_loss: 0.0094 - val_time_distributed_149_accuracy: 0.8849 - val_time_distributed_151_accuracy: 0.1841\n",
      "Epoch 74/100\n",
      "21/21 [==============================] - 16s 748ms/step - loss: 0.0105 - time_distributed_149_loss: 0.0024 - time_distributed_151_loss: 0.0081 - time_distributed_149_accuracy: 0.9974 - time_distributed_151_accuracy: 0.1746 - val_loss: 0.1843 - val_time_distributed_149_loss: 0.1750 - val_time_distributed_151_loss: 0.0093 - val_time_distributed_149_accuracy: 0.8853 - val_time_distributed_151_accuracy: 0.1970\n",
      "Epoch 75/100\n",
      "21/21 [==============================] - 16s 747ms/step - loss: 0.0104 - time_distributed_149_loss: 0.0023 - time_distributed_151_loss: 0.0081 - time_distributed_149_accuracy: 0.9979 - time_distributed_151_accuracy: 0.1737 - val_loss: 0.1893 - val_time_distributed_149_loss: 0.1800 - val_time_distributed_151_loss: 0.0093 - val_time_distributed_149_accuracy: 0.8846 - val_time_distributed_151_accuracy: 0.2051\n",
      "Epoch 76/100\n",
      "21/21 [==============================] - 16s 746ms/step - loss: 0.0101 - time_distributed_149_loss: 0.0021 - time_distributed_151_loss: 0.0081 - time_distributed_149_accuracy: 0.9982 - time_distributed_151_accuracy: 0.1774 - val_loss: 0.1846 - val_time_distributed_149_loss: 0.1754 - val_time_distributed_151_loss: 0.0092 - val_time_distributed_149_accuracy: 0.8849 - val_time_distributed_151_accuracy: 0.2078\n",
      "Epoch 77/100\n",
      "21/21 [==============================] - 16s 746ms/step - loss: 0.0102 - time_distributed_149_loss: 0.0022 - time_distributed_151_loss: 0.0080 - time_distributed_149_accuracy: 0.9976 - time_distributed_151_accuracy: 0.1841 - val_loss: 0.1931 - val_time_distributed_149_loss: 0.1839 - val_time_distributed_151_loss: 0.0092 - val_time_distributed_149_accuracy: 0.8861 - val_time_distributed_151_accuracy: 0.2152\n",
      "Epoch 78/100\n",
      "21/21 [==============================] - 16s 749ms/step - loss: 0.0104 - time_distributed_149_loss: 0.0024 - time_distributed_151_loss: 0.0080 - time_distributed_149_accuracy: 0.9973 - time_distributed_151_accuracy: 0.1816 - val_loss: 0.1848 - val_time_distributed_149_loss: 0.1756 - val_time_distributed_151_loss: 0.0092 - val_time_distributed_149_accuracy: 0.8855 - val_time_distributed_151_accuracy: 0.2235\n",
      "Epoch 79/100\n",
      "21/21 [==============================] - 16s 745ms/step - loss: 0.0104 - time_distributed_149_loss: 0.0024 - time_distributed_151_loss: 0.0080 - time_distributed_149_accuracy: 0.9971 - time_distributed_151_accuracy: 0.1827 - val_loss: 0.1927 - val_time_distributed_149_loss: 0.1836 - val_time_distributed_151_loss: 0.0092 - val_time_distributed_149_accuracy: 0.8861 - val_time_distributed_151_accuracy: 0.2227\n",
      "Epoch 80/100\n",
      "21/21 [==============================] - 16s 748ms/step - loss: 0.0103 - time_distributed_149_loss: 0.0023 - time_distributed_151_loss: 0.0080 - time_distributed_149_accuracy: 0.9973 - time_distributed_151_accuracy: 0.1788 - val_loss: 0.1871 - val_time_distributed_149_loss: 0.1779 - val_time_distributed_151_loss: 0.0091 - val_time_distributed_149_accuracy: 0.8885 - val_time_distributed_151_accuracy: 0.2120\n",
      "Epoch 81/100\n",
      "21/21 [==============================] - 16s 745ms/step - loss: 0.0102 - time_distributed_149_loss: 0.0023 - time_distributed_151_loss: 0.0080 - time_distributed_149_accuracy: 0.9973 - time_distributed_151_accuracy: 0.1889 - val_loss: 0.1873 - val_time_distributed_149_loss: 0.1782 - val_time_distributed_151_loss: 0.0092 - val_time_distributed_149_accuracy: 0.8857 - val_time_distributed_151_accuracy: 0.2029\n",
      "Epoch 82/100\n",
      "21/21 [==============================] - 16s 744ms/step - loss: 0.0101 - time_distributed_149_loss: 0.0022 - time_distributed_151_loss: 0.0079 - time_distributed_149_accuracy: 0.9974 - time_distributed_151_accuracy: 0.1856 - val_loss: 0.1846 - val_time_distributed_149_loss: 0.1754 - val_time_distributed_151_loss: 0.0091 - val_time_distributed_149_accuracy: 0.8866 - val_time_distributed_151_accuracy: 0.2063\n",
      "Epoch 83/100\n",
      "21/21 [==============================] - 16s 742ms/step - loss: 0.0102 - time_distributed_149_loss: 0.0023 - time_distributed_151_loss: 0.0079 - time_distributed_149_accuracy: 0.9974 - time_distributed_151_accuracy: 0.1920 - val_loss: 0.1891 - val_time_distributed_149_loss: 0.1799 - val_time_distributed_151_loss: 0.0091 - val_time_distributed_149_accuracy: 0.8855 - val_time_distributed_151_accuracy: 0.2023\n",
      "Epoch 84/100\n",
      "21/21 [==============================] - 16s 742ms/step - loss: 0.0099 - time_distributed_149_loss: 0.0020 - time_distributed_151_loss: 0.0079 - time_distributed_149_accuracy: 0.9980 - time_distributed_151_accuracy: 0.1921 - val_loss: 0.1873 - val_time_distributed_149_loss: 0.1782 - val_time_distributed_151_loss: 0.0091 - val_time_distributed_149_accuracy: 0.8870 - val_time_distributed_151_accuracy: 0.1927\n",
      "Epoch 85/100\n",
      "21/21 [==============================] - 16s 743ms/step - loss: 0.0100 - time_distributed_149_loss: 0.0021 - time_distributed_151_loss: 0.0079 - time_distributed_149_accuracy: 0.9978 - time_distributed_151_accuracy: 0.1915 - val_loss: 0.1837 - val_time_distributed_149_loss: 0.1746 - val_time_distributed_151_loss: 0.0090 - val_time_distributed_149_accuracy: 0.8859 - val_time_distributed_151_accuracy: 0.2322\n",
      "Epoch 86/100\n",
      "21/21 [==============================] - 16s 746ms/step - loss: 0.0099 - time_distributed_149_loss: 0.0020 - time_distributed_151_loss: 0.0079 - time_distributed_149_accuracy: 0.9978 - time_distributed_151_accuracy: 0.1969 - val_loss: 0.1912 - val_time_distributed_149_loss: 0.1822 - val_time_distributed_151_loss: 0.0090 - val_time_distributed_149_accuracy: 0.8859 - val_time_distributed_151_accuracy: 0.2364\n",
      "Epoch 87/100\n",
      "21/21 [==============================] - 16s 749ms/step - loss: 0.0096 - time_distributed_149_loss: 0.0017 - time_distributed_151_loss: 0.0079 - time_distributed_149_accuracy: 0.9983 - time_distributed_151_accuracy: 0.1914 - val_loss: 0.1957 - val_time_distributed_149_loss: 0.1867 - val_time_distributed_151_loss: 0.0090 - val_time_distributed_149_accuracy: 0.8866 - val_time_distributed_151_accuracy: 0.2284\n",
      "Epoch 88/100\n",
      "21/21 [==============================] - 16s 745ms/step - loss: 0.0099 - time_distributed_149_loss: 0.0020 - time_distributed_151_loss: 0.0078 - time_distributed_149_accuracy: 0.9976 - time_distributed_151_accuracy: 0.2005 - val_loss: 0.2005 - val_time_distributed_149_loss: 0.1915 - val_time_distributed_151_loss: 0.0090 - val_time_distributed_149_accuracy: 0.8868 - val_time_distributed_151_accuracy: 0.2398\n",
      "Epoch 89/100\n",
      "21/21 [==============================] - 16s 748ms/step - loss: 0.0096 - time_distributed_149_loss: 0.0018 - time_distributed_151_loss: 0.0078 - time_distributed_149_accuracy: 0.9983 - time_distributed_151_accuracy: 0.1970 - val_loss: 0.1904 - val_time_distributed_149_loss: 0.1815 - val_time_distributed_151_loss: 0.0089 - val_time_distributed_149_accuracy: 0.8849 - val_time_distributed_151_accuracy: 0.2485\n",
      "Epoch 90/100\n",
      "21/21 [==============================] - 16s 746ms/step - loss: 0.0098 - time_distributed_149_loss: 0.0020 - time_distributed_151_loss: 0.0078 - time_distributed_149_accuracy: 0.9979 - time_distributed_151_accuracy: 0.2007 - val_loss: 0.1928 - val_time_distributed_149_loss: 0.1839 - val_time_distributed_151_loss: 0.0089 - val_time_distributed_149_accuracy: 0.8868 - val_time_distributed_151_accuracy: 0.2271\n",
      "Epoch 91/100\n",
      "21/21 [==============================] - 16s 746ms/step - loss: 0.0096 - time_distributed_149_loss: 0.0018 - time_distributed_151_loss: 0.0078 - time_distributed_149_accuracy: 0.9980 - time_distributed_151_accuracy: 0.2014 - val_loss: 0.1924 - val_time_distributed_149_loss: 0.1835 - val_time_distributed_151_loss: 0.0090 - val_time_distributed_149_accuracy: 0.8882 - val_time_distributed_151_accuracy: 0.2212\n",
      "Epoch 92/100\n",
      "21/21 [==============================] - 16s 746ms/step - loss: 0.0097 - time_distributed_149_loss: 0.0020 - time_distributed_151_loss: 0.0078 - time_distributed_149_accuracy: 0.9971 - time_distributed_151_accuracy: 0.1997 - val_loss: 0.1874 - val_time_distributed_149_loss: 0.1785 - val_time_distributed_151_loss: 0.0089 - val_time_distributed_149_accuracy: 0.8861 - val_time_distributed_151_accuracy: 0.2398\n",
      "Epoch 93/100\n",
      "21/21 [==============================] - 16s 745ms/step - loss: 0.0098 - time_distributed_149_loss: 0.0020 - time_distributed_151_loss: 0.0077 - time_distributed_149_accuracy: 0.9982 - time_distributed_151_accuracy: 0.2052 - val_loss: 0.1909 - val_time_distributed_149_loss: 0.1820 - val_time_distributed_151_loss: 0.0089 - val_time_distributed_149_accuracy: 0.8868 - val_time_distributed_151_accuracy: 0.2197\n",
      "Epoch 94/100\n",
      "21/21 [==============================] - 16s 745ms/step - loss: 0.0096 - time_distributed_149_loss: 0.0019 - time_distributed_151_loss: 0.0077 - time_distributed_149_accuracy: 0.9982 - time_distributed_151_accuracy: 0.2076 - val_loss: 0.1865 - val_time_distributed_149_loss: 0.1777 - val_time_distributed_151_loss: 0.0088 - val_time_distributed_149_accuracy: 0.8857 - val_time_distributed_151_accuracy: 0.2566\n",
      "Epoch 95/100\n",
      "21/21 [==============================] - 16s 747ms/step - loss: 0.0098 - time_distributed_149_loss: 0.0021 - time_distributed_151_loss: 0.0077 - time_distributed_149_accuracy: 0.9977 - time_distributed_151_accuracy: 0.2001 - val_loss: 0.1959 - val_time_distributed_149_loss: 0.1870 - val_time_distributed_151_loss: 0.0089 - val_time_distributed_149_accuracy: 0.8863 - val_time_distributed_151_accuracy: 0.2292\n",
      "Epoch 96/100\n",
      "21/21 [==============================] - 16s 742ms/step - loss: 0.0095 - time_distributed_149_loss: 0.0019 - time_distributed_151_loss: 0.0077 - time_distributed_149_accuracy: 0.9982 - time_distributed_151_accuracy: 0.2083 - val_loss: 0.1964 - val_time_distributed_149_loss: 0.1877 - val_time_distributed_151_loss: 0.0088 - val_time_distributed_149_accuracy: 0.8876 - val_time_distributed_151_accuracy: 0.2508\n",
      "Epoch 97/100\n",
      "21/21 [==============================] - 16s 751ms/step - loss: 0.0095 - time_distributed_149_loss: 0.0018 - time_distributed_151_loss: 0.0077 - time_distributed_149_accuracy: 0.9977 - time_distributed_151_accuracy: 0.2080 - val_loss: 0.1984 - val_time_distributed_149_loss: 0.1895 - val_time_distributed_151_loss: 0.0088 - val_time_distributed_149_accuracy: 0.8847 - val_time_distributed_151_accuracy: 0.2341\n",
      "Epoch 98/100\n",
      "21/21 [==============================] - 16s 748ms/step - loss: 0.0096 - time_distributed_149_loss: 0.0019 - time_distributed_151_loss: 0.0076 - time_distributed_149_accuracy: 0.9975 - time_distributed_151_accuracy: 0.2065 - val_loss: 0.1915 - val_time_distributed_149_loss: 0.1827 - val_time_distributed_151_loss: 0.0088 - val_time_distributed_149_accuracy: 0.8882 - val_time_distributed_151_accuracy: 0.2443\n",
      "Epoch 99/100\n",
      "21/21 [==============================] - 16s 752ms/step - loss: 0.0095 - time_distributed_149_loss: 0.0018 - time_distributed_151_loss: 0.0076 - time_distributed_149_accuracy: 0.9982 - time_distributed_151_accuracy: 0.2065 - val_loss: 0.1960 - val_time_distributed_149_loss: 0.1873 - val_time_distributed_151_loss: 0.0087 - val_time_distributed_149_accuracy: 0.8868 - val_time_distributed_151_accuracy: 0.2502\n",
      "Epoch 100/100\n",
      "21/21 [==============================] - 16s 747ms/step - loss: 0.0093 - time_distributed_149_loss: 0.0017 - time_distributed_151_loss: 0.0076 - time_distributed_149_accuracy: 0.9985 - time_distributed_151_accuracy: 0.2094 - val_loss: 0.1895 - val_time_distributed_149_loss: 0.1807 - val_time_distributed_151_loss: 0.0088 - val_time_distributed_149_accuracy: 0.8825 - val_time_distributed_151_accuracy: 0.2233\n"
     ]
    }
   ],
   "source": [
    "history = model_rel.fit(x=[X_word_tr,\n",
    "                     np.array(X_char_tr).reshape((len(X_char_tr), max_len, max_len_char))],\n",
    "                    y=[np.array(y_tr_ner).reshape(len(y_tr_ner), max_len, n_tags + 1), np.array(y_tr_rel).reshape(len(y_tr_rel), max_len, max_len)],\n",
    "                    batch_size=32, epochs=100, validation_split=0.2, verbose=1)"
   ]
  },
  {
   "cell_type": "code",
   "execution_count": 391,
   "id": "daee1a2c-78ac-4c03-9548-1a63b4ce0989",
   "metadata": {},
   "outputs": [
    {
     "name": "stdout",
     "output_type": "stream",
     "text": [
      "Epoch 1/30\n",
      "21/21 [==============================] - 16s 753ms/step - loss: 0.0090 - time_distributed_149_loss: 0.0015 - time_distributed_151_loss: 0.0076 - time_distributed_149_accuracy: 0.9989 - time_distributed_151_accuracy: 0.2130 - val_loss: 0.1980 - val_time_distributed_149_loss: 0.1893 - val_time_distributed_151_loss: 0.0087 - val_time_distributed_149_accuracy: 0.8872 - val_time_distributed_151_accuracy: 0.2702\n",
      "Epoch 2/30\n",
      "21/21 [==============================] - 16s 748ms/step - loss: 0.0093 - time_distributed_149_loss: 0.0017 - time_distributed_151_loss: 0.0076 - time_distributed_149_accuracy: 0.9983 - time_distributed_151_accuracy: 0.2069 - val_loss: 0.1970 - val_time_distributed_149_loss: 0.1884 - val_time_distributed_151_loss: 0.0087 - val_time_distributed_149_accuracy: 0.8874 - val_time_distributed_151_accuracy: 0.2532\n",
      "Epoch 3/30\n",
      "21/21 [==============================] - 16s 749ms/step - loss: 0.0092 - time_distributed_149_loss: 0.0016 - time_distributed_151_loss: 0.0076 - time_distributed_149_accuracy: 0.9984 - time_distributed_151_accuracy: 0.2143 - val_loss: 0.1933 - val_time_distributed_149_loss: 0.1846 - val_time_distributed_151_loss: 0.0087 - val_time_distributed_149_accuracy: 0.8853 - val_time_distributed_151_accuracy: 0.2727\n",
      "Epoch 4/30\n",
      "21/21 [==============================] - 16s 753ms/step - loss: 0.0093 - time_distributed_149_loss: 0.0018 - time_distributed_151_loss: 0.0075 - time_distributed_149_accuracy: 0.9981 - time_distributed_151_accuracy: 0.2176 - val_loss: 0.1947 - val_time_distributed_149_loss: 0.1860 - val_time_distributed_151_loss: 0.0087 - val_time_distributed_149_accuracy: 0.8866 - val_time_distributed_151_accuracy: 0.2627\n",
      "Epoch 5/30\n",
      "21/21 [==============================] - 16s 750ms/step - loss: 0.0091 - time_distributed_149_loss: 0.0016 - time_distributed_151_loss: 0.0075 - time_distributed_149_accuracy: 0.9986 - time_distributed_151_accuracy: 0.2200 - val_loss: 0.1946 - val_time_distributed_149_loss: 0.1859 - val_time_distributed_151_loss: 0.0087 - val_time_distributed_149_accuracy: 0.8851 - val_time_distributed_151_accuracy: 0.2500\n",
      "Epoch 6/30\n",
      "21/21 [==============================] - 16s 753ms/step - loss: 0.0093 - time_distributed_149_loss: 0.0018 - time_distributed_151_loss: 0.0075 - time_distributed_149_accuracy: 0.9979 - time_distributed_151_accuracy: 0.2247 - val_loss: 0.1953 - val_time_distributed_149_loss: 0.1867 - val_time_distributed_151_loss: 0.0086 - val_time_distributed_149_accuracy: 0.8859 - val_time_distributed_151_accuracy: 0.2600\n",
      "Epoch 7/30\n",
      "21/21 [==============================] - 16s 751ms/step - loss: 0.0096 - time_distributed_149_loss: 0.0021 - time_distributed_151_loss: 0.0075 - time_distributed_149_accuracy: 0.9971 - time_distributed_151_accuracy: 0.2208 - val_loss: 0.1946 - val_time_distributed_149_loss: 0.1860 - val_time_distributed_151_loss: 0.0085 - val_time_distributed_149_accuracy: 0.8883 - val_time_distributed_151_accuracy: 0.2725\n",
      "Epoch 8/30\n",
      "21/21 [==============================] - 16s 751ms/step - loss: 0.0095 - time_distributed_149_loss: 0.0019 - time_distributed_151_loss: 0.0075 - time_distributed_149_accuracy: 0.9978 - time_distributed_151_accuracy: 0.2182 - val_loss: 0.1957 - val_time_distributed_149_loss: 0.1870 - val_time_distributed_151_loss: 0.0087 - val_time_distributed_149_accuracy: 0.8876 - val_time_distributed_151_accuracy: 0.2220\n",
      "Epoch 9/30\n",
      "21/21 [==============================] - 16s 752ms/step - loss: 0.0093 - time_distributed_149_loss: 0.0018 - time_distributed_151_loss: 0.0075 - time_distributed_149_accuracy: 0.9982 - time_distributed_151_accuracy: 0.2152 - val_loss: 0.1953 - val_time_distributed_149_loss: 0.1867 - val_time_distributed_151_loss: 0.0087 - val_time_distributed_149_accuracy: 0.8861 - val_time_distributed_151_accuracy: 0.2131\n",
      "Epoch 10/30\n",
      "21/21 [==============================] - 16s 750ms/step - loss: 0.0090 - time_distributed_149_loss: 0.0016 - time_distributed_151_loss: 0.0075 - time_distributed_149_accuracy: 0.9984 - time_distributed_151_accuracy: 0.2165 - val_loss: 0.1960 - val_time_distributed_149_loss: 0.1875 - val_time_distributed_151_loss: 0.0085 - val_time_distributed_149_accuracy: 0.8861 - val_time_distributed_151_accuracy: 0.2839\n",
      "Epoch 11/30\n",
      "21/21 [==============================] - 16s 754ms/step - loss: 0.0092 - time_distributed_149_loss: 0.0018 - time_distributed_151_loss: 0.0074 - time_distributed_149_accuracy: 0.9981 - time_distributed_151_accuracy: 0.2251 - val_loss: 0.2049 - val_time_distributed_149_loss: 0.1964 - val_time_distributed_151_loss: 0.0086 - val_time_distributed_149_accuracy: 0.8883 - val_time_distributed_151_accuracy: 0.2502\n",
      "Epoch 12/30\n",
      "21/21 [==============================] - 16s 747ms/step - loss: 0.0090 - time_distributed_149_loss: 0.0016 - time_distributed_151_loss: 0.0074 - time_distributed_149_accuracy: 0.9984 - time_distributed_151_accuracy: 0.2280 - val_loss: 0.1984 - val_time_distributed_149_loss: 0.1900 - val_time_distributed_151_loss: 0.0085 - val_time_distributed_149_accuracy: 0.8855 - val_time_distributed_151_accuracy: 0.2820\n",
      "Epoch 13/30\n",
      "21/21 [==============================] - 16s 756ms/step - loss: 0.0089 - time_distributed_149_loss: 0.0015 - time_distributed_151_loss: 0.0074 - time_distributed_149_accuracy: 0.9987 - time_distributed_151_accuracy: 0.2267 - val_loss: 0.2013 - val_time_distributed_149_loss: 0.1927 - val_time_distributed_151_loss: 0.0086 - val_time_distributed_149_accuracy: 0.8872 - val_time_distributed_151_accuracy: 0.2269\n",
      "Epoch 14/30\n",
      "21/21 [==============================] - 16s 749ms/step - loss: 0.0090 - time_distributed_149_loss: 0.0016 - time_distributed_151_loss: 0.0074 - time_distributed_149_accuracy: 0.9985 - time_distributed_151_accuracy: 0.2312 - val_loss: 0.2015 - val_time_distributed_149_loss: 0.1931 - val_time_distributed_151_loss: 0.0085 - val_time_distributed_149_accuracy: 0.8882 - val_time_distributed_151_accuracy: 0.2909\n",
      "Epoch 15/30\n",
      "21/21 [==============================] - 16s 746ms/step - loss: 0.0090 - time_distributed_149_loss: 0.0016 - time_distributed_151_loss: 0.0074 - time_distributed_149_accuracy: 0.9983 - time_distributed_151_accuracy: 0.2327 - val_loss: 0.1966 - val_time_distributed_149_loss: 0.1881 - val_time_distributed_151_loss: 0.0084 - val_time_distributed_149_accuracy: 0.8874 - val_time_distributed_151_accuracy: 0.2754\n",
      "Epoch 16/30\n",
      "21/21 [==============================] - 16s 749ms/step - loss: 0.0089 - time_distributed_149_loss: 0.0016 - time_distributed_151_loss: 0.0074 - time_distributed_149_accuracy: 0.9984 - time_distributed_151_accuracy: 0.2262 - val_loss: 0.1979 - val_time_distributed_149_loss: 0.1894 - val_time_distributed_151_loss: 0.0085 - val_time_distributed_149_accuracy: 0.8874 - val_time_distributed_151_accuracy: 0.2667\n",
      "Epoch 17/30\n",
      "21/21 [==============================] - 16s 749ms/step - loss: 0.0087 - time_distributed_149_loss: 0.0014 - time_distributed_151_loss: 0.0073 - time_distributed_149_accuracy: 0.9986 - time_distributed_151_accuracy: 0.2299 - val_loss: 0.1958 - val_time_distributed_149_loss: 0.1874 - val_time_distributed_151_loss: 0.0084 - val_time_distributed_149_accuracy: 0.8870 - val_time_distributed_151_accuracy: 0.2801\n",
      "Epoch 18/30\n",
      "21/21 [==============================] - 16s 751ms/step - loss: 0.0087 - time_distributed_149_loss: 0.0014 - time_distributed_151_loss: 0.0073 - time_distributed_149_accuracy: 0.9985 - time_distributed_151_accuracy: 0.2344 - val_loss: 0.2073 - val_time_distributed_149_loss: 0.1989 - val_time_distributed_151_loss: 0.0084 - val_time_distributed_149_accuracy: 0.8876 - val_time_distributed_151_accuracy: 0.2737\n",
      "Epoch 19/30\n",
      "21/21 [==============================] - 16s 751ms/step - loss: 0.0088 - time_distributed_149_loss: 0.0015 - time_distributed_151_loss: 0.0073 - time_distributed_149_accuracy: 0.9983 - time_distributed_151_accuracy: 0.2371 - val_loss: 0.1975 - val_time_distributed_149_loss: 0.1891 - val_time_distributed_151_loss: 0.0083 - val_time_distributed_149_accuracy: 0.8863 - val_time_distributed_151_accuracy: 0.2983\n",
      "Epoch 20/30\n",
      "21/21 [==============================] - 16s 754ms/step - loss: 0.0088 - time_distributed_149_loss: 0.0015 - time_distributed_151_loss: 0.0073 - time_distributed_149_accuracy: 0.9983 - time_distributed_151_accuracy: 0.2344 - val_loss: 0.2060 - val_time_distributed_149_loss: 0.1977 - val_time_distributed_151_loss: 0.0083 - val_time_distributed_149_accuracy: 0.8861 - val_time_distributed_151_accuracy: 0.3058\n",
      "Epoch 21/30\n",
      "21/21 [==============================] - 16s 753ms/step - loss: 0.0087 - time_distributed_149_loss: 0.0014 - time_distributed_151_loss: 0.0073 - time_distributed_149_accuracy: 0.9983 - time_distributed_151_accuracy: 0.2307 - val_loss: 0.2010 - val_time_distributed_149_loss: 0.1926 - val_time_distributed_151_loss: 0.0083 - val_time_distributed_149_accuracy: 0.8878 - val_time_distributed_151_accuracy: 0.2937\n",
      "Epoch 22/30\n",
      "21/21 [==============================] - 16s 754ms/step - loss: 0.0088 - time_distributed_149_loss: 0.0016 - time_distributed_151_loss: 0.0073 - time_distributed_149_accuracy: 0.9981 - time_distributed_151_accuracy: 0.2369 - val_loss: 0.2052 - val_time_distributed_149_loss: 0.1969 - val_time_distributed_151_loss: 0.0083 - val_time_distributed_149_accuracy: 0.8880 - val_time_distributed_151_accuracy: 0.2928\n",
      "Epoch 23/30\n",
      "21/21 [==============================] - 16s 749ms/step - loss: 0.0088 - time_distributed_149_loss: 0.0016 - time_distributed_151_loss: 0.0073 - time_distributed_149_accuracy: 0.9982 - time_distributed_151_accuracy: 0.2388 - val_loss: 0.1944 - val_time_distributed_149_loss: 0.1861 - val_time_distributed_151_loss: 0.0083 - val_time_distributed_149_accuracy: 0.8859 - val_time_distributed_151_accuracy: 0.2884\n",
      "Epoch 24/30\n",
      "21/21 [==============================] - 16s 745ms/step - loss: 0.0087 - time_distributed_149_loss: 0.0015 - time_distributed_151_loss: 0.0072 - time_distributed_149_accuracy: 0.9988 - time_distributed_151_accuracy: 0.2378 - val_loss: 0.2044 - val_time_distributed_149_loss: 0.1961 - val_time_distributed_151_loss: 0.0083 - val_time_distributed_149_accuracy: 0.8891 - val_time_distributed_151_accuracy: 0.3051\n",
      "Epoch 25/30\n",
      "21/21 [==============================] - 16s 752ms/step - loss: 0.0084 - time_distributed_149_loss: 0.0012 - time_distributed_151_loss: 0.0072 - time_distributed_149_accuracy: 0.9988 - time_distributed_151_accuracy: 0.2389 - val_loss: 0.2038 - val_time_distributed_149_loss: 0.1955 - val_time_distributed_151_loss: 0.0083 - val_time_distributed_149_accuracy: 0.8887 - val_time_distributed_151_accuracy: 0.2979\n",
      "Epoch 26/30\n",
      "21/21 [==============================] - 16s 748ms/step - loss: 0.0083 - time_distributed_149_loss: 0.0012 - time_distributed_151_loss: 0.0072 - time_distributed_149_accuracy: 0.9989 - time_distributed_151_accuracy: 0.2545 - val_loss: 0.2109 - val_time_distributed_149_loss: 0.2026 - val_time_distributed_151_loss: 0.0083 - val_time_distributed_149_accuracy: 0.8885 - val_time_distributed_151_accuracy: 0.2754\n",
      "Epoch 27/30\n",
      "21/21 [==============================] - 16s 746ms/step - loss: 0.0087 - time_distributed_149_loss: 0.0015 - time_distributed_151_loss: 0.0072 - time_distributed_149_accuracy: 0.9980 - time_distributed_151_accuracy: 0.2450 - val_loss: 0.1956 - val_time_distributed_149_loss: 0.1873 - val_time_distributed_151_loss: 0.0083 - val_time_distributed_149_accuracy: 0.8855 - val_time_distributed_151_accuracy: 0.2742\n",
      "Epoch 28/30\n",
      "21/21 [==============================] - 16s 747ms/step - loss: 0.0086 - time_distributed_149_loss: 0.0014 - time_distributed_151_loss: 0.0072 - time_distributed_149_accuracy: 0.9987 - time_distributed_151_accuracy: 0.2412 - val_loss: 0.2012 - val_time_distributed_149_loss: 0.1929 - val_time_distributed_151_loss: 0.0083 - val_time_distributed_149_accuracy: 0.8893 - val_time_distributed_151_accuracy: 0.2602\n",
      "Epoch 29/30\n",
      "21/21 [==============================] - 16s 751ms/step - loss: 0.0085 - time_distributed_149_loss: 0.0014 - time_distributed_151_loss: 0.0072 - time_distributed_149_accuracy: 0.9986 - time_distributed_151_accuracy: 0.2463 - val_loss: 0.2061 - val_time_distributed_149_loss: 0.1978 - val_time_distributed_151_loss: 0.0082 - val_time_distributed_149_accuracy: 0.8863 - val_time_distributed_151_accuracy: 0.2797\n",
      "Epoch 30/30\n",
      "21/21 [==============================] - 16s 751ms/step - loss: 0.0087 - time_distributed_149_loss: 0.0015 - time_distributed_151_loss: 0.0072 - time_distributed_149_accuracy: 0.9983 - time_distributed_151_accuracy: 0.2404 - val_loss: 0.2022 - val_time_distributed_149_loss: 0.1939 - val_time_distributed_151_loss: 0.0083 - val_time_distributed_149_accuracy: 0.8880 - val_time_distributed_151_accuracy: 0.2593\n"
     ]
    }
   ],
   "source": [
    "history = model_rel.fit(x=[X_word_tr,\n",
    "                     np.array(X_char_tr).reshape((len(X_char_tr), max_len, max_len_char))],\n",
    "                    y=[np.array(y_tr_ner).reshape(len(y_tr_ner), max_len, n_tags + 1), np.array(y_tr_rel).reshape(len(y_tr_rel), max_len, max_len)],\n",
    "                    batch_size=32, epochs=30, validation_split=0.2, verbose=1)"
   ]
  },
  {
   "cell_type": "code",
   "execution_count": 396,
   "id": "914b82cd-dffe-4fb1-9c58-7bd95671acf1",
   "metadata": {},
   "outputs": [],
   "source": [
    "model.save(\"joint_ner_rel_model.h5\")"
   ]
  },
  {
   "cell_type": "code",
   "execution_count": null,
   "id": "788c5351-5e30-4c67-bcba-9b0f670713ab",
   "metadata": {},
   "outputs": [],
   "source": []
  },
  {
   "cell_type": "code",
   "execution_count": 393,
   "id": "4731246e-0a0e-4f87-9f0e-3caba29a6b97",
   "metadata": {},
   "outputs": [
    {
     "name": "stdout",
     "output_type": "stream",
     "text": [
      "Collecting seqeval\n",
      "  Downloading seqeval-1.2.2.tar.gz (43 kB)\n",
      "\u001b[K     |████████████████████████████████| 43 kB 3.6 MB/s  eta 0:00:01\n",
      "\u001b[?25hRequirement already satisfied: numpy>=1.14.0 in /home/ubuntu/env/lib/python3.8/site-packages (from seqeval) (1.19.5)\n",
      "Requirement already satisfied: scikit-learn>=0.21.3 in /home/ubuntu/env/lib/python3.8/site-packages (from seqeval) (0.24.2)\n",
      "Requirement already satisfied: joblib>=0.11 in /home/ubuntu/env/lib/python3.8/site-packages (from scikit-learn>=0.21.3->seqeval) (1.0.1)\n",
      "Requirement already satisfied: threadpoolctl>=2.0.0 in /home/ubuntu/env/lib/python3.8/site-packages (from scikit-learn>=0.21.3->seqeval) (2.2.0)\n",
      "Requirement already satisfied: scipy>=0.19.1 in /home/ubuntu/env/lib/python3.8/site-packages (from scikit-learn>=0.21.3->seqeval) (1.7.0)\n",
      "Building wheels for collected packages: seqeval\n",
      "  Building wheel for seqeval (setup.py) ... \u001b[?25ldone\n",
      "\u001b[?25h  Created wheel for seqeval: filename=seqeval-1.2.2-py3-none-any.whl size=16170 sha256=7bd99c372ea60242d31cae5c27d8c43e152320c8dde4dc03f0edb040e76315f0\n",
      "  Stored in directory: /home/ubuntu/.cache/pip/wheels/ad/5c/ba/05fa33fa5855777b7d686e843ec07452f22a66a138e290e732\n",
      "Successfully built seqeval\n",
      "Installing collected packages: seqeval\n",
      "Successfully installed seqeval-1.2.2\n",
      "\u001b[33mWARNING: You are using pip version 21.1.1; however, version 21.2.1 is available.\n",
      "You should consider upgrading via the '/home/ubuntu/env/bin/python3.8 -m pip install --upgrade pip' command.\u001b[0m\n"
     ]
    }
   ],
   "source": [
    "!pip install seqeval"
   ]
  },
  {
   "cell_type": "code",
   "execution_count": 394,
   "id": "5fd54f01-e36f-4f97-b25b-621b09e0c7ea",
   "metadata": {},
   "outputs": [],
   "source": [
    "from seqeval.metrics import precision_score, recall_score, f1_score, classification_report"
   ]
  },
  {
   "cell_type": "code",
   "execution_count": 406,
   "id": "e626b39f-0084-4249-a987-f3cccc479f18",
   "metadata": {},
   "outputs": [
    {
     "name": "stdout",
     "output_type": "stream",
     "text": [
      "91 91 120 120 10\n"
     ]
    }
   ],
   "source": [
    "print(len(X_word_te), len(X_char_te), len(X_word_te[0]), len(X_char_te[0]), len(X_char_te[0][0]))"
   ]
  },
  {
   "cell_type": "code",
   "execution_count": 408,
   "id": "19253a5c-ca29-4aed-83af-35b4194d1764",
   "metadata": {},
   "outputs": [
    {
     "name": "stdout",
     "output_type": "stream",
     "text": [
      "3/3 [==============================] - 0s 75ms/step\n"
     ]
    }
   ],
   "source": [
    "ner_preds, dep_parser_preds = model_rel.predict([X_word_te, np.array(X_char_te).reshape((len(X_char_te), max_len, max_len_char))], batch_size=32, verbose=1)"
   ]
  },
  {
   "cell_type": "code",
   "execution_count": 410,
   "id": "a313d19b-5a50-4323-bf38-c16cbe3e5139",
   "metadata": {},
   "outputs": [
    {
     "data": {
      "text/plain": [
       "(91, 120, 10)"
      ]
     },
     "execution_count": 410,
     "metadata": {},
     "output_type": "execute_result"
    }
   ],
   "source": [
    "ner_preds.shape"
   ]
  },
  {
   "cell_type": "code",
   "execution_count": 411,
   "id": "347b8a5e-d077-4e64-8ce9-78d8a39d4a00",
   "metadata": {},
   "outputs": [
    {
     "data": {
      "text/plain": [
       "(91, 120, 120)"
      ]
     },
     "execution_count": 411,
     "metadata": {},
     "output_type": "execute_result"
    }
   ],
   "source": [
    "dep_parser_preds.shape"
   ]
  },
  {
   "cell_type": "code",
   "execution_count": 412,
   "id": "5ed302d7-1faa-4136-b38d-7dd6faaa16d9",
   "metadata": {},
   "outputs": [
    {
     "name": "stdout",
     "output_type": "stream",
     "text": [
      "3/3 [==============================] - 0s 76ms/step\n"
     ]
    }
   ],
   "source": [
    "ner_preds, dep_parser_preds = model_rel.predict([X_word_te, np.array(X_char_te).reshape((len(X_char_te), max_len, max_len_char))], verbose=1)"
   ]
  },
  {
   "cell_type": "code",
   "execution_count": 427,
   "id": "bd46f7c7-5dd1-4c35-93ce-74c1b56e0828",
   "metadata": {},
   "outputs": [
    {
     "name": "stdout",
     "output_type": "stream",
     "text": [
      "Word           ||True ||Pred\n",
      "==============================\n",
      "Tokyo          : B-Loc B-Loc\n",
      "MAINICHI       : B-Org B-Org\n",
      "SHIMBUN        : I-Org I-Org\n",
      "==============================\n",
      "BK2506112994   : O     O\n",
      "Bangkok        : B-Loc B-Loc\n",
      "BANGKOK        : B-Org B-Loc\n",
      "POST           : I-Org O\n",
      "in             : O     O\n",
      "English        : O     O\n",
      "25             : B-Other B-Other\n",
      "Jun            : I-Other B-Other\n",
      "94             : I-Other I-Other\n",
      "pp             : O     O\n",
      "1              : O     O\n",
      ",              : O     O\n",
      "3              : O     O\n",
      "==============================\n",
      "Dominique      : B-Peop O\n",
      "Beuff          : I-Peop O\n",
      "of             : O     O\n",
      "the            : O     O\n",
      "International  : B-Org B-Org\n",
      "Committee      : I-Org I-Org\n",
      "of             : I-Org O\n",
      "the            : I-Org O\n",
      "Red            : I-Org O\n",
      "Cross          : I-Org O\n",
      "in             : O     O\n",
      "Khartoum       : B-Loc O\n",
      "said           : O     O\n",
      "he             : O     O\n",
      "had            : O     O\n",
      "reports        : O     O\n",
      "of             : O     O\n",
      "people         : O     O\n",
      "dying          : O     O\n",
      "at             : O     O\n",
      "the            : O     O\n",
      "rate           : O     O\n",
      "of             : O     O\n",
      "up             : O     O\n",
      "to             : O     O\n",
      "four           : O     O\n",
      "a              : O     O\n",
      "day            : O     O\n",
      "in             : O     O\n",
      "some           : O     O\n",
      "areas          : O     O\n",
      "of             : O     O\n",
      "the            : O     O\n",
      "south          : O     O\n",
      "affected       : O     O\n",
      "by             : O     O\n",
      "a              : O     O\n",
      "5-year-old     : O     O\n",
      "civil          : O     O\n",
      "war            : O     O\n",
      ".              : O     O\n",
      "==============================\n",
      "In             : O     O\n",
      "1873           : O     O\n",
      ",              : O     O\n",
      "radio          : O     O\n",
      "electronics    : O     O\n",
      "pioneer        : O     O\n",
      "Dr.            : B-Peop B-Peop\n",
      "Lee            : I-Peop I-Peop\n",
      "DeForest       : I-Peop I-Peop\n",
      "was            : O     O\n",
      "born           : O     O\n",
      "in             : O     O\n",
      "Council        : B-Loc B-Loc\n",
      "Bluffs         : I-Loc I-Loc\n",
      ",              : I-Loc I-Loc\n",
      "Iowa           : I-Loc I-Loc\n",
      ".              : O     O\n",
      "==============================\n",
      "Mary           : B-Peop B-Peop\n",
      "Campbell       : I-Peop I-Peop\n",
      ",              : O     O\n",
      "a              : O     O\n",
      "former         : O     O\n",
      "Democratic     : O     B-Org\n",
      "member         : O     O\n",
      "of             : O     O\n",
      "the            : O     O\n",
      "Clover         : B-Org B-Loc\n",
      "Town           : I-Org I-Org\n",
      "Council        : I-Org I-Org\n",
      ",              : O     O\n",
      "got            : O     O\n",
      "the            : O     O\n",
      "unasked-for    : O     O\n",
      "tickets        : O     O\n",
      "in             : O     O\n",
      "the            : O     O\n",
      "mail           : O     O\n",
      "last           : O     O\n",
      "month          : O     O\n",
      ".              : O     O\n",
      "==============================\n",
      "That           : O     O\n",
      "same           : O     O\n",
      "day            : O     O\n",
      ",              : O     O\n",
      "a              : O     O\n",
      "grand          : O     O\n",
      "jury           : O     O\n",
      "in             : O     O\n",
      "Los            : B-Loc B-Loc\n",
      "Angeles        : I-Loc I-Loc\n",
      "indicted       : O     O\n",
      "Sirhan         : B-Peop B-Peop\n",
      "Bishara        : I-Peop I-Peop\n",
      "Sirhan         : I-Peop I-Peop\n",
      ",              : O     O\n",
      "a              : O     O\n",
      "Jordanian      : O     O\n",
      "citizen        : O     O\n",
      ",              : O     O\n",
      "on             : O     O\n",
      "a              : O     O\n",
      "charge         : O     O\n",
      "of             : O     O\n",
      "first-degree   : O     O\n",
      "murder         : O     O\n",
      "in             : O     O\n",
      "the            : O     O\n",
      "assassination  : O     O\n",
      "of             : O     O\n",
      "Kennedy        : B-Peop B-Peop\n",
      "two            : O     O\n",
      "days           : O     O\n",
      "earlier        : O     O\n",
      ".              : O     O\n"
     ]
    }
   ],
   "source": [
    "print(\"{:15}||{:5}||{}\".format(\"Word\", \"True\", \"Pred\"))\n",
    "for i in range(len(ner_preds)):\n",
    "    pred_index = np.argmax(ner_preds[i], axis=-1)\n",
    "    gt_index = np.argmax(y_te_ner[i], axis=-1)\n",
    "    print(30 * \"=\")\n",
    "    for w, t, pred in zip(X_word_te[i], gt_index, pred_index):\n",
    "        if w != 0:\n",
    "            print(\"{:15}: {:5} {}\".format(idx2word[w], idx2tag[t], idx2tag[pred]))\n",
    "    if i == 5:\n",
    "        break"
   ]
  },
  {
   "cell_type": "code",
   "execution_count": 415,
   "id": "ca2b9beb-cf7c-46df-aa60-e91ecae0693a",
   "metadata": {},
   "outputs": [
    {
     "data": {
      "text/plain": [
       "120"
      ]
     },
     "execution_count": 415,
     "metadata": {},
     "output_type": "execute_result"
    }
   ],
   "source": [
    "len(p)"
   ]
  },
  {
   "cell_type": "code",
   "execution_count": 416,
   "id": "7b636a85-7b8f-4e11-9dc5-8d98898ac464",
   "metadata": {},
   "outputs": [
    {
     "data": {
      "text/plain": [
       "5"
      ]
     },
     "execution_count": 416,
     "metadata": {},
     "output_type": "execute_result"
    }
   ],
   "source": [
    "p[0]"
   ]
  },
  {
   "cell_type": "code",
   "execution_count": 417,
   "id": "5158c272-57a2-49cd-813f-5d24c3ebb4c2",
   "metadata": {},
   "outputs": [
    {
     "data": {
      "text/plain": [
       "array([[0., 0., 0., 0., 0., 1., 0., 0., 0., 0.],\n",
       "       [0., 0., 0., 0., 1., 0., 0., 0., 0., 0.],\n",
       "       [0., 0., 0., 0., 0., 0., 0., 0., 0., 1.],\n",
       "       [1., 0., 0., 0., 0., 0., 0., 0., 0., 0.],\n",
       "       [1., 0., 0., 0., 0., 0., 0., 0., 0., 0.],\n",
       "       [1., 0., 0., 0., 0., 0., 0., 0., 0., 0.],\n",
       "       [1., 0., 0., 0., 0., 0., 0., 0., 0., 0.],\n",
       "       [1., 0., 0., 0., 0., 0., 0., 0., 0., 0.],\n",
       "       [1., 0., 0., 0., 0., 0., 0., 0., 0., 0.],\n",
       "       [1., 0., 0., 0., 0., 0., 0., 0., 0., 0.],\n",
       "       [1., 0., 0., 0., 0., 0., 0., 0., 0., 0.],\n",
       "       [1., 0., 0., 0., 0., 0., 0., 0., 0., 0.],\n",
       "       [1., 0., 0., 0., 0., 0., 0., 0., 0., 0.],\n",
       "       [1., 0., 0., 0., 0., 0., 0., 0., 0., 0.],\n",
       "       [1., 0., 0., 0., 0., 0., 0., 0., 0., 0.],\n",
       "       [1., 0., 0., 0., 0., 0., 0., 0., 0., 0.],\n",
       "       [1., 0., 0., 0., 0., 0., 0., 0., 0., 0.],\n",
       "       [1., 0., 0., 0., 0., 0., 0., 0., 0., 0.],\n",
       "       [1., 0., 0., 0., 0., 0., 0., 0., 0., 0.],\n",
       "       [1., 0., 0., 0., 0., 0., 0., 0., 0., 0.],\n",
       "       [1., 0., 0., 0., 0., 0., 0., 0., 0., 0.],\n",
       "       [1., 0., 0., 0., 0., 0., 0., 0., 0., 0.],\n",
       "       [1., 0., 0., 0., 0., 0., 0., 0., 0., 0.],\n",
       "       [1., 0., 0., 0., 0., 0., 0., 0., 0., 0.],\n",
       "       [1., 0., 0., 0., 0., 0., 0., 0., 0., 0.],\n",
       "       [1., 0., 0., 0., 0., 0., 0., 0., 0., 0.],\n",
       "       [1., 0., 0., 0., 0., 0., 0., 0., 0., 0.],\n",
       "       [1., 0., 0., 0., 0., 0., 0., 0., 0., 0.],\n",
       "       [1., 0., 0., 0., 0., 0., 0., 0., 0., 0.],\n",
       "       [1., 0., 0., 0., 0., 0., 0., 0., 0., 0.],\n",
       "       [1., 0., 0., 0., 0., 0., 0., 0., 0., 0.],\n",
       "       [1., 0., 0., 0., 0., 0., 0., 0., 0., 0.],\n",
       "       [1., 0., 0., 0., 0., 0., 0., 0., 0., 0.],\n",
       "       [1., 0., 0., 0., 0., 0., 0., 0., 0., 0.],\n",
       "       [1., 0., 0., 0., 0., 0., 0., 0., 0., 0.],\n",
       "       [1., 0., 0., 0., 0., 0., 0., 0., 0., 0.],\n",
       "       [1., 0., 0., 0., 0., 0., 0., 0., 0., 0.],\n",
       "       [1., 0., 0., 0., 0., 0., 0., 0., 0., 0.],\n",
       "       [1., 0., 0., 0., 0., 0., 0., 0., 0., 0.],\n",
       "       [1., 0., 0., 0., 0., 0., 0., 0., 0., 0.],\n",
       "       [1., 0., 0., 0., 0., 0., 0., 0., 0., 0.],\n",
       "       [1., 0., 0., 0., 0., 0., 0., 0., 0., 0.],\n",
       "       [1., 0., 0., 0., 0., 0., 0., 0., 0., 0.],\n",
       "       [1., 0., 0., 0., 0., 0., 0., 0., 0., 0.],\n",
       "       [1., 0., 0., 0., 0., 0., 0., 0., 0., 0.],\n",
       "       [1., 0., 0., 0., 0., 0., 0., 0., 0., 0.],\n",
       "       [1., 0., 0., 0., 0., 0., 0., 0., 0., 0.],\n",
       "       [1., 0., 0., 0., 0., 0., 0., 0., 0., 0.],\n",
       "       [1., 0., 0., 0., 0., 0., 0., 0., 0., 0.],\n",
       "       [1., 0., 0., 0., 0., 0., 0., 0., 0., 0.],\n",
       "       [1., 0., 0., 0., 0., 0., 0., 0., 0., 0.],\n",
       "       [1., 0., 0., 0., 0., 0., 0., 0., 0., 0.],\n",
       "       [1., 0., 0., 0., 0., 0., 0., 0., 0., 0.],\n",
       "       [1., 0., 0., 0., 0., 0., 0., 0., 0., 0.],\n",
       "       [1., 0., 0., 0., 0., 0., 0., 0., 0., 0.],\n",
       "       [1., 0., 0., 0., 0., 0., 0., 0., 0., 0.],\n",
       "       [1., 0., 0., 0., 0., 0., 0., 0., 0., 0.],\n",
       "       [1., 0., 0., 0., 0., 0., 0., 0., 0., 0.],\n",
       "       [1., 0., 0., 0., 0., 0., 0., 0., 0., 0.],\n",
       "       [1., 0., 0., 0., 0., 0., 0., 0., 0., 0.]], dtype=float32)"
      ]
     },
     "execution_count": 417,
     "metadata": {},
     "output_type": "execute_result"
    }
   ],
   "source": [
    "y_te[0]"
   ]
  },
  {
   "cell_type": "code",
   "execution_count": 418,
   "id": "a0fe18c2-9650-4300-9d90-026735dea340",
   "metadata": {},
   "outputs": [
    {
     "data": {
      "text/plain": [
       "array([5, 4, 9, 6, 6, 6, 6, 6, 6, 6, 6, 6, 6, 6, 6, 6, 6, 6, 6, 6, 6, 6,\n",
       "       6, 6, 6, 6, 6, 6, 6, 6, 6, 6, 6, 6, 6, 6, 6, 6, 6, 6, 6, 6, 6, 6,\n",
       "       6, 6, 6, 6, 6, 6, 6, 6, 6, 6, 6, 6, 6, 6, 6, 6, 6, 6, 6, 6, 6, 6,\n",
       "       6, 6, 6, 6, 6, 6, 6, 6, 6, 6, 6, 6, 6, 6, 6, 6, 6, 6, 6, 6, 6, 6,\n",
       "       6, 6, 6, 6, 6, 6, 6, 6, 6, 6, 6, 6, 6, 6, 6, 6, 6, 6, 6, 6, 6, 6,\n",
       "       6, 6, 6, 6, 6, 6, 6, 6, 6, 6])"
      ]
     },
     "execution_count": 418,
     "metadata": {},
     "output_type": "execute_result"
    }
   ],
   "source": [
    "p"
   ]
  },
  {
   "cell_type": "code",
   "execution_count": 419,
   "id": "e3151b59-97ec-4567-874d-5f20bf17ef38",
   "metadata": {},
   "outputs": [],
   "source": [
    "q = np.argmax(y_te[0], axis=-1)"
   ]
  },
  {
   "cell_type": "code",
   "execution_count": 420,
   "id": "1ed1c14c-7a96-46a6-8016-859016bb9fd8",
   "metadata": {},
   "outputs": [
    {
     "data": {
      "text/plain": [
       "array([5, 4, 9, 0, 0, 0, 0, 0, 0, 0, 0, 0, 0, 0, 0, 0, 0, 0, 0, 0, 0, 0,\n",
       "       0, 0, 0, 0, 0, 0, 0, 0, 0, 0, 0, 0, 0, 0, 0, 0, 0, 0, 0, 0, 0, 0,\n",
       "       0, 0, 0, 0, 0, 0, 0, 0, 0, 0, 0, 0, 0, 0, 0, 0])"
      ]
     },
     "execution_count": 420,
     "metadata": {},
     "output_type": "execute_result"
    }
   ],
   "source": [
    "q"
   ]
  },
  {
   "cell_type": "code",
   "execution_count": 437,
   "id": "50224eb0-cc5b-410a-aea9-42bafb71fc87",
   "metadata": {},
   "outputs": [],
   "source": [
    "class NpEncoder(json.JSONEncoder):\n",
    "    def default(self, obj):\n",
    "        if isinstance(obj, np.integer):\n",
    "            return int(obj)\n",
    "        elif isinstance(obj, np.floating):\n",
    "            return float(obj)\n",
    "        elif isinstance(obj, np.ndarray):\n",
    "            return obj.tolist()\n",
    "        else:\n",
    "            return super(NpEncoder, self).default(obj)"
   ]
  },
  {
   "cell_type": "code",
   "execution_count": 464,
   "id": "47d2289c-8c72-4590-b7ee-57c007c29c97",
   "metadata": {},
   "outputs": [
    {
     "name": "stdout",
     "output_type": "stream",
     "text": [
      "Word           ||Relation GT||Relation Pred\n",
      "==============================\n",
      "Tokyo          : [0]   [0]\n",
      "MAINICHI       : [1]   [1]\n",
      "SHIMBUN        : [0]   [1]\n",
      "==============================\n",
      "BK2506112994   : [0]   [0]\n",
      "Bangkok        : [1]   [0]\n",
      "BANGKOK        : [2]   [1]\n",
      "POST           : [1]   [2]\n",
      "in             : [4]   [3]\n",
      "English        : [5]   [4]\n",
      "25             : [6]   [6]\n",
      "Jun            : [7]   [8]\n",
      "94             : [8]   [10]\n",
      "pp             : [9]   [11]\n",
      "1              : [10]  [11]\n",
      ",              : [11]  [11]\n",
      "3              : [12]  [14]\n",
      "==============================\n",
      "Dominique      : [0]   [0]\n",
      "Beuff          : [9, 11] [1]\n",
      "of             : [2]   [2]\n",
      "the            : [3]   [3]\n",
      "International  : [4]   [4]\n",
      "Committee      : [5]   [5]\n",
      "of             : [6]   [6]\n",
      "the            : [7]   [7]\n",
      "Red            : [8]   [8]\n",
      "Cross          : [11]  [10]\n",
      "in             : [10]  [12]\n",
      "Khartoum       : [11]  [12]\n",
      "said           : [12]  [13]\n",
      "he             : [13]  [15]\n",
      "had            : [14]  [16]\n",
      "reports        : [15]  [16]\n",
      "of             : [16]  [16]\n",
      "people         : [17]  [19]\n",
      "dying          : [18]  [20]\n",
      "at             : [19]  [20]\n",
      "the            : [20]  [22]\n",
      "rate           : [21]  [22]\n",
      "of             : [22]  [24]\n",
      "up             : [23]  [24]\n",
      "to             : [24]  [25]\n",
      "four           : [25]  [25]\n",
      "a              : [26]  [25]\n",
      "day            : [27]  [29]\n",
      "in             : [28]  [25]\n",
      "some           : [29]  [25]\n",
      "areas          : [30]  [30]\n",
      "of             : [31]  [29]\n",
      "the            : [32]  [29]\n",
      "south          : [33]  [25]\n",
      "affected       : [34]  [30]\n",
      "by             : [35]  [29]\n",
      "a              : [36]  [30]\n",
      "5-year-old     : [37]  [29]\n",
      "civil          : [38]  [31]\n",
      "war            : [39]  [31]\n",
      ".              : [40]  [33]\n",
      "==============================\n",
      "In             : [0]   [0]\n",
      "1873           : [1]   [1]\n",
      ",              : [2]   [2]\n",
      "radio          : [3]   [3]\n",
      "electronics    : [4]   [4]\n",
      "pioneer        : [5]   [6]\n",
      "Dr.            : [6]   [7]\n",
      "Lee            : [7]   [11]\n",
      "DeForest       : [15]  [12]\n",
      "was            : [9]   [10]\n",
      "born           : [10]  [12]\n",
      "in             : [11]  [12]\n",
      "Council        : [12]  [14]\n",
      "Bluffs         : [13]  [15]\n",
      ",              : [14]  [15]\n",
      "Iowa           : [15]  [17]\n",
      ".              : [16]  [16]\n",
      "==============================\n",
      "Mary           : [0]   [0]\n",
      "Campbell       : [11]  [1]\n",
      ",              : [2]   [2]\n",
      "a              : [3]   [3]\n",
      "former         : [4]   [4]\n",
      "Democratic     : [5]   [4]\n",
      "member         : [6]   [6]\n",
      "of             : [7]   [6]\n",
      "the            : [8]   [7]\n",
      "Clover         : [9]   [8]\n",
      "Town           : [10]  [12]\n",
      "Council        : [11]  [13]\n",
      ",              : [12]  [13]\n",
      "got            : [13]  [15]\n",
      "the            : [14]  [16]\n",
      "unasked-for    : [15]  [17]\n",
      "tickets        : [16]  [19]\n",
      "in             : [17]  [19]\n",
      "the            : [18]  [20]\n",
      "mail           : [19]  [22]\n",
      "last           : [20]  [22]\n",
      "month          : [21]  [22]\n",
      ".              : [22]  [22]\n",
      "==============================\n",
      "That           : [0]   [0]\n",
      "same           : [1]   [1]\n",
      "day            : [2]   [2]\n",
      ",              : [3]   [3]\n",
      "a              : [4]   [4]\n",
      "grand          : [5]   [6]\n",
      "jury           : [6]   [6]\n",
      "in             : [7]   [7]\n",
      "Los            : [8]   [8]\n",
      "Angeles        : [9]   [10]\n",
      "indicted       : [10]  [12]\n",
      "Sirhan         : [11]  [12]\n",
      "Bishara        : [12]  [12]\n",
      "Sirhan         : [29]  [15]\n",
      ",              : [14]  [15]\n",
      "a              : [15]  [15]\n",
      "Jordanian      : [16]  [15]\n",
      "citizen        : [17]  [17]\n",
      ",              : [18]  [17]\n",
      "on             : [19]  [20]\n",
      "a              : [20]  [20]\n",
      "charge         : [21]  [22]\n",
      "of             : [22]  [22]\n",
      "first-degree   : [23]  [24]\n",
      "murder         : [24]  [24]\n",
      "in             : [25]  [24]\n",
      "the            : [26]  [24]\n",
      "assassination  : [27]  [25]\n",
      "of             : [28]  [29]\n",
      "Kennedy        : [29]  [30]\n",
      "two            : [30]  [33]\n",
      "days           : [31]  [29]\n",
      "earlier        : [32]  [29]\n",
      ".              : [33]  [31]\n"
     ]
    }
   ],
   "source": [
    "print(\"{:15}||{:5}||{}\".format(\"Word\", \"Relation GT\", \"Relation Pred\"))\n",
    "for i in range(len(dep_parser_preds)):\n",
    "    print(30 * \"=\")\n",
    "    for j in range(max_len):\n",
    "#         rel_pred_indices = list(np.where(np.array(dep_parser_preds[i][j] > 0.5)[0])\n",
    "        rel_pred_indices = [np.argmax(dep_parser_preds[i][j])]\n",
    "        rel_gt_indices = list(np.where(np.array(y_te_rel[i][j]) == 1)[0])\n",
    "        w = X_word_te[i][j]\n",
    "        if w != 0:\n",
    "            print(\"{:15}: {:5} {}\".format(idx2word[w], json.dumps(rel_gt_indices, cls=NpEncoder), json.dumps(rel_pred_indices, cls=NpEncoder)))\n",
    "    if i == 5:\n",
    "        break"
   ]
  },
  {
   "cell_type": "code",
   "execution_count": 441,
   "id": "bebbabb3-c6b5-4366-9dee-7ed7137b58b0",
   "metadata": {},
   "outputs": [],
   "source": [
    "# np.where(np.array([[1, 0, 1]]) == 1, axis=-1)"
   ]
  },
  {
   "cell_type": "code",
   "execution_count": 430,
   "id": "885e386c-f129-445f-984f-7d27245a3ac5",
   "metadata": {},
   "outputs": [
    {
     "data": {
      "text/plain": [
       "[0, 2]"
      ]
     },
     "execution_count": 430,
     "metadata": {},
     "output_type": "execute_result"
    }
   ],
   "source": [
    "list(np.where(np.array([1, 0, 1]) == 1)[0])"
   ]
  },
  {
   "cell_type": "code",
   "execution_count": 431,
   "id": "8eff3e85-11bc-4bda-a715-60ca44d8d2a7",
   "metadata": {},
   "outputs": [
    {
     "data": {
      "text/plain": [
       "[0, 2]"
      ]
     },
     "execution_count": 431,
     "metadata": {},
     "output_type": "execute_result"
    }
   ],
   "source": [
    "list(np.where(np.array([1, 0, 1]) > 0.5)[0])"
   ]
  },
  {
   "cell_type": "code",
   "execution_count": 436,
   "id": "08a67a43-4d83-4e7a-a6ca-04bee1807baf",
   "metadata": {},
   "outputs": [
    {
     "data": {
      "text/plain": [
       "'[5]'"
      ]
     },
     "execution_count": 436,
     "metadata": {},
     "output_type": "execute_result"
    }
   ],
   "source": [
    "json.dumps([5])"
   ]
  },
  {
   "cell_type": "code",
   "execution_count": 449,
   "id": "3aecf63c-7ffe-4f8f-8250-fdce1a3d418d",
   "metadata": {},
   "outputs": [
    {
     "data": {
      "text/plain": [
       "True"
      ]
     },
     "execution_count": 449,
     "metadata": {},
     "output_type": "execute_result"
    }
   ],
   "source": [
    "y_te_rel[0][0] == 1.0"
   ]
  },
  {
   "cell_type": "code",
   "execution_count": 451,
   "id": "0c21ec3a-0864-44f5-b0f0-fda3d34e6ba9",
   "metadata": {},
   "outputs": [
    {
     "data": {
      "text/plain": [
       "(array([0]),)"
      ]
     },
     "execution_count": 451,
     "metadata": {},
     "output_type": "execute_result"
    }
   ],
   "source": [
    "np.where(np.array(y_te_rel[0][0]) == 1.0)"
   ]
  },
  {
   "cell_type": "code",
   "execution_count": 455,
   "id": "a841a032-8125-4060-911b-f0a2dc2700ac",
   "metadata": {},
   "outputs": [
    {
     "data": {
      "text/plain": [
       "0"
      ]
     },
     "execution_count": 455,
     "metadata": {},
     "output_type": "execute_result"
    }
   ],
   "source": [
    "np.argmax(dep_parser_preds[i][j])"
   ]
  },
  {
   "cell_type": "code",
   "execution_count": 463,
   "id": "cca15509-ace8-49da-a42e-f19cb2826164",
   "metadata": {},
   "outputs": [
    {
     "data": {
      "text/plain": [
       "[0]"
      ]
     },
     "execution_count": 463,
     "metadata": {},
     "output_type": "execute_result"
    }
   ],
   "source": [
    "[int(np.argmax(dep_parser_preds[0][0]))]"
   ]
  },
  {
   "cell_type": "code",
   "execution_count": null,
   "id": "5e530e02-cb82-486b-8da6-483de6a0d30d",
   "metadata": {},
   "outputs": [],
   "source": []
  }
 ],
 "metadata": {
  "kernelspec": {
   "display_name": "Python 3",
   "language": "python",
   "name": "python3"
  },
  "language_info": {
   "codemirror_mode": {
    "name": "ipython",
    "version": 3
   },
   "file_extension": ".py",
   "mimetype": "text/x-python",
   "name": "python",
   "nbconvert_exporter": "python",
   "pygments_lexer": "ipython3",
   "version": "3.8.10"
  }
 },
 "nbformat": 4,
 "nbformat_minor": 5
}
