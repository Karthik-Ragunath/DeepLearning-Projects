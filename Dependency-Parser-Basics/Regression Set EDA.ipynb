{
 "cells": [
  {
   "cell_type": "code",
   "execution_count": null,
   "metadata": {
    "application/vnd.databricks.v1+cell": {
     "inputWidgets": {},
     "nuid": "01a46a56-50c7-4b0b-a68a-b718af8bedbb",
     "showTitle": false,
     "title": ""
    }
   },
   "outputs": [
    {
     "data": {
      "text/html": [
       "<style scoped>\n",
       "  .ansiout {\n",
       "    display: block;\n",
       "    unicode-bidi: embed;\n",
       "    white-space: pre-wrap;\n",
       "    word-wrap: break-word;\n",
       "    word-break: break-all;\n",
       "    font-family: \"Source Code Pro\", \"Menlo\", monospace;;\n",
       "    font-size: 13px;\n",
       "    color: #555;\n",
       "    margin-left: 4px;\n",
       "    line-height: 19px;\n",
       "  }\n",
       "</style>\n",
       "<div class=\"ansiout\"></div>"
      ]
     },
     "metadata": {
      "application/vnd.databricks.v1+output": {
       "addedWidgets": {},
       "arguments": {},
       "data": "<div class=\"ansiout\"></div>",
       "datasetInfos": [],
       "metadata": {},
       "removedWidgets": [],
       "type": "html"
      }
     },
     "output_type": "display_data"
    }
   ],
   "source": [
    "import pandas as pd\n",
    "import numpy as np"
   ]
  },
  {
   "cell_type": "code",
   "execution_count": null,
   "metadata": {
    "application/vnd.databricks.v1+cell": {
     "inputWidgets": {},
     "nuid": "2a7fb5df-3b7b-4fd1-bda0-01bf21f49b73",
     "showTitle": false,
     "title": ""
    }
   },
   "outputs": [
    {
     "data": {
      "text/html": [
       "<style scoped>\n",
       "  .ansiout {\n",
       "    display: block;\n",
       "    unicode-bidi: embed;\n",
       "    white-space: pre-wrap;\n",
       "    word-wrap: break-word;\n",
       "    word-break: break-all;\n",
       "    font-family: \"Source Code Pro\", \"Menlo\", monospace;;\n",
       "    font-size: 13px;\n",
       "    color: #555;\n",
       "    margin-left: 4px;\n",
       "    line-height: 19px;\n",
       "  }\n",
       "</style>\n",
       "<div class=\"ansiout\"></div>"
      ]
     },
     "metadata": {
      "application/vnd.databricks.v1+output": {
       "addedWidgets": {},
       "arguments": {},
       "data": "<div class=\"ansiout\"></div>",
       "datasetInfos": [],
       "metadata": {},
       "removedWidgets": [],
       "type": "html"
      }
     },
     "output_type": "display_data"
    }
   ],
   "source": [
    "# df1 = pd.read_csv(\"/dbfs/FileStore/shared_uploads/t_karthik.ragunath@tatadigital.com/qa_queries_tagger_demo_lg-1.csv\")\n",
    "# df1 = pd.read_csv(\"/dbfs/FileStore/shared_uploads/t_karthik.ragunath@tatadigital.com/current_tagger.csv\")\n",
    "# df1 = pd.read_csv(\"/dbfs/FileStore/shared_uploads/t_karthik.ragunath@tatadigital.com/current_tagger_qa.csv\")"
   ]
  },
  {
   "cell_type": "code",
   "execution_count": null,
   "metadata": {
    "application/vnd.databricks.v1+cell": {
     "inputWidgets": {},
     "nuid": "e93aeb08-ddd2-4d38-a33c-17c096885c8a",
     "showTitle": false,
     "title": ""
    }
   },
   "outputs": [
    {
     "data": {
      "text/html": [
       "<style scoped>\n",
       "  .ansiout {\n",
       "    display: block;\n",
       "    unicode-bidi: embed;\n",
       "    white-space: pre-wrap;\n",
       "    word-wrap: break-word;\n",
       "    word-break: break-all;\n",
       "    font-family: \"Source Code Pro\", \"Menlo\", monospace;;\n",
       "    font-size: 13px;\n",
       "    color: #555;\n",
       "    margin-left: 4px;\n",
       "    line-height: 19px;\n",
       "  }\n",
       "</style>\n",
       "<div class=\"ansiout\">True\n",
       "False\n",
       "</div>"
      ]
     },
     "metadata": {
      "application/vnd.databricks.v1+output": {
       "addedWidgets": {},
       "arguments": {},
       "data": "<div class=\"ansiout\">True\nFalse\n</div>",
       "datasetInfos": [],
       "metadata": {},
       "removedWidgets": [],
       "type": "html"
      }
     },
     "output_type": "display_data"
    }
   ],
   "source": [
    "# Create array\n",
    "Z = np.random.randn(5,2)\n",
    " \n",
    "Z1 = Z[:3, :]  # view\n",
    "print(Z1.base is Z)  # True: Z1 is a view.\n",
    " \n",
    "Z2 = Z[[0,1,2],:]  # copy\n",
    "print(Z2.base is Z)  # False: Z2 is a copy. In fact, Z2.base is None."
   ]
  },
  {
   "cell_type": "code",
   "execution_count": null,
   "metadata": {
    "application/vnd.databricks.v1+cell": {
     "inputWidgets": {},
     "nuid": "23b520d4-0a88-4849-81e0-553ac3584d5c",
     "showTitle": false,
     "title": ""
    }
   },
   "outputs": [
    {
     "data": {
      "text/html": [
       "<style scoped>\n",
       "  .ansiout {\n",
       "    display: block;\n",
       "    unicode-bidi: embed;\n",
       "    white-space: pre-wrap;\n",
       "    word-wrap: break-word;\n",
       "    word-break: break-all;\n",
       "    font-family: \"Source Code Pro\", \"Menlo\", monospace;;\n",
       "    font-size: 13px;\n",
       "    color: #555;\n",
       "    margin-left: 4px;\n",
       "    line-height: 19px;\n",
       "  }\n",
       "</style>\n",
       "<div class=\"ansiout\">True\n",
       "</div>"
      ]
     },
     "metadata": {
      "application/vnd.databricks.v1+output": {
       "addedWidgets": {},
       "arguments": {},
       "data": "<div class=\"ansiout\">True\n</div>",
       "datasetInfos": [],
       "metadata": {},
       "removedWidgets": [],
       "type": "html"
      }
     },
     "output_type": "display_data"
    }
   ],
   "source": [
    "z = np.array([1,2,3,4,5])\n",
    "z1 = z[:3]\n",
    "print(z1.base is z)"
   ]
  },
  {
   "cell_type": "code",
   "execution_count": null,
   "metadata": {
    "application/vnd.databricks.v1+cell": {
     "inputWidgets": {},
     "nuid": "a0510db7-8531-4119-a4ef-eb0f24baf655",
     "showTitle": false,
     "title": ""
    }
   },
   "outputs": [
    {
     "data": {
      "text/html": [
       "<style scoped>\n",
       "  .ansiout {\n",
       "    display: block;\n",
       "    unicode-bidi: embed;\n",
       "    white-space: pre-wrap;\n",
       "    word-wrap: break-word;\n",
       "    word-break: break-all;\n",
       "    font-family: \"Source Code Pro\", \"Menlo\", monospace;;\n",
       "    font-size: 13px;\n",
       "    color: #555;\n",
       "    margin-left: 4px;\n",
       "    line-height: 19px;\n",
       "  }\n",
       "</style>\n",
       "<div class=\"ansiout\"></div>"
      ]
     },
     "metadata": {
      "application/vnd.databricks.v1+output": {
       "addedWidgets": {},
       "arguments": {},
       "data": "<div class=\"ansiout\"></div>",
       "datasetInfos": [],
       "metadata": {},
       "removedWidgets": [],
       "type": "html"
      }
     },
     "output_type": "display_data"
    }
   ],
   "source": [
    "df_1 = pd.read_csv(\"/dbfs/FileStore/shared_uploads/t_karthik.ragunath@tatadigital.com/qa_queries_tagger_demo_lg.csv\", index_col=0)\n",
    "df_2 = pd.read_csv(\"/dbfs/FileStore/shared_uploads/t_karthik.ragunath@tatadigital.com/current_tagger_qa.csv\", index_col=0)"
   ]
  },
  {
   "cell_type": "code",
   "execution_count": null,
   "metadata": {
    "application/vnd.databricks.v1+cell": {
     "inputWidgets": {},
     "nuid": "5659cda4-2d41-4189-a281-7e1ba38caf94",
     "showTitle": false,
     "title": ""
    }
   },
   "outputs": [
    {
     "data": {
      "text/html": [
       "<style scoped>\n",
       "  .ansiout {\n",
       "    display: block;\n",
       "    unicode-bidi: embed;\n",
       "    white-space: pre-wrap;\n",
       "    word-wrap: break-word;\n",
       "    word-break: break-all;\n",
       "    font-family: \"Source Code Pro\", \"Menlo\", monospace;;\n",
       "    font-size: 13px;\n",
       "    color: #555;\n",
       "    margin-left: 4px;\n",
       "    line-height: 19px;\n",
       "  }\n",
       "</style>\n",
       "<div class=\"ansiout\">Index([&#39;Query&#39;, &#39;Brand&#39;, &#39;Quality&#39;, &#39;Category&#39;, &#39;Preposition&#39;,\n",
       "       &#39;Preposition Meaning&#39;, &#39;Category_Feature_Relation&#39;],\n",
       "      dtype=&#39;object&#39;)\n",
       "Index([&#39;query&#39;, &#39;tags&#39;], dtype=&#39;object&#39;)\n",
       "</div>"
      ]
     },
     "metadata": {
      "application/vnd.databricks.v1+output": {
       "addedWidgets": {},
       "arguments": {},
       "data": "<div class=\"ansiout\">Index([&#39;Query&#39;, &#39;Brand&#39;, &#39;Quality&#39;, &#39;Category&#39;, &#39;Preposition&#39;,\n       &#39;Preposition Meaning&#39;, &#39;Category_Feature_Relation&#39;],\n      dtype=&#39;object&#39;)\nIndex([&#39;query&#39;, &#39;tags&#39;], dtype=&#39;object&#39;)\n</div>",
       "datasetInfos": [],
       "metadata": {},
       "removedWidgets": [],
       "type": "html"
      }
     },
     "output_type": "display_data"
    }
   ],
   "source": [
    "print(df_1.columns)\n",
    "print(df_2.columns)"
   ]
  },
  {
   "cell_type": "code",
   "execution_count": null,
   "metadata": {
    "application/vnd.databricks.v1+cell": {
     "inputWidgets": {},
     "nuid": "452f11b7-c2b3-4ad9-825a-df1395e0e35d",
     "showTitle": false,
     "title": ""
    }
   },
   "outputs": [
    {
     "data": {
      "text/html": [
       "<style scoped>\n",
       "  .ansiout {\n",
       "    display: block;\n",
       "    unicode-bidi: embed;\n",
       "    white-space: pre-wrap;\n",
       "    word-wrap: break-word;\n",
       "    word-break: break-all;\n",
       "    font-family: \"Source Code Pro\", \"Menlo\", monospace;;\n",
       "    font-size: 13px;\n",
       "    color: #555;\n",
       "    margin-left: 4px;\n",
       "    line-height: 19px;\n",
       "  }\n",
       "</style>\n",
       "<div class=\"ansiout\">Out[6]: Query                            denim dress\n",
       "Brand                                    NaN\n",
       "Quality                            [&#39;denim&#39;]\n",
       "Category                           [&#39;dress&#39;]\n",
       "Preposition                               []\n",
       "Preposition Meaning                       []\n",
       "Category_Feature_Relation    [&#39;dress:denim&#39;]\n",
       "Name: 50, dtype: object</div>"
      ]
     },
     "metadata": {
      "application/vnd.databricks.v1+output": {
       "addedWidgets": {},
       "arguments": {},
       "data": "<div class=\"ansiout\">Out[6]: Query                            denim dress\nBrand                                    NaN\nQuality                            [&#39;denim&#39;]\nCategory                           [&#39;dress&#39;]\nPreposition                               []\nPreposition Meaning                       []\nCategory_Feature_Relation    [&#39;dress:denim&#39;]\nName: 50, dtype: object</div>",
       "datasetInfos": [],
       "metadata": {},
       "removedWidgets": [],
       "type": "html"
      }
     },
     "output_type": "display_data"
    }
   ],
   "source": [
    "df_1.loc[50]"
   ]
  },
  {
   "cell_type": "code",
   "execution_count": null,
   "metadata": {
    "application/vnd.databricks.v1+cell": {
     "inputWidgets": {},
     "nuid": "25cf8ba3-7f88-4f1c-89d8-5ef368738ba8",
     "showTitle": false,
     "title": ""
    }
   },
   "outputs": [
    {
     "data": {
      "text/html": [
       "<style scoped>\n",
       "  .ansiout {\n",
       "    display: block;\n",
       "    unicode-bidi: embed;\n",
       "    white-space: pre-wrap;\n",
       "    word-wrap: break-word;\n",
       "    word-break: break-all;\n",
       "    font-family: \"Source Code Pro\", \"Menlo\", monospace;;\n",
       "    font-size: 13px;\n",
       "    color: #555;\n",
       "    margin-left: 4px;\n",
       "    line-height: 19px;\n",
       "  }\n",
       "</style>\n",
       "<div class=\"ansiout\">Out[7]: query                   Denim dress\n",
       "tags     {&#34;ca&#34;: [&#34;denim&#34;, &#34;dress&#34;]}\n",
       "Name: 50, dtype: object</div>"
      ]
     },
     "metadata": {
      "application/vnd.databricks.v1+output": {
       "addedWidgets": {},
       "arguments": {},
       "data": "<div class=\"ansiout\">Out[7]: query                   Denim dress\ntags     {&#34;ca&#34;: [&#34;denim&#34;, &#34;dress&#34;]}\nName: 50, dtype: object</div>",
       "datasetInfos": [],
       "metadata": {},
       "removedWidgets": [],
       "type": "html"
      }
     },
     "output_type": "display_data"
    }
   ],
   "source": [
    "df_2.loc[50]"
   ]
  },
  {
   "cell_type": "code",
   "execution_count": null,
   "metadata": {
    "application/vnd.databricks.v1+cell": {
     "inputWidgets": {},
     "nuid": "704e0822-a288-4244-a29a-98a937c73be5",
     "showTitle": false,
     "title": ""
    }
   },
   "outputs": [
    {
     "data": {
      "text/html": [
       "<style scoped>\n",
       "  .ansiout {\n",
       "    display: block;\n",
       "    unicode-bidi: embed;\n",
       "    white-space: pre-wrap;\n",
       "    word-wrap: break-word;\n",
       "    word-break: break-all;\n",
       "    font-family: \"Source Code Pro\", \"Menlo\", monospace;;\n",
       "    font-size: 13px;\n",
       "    color: #555;\n",
       "    margin-left: 4px;\n",
       "    line-height: 19px;\n",
       "  }\n",
       "</style>\n",
       "<div class=\"ansiout\"></div>"
      ]
     },
     "metadata": {
      "application/vnd.databricks.v1+output": {
       "addedWidgets": {},
       "arguments": {},
       "data": "<div class=\"ansiout\"></div>",
       "datasetInfos": [],
       "metadata": {},
       "removedWidgets": [],
       "type": "html"
      }
     },
     "output_type": "display_data"
    }
   ],
   "source": [
    "df_3 = df_1.join(df_2['tags'])"
   ]
  },
  {
   "cell_type": "code",
   "execution_count": null,
   "metadata": {
    "application/vnd.databricks.v1+cell": {
     "inputWidgets": {},
     "nuid": "8cf283a9-d644-4d0b-8f35-52e198744175",
     "showTitle": false,
     "title": ""
    }
   },
   "outputs": [
    {
     "data": {
      "text/html": [
       "<div>\n",
       "<style scoped>\n",
       "    .dataframe tbody tr th:only-of-type {\n",
       "        vertical-align: middle;\n",
       "    }\n",
       "\n",
       "    .dataframe tbody tr th {\n",
       "        vertical-align: top;\n",
       "    }\n",
       "\n",
       "    .dataframe thead th {\n",
       "        text-align: right;\n",
       "    }\n",
       "</style>\n",
       "<table border=\"1\" class=\"dataframe\">\n",
       "  <thead>\n",
       "    <tr style=\"text-align: right;\">\n",
       "      <th></th>\n",
       "      <th>Query</th>\n",
       "      <th>Brand</th>\n",
       "      <th>Quality</th>\n",
       "      <th>Category</th>\n",
       "      <th>Preposition</th>\n",
       "      <th>Preposition Meaning</th>\n",
       "      <th>Category_Feature_Relation</th>\n",
       "      <th>tags</th>\n",
       "    </tr>\n",
       "  </thead>\n",
       "  <tbody>\n",
       "    <tr>\n",
       "      <th>0</th>\n",
       "      <td>bag</td>\n",
       "      <td>NaN</td>\n",
       "      <td>[]</td>\n",
       "      <td>['bag']</td>\n",
       "      <td>[]</td>\n",
       "      <td>[]</td>\n",
       "      <td>[]</td>\n",
       "      <td>{\"ca\": [\"bag\"]}</td>\n",
       "    </tr>\n",
       "    <tr>\n",
       "      <th>1</th>\n",
       "      <td>fendi handbag</td>\n",
       "      <td>NaN</td>\n",
       "      <td>['fendi']</td>\n",
       "      <td>['handbag']</td>\n",
       "      <td>[]</td>\n",
       "      <td>[]</td>\n",
       "      <td>['handbag:fendi']</td>\n",
       "      <td>{\"ca\": [\"handbag\"], \"ql\": [\"fendi\"]}</td>\n",
       "    </tr>\n",
       "    <tr>\n",
       "      <th>2</th>\n",
       "      <td>fendi beige handbag</td>\n",
       "      <td>NaN</td>\n",
       "      <td>['fendi', 'beige']</td>\n",
       "      <td>['handbag']</td>\n",
       "      <td>[]</td>\n",
       "      <td>[]</td>\n",
       "      <td>['handbag:fendi', 'handbag:beige']</td>\n",
       "      <td>{\"snl\": [\"fendi\"], \"co\": [\"beige\"], \"ca\": [\"ha...</td>\n",
       "    </tr>\n",
       "    <tr>\n",
       "      <th>3</th>\n",
       "      <td>backpacks</td>\n",
       "      <td>NaN</td>\n",
       "      <td>[]</td>\n",
       "      <td>['backpacks']</td>\n",
       "      <td>[]</td>\n",
       "      <td>[]</td>\n",
       "      <td>[]</td>\n",
       "      <td>{\"ca\": [\"backpack\"]}</td>\n",
       "    </tr>\n",
       "    <tr>\n",
       "      <th>4</th>\n",
       "      <td>black backpacks</td>\n",
       "      <td>NaN</td>\n",
       "      <td>['black']</td>\n",
       "      <td>['backpacks']</td>\n",
       "      <td>[]</td>\n",
       "      <td>[]</td>\n",
       "      <td>['backpacks:black']</td>\n",
       "      <td>{\"ca\": [\"backpack\"], \"co\": [\"black\"]}</td>\n",
       "    </tr>\n",
       "    <tr>\n",
       "      <th>...</th>\n",
       "      <td>...</td>\n",
       "      <td>...</td>\n",
       "      <td>...</td>\n",
       "      <td>...</td>\n",
       "      <td>...</td>\n",
       "      <td>...</td>\n",
       "      <td>...</td>\n",
       "      <td>...</td>\n",
       "    </tr>\n",
       "    <tr>\n",
       "      <th>608</th>\n",
       "      <td>boys hoodies</td>\n",
       "      <td>NaN</td>\n",
       "      <td>[]</td>\n",
       "      <td>['boys hoodies']</td>\n",
       "      <td>[]</td>\n",
       "      <td>[]</td>\n",
       "      <td>[]</td>\n",
       "      <td>{\"gn\": [\"boy\"], \"ca\": [], \"ql\": [\"hoodies\"]}</td>\n",
       "    </tr>\n",
       "    <tr>\n",
       "      <th>609</th>\n",
       "      <td>onesie</td>\n",
       "      <td>NaN</td>\n",
       "      <td>[]</td>\n",
       "      <td>['onesie']</td>\n",
       "      <td>[]</td>\n",
       "      <td>[]</td>\n",
       "      <td>[]</td>\n",
       "      <td>{\"ca\": [\"onesie\"]}</td>\n",
       "    </tr>\n",
       "    <tr>\n",
       "      <th>610</th>\n",
       "      <td>baby shoes</td>\n",
       "      <td>NaN</td>\n",
       "      <td>['baby']</td>\n",
       "      <td>['shoes']</td>\n",
       "      <td>[]</td>\n",
       "      <td>[]</td>\n",
       "      <td>['shoes:baby']</td>\n",
       "      <td>{\"ca\": [\"shoe\"], \"ql\": [\"baby\"]}</td>\n",
       "    </tr>\n",
       "    <tr>\n",
       "      <th>611</th>\n",
       "      <td>baby top and shorts set</td>\n",
       "      <td>NaN</td>\n",
       "      <td>['baby', 'set']</td>\n",
       "      <td>['top', 'shorts']</td>\n",
       "      <td>[]</td>\n",
       "      <td>[]</td>\n",
       "      <td>['top:baby']</td>\n",
       "      <td>{\"snl\": [\"and\"], \"ca\": [\"top\", \"short\"], \"ql\":...</td>\n",
       "    </tr>\n",
       "    <tr>\n",
       "      <th>612</th>\n",
       "      <td>baby dress</td>\n",
       "      <td>NaN</td>\n",
       "      <td>['baby']</td>\n",
       "      <td>['dress']</td>\n",
       "      <td>[]</td>\n",
       "      <td>[]</td>\n",
       "      <td>['dress:baby']</td>\n",
       "      <td>{\"ca\": [\"dress\"], \"ql\": [\"baby\"]}</td>\n",
       "    </tr>\n",
       "  </tbody>\n",
       "</table>\n",
       "<p>613 rows × 8 columns</p>\n",
       "</div>"
      ]
     },
     "metadata": {
      "application/vnd.databricks.v1+output": {
       "addedWidgets": {},
       "arguments": {},
       "data": "<div>\n<style scoped>\n    .dataframe tbody tr th:only-of-type {\n        vertical-align: middle;\n    }\n\n    .dataframe tbody tr th {\n        vertical-align: top;\n    }\n\n    .dataframe thead th {\n        text-align: right;\n    }\n</style>\n<table border=\"1\" class=\"dataframe\">\n  <thead>\n    <tr style=\"text-align: right;\">\n      <th></th>\n      <th>Query</th>\n      <th>Brand</th>\n      <th>Quality</th>\n      <th>Category</th>\n      <th>Preposition</th>\n      <th>Preposition Meaning</th>\n      <th>Category_Feature_Relation</th>\n      <th>tags</th>\n    </tr>\n  </thead>\n  <tbody>\n    <tr>\n      <th>0</th>\n      <td>bag</td>\n      <td>NaN</td>\n      <td>[]</td>\n      <td>['bag']</td>\n      <td>[]</td>\n      <td>[]</td>\n      <td>[]</td>\n      <td>{\"ca\": [\"bag\"]}</td>\n    </tr>\n    <tr>\n      <th>1</th>\n      <td>fendi handbag</td>\n      <td>NaN</td>\n      <td>['fendi']</td>\n      <td>['handbag']</td>\n      <td>[]</td>\n      <td>[]</td>\n      <td>['handbag:fendi']</td>\n      <td>{\"ca\": [\"handbag\"], \"ql\": [\"fendi\"]}</td>\n    </tr>\n    <tr>\n      <th>2</th>\n      <td>fendi beige handbag</td>\n      <td>NaN</td>\n      <td>['fendi', 'beige']</td>\n      <td>['handbag']</td>\n      <td>[]</td>\n      <td>[]</td>\n      <td>['handbag:fendi', 'handbag:beige']</td>\n      <td>{\"snl\": [\"fendi\"], \"co\": [\"beige\"], \"ca\": [\"ha...</td>\n    </tr>\n    <tr>\n      <th>3</th>\n      <td>backpacks</td>\n      <td>NaN</td>\n      <td>[]</td>\n      <td>['backpacks']</td>\n      <td>[]</td>\n      <td>[]</td>\n      <td>[]</td>\n      <td>{\"ca\": [\"backpack\"]}</td>\n    </tr>\n    <tr>\n      <th>4</th>\n      <td>black backpacks</td>\n      <td>NaN</td>\n      <td>['black']</td>\n      <td>['backpacks']</td>\n      <td>[]</td>\n      <td>[]</td>\n      <td>['backpacks:black']</td>\n      <td>{\"ca\": [\"backpack\"], \"co\": [\"black\"]}</td>\n    </tr>\n    <tr>\n      <th>...</th>\n      <td>...</td>\n      <td>...</td>\n      <td>...</td>\n      <td>...</td>\n      <td>...</td>\n      <td>...</td>\n      <td>...</td>\n      <td>...</td>\n    </tr>\n    <tr>\n      <th>608</th>\n      <td>boys hoodies</td>\n      <td>NaN</td>\n      <td>[]</td>\n      <td>['boys hoodies']</td>\n      <td>[]</td>\n      <td>[]</td>\n      <td>[]</td>\n      <td>{\"gn\": [\"boy\"], \"ca\": [], \"ql\": [\"hoodies\"]}</td>\n    </tr>\n    <tr>\n      <th>609</th>\n      <td>onesie</td>\n      <td>NaN</td>\n      <td>[]</td>\n      <td>['onesie']</td>\n      <td>[]</td>\n      <td>[]</td>\n      <td>[]</td>\n      <td>{\"ca\": [\"onesie\"]}</td>\n    </tr>\n    <tr>\n      <th>610</th>\n      <td>baby shoes</td>\n      <td>NaN</td>\n      <td>['baby']</td>\n      <td>['shoes']</td>\n      <td>[]</td>\n      <td>[]</td>\n      <td>['shoes:baby']</td>\n      <td>{\"ca\": [\"shoe\"], \"ql\": [\"baby\"]}</td>\n    </tr>\n    <tr>\n      <th>611</th>\n      <td>baby top and shorts set</td>\n      <td>NaN</td>\n      <td>['baby', 'set']</td>\n      <td>['top', 'shorts']</td>\n      <td>[]</td>\n      <td>[]</td>\n      <td>['top:baby']</td>\n      <td>{\"snl\": [\"and\"], \"ca\": [\"top\", \"short\"], \"ql\":...</td>\n    </tr>\n    <tr>\n      <th>612</th>\n      <td>baby dress</td>\n      <td>NaN</td>\n      <td>['baby']</td>\n      <td>['dress']</td>\n      <td>[]</td>\n      <td>[]</td>\n      <td>['dress:baby']</td>\n      <td>{\"ca\": [\"dress\"], \"ql\": [\"baby\"]}</td>\n    </tr>\n  </tbody>\n</table>\n<p>613 rows × 8 columns</p>\n</div>",
       "datasetInfos": [],
       "metadata": {},
       "removedWidgets": [],
       "textData": "<div class=\"ansiout\">Out[17]: </div>",
       "type": "htmlSandbox"
      }
     },
     "output_type": "display_data"
    }
   ],
   "source": [
    "df_3"
   ]
  },
  {
   "cell_type": "code",
   "execution_count": null,
   "metadata": {
    "application/vnd.databricks.v1+cell": {
     "inputWidgets": {},
     "nuid": "c5490406-7755-4641-b4bc-e1f209d09792",
     "showTitle": false,
     "title": ""
    }
   },
   "outputs": [
    {
     "data": {
      "text/html": [
       "<style scoped>\n",
       "  .ansiout {\n",
       "    display: block;\n",
       "    unicode-bidi: embed;\n",
       "    white-space: pre-wrap;\n",
       "    word-wrap: break-word;\n",
       "    word-break: break-all;\n",
       "    font-family: \"Source Code Pro\", \"Menlo\", monospace;;\n",
       "    font-size: 13px;\n",
       "    color: #555;\n",
       "    margin-left: 4px;\n",
       "    line-height: 19px;\n",
       "  }\n",
       "</style>\n",
       "<div class=\"ansiout\"></div>"
      ]
     },
     "metadata": {
      "application/vnd.databricks.v1+output": {
       "addedWidgets": {},
       "arguments": {},
       "data": "<div class=\"ansiout\"></div>",
       "datasetInfos": [],
       "metadata": {},
       "removedWidgets": [],
       "type": "html"
      }
     },
     "output_type": "display_data"
    }
   ],
   "source": [
    "df_3['Old or New'] = None"
   ]
  },
  {
   "cell_type": "code",
   "execution_count": null,
   "metadata": {
    "application/vnd.databricks.v1+cell": {
     "inputWidgets": {},
     "nuid": "b0d7aec9-2085-41d5-8a22-131a6e3bb2f1",
     "showTitle": false,
     "title": ""
    }
   },
   "outputs": [
    {
     "data": {
      "text/html": [
       "<div>\n",
       "<style scoped>\n",
       "    .dataframe tbody tr th:only-of-type {\n",
       "        vertical-align: middle;\n",
       "    }\n",
       "\n",
       "    .dataframe tbody tr th {\n",
       "        vertical-align: top;\n",
       "    }\n",
       "\n",
       "    .dataframe thead th {\n",
       "        text-align: right;\n",
       "    }\n",
       "</style>\n",
       "<table border=\"1\" class=\"dataframe\">\n",
       "  <thead>\n",
       "    <tr style=\"text-align: right;\">\n",
       "      <th></th>\n",
       "      <th>Query</th>\n",
       "      <th>Brand</th>\n",
       "      <th>Quality</th>\n",
       "      <th>Category</th>\n",
       "      <th>Preposition</th>\n",
       "      <th>Preposition Meaning</th>\n",
       "      <th>Category_Feature_Relation</th>\n",
       "      <th>tags</th>\n",
       "      <th>Old or New</th>\n",
       "    </tr>\n",
       "  </thead>\n",
       "  <tbody>\n",
       "    <tr>\n",
       "      <th>0</th>\n",
       "      <td>bag</td>\n",
       "      <td>NaN</td>\n",
       "      <td>[]</td>\n",
       "      <td>['bag']</td>\n",
       "      <td>[]</td>\n",
       "      <td>[]</td>\n",
       "      <td>[]</td>\n",
       "      <td>{\"ca\": [\"bag\"]}</td>\n",
       "      <td>None</td>\n",
       "    </tr>\n",
       "    <tr>\n",
       "      <th>1</th>\n",
       "      <td>fendi handbag</td>\n",
       "      <td>NaN</td>\n",
       "      <td>['fendi']</td>\n",
       "      <td>['handbag']</td>\n",
       "      <td>[]</td>\n",
       "      <td>[]</td>\n",
       "      <td>['handbag:fendi']</td>\n",
       "      <td>{\"ca\": [\"handbag\"], \"ql\": [\"fendi\"]}</td>\n",
       "      <td>None</td>\n",
       "    </tr>\n",
       "    <tr>\n",
       "      <th>2</th>\n",
       "      <td>fendi beige handbag</td>\n",
       "      <td>NaN</td>\n",
       "      <td>['fendi', 'beige']</td>\n",
       "      <td>['handbag']</td>\n",
       "      <td>[]</td>\n",
       "      <td>[]</td>\n",
       "      <td>['handbag:fendi', 'handbag:beige']</td>\n",
       "      <td>{\"snl\": [\"fendi\"], \"co\": [\"beige\"], \"ca\": [\"ha...</td>\n",
       "      <td>None</td>\n",
       "    </tr>\n",
       "    <tr>\n",
       "      <th>3</th>\n",
       "      <td>backpacks</td>\n",
       "      <td>NaN</td>\n",
       "      <td>[]</td>\n",
       "      <td>['backpacks']</td>\n",
       "      <td>[]</td>\n",
       "      <td>[]</td>\n",
       "      <td>[]</td>\n",
       "      <td>{\"ca\": [\"backpack\"]}</td>\n",
       "      <td>None</td>\n",
       "    </tr>\n",
       "    <tr>\n",
       "      <th>4</th>\n",
       "      <td>black backpacks</td>\n",
       "      <td>NaN</td>\n",
       "      <td>['black']</td>\n",
       "      <td>['backpacks']</td>\n",
       "      <td>[]</td>\n",
       "      <td>[]</td>\n",
       "      <td>['backpacks:black']</td>\n",
       "      <td>{\"ca\": [\"backpack\"], \"co\": [\"black\"]}</td>\n",
       "      <td>None</td>\n",
       "    </tr>\n",
       "    <tr>\n",
       "      <th>...</th>\n",
       "      <td>...</td>\n",
       "      <td>...</td>\n",
       "      <td>...</td>\n",
       "      <td>...</td>\n",
       "      <td>...</td>\n",
       "      <td>...</td>\n",
       "      <td>...</td>\n",
       "      <td>...</td>\n",
       "      <td>...</td>\n",
       "    </tr>\n",
       "    <tr>\n",
       "      <th>608</th>\n",
       "      <td>boys hoodies</td>\n",
       "      <td>NaN</td>\n",
       "      <td>[]</td>\n",
       "      <td>['boys hoodies']</td>\n",
       "      <td>[]</td>\n",
       "      <td>[]</td>\n",
       "      <td>[]</td>\n",
       "      <td>{\"gn\": [\"boy\"], \"ca\": [], \"ql\": [\"hoodies\"]}</td>\n",
       "      <td>None</td>\n",
       "    </tr>\n",
       "    <tr>\n",
       "      <th>609</th>\n",
       "      <td>onesie</td>\n",
       "      <td>NaN</td>\n",
       "      <td>[]</td>\n",
       "      <td>['onesie']</td>\n",
       "      <td>[]</td>\n",
       "      <td>[]</td>\n",
       "      <td>[]</td>\n",
       "      <td>{\"ca\": [\"onesie\"]}</td>\n",
       "      <td>None</td>\n",
       "    </tr>\n",
       "    <tr>\n",
       "      <th>610</th>\n",
       "      <td>baby shoes</td>\n",
       "      <td>NaN</td>\n",
       "      <td>['baby']</td>\n",
       "      <td>['shoes']</td>\n",
       "      <td>[]</td>\n",
       "      <td>[]</td>\n",
       "      <td>['shoes:baby']</td>\n",
       "      <td>{\"ca\": [\"shoe\"], \"ql\": [\"baby\"]}</td>\n",
       "      <td>None</td>\n",
       "    </tr>\n",
       "    <tr>\n",
       "      <th>611</th>\n",
       "      <td>baby top and shorts set</td>\n",
       "      <td>NaN</td>\n",
       "      <td>['baby', 'set']</td>\n",
       "      <td>['top', 'shorts']</td>\n",
       "      <td>[]</td>\n",
       "      <td>[]</td>\n",
       "      <td>['top:baby']</td>\n",
       "      <td>{\"snl\": [\"and\"], \"ca\": [\"top\", \"short\"], \"ql\":...</td>\n",
       "      <td>None</td>\n",
       "    </tr>\n",
       "    <tr>\n",
       "      <th>612</th>\n",
       "      <td>baby dress</td>\n",
       "      <td>NaN</td>\n",
       "      <td>['baby']</td>\n",
       "      <td>['dress']</td>\n",
       "      <td>[]</td>\n",
       "      <td>[]</td>\n",
       "      <td>['dress:baby']</td>\n",
       "      <td>{\"ca\": [\"dress\"], \"ql\": [\"baby\"]}</td>\n",
       "      <td>None</td>\n",
       "    </tr>\n",
       "  </tbody>\n",
       "</table>\n",
       "<p>613 rows × 9 columns</p>\n",
       "</div>"
      ]
     },
     "metadata": {
      "application/vnd.databricks.v1+output": {
       "addedWidgets": {},
       "arguments": {},
       "data": "<div>\n<style scoped>\n    .dataframe tbody tr th:only-of-type {\n        vertical-align: middle;\n    }\n\n    .dataframe tbody tr th {\n        vertical-align: top;\n    }\n\n    .dataframe thead th {\n        text-align: right;\n    }\n</style>\n<table border=\"1\" class=\"dataframe\">\n  <thead>\n    <tr style=\"text-align: right;\">\n      <th></th>\n      <th>Query</th>\n      <th>Brand</th>\n      <th>Quality</th>\n      <th>Category</th>\n      <th>Preposition</th>\n      <th>Preposition Meaning</th>\n      <th>Category_Feature_Relation</th>\n      <th>tags</th>\n      <th>Old or New</th>\n    </tr>\n  </thead>\n  <tbody>\n    <tr>\n      <th>0</th>\n      <td>bag</td>\n      <td>NaN</td>\n      <td>[]</td>\n      <td>['bag']</td>\n      <td>[]</td>\n      <td>[]</td>\n      <td>[]</td>\n      <td>{\"ca\": [\"bag\"]}</td>\n      <td>None</td>\n    </tr>\n    <tr>\n      <th>1</th>\n      <td>fendi handbag</td>\n      <td>NaN</td>\n      <td>['fendi']</td>\n      <td>['handbag']</td>\n      <td>[]</td>\n      <td>[]</td>\n      <td>['handbag:fendi']</td>\n      <td>{\"ca\": [\"handbag\"], \"ql\": [\"fendi\"]}</td>\n      <td>None</td>\n    </tr>\n    <tr>\n      <th>2</th>\n      <td>fendi beige handbag</td>\n      <td>NaN</td>\n      <td>['fendi', 'beige']</td>\n      <td>['handbag']</td>\n      <td>[]</td>\n      <td>[]</td>\n      <td>['handbag:fendi', 'handbag:beige']</td>\n      <td>{\"snl\": [\"fendi\"], \"co\": [\"beige\"], \"ca\": [\"ha...</td>\n      <td>None</td>\n    </tr>\n    <tr>\n      <th>3</th>\n      <td>backpacks</td>\n      <td>NaN</td>\n      <td>[]</td>\n      <td>['backpacks']</td>\n      <td>[]</td>\n      <td>[]</td>\n      <td>[]</td>\n      <td>{\"ca\": [\"backpack\"]}</td>\n      <td>None</td>\n    </tr>\n    <tr>\n      <th>4</th>\n      <td>black backpacks</td>\n      <td>NaN</td>\n      <td>['black']</td>\n      <td>['backpacks']</td>\n      <td>[]</td>\n      <td>[]</td>\n      <td>['backpacks:black']</td>\n      <td>{\"ca\": [\"backpack\"], \"co\": [\"black\"]}</td>\n      <td>None</td>\n    </tr>\n    <tr>\n      <th>...</th>\n      <td>...</td>\n      <td>...</td>\n      <td>...</td>\n      <td>...</td>\n      <td>...</td>\n      <td>...</td>\n      <td>...</td>\n      <td>...</td>\n      <td>...</td>\n    </tr>\n    <tr>\n      <th>608</th>\n      <td>boys hoodies</td>\n      <td>NaN</td>\n      <td>[]</td>\n      <td>['boys hoodies']</td>\n      <td>[]</td>\n      <td>[]</td>\n      <td>[]</td>\n      <td>{\"gn\": [\"boy\"], \"ca\": [], \"ql\": [\"hoodies\"]}</td>\n      <td>None</td>\n    </tr>\n    <tr>\n      <th>609</th>\n      <td>onesie</td>\n      <td>NaN</td>\n      <td>[]</td>\n      <td>['onesie']</td>\n      <td>[]</td>\n      <td>[]</td>\n      <td>[]</td>\n      <td>{\"ca\": [\"onesie\"]}</td>\n      <td>None</td>\n    </tr>\n    <tr>\n      <th>610</th>\n      <td>baby shoes</td>\n      <td>NaN</td>\n      <td>['baby']</td>\n      <td>['shoes']</td>\n      <td>[]</td>\n      <td>[]</td>\n      <td>['shoes:baby']</td>\n      <td>{\"ca\": [\"shoe\"], \"ql\": [\"baby\"]}</td>\n      <td>None</td>\n    </tr>\n    <tr>\n      <th>611</th>\n      <td>baby top and shorts set</td>\n      <td>NaN</td>\n      <td>['baby', 'set']</td>\n      <td>['top', 'shorts']</td>\n      <td>[]</td>\n      <td>[]</td>\n      <td>['top:baby']</td>\n      <td>{\"snl\": [\"and\"], \"ca\": [\"top\", \"short\"], \"ql\":...</td>\n      <td>None</td>\n    </tr>\n    <tr>\n      <th>612</th>\n      <td>baby dress</td>\n      <td>NaN</td>\n      <td>['baby']</td>\n      <td>['dress']</td>\n      <td>[]</td>\n      <td>[]</td>\n      <td>['dress:baby']</td>\n      <td>{\"ca\": [\"dress\"], \"ql\": [\"baby\"]}</td>\n      <td>None</td>\n    </tr>\n  </tbody>\n</table>\n<p>613 rows × 9 columns</p>\n</div>",
       "datasetInfos": [],
       "metadata": {},
       "removedWidgets": [],
       "textData": "<div class=\"ansiout\">Out[19]: </div>",
       "type": "htmlSandbox"
      }
     },
     "output_type": "display_data"
    }
   ],
   "source": [
    "df_3"
   ]
  },
  {
   "cell_type": "code",
   "execution_count": null,
   "metadata": {
    "application/vnd.databricks.v1+cell": {
     "inputWidgets": {},
     "nuid": "6def69ba-4f4f-4baa-b27e-bf26187fc963",
     "showTitle": false,
     "title": ""
    }
   },
   "outputs": [
    {
     "data": {
      "text/html": [
       "<style scoped>\n",
       "  .ansiout {\n",
       "    display: block;\n",
       "    unicode-bidi: embed;\n",
       "    white-space: pre-wrap;\n",
       "    word-wrap: break-word;\n",
       "    word-break: break-all;\n",
       "    font-family: \"Source Code Pro\", \"Menlo\", monospace;;\n",
       "    font-size: 13px;\n",
       "    color: #555;\n",
       "    margin-left: 4px;\n",
       "    line-height: 19px;\n",
       "  }\n",
       "</style>\n",
       "<div class=\"ansiout\"></div>"
      ]
     },
     "metadata": {
      "application/vnd.databricks.v1+output": {
       "addedWidgets": {},
       "arguments": {},
       "data": "<div class=\"ansiout\"></div>",
       "datasetInfos": [],
       "metadata": {},
       "removedWidgets": [],
       "type": "html"
      }
     },
     "output_type": "display_data"
    }
   ],
   "source": [
    "df_3.to_csv('/dbfs/mnt/nemo/regression_qa.csv', sep='\\t', encoding='utf-8')"
   ]
  },
  {
   "cell_type": "code",
   "execution_count": null,
   "metadata": {
    "application/vnd.databricks.v1+cell": {
     "inputWidgets": {},
     "nuid": "411f0553-709c-470b-a524-9231afb23e2c",
     "showTitle": false,
     "title": ""
    }
   },
   "outputs": [],
   "source": []
  },
  {
   "cell_type": "code",
   "execution_count": null,
   "metadata": {
    "application/vnd.databricks.v1+cell": {
     "inputWidgets": {},
     "nuid": "5a3cf291-6cc5-455e-8ef2-9226bba78f41",
     "showTitle": false,
     "title": ""
    }
   },
   "outputs": [
    {
     "data": {
      "text/html": [
       "<style scoped>\n",
       "  .ansiout {\n",
       "    display: block;\n",
       "    unicode-bidi: embed;\n",
       "    white-space: pre-wrap;\n",
       "    word-wrap: break-word;\n",
       "    word-break: break-all;\n",
       "    font-family: \"Source Code Pro\", \"Menlo\", monospace;;\n",
       "    font-size: 13px;\n",
       "    color: #555;\n",
       "    margin-left: 4px;\n",
       "    line-height: 19px;\n",
       "  }\n",
       "</style>\n",
       "<div class=\"ansiout\"></div>"
      ]
     },
     "metadata": {
      "application/vnd.databricks.v1+output": {
       "addedWidgets": {},
       "arguments": {},
       "data": "<div class=\"ansiout\"></div>",
       "datasetInfos": [],
       "metadata": {},
       "removedWidgets": [],
       "type": "html"
      }
     },
     "output_type": "display_data"
    }
   ],
   "source": [
    "df_1 = pd.read_csv(\"/dbfs/FileStore/shared_uploads/t_karthik.ragunath@tatadigital.com/qa_queries_finetuned_tokenizer_autotags_lg.csv\", index_col=0)\n",
    "df_2 = pd.read_csv(\"/dbfs/FileStore/shared_uploads/t_karthik.ragunath@tatadigital.com/current_tagger_qa.csv\", index_col=0)"
   ]
  },
  {
   "cell_type": "code",
   "execution_count": null,
   "metadata": {
    "application/vnd.databricks.v1+cell": {
     "inputWidgets": {},
     "nuid": "71abc61b-4220-4f3c-9a8b-16d9f4b5d400",
     "showTitle": false,
     "title": ""
    }
   },
   "outputs": [
    {
     "data": {
      "text/html": [
       "<style scoped>\n",
       "  .ansiout {\n",
       "    display: block;\n",
       "    unicode-bidi: embed;\n",
       "    white-space: pre-wrap;\n",
       "    word-wrap: break-word;\n",
       "    word-break: break-all;\n",
       "    font-family: \"Source Code Pro\", \"Menlo\", monospace;;\n",
       "    font-size: 13px;\n",
       "    color: #555;\n",
       "    margin-left: 4px;\n",
       "    line-height: 19px;\n",
       "  }\n",
       "</style>\n",
       "<div class=\"ansiout\">Index([&#39;Query&#39;, &#39;Brand&#39;, &#39;Autotags&#39;, &#39;Quality&#39;, &#39;Category&#39;, &#39;Preposition&#39;,\n",
       "       &#39;Preposition Meaning&#39;, &#39;Category_Feature_Relation&#39;],\n",
       "      dtype=&#39;object&#39;)\n",
       "Index([&#39;query&#39;, &#39;tags&#39;], dtype=&#39;object&#39;)\n",
       "</div>"
      ]
     },
     "metadata": {
      "application/vnd.databricks.v1+output": {
       "addedWidgets": {},
       "arguments": {},
       "data": "<div class=\"ansiout\">Index([&#39;Query&#39;, &#39;Brand&#39;, &#39;Autotags&#39;, &#39;Quality&#39;, &#39;Category&#39;, &#39;Preposition&#39;,\n       &#39;Preposition Meaning&#39;, &#39;Category_Feature_Relation&#39;],\n      dtype=&#39;object&#39;)\nIndex([&#39;query&#39;, &#39;tags&#39;], dtype=&#39;object&#39;)\n</div>",
       "datasetInfos": [],
       "metadata": {},
       "removedWidgets": [],
       "type": "html"
      }
     },
     "output_type": "display_data"
    }
   ],
   "source": [
    "print(df_1.columns)\n",
    "print(df_2.columns)"
   ]
  },
  {
   "cell_type": "code",
   "execution_count": null,
   "metadata": {
    "application/vnd.databricks.v1+cell": {
     "inputWidgets": {},
     "nuid": "af9244e7-6e95-4950-a6b0-4d64f6f987f6",
     "showTitle": false,
     "title": ""
    }
   },
   "outputs": [
    {
     "data": {
      "text/html": [
       "<style scoped>\n",
       "  .ansiout {\n",
       "    display: block;\n",
       "    unicode-bidi: embed;\n",
       "    white-space: pre-wrap;\n",
       "    word-wrap: break-word;\n",
       "    word-break: break-all;\n",
       "    font-family: \"Source Code Pro\", \"Menlo\", monospace;;\n",
       "    font-size: 13px;\n",
       "    color: #555;\n",
       "    margin-left: 4px;\n",
       "    line-height: 19px;\n",
       "  }\n",
       "</style>\n",
       "<div class=\"ansiout\">Out[7]: Query                                                              Denim dress\n",
       "Brand                                                                       []\n",
       "Autotags                     defaultdict(&lt;class &#39;list&#39;&gt;, {&#39;type&#39;: [&#39;denim&#39;]...\n",
       "Quality                                                                     []\n",
       "Category                                                       [&#39;denim dress&#39;]\n",
       "Preposition                                                                 []\n",
       "Preposition Meaning                                                         []\n",
       "Category_Feature_Relation                                                   []\n",
       "Name: 50, dtype: object</div>"
      ]
     },
     "metadata": {
      "application/vnd.databricks.v1+output": {
       "addedWidgets": {},
       "arguments": {},
       "data": "<div class=\"ansiout\">Out[7]: Query                                                              Denim dress\nBrand                                                                       []\nAutotags                     defaultdict(&lt;class &#39;list&#39;&gt;, {&#39;type&#39;: [&#39;denim&#39;]...\nQuality                                                                     []\nCategory                                                       [&#39;denim dress&#39;]\nPreposition                                                                 []\nPreposition Meaning                                                         []\nCategory_Feature_Relation                                                   []\nName: 50, dtype: object</div>",
       "datasetInfos": [],
       "metadata": {},
       "removedWidgets": [],
       "type": "html"
      }
     },
     "output_type": "display_data"
    }
   ],
   "source": [
    "df_1.loc[50]"
   ]
  },
  {
   "cell_type": "code",
   "execution_count": null,
   "metadata": {
    "application/vnd.databricks.v1+cell": {
     "inputWidgets": {},
     "nuid": "18efeb16-3f08-4cc2-8e2a-7b8696c5aa95",
     "showTitle": false,
     "title": ""
    }
   },
   "outputs": [
    {
     "data": {
      "text/html": [
       "<style scoped>\n",
       "  .ansiout {\n",
       "    display: block;\n",
       "    unicode-bidi: embed;\n",
       "    white-space: pre-wrap;\n",
       "    word-wrap: break-word;\n",
       "    word-break: break-all;\n",
       "    font-family: \"Source Code Pro\", \"Menlo\", monospace;;\n",
       "    font-size: 13px;\n",
       "    color: #555;\n",
       "    margin-left: 4px;\n",
       "    line-height: 19px;\n",
       "  }\n",
       "</style>\n",
       "<div class=\"ansiout\">Out[8]: query                   Denim dress\n",
       "tags     {&#34;ca&#34;: [&#34;denim&#34;, &#34;dress&#34;]}\n",
       "Name: 50, dtype: object</div>"
      ]
     },
     "metadata": {
      "application/vnd.databricks.v1+output": {
       "addedWidgets": {},
       "arguments": {},
       "data": "<div class=\"ansiout\">Out[8]: query                   Denim dress\ntags     {&#34;ca&#34;: [&#34;denim&#34;, &#34;dress&#34;]}\nName: 50, dtype: object</div>",
       "datasetInfos": [],
       "metadata": {},
       "removedWidgets": [],
       "type": "html"
      }
     },
     "output_type": "display_data"
    }
   ],
   "source": [
    "df_2.loc[50]"
   ]
  },
  {
   "cell_type": "code",
   "execution_count": null,
   "metadata": {
    "application/vnd.databricks.v1+cell": {
     "inputWidgets": {},
     "nuid": "3b2c3ae8-73c9-4c7d-8944-3f84d1af63da",
     "showTitle": false,
     "title": ""
    }
   },
   "outputs": [
    {
     "data": {
      "text/html": [
       "<style scoped>\n",
       "  .ansiout {\n",
       "    display: block;\n",
       "    unicode-bidi: embed;\n",
       "    white-space: pre-wrap;\n",
       "    word-wrap: break-word;\n",
       "    word-break: break-all;\n",
       "    font-family: \"Source Code Pro\", \"Menlo\", monospace;;\n",
       "    font-size: 13px;\n",
       "    color: #555;\n",
       "    margin-left: 4px;\n",
       "    line-height: 19px;\n",
       "  }\n",
       "</style>\n",
       "<div class=\"ansiout\"></div>"
      ]
     },
     "metadata": {
      "application/vnd.databricks.v1+output": {
       "addedWidgets": {},
       "arguments": {},
       "data": "<div class=\"ansiout\"></div>",
       "datasetInfos": [],
       "metadata": {},
       "removedWidgets": [],
       "type": "html"
      }
     },
     "output_type": "display_data"
    }
   ],
   "source": [
    "df_3 = df_1.join(df_2['tags'])"
   ]
  },
  {
   "cell_type": "code",
   "execution_count": null,
   "metadata": {
    "application/vnd.databricks.v1+cell": {
     "inputWidgets": {},
     "nuid": "8bbbcb7d-462d-4597-8ff2-4e71ad3cd0d7",
     "showTitle": false,
     "title": ""
    }
   },
   "outputs": [
    {
     "data": {
      "text/html": [
       "<div>\n",
       "<style scoped>\n",
       "    .dataframe tbody tr th:only-of-type {\n",
       "        vertical-align: middle;\n",
       "    }\n",
       "\n",
       "    .dataframe tbody tr th {\n",
       "        vertical-align: top;\n",
       "    }\n",
       "\n",
       "    .dataframe thead th {\n",
       "        text-align: right;\n",
       "    }\n",
       "</style>\n",
       "<table border=\"1\" class=\"dataframe\">\n",
       "  <thead>\n",
       "    <tr style=\"text-align: right;\">\n",
       "      <th></th>\n",
       "      <th>Query</th>\n",
       "      <th>Brand</th>\n",
       "      <th>Autotags</th>\n",
       "      <th>Quality</th>\n",
       "      <th>Category</th>\n",
       "      <th>Preposition</th>\n",
       "      <th>Preposition Meaning</th>\n",
       "      <th>Category_Feature_Relation</th>\n",
       "      <th>tags</th>\n",
       "    </tr>\n",
       "  </thead>\n",
       "  <tbody>\n",
       "    <tr>\n",
       "      <th>0</th>\n",
       "      <td>bag</td>\n",
       "      <td>[]</td>\n",
       "      <td>defaultdict(&lt;class 'list'&gt;, {'producttype': ['...</td>\n",
       "      <td>[]</td>\n",
       "      <td>['bag']</td>\n",
       "      <td>[]</td>\n",
       "      <td>[]</td>\n",
       "      <td>[]</td>\n",
       "      <td>{\"ca\": [\"bag\"]}</td>\n",
       "    </tr>\n",
       "    <tr>\n",
       "      <th>1</th>\n",
       "      <td>Fendi handbag</td>\n",
       "      <td>['fendi']</td>\n",
       "      <td>defaultdict(&lt;class 'list'&gt;, {})</td>\n",
       "      <td>[]</td>\n",
       "      <td>['handbag']</td>\n",
       "      <td>[]</td>\n",
       "      <td>[]</td>\n",
       "      <td>[]</td>\n",
       "      <td>{\"ca\": [\"handbag\"], \"ql\": [\"fendi\"]}</td>\n",
       "    </tr>\n",
       "    <tr>\n",
       "      <th>2</th>\n",
       "      <td>Fendi beige handbag</td>\n",
       "      <td>['fendi']</td>\n",
       "      <td>defaultdict(&lt;class 'list'&gt;, {'colors': ['beige...</td>\n",
       "      <td>['beige']</td>\n",
       "      <td>['handbag']</td>\n",
       "      <td>[]</td>\n",
       "      <td>[]</td>\n",
       "      <td>['handbag:beige']</td>\n",
       "      <td>{\"snl\": [\"fendi\"], \"co\": [\"beige\"], \"ca\": [\"ha...</td>\n",
       "    </tr>\n",
       "    <tr>\n",
       "      <th>3</th>\n",
       "      <td>backpacks</td>\n",
       "      <td>[]</td>\n",
       "      <td>defaultdict(&lt;class 'list'&gt;, {'type': ['backpac...</td>\n",
       "      <td>[]</td>\n",
       "      <td>['backpacks']</td>\n",
       "      <td>[]</td>\n",
       "      <td>[]</td>\n",
       "      <td>[]</td>\n",
       "      <td>{\"ca\": [\"backpack\"]}</td>\n",
       "    </tr>\n",
       "    <tr>\n",
       "      <th>4</th>\n",
       "      <td>black backpacks</td>\n",
       "      <td>[]</td>\n",
       "      <td>defaultdict(&lt;class 'list'&gt;, {'colors': ['black...</td>\n",
       "      <td>['black']</td>\n",
       "      <td>['backpacks']</td>\n",
       "      <td>[]</td>\n",
       "      <td>[]</td>\n",
       "      <td>['backpacks:black']</td>\n",
       "      <td>{\"ca\": [\"backpack\"], \"co\": [\"black\"]}</td>\n",
       "    </tr>\n",
       "    <tr>\n",
       "      <th>...</th>\n",
       "      <td>...</td>\n",
       "      <td>...</td>\n",
       "      <td>...</td>\n",
       "      <td>...</td>\n",
       "      <td>...</td>\n",
       "      <td>...</td>\n",
       "      <td>...</td>\n",
       "      <td>...</td>\n",
       "      <td>...</td>\n",
       "    </tr>\n",
       "    <tr>\n",
       "      <th>608</th>\n",
       "      <td>boys hoodies</td>\n",
       "      <td>[]</td>\n",
       "      <td>defaultdict(&lt;class 'list'&gt;, {})</td>\n",
       "      <td>[]</td>\n",
       "      <td>['boys hoodies']</td>\n",
       "      <td>[]</td>\n",
       "      <td>[]</td>\n",
       "      <td>[]</td>\n",
       "      <td>{\"gn\": [\"boy\"], \"ca\": [], \"ql\": [\"hoodies\"]}</td>\n",
       "    </tr>\n",
       "    <tr>\n",
       "      <th>609</th>\n",
       "      <td>onesie</td>\n",
       "      <td>[]</td>\n",
       "      <td>defaultdict(&lt;class 'list'&gt;, {})</td>\n",
       "      <td>[]</td>\n",
       "      <td>['onesie']</td>\n",
       "      <td>[]</td>\n",
       "      <td>[]</td>\n",
       "      <td>[]</td>\n",
       "      <td>{\"ca\": [\"onesie\"]}</td>\n",
       "    </tr>\n",
       "    <tr>\n",
       "      <th>610</th>\n",
       "      <td>baby shoes</td>\n",
       "      <td>[]</td>\n",
       "      <td>defaultdict(&lt;class 'list'&gt;, {})</td>\n",
       "      <td>['baby']</td>\n",
       "      <td>['shoes']</td>\n",
       "      <td>[]</td>\n",
       "      <td>[]</td>\n",
       "      <td>['shoes:baby']</td>\n",
       "      <td>{\"ca\": [\"shoe\"], \"ql\": [\"baby\"]}</td>\n",
       "    </tr>\n",
       "    <tr>\n",
       "      <th>611</th>\n",
       "      <td>baby top and shorts set</td>\n",
       "      <td>['and']</td>\n",
       "      <td>defaultdict(&lt;class 'list'&gt;, {'producttype': ['...</td>\n",
       "      <td>['baby', 'top']</td>\n",
       "      <td>['shorts']</td>\n",
       "      <td>[]</td>\n",
       "      <td>[]</td>\n",
       "      <td>['shorts:baby', 'shorts:top']</td>\n",
       "      <td>{\"snl\": [\"and\"], \"ca\": [\"top\", \"short\"], \"ql\":...</td>\n",
       "    </tr>\n",
       "    <tr>\n",
       "      <th>612</th>\n",
       "      <td>Baby dress</td>\n",
       "      <td>[]</td>\n",
       "      <td>defaultdict(&lt;class 'list'&gt;, {'producttype': ['...</td>\n",
       "      <td>['baby']</td>\n",
       "      <td>['dress']</td>\n",
       "      <td>[]</td>\n",
       "      <td>[]</td>\n",
       "      <td>['dress:baby']</td>\n",
       "      <td>{\"ca\": [\"dress\"], \"ql\": [\"baby\"]}</td>\n",
       "    </tr>\n",
       "  </tbody>\n",
       "</table>\n",
       "<p>613 rows × 9 columns</p>\n",
       "</div>"
      ]
     },
     "metadata": {
      "application/vnd.databricks.v1+output": {
       "addedWidgets": {},
       "arguments": {},
       "data": "<div>\n<style scoped>\n    .dataframe tbody tr th:only-of-type {\n        vertical-align: middle;\n    }\n\n    .dataframe tbody tr th {\n        vertical-align: top;\n    }\n\n    .dataframe thead th {\n        text-align: right;\n    }\n</style>\n<table border=\"1\" class=\"dataframe\">\n  <thead>\n    <tr style=\"text-align: right;\">\n      <th></th>\n      <th>Query</th>\n      <th>Brand</th>\n      <th>Autotags</th>\n      <th>Quality</th>\n      <th>Category</th>\n      <th>Preposition</th>\n      <th>Preposition Meaning</th>\n      <th>Category_Feature_Relation</th>\n      <th>tags</th>\n    </tr>\n  </thead>\n  <tbody>\n    <tr>\n      <th>0</th>\n      <td>bag</td>\n      <td>[]</td>\n      <td>defaultdict(&lt;class 'list'&gt;, {'producttype': ['...</td>\n      <td>[]</td>\n      <td>['bag']</td>\n      <td>[]</td>\n      <td>[]</td>\n      <td>[]</td>\n      <td>{\"ca\": [\"bag\"]}</td>\n    </tr>\n    <tr>\n      <th>1</th>\n      <td>Fendi handbag</td>\n      <td>['fendi']</td>\n      <td>defaultdict(&lt;class 'list'&gt;, {})</td>\n      <td>[]</td>\n      <td>['handbag']</td>\n      <td>[]</td>\n      <td>[]</td>\n      <td>[]</td>\n      <td>{\"ca\": [\"handbag\"], \"ql\": [\"fendi\"]}</td>\n    </tr>\n    <tr>\n      <th>2</th>\n      <td>Fendi beige handbag</td>\n      <td>['fendi']</td>\n      <td>defaultdict(&lt;class 'list'&gt;, {'colors': ['beige...</td>\n      <td>['beige']</td>\n      <td>['handbag']</td>\n      <td>[]</td>\n      <td>[]</td>\n      <td>['handbag:beige']</td>\n      <td>{\"snl\": [\"fendi\"], \"co\": [\"beige\"], \"ca\": [\"ha...</td>\n    </tr>\n    <tr>\n      <th>3</th>\n      <td>backpacks</td>\n      <td>[]</td>\n      <td>defaultdict(&lt;class 'list'&gt;, {'type': ['backpac...</td>\n      <td>[]</td>\n      <td>['backpacks']</td>\n      <td>[]</td>\n      <td>[]</td>\n      <td>[]</td>\n      <td>{\"ca\": [\"backpack\"]}</td>\n    </tr>\n    <tr>\n      <th>4</th>\n      <td>black backpacks</td>\n      <td>[]</td>\n      <td>defaultdict(&lt;class 'list'&gt;, {'colors': ['black...</td>\n      <td>['black']</td>\n      <td>['backpacks']</td>\n      <td>[]</td>\n      <td>[]</td>\n      <td>['backpacks:black']</td>\n      <td>{\"ca\": [\"backpack\"], \"co\": [\"black\"]}</td>\n    </tr>\n    <tr>\n      <th>...</th>\n      <td>...</td>\n      <td>...</td>\n      <td>...</td>\n      <td>...</td>\n      <td>...</td>\n      <td>...</td>\n      <td>...</td>\n      <td>...</td>\n      <td>...</td>\n    </tr>\n    <tr>\n      <th>608</th>\n      <td>boys hoodies</td>\n      <td>[]</td>\n      <td>defaultdict(&lt;class 'list'&gt;, {})</td>\n      <td>[]</td>\n      <td>['boys hoodies']</td>\n      <td>[]</td>\n      <td>[]</td>\n      <td>[]</td>\n      <td>{\"gn\": [\"boy\"], \"ca\": [], \"ql\": [\"hoodies\"]}</td>\n    </tr>\n    <tr>\n      <th>609</th>\n      <td>onesie</td>\n      <td>[]</td>\n      <td>defaultdict(&lt;class 'list'&gt;, {})</td>\n      <td>[]</td>\n      <td>['onesie']</td>\n      <td>[]</td>\n      <td>[]</td>\n      <td>[]</td>\n      <td>{\"ca\": [\"onesie\"]}</td>\n    </tr>\n    <tr>\n      <th>610</th>\n      <td>baby shoes</td>\n      <td>[]</td>\n      <td>defaultdict(&lt;class 'list'&gt;, {})</td>\n      <td>['baby']</td>\n      <td>['shoes']</td>\n      <td>[]</td>\n      <td>[]</td>\n      <td>['shoes:baby']</td>\n      <td>{\"ca\": [\"shoe\"], \"ql\": [\"baby\"]}</td>\n    </tr>\n    <tr>\n      <th>611</th>\n      <td>baby top and shorts set</td>\n      <td>['and']</td>\n      <td>defaultdict(&lt;class 'list'&gt;, {'producttype': ['...</td>\n      <td>['baby', 'top']</td>\n      <td>['shorts']</td>\n      <td>[]</td>\n      <td>[]</td>\n      <td>['shorts:baby', 'shorts:top']</td>\n      <td>{\"snl\": [\"and\"], \"ca\": [\"top\", \"short\"], \"ql\":...</td>\n    </tr>\n    <tr>\n      <th>612</th>\n      <td>Baby dress</td>\n      <td>[]</td>\n      <td>defaultdict(&lt;class 'list'&gt;, {'producttype': ['...</td>\n      <td>['baby']</td>\n      <td>['dress']</td>\n      <td>[]</td>\n      <td>[]</td>\n      <td>['dress:baby']</td>\n      <td>{\"ca\": [\"dress\"], \"ql\": [\"baby\"]}</td>\n    </tr>\n  </tbody>\n</table>\n<p>613 rows × 9 columns</p>\n</div>",
       "datasetInfos": [],
       "metadata": {},
       "removedWidgets": [],
       "textData": "<div class=\"ansiout\">Out[10]: </div>",
       "type": "htmlSandbox"
      }
     },
     "output_type": "display_data"
    }
   ],
   "source": [
    "df_3"
   ]
  },
  {
   "cell_type": "code",
   "execution_count": null,
   "metadata": {
    "application/vnd.databricks.v1+cell": {
     "inputWidgets": {},
     "nuid": "a7856385-5194-474d-8c88-15568fc3f21d",
     "showTitle": false,
     "title": ""
    }
   },
   "outputs": [
    {
     "data": {
      "text/html": [
       "<style scoped>\n",
       "  .ansiout {\n",
       "    display: block;\n",
       "    unicode-bidi: embed;\n",
       "    white-space: pre-wrap;\n",
       "    word-wrap: break-word;\n",
       "    word-break: break-all;\n",
       "    font-family: \"Source Code Pro\", \"Menlo\", monospace;;\n",
       "    font-size: 13px;\n",
       "    color: #555;\n",
       "    margin-left: 4px;\n",
       "    line-height: 19px;\n",
       "  }\n",
       "</style>\n",
       "<div class=\"ansiout\"></div>"
      ]
     },
     "metadata": {
      "application/vnd.databricks.v1+output": {
       "addedWidgets": {},
       "arguments": {},
       "data": "<div class=\"ansiout\"></div>",
       "datasetInfos": [],
       "metadata": {},
       "removedWidgets": [],
       "type": "html"
      }
     },
     "output_type": "display_data"
    }
   ],
   "source": [
    "df_3['Old or New'] = None"
   ]
  },
  {
   "cell_type": "code",
   "execution_count": null,
   "metadata": {
    "application/vnd.databricks.v1+cell": {
     "inputWidgets": {},
     "nuid": "557eb2fc-e05b-4cbb-ab2b-e3256d2f6066",
     "showTitle": false,
     "title": ""
    }
   },
   "outputs": [
    {
     "data": {
      "text/html": [
       "<style scoped>\n",
       "  .ansiout {\n",
       "    display: block;\n",
       "    unicode-bidi: embed;\n",
       "    white-space: pre-wrap;\n",
       "    word-wrap: break-word;\n",
       "    word-break: break-all;\n",
       "    font-family: \"Source Code Pro\", \"Menlo\", monospace;;\n",
       "    font-size: 13px;\n",
       "    color: #555;\n",
       "    margin-left: 4px;\n",
       "    line-height: 19px;\n",
       "  }\n",
       "</style>\n",
       "<div class=\"ansiout\"></div>"
      ]
     },
     "metadata": {
      "application/vnd.databricks.v1+output": {
       "addedWidgets": {},
       "arguments": {},
       "data": "<div class=\"ansiout\"></div>",
       "datasetInfos": [],
       "metadata": {},
       "removedWidgets": [],
       "type": "html"
      }
     },
     "output_type": "display_data"
    }
   ],
   "source": [
    "df_3.to_csv('/dbfs/mnt/nemo/fashion_regression_qa.csv', sep='\\t', encoding='utf-8')"
   ]
  },
  {
   "cell_type": "code",
   "execution_count": null,
   "metadata": {
    "application/vnd.databricks.v1+cell": {
     "inputWidgets": {},
     "nuid": "3631c9c4-9c74-4eae-aea9-fbaa3d9b3593",
     "showTitle": false,
     "title": ""
    }
   },
   "outputs": [],
   "source": []
  }
 ],
 "metadata": {
  "application/vnd.databricks.v1+notebook": {
   "dashboards": [],
   "language": "python",
   "notebookMetadata": {
    "pythonIndentUnit": 2
   },
   "notebookName": "Regression Set EDA",
   "notebookOrigID": 1826653673682299,
   "widgets": {}
  },
  "kernelspec": {
   "display_name": "Python 3",
   "language": "python",
   "name": "python3"
  },
  "language_info": {
   "codemirror_mode": {
    "name": "ipython",
    "version": 3
   },
   "file_extension": ".py",
   "mimetype": "text/x-python",
   "name": "python",
   "nbconvert_exporter": "python",
   "pygments_lexer": "ipython3",
   "version": "3.8.10"
  }
 },
 "nbformat": 4,
 "nbformat_minor": 4
}
